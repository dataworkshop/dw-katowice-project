{
 "cells": [
  {
   "cell_type": "code",
   "execution_count": null,
   "metadata": {},
   "outputs": [],
   "source": [
    "import pandas as pd\n",
    "import numpy as np"
   ]
  },
  {
   "cell_type": "markdown",
   "metadata": {},
   "source": [
    "### Zaimportuj i przejrzyj dane"
   ]
  },
  {
   "cell_type": "code",
   "execution_count": null,
   "metadata": {},
   "outputs": [],
   "source": [
    "#Zaimportuj dane\n",
    "dane = "
   ]
  },
  {
   "cell_type": "code",
   "execution_count": null,
   "metadata": {},
   "outputs": [],
   "source": [
    "print('Rozmiar zbioru: ', )\n",
    "print('\\nKolumny w zbiorze: ', )"
   ]
  },
  {
   "cell_type": "code",
   "execution_count": null,
   "metadata": {},
   "outputs": [],
   "source": [
    "print('Typy danych: ')"
   ]
  },
  {
   "cell_type": "code",
   "execution_count": null,
   "metadata": {},
   "outputs": [],
   "source": [
    "print('Puste komórki:')\n"
   ]
  },
  {
   "cell_type": "code",
   "execution_count": null,
   "metadata": {},
   "outputs": [],
   "source": [
    "#z gwiazdką ;)\n",
    "print('Puste komórki jako procent zbioru:')\n"
   ]
  },
  {
   "cell_type": "code",
   "execution_count": null,
   "metadata": {},
   "outputs": [],
   "source": [
    "print('próbka danych')\n"
   ]
  },
  {
   "cell_type": "markdown",
   "metadata": {},
   "source": [
    "### Wyczyść dane"
   ]
  },
  {
   "cell_type": "markdown",
   "metadata": {},
   "source": [
    "#### Konwersja typu danych."
   ]
  },
  {
   "cell_type": "code",
   "execution_count": null,
   "metadata": {},
   "outputs": [],
   "source": [
    "#Skopiuj danedo innego datasetu, aby uniknąć nadpisania\n"
   ]
  },
  {
   "cell_type": "markdown",
   "metadata": {},
   "source": [
    "#### Kolumny zawierające datę i czas"
   ]
  },
  {
   "cell_type": "code",
   "execution_count": null,
   "metadata": {},
   "outputs": [],
   "source": [
    "print('kolumna DATA ZDARZENIA: ', df['Data zdarzenia'].dtypes)\n",
    "print('kolumna GODZINA: ', df['Data zdarzenia'].dtypes)\n",
    "print('Potrzebna konwersja do typu DATETIME')"
   ]
  },
  {
   "cell_type": "code",
   "execution_count": null,
   "metadata": {},
   "outputs": [],
   "source": [
    "# Przekonwertujmy do formatu datetime\n"
   ]
  },
  {
   "cell_type": "markdown",
   "metadata": {},
   "source": [
    "#### Współrzęne geograficzne"
   ]
  },
  {
   "cell_type": "code",
   "execution_count": null,
   "metadata": {},
   "outputs": [],
   "source": [
    "print('kolumna GPS X: ', df['GPS x'].dtypes)\n",
    "print('kolumna GPS Y: ', df['GPS y'].dtypes)\n",
    "print('1. To powinien być format FLOAT')\n",
    "print('2. Współrzędne nie są poprawne, trzeba ściągnąć nowe i porównać.')"
   ]
  },
  {
   "cell_type": "code",
   "execution_count": null,
   "metadata": {},
   "outputs": [],
   "source": [
    "#1. zamieńmy typ kolumn na float"
   ]
  },
  {
   "cell_type": "code",
   "execution_count": null,
   "metadata": {},
   "outputs": [],
   "source": [
    "# 2. Pobierzmy nowe współrzędne na podstawie adresu\n"
   ]
  },
  {
   "cell_type": "markdown",
   "metadata": {},
   "source": [
    "#### Kolumny zawierające informacje o miejscu zdarzenia"
   ]
  },
  {
   "cell_type": "code",
   "execution_count": null,
   "metadata": {},
   "outputs": [],
   "source": [
    "print('kolumna Miejscowość : ', df['Miejscowość'].dtypes)\n",
    "print('kolumna Ulica : ', df['Ulica'].dtypes)\n",
    "print('kolumna Numer domu : ', df['Numer domu'].dtypes)\n",
    "print('kolumna Numer drogi: ', df['Numer drogi'].dtypes)\n",
    "print('Wszystko jest poprawnie.')\n",
    "\n",
    "#zmieńmy nazwę kolumny na lepszą do edycji (bez spacji i polskich znaków)\n"
   ]
  },
  {
   "cell_type": "code",
   "execution_count": null,
   "metadata": {},
   "outputs": [],
   "source": [
    "print('kolumna KM HM (Pikietaż): ', df['KM HM (Pikietaż)'].dtypes)\n",
    "#Pikietaż (kilometraż, kilometracja) – określenie miejsca na drodze lub linii kolejowej poprzez\n",
    "#podanie odległości od jej początku. Odległość tę na ogół podaje się z dokładnością do 1 metra w formacie\n",
    "#xx+yyy lub xx,yyy (km), gdzie:\n",
    "#xx – całkowita liczba kilometrów od początku drogi lub linii kolejowej;\n",
    "#yyy – całkowita liczba metrów liczona od ostatniego pełnego kilometra.\n",
    "print('Przykładowe wartości z tej kolumny: ', df['KM HM (Pikietaż)'][df['KM HM (Pikietaż)'].notnull()].sample(3))\n",
    "print('To powinien być format FLOAT.')"
   ]
  },
  {
   "cell_type": "code",
   "execution_count": null,
   "metadata": {},
   "outputs": [],
   "source": [
    "# 1. przekształćmy ',' na '.'\n",
    "\n",
    "# 2. przekształćmy string na float\n",
    "\n",
    "print( 'Nowe wartości: ', df['pikietaz'][df['pikietaz'].notnull()].sample(3) )"
   ]
  },
  {
   "cell_type": "code",
   "execution_count": null,
   "metadata": {},
   "outputs": [],
   "source": [
    "print('kolumna OBSZAR: ', df['Obszar'].dtypes)\n",
    "print('\\nPrzykładowe wartości: ', df['Obszar'].unique())\n",
    "print('\\nZamieńmy wartości na typ BOOLEAN - 1 oznaczające obszar zabudowany, 0 obszar niezabudowany')\n",
    "\n",
    "\n",
    "print('\\nNowe wartości w kolumnie: ', df['obszar'].unique())"
   ]
  },
  {
   "cell_type": "code",
   "execution_count": null,
   "metadata": {},
   "outputs": [],
   "source": [
    "print('kolumna SKRZYŻOWANIE: ', df['Skrzyżowanie'].dtypes)\n",
    "print('\\nPrzykładowe wartości: ', df['Skrzyżowanie'].unique())\n",
    "print('\\nZamieńmy wartości na typ INT przyznając: \\n 0 : O ruchu okrężnym \\n 1 : Równorzędne \\n 2 : Z drogą z pierwsz.')\n",
    "\n",
    "\n",
    "print('\\n Nowe wartości w kolumnie: ', df['skrzyzowanie'].unique())"
   ]
  },
  {
   "cell_type": "code",
   "execution_count": null,
   "metadata": {},
   "outputs": [],
   "source": [
    "print('kolumna Geometria drogi: ', df['Geometria drogi'].dtypes)\n",
    "print('\\nPrzykładowe wartości: ', df['Geometria drogi'].unique())\n",
    "print('\\nZamieńmy wartości na typ INT.')\n",
    "\n",
    "\n",
    "print('\\n Nowe wartości w kolumnie: ', df['geometria_drogi'].unique())"
   ]
  },
  {
   "cell_type": "code",
   "execution_count": null,
   "metadata": {},
   "outputs": [],
   "source": [
    "print('kolumna Charakterystyka miejsca zdarzenia: ', df['Charakterystyka miejsca zdarzenia'].dtypes)\n",
    "print('\\nPrzykładowe wartości: ', df['Charakterystyka miejsca zdarzenia'].unique())\n",
    "print('\\nZamieńmy wartości na typ INT.')\n",
    "\n",
    "\n",
    "print('\\n Nowe wartości w kolumnie: ', df['charakterystyka_miejsca_zdarzenia'].unique())"
   ]
  },
  {
   "cell_type": "code",
   "execution_count": null,
   "metadata": {},
   "outputs": [],
   "source": [
    "print('kolumna Oświetlenie: ', df['Oświetlenie'].dtypes)\n",
    "print('\\nPrzykładowe wartości: ', df['Oświetlenie'].unique())\n",
    "\n",
    "#Stwórzmy dodatkowe kolumny, które pozwolą sprawdzić, czy to był dzień czy noc, czy droga posiada oświetlenie\n"
   ]
  },
  {
   "cell_type": "code",
   "execution_count": null,
   "metadata": {},
   "outputs": [],
   "source": [
    "print('kolumna Warunki atmosferyczne: ', df['Warunki atmosferyczne'].dtypes)\n",
    "print('\\nPrzykładowe wartości: ', df['Warunki atmosferyczne'].unique())\n",
    "\n",
    "#zmieńmy nazwę kolumny na lepszą do edycji\n",
    "df.rename(columns={'Warunki atmosferyczne':'warunki_atmosferyczne'}, inplace=True)\n",
    "\n",
    "#Proponuję stworzyć dodatkowe kolumny typu : bylo_slonce, byl_deszcz, etc"
   ]
  },
  {
   "cell_type": "markdown",
   "metadata": {},
   "source": [
    "#### Kolumny zawierające informacje o zdarzeniu"
   ]
  },
  {
   "cell_type": "code",
   "execution_count": null,
   "metadata": {},
   "outputs": [],
   "source": [
    "print('kolumna Rodzaj zdarzenia: ', df['Rodzaj zdarzenia'].dtypes)\n",
    "print('\\nPrzykładowe wartości: ', df['Rodzaj zdarzenia'].unique())\n",
    "print('\\nZamieńmy wartości na typ INT.')\n",
    "\n",
    "\n",
    "print('\\n Nowe wartości w kolumnie: ', df['rodzaj_zdarzenia'].unique())"
   ]
  },
  {
   "cell_type": "code",
   "execution_count": null,
   "metadata": {},
   "outputs": [],
   "source": [
    "print('kolumna Wina: ', df['Wina'].dtypes)\n",
    "print('\\nPrzykładowe wartości: ', df['Wina'].unique())\n",
    "print('\\nZamieńmy wartości na typ INT.')\n",
    "\n",
    "\n",
    "print('\\nNowe wartości w kolumnie: ', df['wina'].unique())"
   ]
  },
  {
   "cell_type": "code",
   "execution_count": null,
   "metadata": {},
   "outputs": [],
   "source": [
    "print('kolumna Rodzaj drogi: ', df['Rodzaj drogi'].dtypes)\n",
    "print('\\nPrzykładowe wartości: ', df['Rodzaj drogi'].unique())\n",
    "print('\\nZamieńmy wartości na typ INT.')\n",
    "\n",
    "\n",
    "\n",
    "print('\\nNowe wartości w kolumnie: ', df['rodzaj_drogi'].unique())"
   ]
  },
  {
   "cell_type": "code",
   "execution_count": null,
   "metadata": {},
   "outputs": [],
   "source": [
    "print('kolumna nawierzchnia: ', df['Nawierzchnia drogi'].dtypes)\n",
    "print('\\nPrzykładowe wartości: ', df['Nawierzchnia drogi'].unique())\n",
    "print('\\nZamieńmy wartości na typ INT.')\n",
    "\n",
    "#zamieńmy wartości na zmienne 0 i 1\n",
    "\n",
    "print('\\nNowe wartości w kolumnie: ', df['nawierzchnia_twarda'].unique())"
   ]
  },
  {
   "cell_type": "code",
   "execution_count": null,
   "metadata": {},
   "outputs": [],
   "source": [
    "print('kolumna stan_nawierzchni: ', df['Stan nawierzchni'].dtypes)\n",
    "print('\\nPrzykładowe wartości: ', df['Stan nawierzchni'].unique())"
   ]
  },
  {
   "cell_type": "code",
   "execution_count": null,
   "metadata": {},
   "outputs": [],
   "source": [
    "#Powtórzmy proces przeprowadzony dla pogody i spróbujmy stworzyć dodatkowe kolumny dla nawierzchni\n",
    "\n"
   ]
  },
  {
   "cell_type": "code",
   "execution_count": null,
   "metadata": {},
   "outputs": [],
   "source": [
    "print('kolumna sygnalizacja: ', df['Sygnalizacja świetlna'].dtypes)\n",
    "print('\\nPrzykładowe wartości: ', df['Sygnalizacja świetlna'].unique())\n",
    "\n",
    "#stwórzmy dodatkową kolumnę sygnalizacja_dziala\n",
    "df['sygnalizacja_dziala'] =  \n",
    "\n",
    "#zamieńmy wartości na zmienne 0 i 1 (sygnalizacja jest/nie ma)\n",
    "df['sygnalizacja'] = \n",
    "\n",
    "print('\\nNowe wartości w kolumnie sygnalizacja_dziala: ', df['sygnalizacja_dziala'].unique())\n",
    "print('\\nNowe wartości w kolumnie sygnalizacja: ', df['sygnalizacja'].unique())"
   ]
  },
  {
   "cell_type": "code",
   "execution_count": null,
   "metadata": {},
   "outputs": [],
   "source": [
    "print('kolumna Oznakowanie poziome: ', df['Oznakowanie poziome'].dtypes)\n",
    "print('\\nPrzykładowe wartości: ', df['Oznakowanie poziome'].unique())\n",
    "\n",
    "#zamieńmy na 0 i 1 (oznakowanie jest/nie ma)\n",
    "df['oznakowanie_poziome'] = \n",
    "\n",
    "print('\\nNowe wartości w kolumnie oznakowanie_poziome: ', df['oznakowanie_poziome'].unique())"
   ]
  },
  {
   "cell_type": "code",
   "execution_count": null,
   "metadata": {},
   "outputs": [],
   "source": [
    "print('kolumna Liczba pasów w zdarzeniu: ', df['Liczba pasów w zdarzeniu'].dtypes)\n",
    "print('\\nPrzykładowe wartości: ', df['Liczba pasów w zdarzeniu'].unique())\n",
    "\n",
    "#Czy to jest na pewno liczba pasów w zdarzeniu? Liczby są co najmniej dziwne, sprawdźmy ile jakich pasów było\n",
    "df['Liczba pasów w zdarzeniu'].value_counts().head(6)\n",
    "#Trzeba to przemyśleć"
   ]
  },
  {
   "cell_type": "code",
   "execution_count": null,
   "metadata": {},
   "outputs": [],
   "source": [
    "print('kolumna Zachowanie kierującego: ', df['Zachowanie kierującego'].dtypes)\n",
    "print('\\nPrzykładowe wartości: ', df['Zachowanie kierującego'].unique())"
   ]
  },
  {
   "cell_type": "code",
   "execution_count": 1,
   "metadata": {},
   "outputs": [],
   "source": [
    "#Czy przychodzi Wam do głowy jakiś pomysł na taką kosmiczną ilość wartości?"
   ]
  },
  {
   "cell_type": "code",
   "execution_count": null,
   "metadata": {},
   "outputs": [],
   "source": [
    "#Tak samo z zachowaniem pieszego i innymi przyczynami?"
   ]
  },
  {
   "cell_type": "code",
   "execution_count": null,
   "metadata": {},
   "outputs": [],
   "source": [
    "print('kolumna Zachowanie pieszego: ', df['Zachowanie pieszego'].dtypes)\n",
    "print('\\nPrzykładowe wartości: ', df['Zachowanie pieszego'].unique())"
   ]
  },
  {
   "cell_type": "code",
   "execution_count": null,
   "metadata": {},
   "outputs": [],
   "source": [
    "print('kolumna Inne przyczyny: ', df['Inne przyczyny'].dtypes)\n",
    "print('\\nPrzykładowe wartości: ', df['Inne przyczyny'].unique())"
   ]
  },
  {
   "cell_type": "code",
   "execution_count": null,
   "metadata": {},
   "outputs": [],
   "source": [
    "print('kolumna Liczba rannych w zdarzeniu: ', df['Liczba rannych w zdarzeniu'].dtypes)\n",
    "print('\\nPrzykładowe wartości: ', df['Liczba rannych w zdarzeniu'].unique())\n",
    "\n",
    "#Jest ok, zmieńmy tylko nazwę na prostszą w edycji\n",
    "df['ranni'] = df['Liczba rannych w zdarzeniu']"
   ]
  },
  {
   "cell_type": "code",
   "execution_count": null,
   "metadata": {},
   "outputs": [],
   "source": [
    "print('kolumna Liczba zabitych w zdarzeniu: ', df['Liczba zabitych w zdarzeniu'].dtypes)\n",
    "print('\\nPrzykładowe wartości: ', df['Liczba zabitych w zdarzeniu'].unique())\n",
    "\n",
    "#Jest ok, zmieńmy tylko nazwę na prostszą w edycji\n",
    "df['zabici'] = df['Liczba zabitych w zdarzeniu']"
   ]
  },
  {
   "cell_type": "code",
   "execution_count": null,
   "metadata": {},
   "outputs": [],
   "source": [
    "print('kolumna Liczba kolizji: ', df['Liczba kolizji'].dtypes)\n",
    "print('\\nPrzykładowe wartości: ', df['Liczba kolizji'].unique())\n",
    "\n",
    "#Jest ok, zmieńmy tylko nazwę na prostszą w edycji\n",
    "df['kolizje'] = df['Liczba kolizji']"
   ]
  },
  {
   "cell_type": "code",
   "execution_count": null,
   "metadata": {},
   "outputs": [],
   "source": [
    "print('kolumna Liczba wypadków: ', df['Liczba wypadków'].dtypes)\n",
    "print('\\nPrzykładowe wartości: ', df['Liczba wypadków'].unique())\n",
    "\n",
    "#Jest ok, zmieńmy tylko nazwę na prostszą w edycji\n",
    "df['wypadki'] = df['Liczba wypadków']"
   ]
  },
  {
   "cell_type": "markdown",
   "metadata": {},
   "source": [
    "## KONIEC!"
   ]
  },
  {
   "cell_type": "code",
   "execution_count": null,
   "metadata": {},
   "outputs": [],
   "source": [
    "# No dobra, wcale nie ;) Stwórzmy nowy dataset, który zawiera wszystkie nasze istotne kolumny\n",
    "# Istotne, czyli które?\n",
    "cols = df.columns.tolist()\n",
    "cols"
   ]
  },
  {
   "cell_type": "code",
   "execution_count": null,
   "metadata": {},
   "outputs": [],
   "source": [
    "potrzebne = [ <tu nazwy kolumn> ]"
   ]
  },
  {
   "cell_type": "code",
   "execution_count": null,
   "metadata": {},
   "outputs": [],
   "source": [
    "df_new = df.filter(potrzebne, axis=1).copy()"
   ]
  },
  {
   "cell_type": "code",
   "execution_count": null,
   "metadata": {},
   "outputs": [],
   "source": [
    "df_new.shape"
   ]
  },
  {
   "cell_type": "code",
   "execution_count": null,
   "metadata": {},
   "outputs": [],
   "source": [
    "#Zapiszmy nasz nowy dataset ;)\n",
    "df_new.to_csv('../data/df_enriched.csv')"
   ]
  }
 ],
 "metadata": {
  "kernelspec": {
   "display_name": "Python 3",
   "language": "python",
   "name": "python3"
  },
  "language_info": {
   "codemirror_mode": {
    "name": "ipython",
    "version": 3
   },
   "file_extension": ".py",
   "mimetype": "text/x-python",
   "name": "python",
   "nbconvert_exporter": "python",
   "pygments_lexer": "ipython3",
   "version": "3.7.4"
  }
 },
 "nbformat": 4,
 "nbformat_minor": 2
}
