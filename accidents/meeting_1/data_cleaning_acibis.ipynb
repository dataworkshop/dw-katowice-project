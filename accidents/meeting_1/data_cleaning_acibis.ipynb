{
 "cells": [
  {
   "cell_type": "code",
   "execution_count": 253,
   "metadata": {},
   "outputs": [],
   "source": [
    "import pandas as pd\n",
    "import numpy as np"
   ]
  },
  {
   "cell_type": "markdown",
   "metadata": {},
   "source": [
    "### Zaimportuj i przejrzyj dane"
   ]
  },
  {
   "cell_type": "code",
   "execution_count": 254,
   "metadata": {},
   "outputs": [],
   "source": [
    "#Zaimportuj dane\n",
    "dane = pd.read_csv('../data/DataWorkshop.csv')"
   ]
  },
  {
   "cell_type": "code",
   "execution_count": 255,
   "metadata": {},
   "outputs": [
    {
     "name": "stdout",
     "output_type": "stream",
     "text": [
      "Rozmiar zbioru:  (229929, 30)\n",
      "\n",
      "Kolumny w zbiorze:  Index(['Data zdarzenia', 'Godzina', 'GPS x', 'GPS y', 'Miejscowość', 'Ulica',\n",
      "       'Numer domu', 'Numer drogi', 'KM HM (Pikietaż)', 'Obszar',\n",
      "       'Skrzyżowanie', 'Geometria drogi', 'Charakterystyka miejsca zdarzenia',\n",
      "       'Oświetlenie', 'Warunki atmosferyczne', 'Rodzaj zdarzenia', 'Wina',\n",
      "       'Rodzaj drogi', 'Nawierzchnia drogi', 'Stan nawierzchni',\n",
      "       'Sygnalizacja świetlna', 'Oznakowanie poziome',\n",
      "       'Liczba pasów w zdarzeniu', 'Zachowanie kierującego',\n",
      "       'Zachowanie pieszego', 'Inne przyczyny', 'Liczba rannych w zdarzeniu',\n",
      "       'Liczba zabitych w zdarzeniu', 'Liczba kolizji', 'Liczba wypadków'],\n",
      "      dtype='object')\n"
     ]
    }
   ],
   "source": [
    "print('Rozmiar zbioru: ', dane.shape)\n",
    "print('\\nKolumny w zbiorze: ', dane.columns)"
   ]
  },
  {
   "cell_type": "code",
   "execution_count": 256,
   "metadata": {},
   "outputs": [
    {
     "name": "stdout",
     "output_type": "stream",
     "text": [
      "Typy danych: \n"
     ]
    },
    {
     "data": {
      "text/plain": [
       "Data zdarzenia                        object\n",
       "Godzina                               object\n",
       "GPS x                                 object\n",
       "GPS y                                 object\n",
       "Miejscowość                           object\n",
       "Ulica                                 object\n",
       "Numer domu                            object\n",
       "Numer drogi                           object\n",
       "KM HM (Pikietaż)                      object\n",
       "Obszar                                object\n",
       "Skrzyżowanie                          object\n",
       "Geometria drogi                       object\n",
       "Charakterystyka miejsca zdarzenia     object\n",
       "Oświetlenie                           object\n",
       "Warunki atmosferyczne                 object\n",
       "Rodzaj zdarzenia                      object\n",
       "Wina                                  object\n",
       "Rodzaj drogi                          object\n",
       "Nawierzchnia drogi                    object\n",
       "Stan nawierzchni                      object\n",
       "Sygnalizacja świetlna                 object\n",
       "Oznakowanie poziome                   object\n",
       "Liczba pasów w zdarzeniu             float64\n",
       "Zachowanie kierującego                object\n",
       "Zachowanie pieszego                   object\n",
       "Inne przyczyny                        object\n",
       "Liczba rannych w zdarzeniu             int64\n",
       "Liczba zabitych w zdarzeniu            int64\n",
       "Liczba kolizji                         int64\n",
       "Liczba wypadków                        int64\n",
       "dtype: object"
      ]
     },
     "execution_count": 256,
     "metadata": {},
     "output_type": "execute_result"
    }
   ],
   "source": [
    "print('Typy danych: ')\n",
    "dane.dtypes"
   ]
  },
  {
   "cell_type": "code",
   "execution_count": 257,
   "metadata": {},
   "outputs": [
    {
     "name": "stdout",
     "output_type": "stream",
     "text": [
      "próbka danych\n"
     ]
    },
    {
     "data": {
      "text/html": [
       "<div>\n",
       "<style scoped>\n",
       "    .dataframe tbody tr th:only-of-type {\n",
       "        vertical-align: middle;\n",
       "    }\n",
       "\n",
       "    .dataframe tbody tr th {\n",
       "        vertical-align: top;\n",
       "    }\n",
       "\n",
       "    .dataframe thead th {\n",
       "        text-align: right;\n",
       "    }\n",
       "</style>\n",
       "<table border=\"1\" class=\"dataframe\">\n",
       "  <thead>\n",
       "    <tr style=\"text-align: right;\">\n",
       "      <th></th>\n",
       "      <th>Data zdarzenia</th>\n",
       "      <th>Godzina</th>\n",
       "      <th>GPS x</th>\n",
       "      <th>GPS y</th>\n",
       "      <th>Miejscowość</th>\n",
       "      <th>Ulica</th>\n",
       "      <th>Numer domu</th>\n",
       "      <th>Numer drogi</th>\n",
       "      <th>KM HM (Pikietaż)</th>\n",
       "      <th>Obszar</th>\n",
       "      <th>...</th>\n",
       "      <th>Sygnalizacja świetlna</th>\n",
       "      <th>Oznakowanie poziome</th>\n",
       "      <th>Liczba pasów w zdarzeniu</th>\n",
       "      <th>Zachowanie kierującego</th>\n",
       "      <th>Zachowanie pieszego</th>\n",
       "      <th>Inne przyczyny</th>\n",
       "      <th>Liczba rannych w zdarzeniu</th>\n",
       "      <th>Liczba zabitych w zdarzeniu</th>\n",
       "      <th>Liczba kolizji</th>\n",
       "      <th>Liczba wypadków</th>\n",
       "    </tr>\n",
       "  </thead>\n",
       "  <tbody>\n",
       "    <tr>\n",
       "      <td>217727</td>\n",
       "      <td>2019-10-24</td>\n",
       "      <td>09:00:00</td>\n",
       "      <td>19*02'142</td>\n",
       "      <td>50*06'558</td>\n",
       "      <td>TYCHY</td>\n",
       "      <td>OŚWIĘCIMSKA</td>\n",
       "      <td>NaN</td>\n",
       "      <td>44</td>\n",
       "      <td>37,2</td>\n",
       "      <td>Obszar zabudowany</td>\n",
       "      <td>...</td>\n",
       "      <td>Brak</td>\n",
       "      <td>Jest</td>\n",
       "      <td>3.0</td>\n",
       "      <td>Nieustąpienie pierwszeństwa przejazdu</td>\n",
       "      <td>NaN</td>\n",
       "      <td>NaN</td>\n",
       "      <td>0</td>\n",
       "      <td>0</td>\n",
       "      <td>1</td>\n",
       "      <td>0</td>\n",
       "    </tr>\n",
       "    <tr>\n",
       "      <td>168422</td>\n",
       "      <td>2018-12-30</td>\n",
       "      <td>17:35:00</td>\n",
       "      <td>18*36'201</td>\n",
       "      <td>49*57'205</td>\n",
       "      <td>JASTRZĘBIE-ZDRÓJ</td>\n",
       "      <td>KATOWICKA</td>\n",
       "      <td>19</td>\n",
       "      <td>G220059S</td>\n",
       "      <td>NaN</td>\n",
       "      <td>Obszar zabudowany</td>\n",
       "      <td>...</td>\n",
       "      <td>Brak</td>\n",
       "      <td>Nie ma</td>\n",
       "      <td>2.0</td>\n",
       "      <td>Nieprawidłowe cofanie</td>\n",
       "      <td>NaN</td>\n",
       "      <td>NaN</td>\n",
       "      <td>0</td>\n",
       "      <td>0</td>\n",
       "      <td>1</td>\n",
       "      <td>0</td>\n",
       "    </tr>\n",
       "    <tr>\n",
       "      <td>215699</td>\n",
       "      <td>2019-10-13</td>\n",
       "      <td>15:45:00</td>\n",
       "      <td>19*23'146</td>\n",
       "      <td>50*40'110</td>\n",
       "      <td>ZŁOTY POTOK</td>\n",
       "      <td>NaN</td>\n",
       "      <td>NaN</td>\n",
       "      <td>W793</td>\n",
       "      <td>NaN</td>\n",
       "      <td>Obszar niezabudowany</td>\n",
       "      <td>...</td>\n",
       "      <td>Brak</td>\n",
       "      <td>Jest</td>\n",
       "      <td>2.0</td>\n",
       "      <td>Nieustąpienie pierwszeństwa przejazdu</td>\n",
       "      <td>NaN</td>\n",
       "      <td>NaN</td>\n",
       "      <td>0</td>\n",
       "      <td>0</td>\n",
       "      <td>1</td>\n",
       "      <td>0</td>\n",
       "    </tr>\n",
       "  </tbody>\n",
       "</table>\n",
       "<p>3 rows × 30 columns</p>\n",
       "</div>"
      ],
      "text/plain": [
       "       Data zdarzenia   Godzina      GPS x      GPS y       Miejscowość  \\\n",
       "217727     2019-10-24  09:00:00  19*02'142  50*06'558             TYCHY   \n",
       "168422     2018-12-30  17:35:00  18*36'201  49*57'205  JASTRZĘBIE-ZDRÓJ   \n",
       "215699     2019-10-13  15:45:00  19*23'146  50*40'110       ZŁOTY POTOK   \n",
       "\n",
       "              Ulica Numer domu Numer drogi KM HM (Pikietaż)  \\\n",
       "217727  OŚWIĘCIMSKA        NaN          44             37,2   \n",
       "168422    KATOWICKA         19    G220059S              NaN   \n",
       "215699          NaN        NaN        W793              NaN   \n",
       "\n",
       "                      Obszar  ... Sygnalizacja świetlna Oznakowanie poziome  \\\n",
       "217727     Obszar zabudowany  ...                  Brak                Jest   \n",
       "168422     Obszar zabudowany  ...                  Brak              Nie ma   \n",
       "215699  Obszar niezabudowany  ...                  Brak                Jest   \n",
       "\n",
       "       Liczba pasów w zdarzeniu                 Zachowanie kierującego  \\\n",
       "217727                      3.0  Nieustąpienie pierwszeństwa przejazdu   \n",
       "168422                      2.0                  Nieprawidłowe cofanie   \n",
       "215699                      2.0  Nieustąpienie pierwszeństwa przejazdu   \n",
       "\n",
       "       Zachowanie pieszego Inne przyczyny Liczba rannych w zdarzeniu  \\\n",
       "217727                 NaN            NaN                          0   \n",
       "168422                 NaN            NaN                          0   \n",
       "215699                 NaN            NaN                          0   \n",
       "\n",
       "       Liczba zabitych w zdarzeniu Liczba kolizji Liczba wypadków  \n",
       "217727                           0              1               0  \n",
       "168422                           0              1               0  \n",
       "215699                           0              1               0  \n",
       "\n",
       "[3 rows x 30 columns]"
      ]
     },
     "execution_count": 257,
     "metadata": {},
     "output_type": "execute_result"
    }
   ],
   "source": [
    "print('próbka danych')\n",
    "dane.sample(3)"
   ]
  },
  {
   "cell_type": "markdown",
   "metadata": {},
   "source": [
    "### Wyczyść dane"
   ]
  },
  {
   "cell_type": "markdown",
   "metadata": {},
   "source": [
    "#### Konwersja typu danych."
   ]
  },
  {
   "cell_type": "code",
   "execution_count": 258,
   "metadata": {},
   "outputs": [],
   "source": [
    "#Skopiuj dane, aby uniknąć nadpisania\n",
    "df = dane.copy()"
   ]
  },
  {
   "cell_type": "markdown",
   "metadata": {},
   "source": [
    "#### Kolumny zawierające datę i czas"
   ]
  },
  {
   "cell_type": "code",
   "execution_count": 259,
   "metadata": {},
   "outputs": [
    {
     "name": "stdout",
     "output_type": "stream",
     "text": [
      "kolumna DATA ZDARZENIA:  object\n",
      "kolumna GODZINA:  object\n",
      "Potrzebna konwersja do typu DATETIME\n"
     ]
    }
   ],
   "source": [
    "print('kolumna DATA ZDARZENIA: ', df['Data zdarzenia'].dtypes)\n",
    "print('kolumna GODZINA: ', df['Data zdarzenia'].dtypes)\n",
    "print('Potrzebna konwersja do typu DATETIME')"
   ]
  },
  {
   "cell_type": "code",
   "execution_count": 260,
   "metadata": {},
   "outputs": [
    {
     "data": {
      "text/plain": [
       "122649    2018-03-20 16:10:00\n",
       "Name: data_full, dtype: object"
      ]
     },
     "execution_count": 260,
     "metadata": {},
     "output_type": "execute_result"
    }
   ],
   "source": [
    "# Sklejmy kolumny DATA ZDARZENIA i GODZINA, by uzyskać pełną datę zdarzenia\n",
    "df['data_full'] = df['Data zdarzenia'] + ' ' + df['Godzina']\n",
    "df['data_full'].sample(1)"
   ]
  },
  {
   "cell_type": "code",
   "execution_count": 261,
   "metadata": {},
   "outputs": [
    {
     "name": "stdout",
     "output_type": "stream",
     "text": [
      "Przykładowa komórka:  78060   2017-06-18 15:44:00\n",
      "Name: data_full, dtype: datetime64[ns]\n"
     ]
    }
   ],
   "source": [
    "# Przekonwertujmy do formatu datetime\n",
    "df['data_full'] =  pd.to_datetime( df['data_full'], format='%Y-%m-%d %H:%M:%S.%f')\n",
    "print('Przykładowa komórka: ', df['data_full'].sample(1))"
   ]
  },
  {
   "cell_type": "code",
   "execution_count": 262,
   "metadata": {},
   "outputs": [],
   "source": [
    "# Stwórzmy dodatkowe kolumny zawierające małe porcje danych takich jak informacja o miesiącu, dniu tygodnia, godzinie etc\n",
    "# by przeszukiwanie danych było prostsze\n",
    "df['rok'] = pd.DatetimeIndex(df['data_full']).year\n",
    "df['miesiac'] = pd.DatetimeIndex(df['data_full']).month\n",
    "df['godzina'] = pd.DatetimeIndex(df['data_full']).hour\n",
    "df['minuta'] = pd.DatetimeIndex(df['data_full']).minute\n",
    "df['pelna_data'] = pd.DatetimeIndex(df['data_full']).date # żeby rozróżnić dzień miesiąca, ex. 2019-05-18\n",
    "\n",
    "#Który to był dzień tygodnia? poniedziałek = 0, niedziela = 6\n",
    "df['dzien_tygodnia'] = pd.DatetimeIndex(df['data_full']).dayofweek\n",
    "\n",
    "#Czy to był weekend?\n",
    "df['czy_weekend'] = df['dzien_tygodnia'].apply(lambda x: 1 if (x == 6 or x == 5 ) else 0 )\n",
    "\n",
    "#czy to była niedziela handlowa?"
   ]
  },
  {
   "cell_type": "code",
   "execution_count": 263,
   "metadata": {},
   "outputs": [
    {
     "data": {
      "text/html": [
       "<div>\n",
       "<style scoped>\n",
       "    .dataframe tbody tr th:only-of-type {\n",
       "        vertical-align: middle;\n",
       "    }\n",
       "\n",
       "    .dataframe tbody tr th {\n",
       "        vertical-align: top;\n",
       "    }\n",
       "\n",
       "    .dataframe thead th {\n",
       "        text-align: right;\n",
       "    }\n",
       "</style>\n",
       "<table border=\"1\" class=\"dataframe\">\n",
       "  <thead>\n",
       "    <tr style=\"text-align: right;\">\n",
       "      <th></th>\n",
       "      <th>Data zdarzenia</th>\n",
       "      <th>Godzina</th>\n",
       "      <th>GPS x</th>\n",
       "      <th>GPS y</th>\n",
       "      <th>Miejscowość</th>\n",
       "      <th>Ulica</th>\n",
       "      <th>Numer domu</th>\n",
       "      <th>Numer drogi</th>\n",
       "      <th>KM HM (Pikietaż)</th>\n",
       "      <th>Obszar</th>\n",
       "      <th>...</th>\n",
       "      <th>Liczba kolizji</th>\n",
       "      <th>Liczba wypadków</th>\n",
       "      <th>data_full</th>\n",
       "      <th>rok</th>\n",
       "      <th>miesiac</th>\n",
       "      <th>godzina</th>\n",
       "      <th>minuta</th>\n",
       "      <th>pelna_data</th>\n",
       "      <th>dzien_tygodnia</th>\n",
       "      <th>czy_weekend</th>\n",
       "    </tr>\n",
       "  </thead>\n",
       "  <tbody>\n",
       "    <tr>\n",
       "      <td>189027</td>\n",
       "      <td>2019-05-07</td>\n",
       "      <td>10:40:00</td>\n",
       "      <td>18*27'449</td>\n",
       "      <td>50*00'046</td>\n",
       "      <td>WODZISŁAW ŚLĄSKI</td>\n",
       "      <td>ŚREDNIA</td>\n",
       "      <td>9</td>\n",
       "      <td>G330039S</td>\n",
       "      <td>NaN</td>\n",
       "      <td>Obszar zabudowany</td>\n",
       "      <td>...</td>\n",
       "      <td>1</td>\n",
       "      <td>0</td>\n",
       "      <td>2019-05-07 10:40:00</td>\n",
       "      <td>2019</td>\n",
       "      <td>5</td>\n",
       "      <td>10</td>\n",
       "      <td>40</td>\n",
       "      <td>2019-05-07</td>\n",
       "      <td>1</td>\n",
       "      <td>0</td>\n",
       "    </tr>\n",
       "    <tr>\n",
       "      <td>199108</td>\n",
       "      <td>2019-07-05</td>\n",
       "      <td>16:10:00</td>\n",
       "      <td>18*54'590</td>\n",
       "      <td>50*20'539</td>\n",
       "      <td>BYTOM</td>\n",
       "      <td>WROCŁAWSKA</td>\n",
       "      <td>9</td>\n",
       "      <td>94</td>\n",
       "      <td>NaN</td>\n",
       "      <td>Obszar zabudowany</td>\n",
       "      <td>...</td>\n",
       "      <td>1</td>\n",
       "      <td>0</td>\n",
       "      <td>2019-07-05 16:10:00</td>\n",
       "      <td>2019</td>\n",
       "      <td>7</td>\n",
       "      <td>16</td>\n",
       "      <td>10</td>\n",
       "      <td>2019-07-05</td>\n",
       "      <td>4</td>\n",
       "      <td>0</td>\n",
       "    </tr>\n",
       "    <tr>\n",
       "      <td>215978</td>\n",
       "      <td>2019-10-14</td>\n",
       "      <td>20:20:00</td>\n",
       "      <td>19*01'519</td>\n",
       "      <td>50*15'238</td>\n",
       "      <td>KATOWICE</td>\n",
       "      <td>KONSTANTEGO DAMROTA</td>\n",
       "      <td>NaN</td>\n",
       "      <td>P6419S</td>\n",
       "      <td>NaN</td>\n",
       "      <td>Obszar zabudowany</td>\n",
       "      <td>...</td>\n",
       "      <td>1</td>\n",
       "      <td>0</td>\n",
       "      <td>2019-10-14 20:20:00</td>\n",
       "      <td>2019</td>\n",
       "      <td>10</td>\n",
       "      <td>20</td>\n",
       "      <td>20</td>\n",
       "      <td>2019-10-14</td>\n",
       "      <td>0</td>\n",
       "      <td>0</td>\n",
       "    </tr>\n",
       "  </tbody>\n",
       "</table>\n",
       "<p>3 rows × 38 columns</p>\n",
       "</div>"
      ],
      "text/plain": [
       "       Data zdarzenia   Godzina      GPS x      GPS y       Miejscowość  \\\n",
       "189027     2019-05-07  10:40:00  18*27'449  50*00'046  WODZISŁAW ŚLĄSKI   \n",
       "199108     2019-07-05  16:10:00  18*54'590  50*20'539             BYTOM   \n",
       "215978     2019-10-14  20:20:00  19*01'519  50*15'238          KATOWICE   \n",
       "\n",
       "                      Ulica Numer domu Numer drogi KM HM (Pikietaż)  \\\n",
       "189027              ŚREDNIA          9    G330039S              NaN   \n",
       "199108           WROCŁAWSKA          9          94              NaN   \n",
       "215978  KONSTANTEGO DAMROTA        NaN      P6419S              NaN   \n",
       "\n",
       "                   Obszar  ... Liczba kolizji Liczba wypadków  \\\n",
       "189027  Obszar zabudowany  ...              1               0   \n",
       "199108  Obszar zabudowany  ...              1               0   \n",
       "215978  Obszar zabudowany  ...              1               0   \n",
       "\n",
       "                 data_full   rok miesiac godzina minuta  pelna_data  \\\n",
       "189027 2019-05-07 10:40:00  2019       5      10     40  2019-05-07   \n",
       "199108 2019-07-05 16:10:00  2019       7      16     10  2019-07-05   \n",
       "215978 2019-10-14 20:20:00  2019      10      20     20  2019-10-14   \n",
       "\n",
       "       dzien_tygodnia czy_weekend  \n",
       "189027              1           0  \n",
       "199108              4           0  \n",
       "215978              0           0  \n",
       "\n",
       "[3 rows x 38 columns]"
      ]
     },
     "execution_count": 263,
     "metadata": {},
     "output_type": "execute_result"
    }
   ],
   "source": [
    "df.sample(3)"
   ]
  },
  {
   "cell_type": "markdown",
   "metadata": {},
   "source": [
    "#### Współrzęne geograficzne"
   ]
  },
  {
   "cell_type": "code",
   "execution_count": 264,
   "metadata": {},
   "outputs": [
    {
     "name": "stdout",
     "output_type": "stream",
     "text": [
      "kolumna GPS X:  object\n",
      "kolumna GPS Y:  object\n",
      "1. To powinien być format FLOAT\n",
      "2. Współrzędne nie są poprawne, trzeba ściągnąć nowe i porównać.\n"
     ]
    }
   ],
   "source": [
    "print('kolumna GPS X: ', df['GPS x'].dtypes)\n",
    "print('kolumna GPS Y: ', df['GPS y'].dtypes)\n",
    "print('1. To powinien być format FLOAT')\n",
    "print('2. Współrzędne nie są poprawne, trzeba ściągnąć nowe i porównać.')"
   ]
  },
  {
   "cell_type": "code",
   "execution_count": 265,
   "metadata": {},
   "outputs": [],
   "source": [
    "# kod Krzysztofa\n",
    "import re\n",
    "# https://stackoverflow.com/questions/33997361\n",
    "def dms2dd(coord):\n",
    "    \"\"\" GPS HH.MM.SS.S to DD (Decimal Degrees) conversion \"\"\"\n",
    "    c = re.findall(r\"\\w+\", coord)\n",
    "    degrees = float(c[0])\n",
    "    minutes = float(c[1])\n",
    "    if len(c) > 2:\n",
    "        seconds = float(c[2])/10   \n",
    "    else:\n",
    "        seconds = 0\n",
    "    dd = (float(degrees) + (minutes)/60 + float(seconds)/(60*60))\n",
    "    return dd\n"
   ]
  },
  {
   "cell_type": "code",
   "execution_count": 266,
   "metadata": {},
   "outputs": [],
   "source": [
    "df['GPS_x'] = df['GPS x'].apply(lambda x : dms2dd(x))\n",
    "df['GPS_y'] = df['GPS y'].apply(lambda x : dms2dd(x)) "
   ]
  },
  {
   "cell_type": "code",
   "execution_count": 267,
   "metadata": {},
   "outputs": [
    {
     "data": {
      "text/html": [
       "<div>\n",
       "<style scoped>\n",
       "    .dataframe tbody tr th:only-of-type {\n",
       "        vertical-align: middle;\n",
       "    }\n",
       "\n",
       "    .dataframe tbody tr th {\n",
       "        vertical-align: top;\n",
       "    }\n",
       "\n",
       "    .dataframe thead th {\n",
       "        text-align: right;\n",
       "    }\n",
       "</style>\n",
       "<table border=\"1\" class=\"dataframe\">\n",
       "  <thead>\n",
       "    <tr style=\"text-align: right;\">\n",
       "      <th></th>\n",
       "      <th>Data zdarzenia</th>\n",
       "      <th>Godzina</th>\n",
       "      <th>GPS x</th>\n",
       "      <th>GPS y</th>\n",
       "      <th>Miejscowość</th>\n",
       "      <th>Ulica</th>\n",
       "      <th>Numer domu</th>\n",
       "      <th>Numer drogi</th>\n",
       "      <th>KM HM (Pikietaż)</th>\n",
       "      <th>Obszar</th>\n",
       "      <th>...</th>\n",
       "      <th>data_full</th>\n",
       "      <th>rok</th>\n",
       "      <th>miesiac</th>\n",
       "      <th>godzina</th>\n",
       "      <th>minuta</th>\n",
       "      <th>pelna_data</th>\n",
       "      <th>dzien_tygodnia</th>\n",
       "      <th>czy_weekend</th>\n",
       "      <th>GPS_x</th>\n",
       "      <th>GPS_y</th>\n",
       "    </tr>\n",
       "  </thead>\n",
       "  <tbody>\n",
       "    <tr>\n",
       "      <td>126244</td>\n",
       "      <td>2018-04-14</td>\n",
       "      <td>10:45:00</td>\n",
       "      <td>18*51'552</td>\n",
       "      <td>50*25'580</td>\n",
       "      <td>TARNOWSKIE GÓRY</td>\n",
       "      <td>BYTOMSKA</td>\n",
       "      <td>NaN</td>\n",
       "      <td>P3276S</td>\n",
       "      <td>NaN</td>\n",
       "      <td>Obszar zabudowany</td>\n",
       "      <td>...</td>\n",
       "      <td>2018-04-14 10:45:00</td>\n",
       "      <td>2018</td>\n",
       "      <td>4</td>\n",
       "      <td>10</td>\n",
       "      <td>45</td>\n",
       "      <td>2018-04-14</td>\n",
       "      <td>5</td>\n",
       "      <td>1</td>\n",
       "      <td>18.865333</td>\n",
       "      <td>50.432778</td>\n",
       "    </tr>\n",
       "    <tr>\n",
       "      <td>76912</td>\n",
       "      <td>2017-06-10</td>\n",
       "      <td>14:45:00</td>\n",
       "      <td>19*02'008</td>\n",
       "      <td>49*50'418</td>\n",
       "      <td>BIELSKO-BIAŁA</td>\n",
       "      <td>WARSZAWSKA</td>\n",
       "      <td>180</td>\n",
       "      <td>P7477S</td>\n",
       "      <td>NaN</td>\n",
       "      <td>Obszar zabudowany</td>\n",
       "      <td>...</td>\n",
       "      <td>2017-06-10 14:45:00</td>\n",
       "      <td>2017</td>\n",
       "      <td>6</td>\n",
       "      <td>14</td>\n",
       "      <td>45</td>\n",
       "      <td>2017-06-10</td>\n",
       "      <td>5</td>\n",
       "      <td>1</td>\n",
       "      <td>19.033556</td>\n",
       "      <td>49.844944</td>\n",
       "    </tr>\n",
       "    <tr>\n",
       "      <td>63624</td>\n",
       "      <td>2017-03-15</td>\n",
       "      <td>20:25:00</td>\n",
       "      <td>18*58'299</td>\n",
       "      <td>50*16'191</td>\n",
       "      <td>KATOWICE</td>\n",
       "      <td>JANA PAWŁA II</td>\n",
       "      <td>NaN</td>\n",
       "      <td>P6572S</td>\n",
       "      <td>NaN</td>\n",
       "      <td>Obszar zabudowany</td>\n",
       "      <td>...</td>\n",
       "      <td>2017-03-15 20:25:00</td>\n",
       "      <td>2017</td>\n",
       "      <td>3</td>\n",
       "      <td>20</td>\n",
       "      <td>25</td>\n",
       "      <td>2017-03-15</td>\n",
       "      <td>2</td>\n",
       "      <td>0</td>\n",
       "      <td>18.974972</td>\n",
       "      <td>50.271972</td>\n",
       "    </tr>\n",
       "  </tbody>\n",
       "</table>\n",
       "<p>3 rows × 40 columns</p>\n",
       "</div>"
      ],
      "text/plain": [
       "       Data zdarzenia   Godzina      GPS x      GPS y      Miejscowość  \\\n",
       "126244     2018-04-14  10:45:00  18*51'552  50*25'580  TARNOWSKIE GÓRY   \n",
       "76912      2017-06-10  14:45:00  19*02'008  49*50'418    BIELSKO-BIAŁA   \n",
       "63624      2017-03-15  20:25:00  18*58'299  50*16'191         KATOWICE   \n",
       "\n",
       "                Ulica Numer domu Numer drogi KM HM (Pikietaż)  \\\n",
       "126244       BYTOMSKA        NaN      P3276S              NaN   \n",
       "76912      WARSZAWSKA        180      P7477S              NaN   \n",
       "63624   JANA PAWŁA II        NaN      P6572S              NaN   \n",
       "\n",
       "                   Obszar  ...           data_full   rok miesiac godzina  \\\n",
       "126244  Obszar zabudowany  ... 2018-04-14 10:45:00  2018       4      10   \n",
       "76912   Obszar zabudowany  ... 2017-06-10 14:45:00  2017       6      14   \n",
       "63624   Obszar zabudowany  ... 2017-03-15 20:25:00  2017       3      20   \n",
       "\n",
       "       minuta  pelna_data dzien_tygodnia czy_weekend      GPS_x      GPS_y  \n",
       "126244     45  2018-04-14              5           1  18.865333  50.432778  \n",
       "76912      45  2017-06-10              5           1  19.033556  49.844944  \n",
       "63624      25  2017-03-15              2           0  18.974972  50.271972  \n",
       "\n",
       "[3 rows x 40 columns]"
      ]
     },
     "execution_count": 267,
     "metadata": {},
     "output_type": "execute_result"
    }
   ],
   "source": [
    "df.sample(3)"
   ]
  },
  {
   "cell_type": "markdown",
   "metadata": {},
   "source": [
    "#### Kolumny zawierające informacje o miejscu zdarzenia"
   ]
  },
  {
   "cell_type": "code",
   "execution_count": 268,
   "metadata": {},
   "outputs": [],
   "source": [
    "# zbudujmy funkcje, które pozwolą nam modyfikować stringi w kolumnach i komórkach\n",
    "# niektóre stringi i znaki interpunkcyjne będą przeszkadzać w analizie i edycji, dlatego pozbądźmy się ich\n",
    "\n",
    "def simplify(a):        \n",
    "    a = a.replace('\\'','')                   # usuń znaki '\n",
    "    a = a.replace('\\n','')                   # usuń znaki nowej linii\n",
    "    a = a.replace(';','')                    # usuń średniki\n",
    "    a = a.replace(',','')                    # usuń przecinki\n",
    "    a = a.replace('.',' ')                   # zamień kropki na spacje (ze względu na dziwny zapis w adresach)\n",
    "    a = a.replace('  ',' ')                  # usuń podwójne spacje\n",
    "    a = a.replace('(od 11 2015)','')         # usuń ciąg \"(od 11.2015)\"\n",
    "    a = a.lower()                            # zamień wielkie litery na małe\n",
    "    a=' '.join(unique_list(a.split()))       # usuń zduplikowane słowa\n",
    "    return(a)\n",
    "\n",
    "def unique_list(l):\n",
    "    ulist = []\n",
    "    [ulist.append(x) for x in l if x not in ulist]\n",
    "    return ulist    \n",
    "    \n",
    "def simplify_column(serie):\n",
    "    a = serie.unique()                       # wrzuć wartości do tablicy numpy\n",
    "    a = np.array2string(a)                   # przekształć tablicę na string\n",
    "    return(simplify(a))\n",
    "\n",
    "def simplify_cell(string):\n",
    "    return(simplify(str(string)))\n"
   ]
  },
  {
   "cell_type": "code",
   "execution_count": 269,
   "metadata": {},
   "outputs": [
    {
     "name": "stdout",
     "output_type": "stream",
     "text": [
      "kolumna Miejscowość :  object\n",
      "kolumna Ulica :  object\n",
      "kolumna Numer domu :  object\n",
      "kolumna Numer drogi:  object\n",
      "Wszystko jest poprawnie.\n"
     ]
    }
   ],
   "source": [
    "print('kolumna Miejscowość : ', df['Miejscowość'].dtypes)\n",
    "print('kolumna Ulica : ', df['Ulica'].dtypes)\n",
    "print('kolumna Numer domu : ', df['Numer domu'].dtypes)\n",
    "print('kolumna Numer drogi: ', df['Numer drogi'].dtypes)\n",
    "print('Wszystko jest poprawnie.')"
   ]
  },
  {
   "cell_type": "code",
   "execution_count": 270,
   "metadata": {},
   "outputs": [],
   "source": [
    "#zmieńmy nazwę kolumny na lepszą do edycji (bez spacji i wielkich liter)\n",
    "df.rename(columns={'Miejscowość' : 'miasto'}, inplace=True)\n",
    "df.rename(columns={'Numer domu' : 'numer_domu'}, inplace=True)\n",
    "df.rename(columns={'Numer drogi' : 'numer_drogi'}, inplace=True)"
   ]
  },
  {
   "cell_type": "code",
   "execution_count": 271,
   "metadata": {},
   "outputs": [
    {
     "data": {
      "text/plain": [
       "0               toszecka\n",
       "1           sienkiewicza\n",
       "2      ks ignacego siwca\n",
       "3    józefa piłsudskiego\n",
       "4               dworcowa\n",
       "Name: ulica, dtype: object"
      ]
     },
     "execution_count": 271,
     "metadata": {},
     "output_type": "execute_result"
    }
   ],
   "source": [
    "#usuńmy z nazw ulic znaki interpunkcyjne\n",
    "df['ulica'] = df['Ulica'].apply(lambda x: simplify_cell(x))\n",
    "df['ulica'].head(5)"
   ]
  },
  {
   "cell_type": "code",
   "execution_count": 272,
   "metadata": {},
   "outputs": [
    {
     "name": "stdout",
     "output_type": "stream",
     "text": [
      "kolumna KM HM (Pikietaż):  object\n",
      "Przykładowe wartości z tej kolumny:  28126     570,2\n",
      "110082     16,5\n",
      "228128     25,2\n",
      "Name: KM HM (Pikietaż), dtype: object\n",
      "To powinien być format FLOAT.\n"
     ]
    }
   ],
   "source": [
    "print('kolumna KM HM (Pikietaż): ', df['KM HM (Pikietaż)'].dtypes)\n",
    "#Pikietaż (kilometraż, kilometracja) – określenie miejsca na drodze lub linii kolejowej poprzez\n",
    "#podanie odległości od jej początku. Odległość tę na ogół podaje się z dokładnością do 1 metra w formacie\n",
    "#xx+yyy lub xx,yyy (km), gdzie:\n",
    "#xx – całkowita liczba kilometrów od początku drogi lub linii kolejowej;\n",
    "#yyy – całkowita liczba metrów liczona od ostatniego pełnego kilometra.\n",
    "print('Przykładowe wartości z tej kolumny: ', df['KM HM (Pikietaż)'][df['KM HM (Pikietaż)'].notnull()].sample(3))\n",
    "print('To powinien być format FLOAT.')"
   ]
  },
  {
   "cell_type": "code",
   "execution_count": 273,
   "metadata": {},
   "outputs": [
    {
     "name": "stdout",
     "output_type": "stream",
     "text": [
      "Nowe wartości:  51202     292.5\n",
      "175998    597.7\n",
      "113084    337.5\n",
      "Name: pikietaz, dtype: float64\n"
     ]
    }
   ],
   "source": [
    "# 1. przekształćmy ',' na '.'\n",
    "df['pikietaz'] = df['KM HM (Pikietaż)'].str.replace(',','.', regex=True)\n",
    "\n",
    "# 2. przekształćmy string na float\n",
    "df['pikietaz'] =  df['pikietaz'].astype(float)\n",
    "\n",
    "print( 'Nowe wartości: ', df['pikietaz'][df['pikietaz'].notnull()].sample(3) )"
   ]
  },
  {
   "cell_type": "code",
   "execution_count": 274,
   "metadata": {},
   "outputs": [
    {
     "name": "stdout",
     "output_type": "stream",
     "text": [
      "kolumna OBSZAR:  object\n",
      "\n",
      "Przykładowe wartości:  ['Obszar niezabudowany' 'Obszar zabudowany' nan]\n",
      "\n",
      "Zamieńmy wartości na 1 oznaczające obszar zabudowany, 0 obszar niezabudowany\n",
      "\n",
      "Nowe wartości w kolumnie:  [ 0.  1. nan]\n"
     ]
    }
   ],
   "source": [
    "print('kolumna OBSZAR: ', df['Obszar'].dtypes)\n",
    "print('\\nPrzykładowe wartości: ', df['Obszar'].unique())\n",
    "print('\\nZamieńmy wartości na 1 oznaczające obszar zabudowany, 0 obszar niezabudowany')\n",
    "\n",
    "df['obszar_zabudowany'] = df['Obszar'].apply(lambda x: 1 if x == 'Obszar zabudowany' else (0 if x == 'Obszar niezabudowany' else None) )\n",
    "\n",
    "print('\\nNowe wartości w kolumnie: ', df['obszar_zabudowany'].unique())"
   ]
  },
  {
   "cell_type": "code",
   "execution_count": 275,
   "metadata": {},
   "outputs": [
    {
     "name": "stdout",
     "output_type": "stream",
     "text": [
      "kolumna SKRZYŻOWANIE:  object\n",
      "\n",
      "Przykładowe wartości:  [nan 'Z drogą z pierwsz.' 'O ruchu okrężnym' 'Równorzędne']\n",
      "\n",
      "Nowe wartości w kolumnie:  ['nan' 'z drogą pierwsz' 'o ruchu okrężnym' 'równorzędne']\n"
     ]
    }
   ],
   "source": [
    "print('kolumna SKRZYŻOWANIE: ', df['Skrzyżowanie'].dtypes)\n",
    "print('\\nPrzykładowe wartości: ', df['Skrzyżowanie'].unique())\n",
    "\n",
    "#wyczyśćmy tekst\n",
    "df['skrzyzowanie'] = df['Skrzyżowanie'].apply(lambda x: simplify_cell(x))\n",
    "\n",
    "print('\\nNowe wartości w kolumnie: ', df['skrzyzowanie'].unique())"
   ]
  },
  {
   "cell_type": "code",
   "execution_count": 276,
   "metadata": {},
   "outputs": [
    {
     "name": "stdout",
     "output_type": "stream",
     "text": [
      "kolumna Geometria drogi:  object\n",
      "\n",
      "Przykładowe wartości:  ['Odcinek prosty' nan 'Zakręt, łuk' 'Spadek' 'Wzniesienie'\n",
      " 'Wierzchołek wzn.' 'Zakręt, łuk; Spadek' 'Odcinek prosty; Spadek'\n",
      " 'Zakręt, łuk; Wzniesienie' 'Odcinek prosty; Wzniesienie'\n",
      " 'Zakręt, łuk; Wierzchołek wzn.' 'Odcinek prosty; Wierzchołek wzn.'\n",
      " 'Odcinek prosty; Zakręt, łuk']\n",
      "\n",
      " Nowe wartości w kolumnie:  ['odcinek prosty' 'nan' 'zakręt łuk' 'spadek' 'wzniesienie'\n",
      " 'wierzchołek wzn' 'zakręt łuk spadek' 'odcinek prosty spadek'\n",
      " 'zakręt łuk wzniesienie' 'odcinek prosty wzniesienie'\n",
      " 'zakręt łuk wierzchołek wzn' 'odcinek prosty wierzchołek wzn'\n",
      " 'odcinek prosty zakręt łuk']\n"
     ]
    }
   ],
   "source": [
    "print('kolumna Geometria drogi: ', df['Geometria drogi'].dtypes)\n",
    "print('\\nPrzykładowe wartości: ', df['Geometria drogi'].unique())\n",
    "\n",
    "df['geometria_drogi'] = df['Geometria drogi'].apply(lambda x: simplify_cell(x))\n",
    "\n",
    "print('\\n Nowe wartości w kolumnie: ', df['geometria_drogi'].unique())"
   ]
  },
  {
   "cell_type": "code",
   "execution_count": 277,
   "metadata": {},
   "outputs": [
    {
     "name": "stdout",
     "output_type": "stream",
     "text": [
      "kolumna Charakterystyka miejsca zdarzenia:  object\n",
      "\n",
      " wartości:  ['Jezdnia' 'Chodnik, droga dla pieszych' 'Parking, plac'\n",
      " 'Wjazd, wyjazd z posesji, pola' 'Parking, plac, MOP (od 11.2015)'\n",
      " 'Skarpa, rów' 'Pobocze' 'Przejście dla pieszych'\n",
      " 'Most, wiadukt, łącznica, tunel' 'Pas dzielący jezdnie'\n",
      " 'Przejazd kolejowy strzeżony' 'Przejazd tramwajowy, torowisko'\n",
      " 'Przystanek komunikacji publicznej' 'Droga dla rowerzystów'\n",
      " 'Przejazd kolejowy niestrzeżony' 'Roboty drogowe, oznakowanie tymczasowe'\n",
      " 'Droga, pas ruchu, śluza dla rowerów (od 11.2015)'\n",
      " 'Przejazd dla rowerzystów (od 11.2015)'\n",
      " 'Przewiązka na drodze dwujezdniowej' 'Parking, plac, MOP'\n",
      " 'Przejazd tramwajowy, torowisko tramwajowe'\n",
      " 'Droga, pas ruchu, śluza dla rowerów' 'Przejazd dla rowerzystów' nan]\n",
      "\n",
      " Liczba wartości w kolumnie:  23\n",
      "\n",
      " Nowe wartości w kolumnie:  ['jezdnia' 'chodnik droga dla pieszych' 'parking plac'\n",
      " 'wjazd wyjazd z posesji pola' 'parking plac mop' 'skarpa rów' 'pobocze'\n",
      " 'przejście dla pieszych' 'most wiadukt łącznica tunel'\n",
      " 'pas dzielący jezdnie' 'przejazd kolejowy strzeżony'\n",
      " 'przejazd tramwajowy torowisko' 'przystanek komunikacji publicznej'\n",
      " 'droga dla rowerzystów' 'przejazd kolejowy niestrzeżony'\n",
      " 'roboty drogowe oznakowanie tymczasowe'\n",
      " 'droga pas ruchu śluza dla rowerów' 'przejazd dla rowerzystów'\n",
      " 'przewiązka na drodze dwujezdniowej'\n",
      " 'przejazd tramwajowy torowisko tramwajowe' 'nan']\n",
      "\n",
      " Liczba wartości w kolumnie:  21\n"
     ]
    }
   ],
   "source": [
    "print('kolumna Charakterystyka miejsca zdarzenia: ', df['Charakterystyka miejsca zdarzenia'].dtypes)\n",
    "print('\\n wartości: ', df['Charakterystyka miejsca zdarzenia'].unique())\n",
    "print('\\n Liczba wartości w kolumnie: ', df['Charakterystyka miejsca zdarzenia'].nunique())\n",
    "\n",
    "#Wyczyścmy wpisy w kolumnie\n",
    "\n",
    "df['charakterystyka_miejsca_zdarzenia'] = df['Charakterystyka miejsca zdarzenia'].apply(lambda x: simplify_cell(x))\n",
    "print('\\n Nowe wartości w kolumnie: ', df['charakterystyka_miejsca_zdarzenia'].unique())\n",
    "print('\\n Liczba wartości w kolumnie: ', df['charakterystyka_miejsca_zdarzenia'].nunique())"
   ]
  },
  {
   "cell_type": "code",
   "execution_count": 278,
   "metadata": {},
   "outputs": [
    {
     "name": "stdout",
     "output_type": "stream",
     "text": [
      "\n",
      " Nowe wartości w kolumnie:  ['jezdnia' 'chodnik droga dla pieszych' 'parking plac'\n",
      " 'wjazd wyjazd z posesji pola' 'skarpa rów' 'pobocze'\n",
      " 'przejście dla pieszych' 'most wiadukt łącznica tunel'\n",
      " 'pas dzielący jezdnie' 'przejazd kolejowy strzeżony'\n",
      " 'przejazd tramwajowy torowisko' 'przystanek komunikacji publicznej'\n",
      " 'droga dla rowerzystów' 'przejazd kolejowy niestrzeżony'\n",
      " 'roboty drogowe oznakowanie tymczasowe'\n",
      " 'droga pas ruchu śluza dla rowerów' 'przejazd dla rowerzystów'\n",
      " 'przewiązka na drodze dwujezdniowej' 'nan']\n",
      "\n",
      " Liczba wartości w kolumnie:  19\n"
     ]
    }
   ],
   "source": [
    "# w powyższych powtarzają się 'parking plac mop' i 'parking plac'\n",
    "# oraz 'przejazd tramwajowy torowisko tramwajowe'  i 'przejazd tramwajowy torowisko'\n",
    "# usuńmy więc słowa 'mop' oraz 'tramwajowe', aby ujednolicić pola\n",
    "\n",
    "df['charakterystyka_miejsca_zdarzenia'] = df['charakterystyka_miejsca_zdarzenia'].apply(lambda x: str(x).replace('mop','').rstrip() )\n",
    "df['charakterystyka_miejsca_zdarzenia'] = df['charakterystyka_miejsca_zdarzenia'].apply(lambda x: str(x).replace('tramwajowe','').rstrip() )\n",
    "\n",
    "print('\\n Nowe wartości w kolumnie: ', df['charakterystyka_miejsca_zdarzenia'].unique())\n",
    "print('\\n Liczba wartości w kolumnie: ', df['charakterystyka_miejsca_zdarzenia'].nunique())"
   ]
  },
  {
   "cell_type": "code",
   "execution_count": 279,
   "metadata": {},
   "outputs": [
    {
     "name": "stdout",
     "output_type": "stream",
     "text": [
      "kolumna Oświetlenie:  object\n",
      "\n",
      "Przykładowe wartości:  ['Noc - droga nieoświetlona' 'Noc - droga oświetlona' 'Światło dzienne'\n",
      " 'Zmrok, świt' 'Świt, zmrok']\n"
     ]
    }
   ],
   "source": [
    "print('kolumna Oświetlenie: ', df['Oświetlenie'].dtypes)\n",
    "print('\\nPrzykładowe wartości: ', df['Oświetlenie'].unique())"
   ]
  },
  {
   "cell_type": "code",
   "execution_count": 280,
   "metadata": {},
   "outputs": [],
   "source": [
    "# Wartości 'Zmrok, świt' 'Świt, zmrok' to to samo, zredukujmy to do jednego pola\n",
    "df['oswietlenie'] = df['Oświetlenie'].apply(lambda x: 'Świt, zmrok' if x == 'Zmrok, świt' else x)\n",
    "\n",
    "# Zamieńmy 'światło dzienne' na 'dzień'\n",
    "df['oswietlenie'] = df['Oświetlenie'].apply(lambda x: 'dzień' if x == 'Światło dzienne' else x)"
   ]
  },
  {
   "cell_type": "code",
   "execution_count": 281,
   "metadata": {},
   "outputs": [
    {
     "name": "stdout",
     "output_type": "stream",
     "text": [
      "kolumna Warunki atmosferyczne:  object\n",
      "\n",
      "Przykładowe wartości:  ['Dobre warunki atmosferyczne' 'Pochmurno' 'Mgła, dym'\n",
      " 'Oślepiające słońce' 'Opady śniegu, gradu'\n",
      " 'Pochmurno; Opady śniegu, gradu' 'Opady deszczu'\n",
      " 'Opady deszczu; Opady śniegu, gradu' 'Pochmurno; Opady deszczu'\n",
      " 'Pochmurno; Mgła, dym' 'Pochmurno; Opady deszczu; Mgła, dym'\n",
      " 'Opady deszczu; Mgła, dym'\n",
      " 'Pochmurno; Opady deszczu; Opady śniegu, gradu'\n",
      " 'Silny wiatr; Pochmurno; Opady śniegu, gradu'\n",
      " 'Pochmurno; Opady śniegu, gradu; Mgła, dym'\n",
      " 'Opady śniegu, gradu; Mgła, dym' 'Silny wiatr'\n",
      " 'Silny wiatr; Opady deszczu' 'Silny wiatr; Pochmurno'\n",
      " 'Silny wiatr; Opady śniegu, gradu' 'Oślepiające słońce; Silny wiatr'\n",
      " 'Silny wiatr; Pochmurno; Opady deszczu'\n",
      " 'Oślepiające słońce; Opady deszczu' nan\n",
      " 'Silny wiatr; Opady deszczu; Opady śniegu, gradu'\n",
      " 'Silny wiatr; Pochmurno; Opady deszczu; Opady śniegu, gradu'\n",
      " 'Opady deszczu; Opady śniegu, gradu; Mgła, dym']\n"
     ]
    }
   ],
   "source": [
    "print('kolumna Warunki atmosferyczne: ', df['Warunki atmosferyczne'].dtypes)\n",
    "print('\\nPrzykładowe wartości: ', df['Warunki atmosferyczne'].unique())\n",
    "\n",
    "#zmieńmy nazwę kolumny na lepszą do edycji\n",
    "df.rename(columns={'Warunki atmosferyczne':'warunki_atmosferyczne'}, inplace=True)"
   ]
  },
  {
   "cell_type": "code",
   "execution_count": 282,
   "metadata": {},
   "outputs": [
    {
     "data": {
      "text/plain": [
       "'[dobre warunki atmosferyczne pochmurno mgła dym oślepiające słońce opady śniegu gradu deszczu silny wiatr nan dym]'"
      ]
     },
     "execution_count": 282,
     "metadata": {},
     "output_type": "execute_result"
    }
   ],
   "source": [
    "# Spory tu bałagan, spróbujmy sprowadzić wszystkie te wpisy do wspólnego mianownika\n",
    "simplify_column(df['warunki_atmosferyczne'])"
   ]
  },
  {
   "cell_type": "code",
   "execution_count": 283,
   "metadata": {},
   "outputs": [],
   "source": [
    "#wyczyśćmy tekst w komórkach\n",
    "df['warunki_atmosferyczne'] = df['warunki_atmosferyczne'].apply(lambda x: simplify_cell(x))"
   ]
  },
  {
   "cell_type": "code",
   "execution_count": 284,
   "metadata": {},
   "outputs": [],
   "source": [
    "#teraz spróbujmy stworzyć dodatkowe kolumny dla pogody\n",
    "\n",
    "df['pogoda_dobre_warunki']        = df['warunki_atmosferyczne'].apply(lambda x: 1 if 'warunki' in str(x).lower() else 0)\n",
    "df['pogoda_pochmurno']            = df['warunki_atmosferyczne'].apply(lambda x: 1 if 'pochmurno' in str(x).lower() else 0)\n",
    "df['pogoda_mgla']                 = df['warunki_atmosferyczne'].apply(lambda x: 1 if 'mgła' in str(x).lower() else 0)\n",
    "df['pogoda_dym']                  = df['warunki_atmosferyczne'].apply(lambda x: 1 if 'dym' in str(x).lower() else 0)\n",
    "df['pogoda_oslep_slonce']         = df['warunki_atmosferyczne'].apply(lambda x: 1 if 'słońce' in str(x).lower() else 0)\n",
    "df['pogoda_opady']                = df['warunki_atmosferyczne'].apply(lambda x: 1 if 'opady' in str(x).lower() else 0)\n",
    "df['pogoda_snieg']                = df['warunki_atmosferyczne'].apply(lambda x: 1 if 'śniegu' in str(x).lower() else 0)\n",
    "df['pogoda_grad']                 = df['warunki_atmosferyczne'].apply(lambda x: 1 if 'gradu' in str(x).lower() else 0)\n",
    "df['pogoda_deszcz']               = df['warunki_atmosferyczne'].apply(lambda x: 1 if 'deszczu' in str(x).lower() else 0)\n",
    "df['pogoda_wiatr']                = df['warunki_atmosferyczne'].apply(lambda x: 1 if 'wiatr' in str(x).lower() else 0)\n"
   ]
  },
  {
   "cell_type": "markdown",
   "metadata": {},
   "source": [
    "#### Kolumny zawierające informacje o zdarzeniu"
   ]
  },
  {
   "cell_type": "code",
   "execution_count": 285,
   "metadata": {},
   "outputs": [
    {
     "name": "stdout",
     "output_type": "stream",
     "text": [
      "kolumna Rodzaj zdarzenia:  object\n",
      "\n",
      " wartości:  ['Najechanie na zwierzę' 'Najechanie na pojazd unieruchomiony'\n",
      " 'Zderzenie pojazdów tylne' 'Najechanie na słup, znak'\n",
      " 'Zderzenie pojazdów boczne' 'Najechanie na barierę ochronną' 'Inne'\n",
      " 'Najechanie na dziurę, wybój, garb' 'Najechanie na pieszego'\n",
      " 'Wywrócenie się pojazdu' 'Zderzenie pojazdów czołowe'\n",
      " 'Najechanie na drzewo' 'Najechanie na zapore kolejową'\n",
      " 'Zdarzenie z pasażerem']\n"
     ]
    }
   ],
   "source": [
    "print('kolumna Rodzaj zdarzenia: ', df['Rodzaj zdarzenia'].dtypes)\n",
    "print('\\n wartości: ', df['Rodzaj zdarzenia'].unique())\n",
    "\n",
    "df['rodzaj_zdarzenia'] = df['Rodzaj zdarzenia']\n"
   ]
  },
  {
   "cell_type": "code",
   "execution_count": 286,
   "metadata": {},
   "outputs": [
    {
     "name": "stdout",
     "output_type": "stream",
     "text": [
      "kolumna Wina:  object\n",
      "\n",
      "wartości:  ['z innych przyczyn' 'z winy kierującego' 'współwina uczestników ruchu'\n",
      " 'z winy pieszego']\n"
     ]
    }
   ],
   "source": [
    "print('kolumna Wina: ', df['Wina'].dtypes)\n",
    "print('\\nwartości: ', df['Wina'].unique())"
   ]
  },
  {
   "cell_type": "code",
   "execution_count": 287,
   "metadata": {},
   "outputs": [],
   "source": [
    "# Widzimy, że istnieje tutaj kategoria 'Inne'. Możemy tu wpisać dane z kolumny 'Inne przyczyny'\n",
    "df['wina'] = df.apply(lambda x: x['Inne przyczyny'] if (x['Wina'] == 'z innych przyczyn') else x['Wina'], axis=1)"
   ]
  },
  {
   "cell_type": "code",
   "execution_count": 288,
   "metadata": {},
   "outputs": [
    {
     "data": {
      "text/plain": [
       "array(['Obiekty, zwierzęta na drodze', 'z winy kierującego',\n",
       "       'współwina uczestników ruchu', 'Niewłaściwy stan jezdni',\n",
       "       'z winy pieszego', 'Nieustalone', 'Inne',\n",
       "       'Utrata przytomności, śmierć kierującego (od 11.2015)',\n",
       "       'Pożar pojazdu', 'Nieprawidłowo zabezp. roboty drogowe',\n",
       "       'Niesprawność techniczna pojazdu (od 11.2015)', 'Z winy pasażera',\n",
       "       'Oślepienie przez inny pojazd lub słońce',\n",
       "       'Nieprawidłowo działająca zapora, rogatka', 'Stan jezdni',\n",
       "       'Niesprawność techniczna pojazdu',\n",
       "       'Zabezpieczenie robót na drodze',\n",
       "       'Utrata przytomności, śmierć kierującego', 'Organizacja ruchu',\n",
       "       'Nieprawidłowo działająca zapora kolej.',\n",
       "       'Działanie sygnalizacji świetlnej'], dtype=object)"
      ]
     },
     "execution_count": 288,
     "metadata": {},
     "output_type": "execute_result"
    }
   ],
   "source": [
    "df['wina'].unique()"
   ]
  },
  {
   "cell_type": "code",
   "execution_count": 289,
   "metadata": {},
   "outputs": [],
   "source": [
    "# i jeszcze wyczyśćmy komórki\n",
    "df['wina'] = df['wina'].apply(lambda x: simplify_cell(x))"
   ]
  },
  {
   "cell_type": "code",
   "execution_count": 290,
   "metadata": {},
   "outputs": [
    {
     "name": "stdout",
     "output_type": "stream",
     "text": [
      "kolumna Rodzaj drogi:  object\n",
      "\n",
      " wartości w kolumnie:  ['Jednojezdniowa dwukierunkowa' 'Jednokierunkowa' 'Autostrada'\n",
      " 'Dwie jezdnie jednokierunkowe' 'Ekspresowa' nan]\n"
     ]
    }
   ],
   "source": [
    "print('kolumna Rodzaj drogi: ', df['Rodzaj drogi'].dtypes)\n",
    "print('\\n wartości w kolumnie: ', df['Rodzaj drogi'].unique())\n",
    "\n",
    "df['rodzaj_drogi'] = df['Rodzaj drogi']"
   ]
  },
  {
   "cell_type": "code",
   "execution_count": 291,
   "metadata": {},
   "outputs": [
    {
     "name": "stdout",
     "output_type": "stream",
     "text": [
      "kolumna nawierzchnia:  object\n",
      "\n",
      " wartości:  ['Twarda' 'Gruntowa' nan]\n",
      "\n",
      "Zamieńmy wartości na typ INT.\n",
      "\n",
      "Nowe wartości w kolumnie:  [ 1.  0. nan]\n"
     ]
    }
   ],
   "source": [
    "print('kolumna nawierzchnia: ', df['Nawierzchnia drogi'].dtypes)\n",
    "print('\\n wartości: ', df['Nawierzchnia drogi'].unique())\n",
    "print('\\nZamieńmy wartości na typ INT.')\n",
    "\n",
    "#zamieńmy wartości na zera i jedynki, zmieńmy też nazwę kolumny\n",
    "\n",
    "df['nawierzchnia_twarda'] = df['Nawierzchnia drogi'].apply(lambda x: 1 if x == 'Twarda' else (0 if x == 'Gruntowa' else None) )\n",
    "print('\\nNowe wartości w kolumnie: ', df['nawierzchnia_twarda'].unique())"
   ]
  },
  {
   "cell_type": "code",
   "execution_count": 292,
   "metadata": {},
   "outputs": [
    {
     "name": "stdout",
     "output_type": "stream",
     "text": [
      "kolumna stan_nawierzchni:  object\n",
      "\n",
      " wartości:  ['Sucha' 'Mokra' 'Oblodzona, zaśnieżona' 'Mokra; Oblodzona, zaśnieżona'\n",
      " 'Koleiny, garby' 'Zanieczyszczona' 'Mokra; Koleiny, garby'\n",
      " 'Oblodzona, zaśnieżona; Dziury, wyboje' 'Mokra; Dziury, wyboje'\n",
      " 'Kałuże, rozlewiska' 'Kałuże, rozlewiska; Oblodzona, zaśnieżona'\n",
      " 'Mokra; Kałuże, rozlewiska' 'Zanieczyszczona; Dziury, wyboje'\n",
      " 'Dziury, wyboje' 'Mokra; Kałuże, rozlewiska; Dziury, wyboje'\n",
      " 'Sucha; Dziury, wyboje' 'Sucha; Zanieczyszczona'\n",
      " 'Mokra; Kałuże, rozlewiska; Koleiny, garby' 'Mokra; Zanieczyszczona'\n",
      " 'Mokra; Zanieczyszczona; Koleiny, garby; Dziury, wyboje'\n",
      " 'Mokra; Kałuże, rozlewiska; Oblodzona, zaśnieżona'\n",
      " 'Mokra; Koleiny, garby; Dziury, wyboje'\n",
      " 'Kałuże, rozlewiska; Dziury, wyboje'\n",
      " 'Oblodzona, zaśnieżona; Zanieczyszczona; Koleiny, garby; Dziury, wyboje'\n",
      " 'Zanieczyszczona; Koleiny, garby; Dziury, wyboje'\n",
      " 'Mokra; Kałuże, rozlewiska; Zanieczyszczona; Koleiny, garby; Dziury, wyboje'\n",
      " 'Kałuże, rozlewiska; Zanieczyszczona; Dziury, wyboje'\n",
      " 'Sucha; Koleiny, garby' 'Sucha; Koleiny, garby; Dziury, wyboje' nan\n",
      " 'Oblodzenie, zaśnieżenie' 'Sucha; Zanieczyszczona; Dziury, wyboje'\n",
      " 'Kałuże, rozlewiska; Koleiny, garby; Dziury, wyboje'\n",
      " 'Mokra; Kałuże, rozlewiska; Koleiny, garby; Dziury, wyboje'\n",
      " 'Mokra; Oblodzenie, zaśnieżenie'\n",
      " 'Mokra; Kałuże, rozlewiska; Oblodzenie, zaśnieżenie'\n",
      " 'Kałuże, rozlewiska; Oblodzenie, zaśnieżenie'\n",
      " 'Oblodzenie, zaśnieżenie; Zanieczyszczona'\n",
      " 'Koleiny, garby; Dziury, wyboje'\n",
      " 'Oblodzenie, zaśnieżenie; Koleiny, garby'\n",
      " 'Oblodzenie, zaśnieżenie; Dziury, wyboje'\n",
      " 'Kałuże, rozlewiska; Koleiny, garby' 'Zanieczyszczona; Koleiny, garby'\n",
      " 'Sucha; Zanieczyszczona; Koleiny, garby; Dziury, wyboje'\n",
      " 'Mokra; Kałuże, rozlewiska; Zanieczyszczona'\n",
      " 'Mokra; Kałuże, rozlewiska; Zanieczyszczona; Dziury, wyboje'\n",
      " 'Mokra; Oblodzenie, zaśnieżenie; Dziury, wyboje'\n",
      " 'Mokra; Zanieczyszczona; Koleiny, garby'\n",
      " 'Mokra; Zanieczyszczona; Dziury, wyboje'\n",
      " 'Kałuże, rozlewiska; Oblodzenie, zaśnieżenie; Dziury, wyboje'\n",
      " 'Mokra; Oblodzenie, zaśnieżenie; Zanieczyszczona; Koleiny, garby; Dziury, wyboje'\n",
      " 'Kałuże, rozlewiska; Zanieczyszczona; Koleiny, garby; Dziury, wyboje']\n"
     ]
    }
   ],
   "source": [
    "print('kolumna stan_nawierzchni: ', df['Stan nawierzchni'].dtypes)\n",
    "print('\\n wartości: ', df['Stan nawierzchni'].unique())"
   ]
  },
  {
   "cell_type": "code",
   "execution_count": 293,
   "metadata": {},
   "outputs": [
    {
     "data": {
      "text/plain": [
       "'[sucha mokra oblodzona zaśnieżona koleiny garby zanieczyszczona dziury wyboje kałuże rozlewiska sucha nan oblodzenie zaśnieżenie wyboje]'"
      ]
     },
     "execution_count": 293,
     "metadata": {},
     "output_type": "execute_result"
    }
   ],
   "source": [
    "#uprośćmy ten bałagan i zobaczmy, co nam zostanie\n",
    "simplify_column(df['Stan nawierzchni'])"
   ]
  },
  {
   "cell_type": "code",
   "execution_count": 294,
   "metadata": {},
   "outputs": [],
   "source": [
    "#Powtórzmy proces przeprowadzony dla pogody\n",
    "\n",
    "# spróbujmy wyczyścić wpisy w każdej komórce\n",
    "df['stan_nawierzchni'] = df['Stan nawierzchni'].apply(lambda x: simplify_cell(x))\n"
   ]
  },
  {
   "cell_type": "code",
   "execution_count": 295,
   "metadata": {},
   "outputs": [],
   "source": [
    "#teraz spróbujmy stworzyć dodatkowe kolumny dla nawierzchni\n",
    "\n",
    "df['nawierzchnia_sucha']           = df['stan_nawierzchni'].apply(lambda x: 1 if 'sucha' in str(x).lower() else 0)\n",
    "df['nawierzchnia_mokra']           = df['stan_nawierzchni'].apply(lambda x: 1 if 'mokra' in str(x).lower() else 0)\n",
    "df['nawierzchnia_oblodzona']       = df['stan_nawierzchni'].apply(lambda x: 1 if ('oblodzona' in str(x).lower() or 'oblodzenie' in str(x).lower()) else 0)\n",
    "df['nawierzchnia_zasniezona']      = df['stan_nawierzchni'].apply(lambda x: 1 if ('zaśnieżona' in str(x).lower() or 'zaśnieżenie' in str(x).lower()) else 0)\n",
    "df['nawierzchnia_koleiny']         = df['stan_nawierzchni'].apply(lambda x: 1 if 'koleiny' in str(x).lower() else 0)\n",
    "df['nawierzchnia_garby']           = df['stan_nawierzchni'].apply(lambda x: 1 if 'garby' in str(x).lower() else 0)\n",
    "df['nawierzchnia_zanieczyszczona'] = df['stan_nawierzchni'].apply(lambda x: 1 if 'zanieczyszczona' in str(x).lower() else 0)\n",
    "df['nawierzchnia_dziury']          = df['stan_nawierzchni'].apply(lambda x: 1 if 'dziury' in str(x).lower() else 0)\n",
    "df['nawierzchnia_wyboje']          = df['stan_nawierzchni'].apply(lambda x: 1 if 'wyboje' in str(x).lower() else 0)\n",
    "df['nawierzchnia_kaluze']          = df['stan_nawierzchni'].apply(lambda x: 1 if 'kałuże' in str(x).lower() else 0)\n",
    "df['nawierzchnia_rozlewiska']      = df['stan_nawierzchni'].apply(lambda x: 1 if 'rozlewiska' in str(x).lower() else 0)"
   ]
  },
  {
   "cell_type": "code",
   "execution_count": 296,
   "metadata": {},
   "outputs": [
    {
     "name": "stdout",
     "output_type": "stream",
     "text": [
      "kolumna sygnalizacja:  object\n",
      "\n",
      " wartości:  ['Brak' 'Jest, nie działa' 'Jest, działa']\n"
     ]
    }
   ],
   "source": [
    "print('kolumna sygnalizacja: ', df['Sygnalizacja świetlna'].dtypes)\n",
    "print('\\n wartości: ', df['Sygnalizacja świetlna'].unique())\n",
    "\n",
    "df['sygnalizacja_swietlna'] =  df['Sygnalizacja świetlna']"
   ]
  },
  {
   "cell_type": "code",
   "execution_count": 297,
   "metadata": {},
   "outputs": [
    {
     "name": "stdout",
     "output_type": "stream",
     "text": [
      "kolumna Oznakowanie poziome:  object\n",
      "\n",
      " wartości:  ['Jest' 'Nie ma' nan]\n",
      "\n",
      "Nowe wartości w kolumnie oznakowanie_poziome:  [ 1.  0. nan]\n"
     ]
    }
   ],
   "source": [
    "print('kolumna Oznakowanie poziome: ', df['Oznakowanie poziome'].dtypes)\n",
    "print('\\n wartości: ', df['Oznakowanie poziome'].unique())\n",
    "\n",
    "#zamieńmy na 0 i 1\n",
    "df['oznakowanie_poziome'] = df['Oznakowanie poziome'].apply(lambda x: 1 if x == 'Jest' else (0 if x == 'Nie ma' else None))\n",
    "\n",
    "print('\\nNowe wartości w kolumnie oznakowanie_poziome: ', df['oznakowanie_poziome'].unique())"
   ]
  },
  {
   "cell_type": "code",
   "execution_count": 298,
   "metadata": {},
   "outputs": [
    {
     "name": "stdout",
     "output_type": "stream",
     "text": [
      "kolumna Liczba pasów w zdarzeniu:  float64\n",
      "\n",
      " wartości:  [  2.  nan   1.   3.   4.   5.   6.   8.   7.   0.   9. 250.  50.  24.\n",
      "  90.  12.  60.  20.  70.  40.  18.  13.  10.  14.  17.  66.  11.  16.\n",
      "  25.  22.  32.  30.  67.  15.]\n"
     ]
    },
    {
     "data": {
      "text/plain": [
       "2.0    101699\n",
       "4.0     14937\n",
       "3.0      9186\n",
       "1.0      8090\n",
       "6.0      3577\n",
       "5.0      2537\n",
       "Name: Liczba pasów w zdarzeniu, dtype: int64"
      ]
     },
     "execution_count": 298,
     "metadata": {},
     "output_type": "execute_result"
    }
   ],
   "source": [
    "print('kolumna Liczba pasów w zdarzeniu: ', df['Liczba pasów w zdarzeniu'].dtypes)\n",
    "print('\\n wartości: ', df['Liczba pasów w zdarzeniu'].unique())\n",
    "\n",
    "#Czy to jest na pewno liczba pasów w zdarzeniu? Liczby są co najmniej dziwne, sprawdźmy ile jakich pasów było\n",
    "df['Liczba pasów w zdarzeniu'].value_counts().head(6)\n",
    "#Trzeba to przemyśleć"
   ]
  },
  {
   "cell_type": "code",
   "execution_count": 299,
   "metadata": {},
   "outputs": [
    {
     "name": "stdout",
     "output_type": "stream",
     "text": [
      "kolumna Zachowanie kierującego:  object\n",
      "\n",
      " wartości:  [nan 'Nieprawidłowe: cofanie' 'Nieprawidłowe: omijanie'\n",
      " 'Niedostosowanie prędkości do warunków ruchu'\n",
      " 'Nieudzielenie pierwszeństwa przejazdu' 'Inne przyczyny (od 11.2015)'\n",
      " 'Niezachowanie bezp. odl. między pojazdami' 'Nieprawidłowe: skręcanie'\n",
      " 'Nieprawidłowe: zmienianie pasa ruchu' 'Zmęczenie, zaśnięcie'\n",
      " 'Nieprawidłowe: wymijanie' 'Nieprzestrzeganie innych sygnałów'\n",
      " 'Niestosowanie się do sygnalizacji świetlnej (od 11.2015)'\n",
      " 'Nieustąpienie pierwszeństwa pieszemu na przejściu dla pieszych (od 11.2015)'\n",
      " 'Gwałtowne hamowanie' 'Nieprawidłowe: wyprzedzanie'\n",
      " 'Nieprawidłowe: zatrzymywanie, postój'\n",
      " 'Nieprawidłowe: wymijanie; Nieprawidłowe: wymijanie'\n",
      " 'Nieprawidłowe: cofanie; Nieprawidłowe: cofanie'\n",
      " 'Nieprawidłowe: Zawracanie'\n",
      " 'Nieprawidłowe: skręcanie; Nieprawidłowe: skręcanie'\n",
      " 'Nieustąpienie pierwszeństwa pieszemu w innych okolicznościach (od 11.2015)'\n",
      " 'Nieustąpienie pierwszeństwa pieszemu przy skręcaniu w drogę poprzeczną  (od 11.2015)'\n",
      " 'Niedostosowanie prędkości do warunków ruchu; Niedostosowanie prędkości do warunków ruchu'\n",
      " 'Gwałtowne hamowanie; Niezachowanie bezp. odl. między pojazdami'\n",
      " 'Omijanie pojazdu przed przejściem dla pieszych (od 11.2015)'\n",
      " 'Niezachowanie bezp. odl. między pojazdami; Niezachowanie bezp. odl. między pojazdami'\n",
      " 'Nieprawidłowe: cofanie; Nieprawidłowe: zatrzymywanie, postój'\n",
      " 'Nieprawidłowe: skręcanie; Nieprawidłowe: wyprzedzanie'\n",
      " 'Nieudzielenie pierwszeństwa przejazdu; Niezachowanie bezp. odl. między pojazdami'\n",
      " 'Nieprawidłowe: zmienianie pasa ruchu; Nieudzielenie pierwszeństwa przejazdu'\n",
      " 'Wyprzedzanie pojazdu przed przejściem dla pieszych  (od 11.2015)'\n",
      " 'Niedostosowanie prędkości do warunków ruchu; Niedostosowanie prędkości do warunków ruchu; Niedostosowanie prędkości do warunków ruchu'\n",
      " 'Nieprawidłowe: zmienianie pasa ruchu; Nieprawidłowe: zmienianie pasa ruchu'\n",
      " 'Nieudzielenie pierwszeństwa przejazdu; Nieudzielenie pierwszeństwa przejazdu'\n",
      " 'Nieprawidłowe: Zawracanie; Nieprawidłowe: zmienianie pasa ruchu'\n",
      " 'Jazda bez wymaganego oświetlenia'\n",
      " 'Inne przyczyny (od 11.2015); Nieudzielenie pierwszeństwa przejazdu'\n",
      " 'Nieprawidłowe przejeżdżanie przejazdu dla rowerzystów (od 11.2015)'\n",
      " 'Nieprawidłowe: wyprzedzanie; Nieprawidłowe: zmienianie pasa ruchu'\n",
      " 'Nieprawidłowe: wyprzedzanie; Nieudzielenie pierwszeństwa przejazdu'\n",
      " 'Niestosowanie się do sygnalizacji świetlnej (od 11.2015); Niestosowanie się do sygnalizacji świetlnej (od 11.2015)'\n",
      " 'Nieprawidłowe: skręcanie; Nieudzielenie pierwszeństwa przejazdu'\n",
      " 'Nieprawidłowe: wymijanie; Niezachowanie bezp. odl. między pojazdami'\n",
      " 'Inne przyczyny (od 11.2015); Niezachowanie bezp. odl. między pojazdami'\n",
      " 'Nieprawidłowe: omijanie; Nieprawidłowe: zatrzymywanie, postój'\n",
      " 'Inne przyczyny (od 11.2015); Niedostosowanie prędkości do warunków ruchu'\n",
      " 'Nieudzielenie pierwszeństwa przejazdu; Wyprzedzanie pojazdu przed przejściem dla pieszych  (od 11.2015)'\n",
      " 'Nieprawidłowe: skręcanie; Nieprawidłowe: zatrzymywanie, postój'\n",
      " 'Nieprawidłowe: cofanie; Nieprawidłowe: wyprzedzanie'\n",
      " 'Nieprawidłowe: cofanie; Nieudzielenie pierwszeństwa przejazdu'\n",
      " 'Inne przyczyny (od 11.2015); Nieprawidłowe: skręcanie'\n",
      " 'Nieprawidłowe: wyprzedzanie; Niezachowanie bezp. odl. między pojazdami'\n",
      " 'Jazda bez wymaganego oświetlenia; Nieprawidłowe: wyprzedzanie'\n",
      " 'Nieprawidłowe: omijanie; Nieprawidłowe: omijanie'\n",
      " 'Inne przyczyny (od 11.2015); Inne przyczyny (od 11.2015)'\n",
      " 'Nieprawidłowe: Zawracanie; Niezachowanie bezp. odl. między pojazdami'\n",
      " 'Nieprzestrzeganie innych sygnałów; Nieudzielenie pierwszeństwa przejazdu'\n",
      " 'Inne przyczyny (od 11.2015); Omijanie pojazdu przed przejściem dla pieszych (od 11.2015)'\n",
      " 'Nieprawidłowe wymijanie' 'Niezachowanie bezp. odleg. między pojazdami'\n",
      " 'Nieprawidłowe skręcanie' 'Nieustąpienie pierwszeństwa przejazdu'\n",
      " 'Nieprawidłowe cofanie'\n",
      " 'Nieprawidłowe wymijanie; Nieprawidłowe wymijanie'\n",
      " 'Nieprawidłowe zmienianie pasa ruchu' 'Inne przyczyny'\n",
      " 'Nieprzestrzeganie znaków i innych sygnałów'\n",
      " 'Niestosowanie się do sygnalizacji świetlnej'\n",
      " 'Nieprawidłowe wyprzedzanie' 'Nieprawidłowe omijanie'\n",
      " 'Nieprawidłowe Zawracanie' 'Nieprawidłowe cofanie; Nieprawidłowe cofanie'\n",
      " 'Nieustąpienie pierwszeństwa pieszemu w innych okolicznościach'\n",
      " 'Nieustąpienie pierwszeństwa pieszemu na przejściu dla pieszych'\n",
      " 'Nieprawidłowe skręcanie; Nieprawidłowe wyprzedzanie'\n",
      " 'Nieprawidłowe zatrzymywanie, postój'\n",
      " 'Nieprawidłowe zmienianie pasa ruchu; Nieustąpienie pierwszeństwa przejazdu'\n",
      " 'Wyprzedzanie pojazdu przed przejściem dla pieszych'\n",
      " 'Inne przyczyny; Nieustąpienie pierwszeństwa przejazdu'\n",
      " 'Nieprawidłowe skręcanie; Nieustąpienie pierwszeństwa przejazdu'\n",
      " 'Nieprawidłowe przejeżdżanie przejazdu dla rowerzystów'\n",
      " 'Nieprawidłowe cofanie; Nieprawidłowe omijanie'\n",
      " 'Niestosowanie się do sygnalizacji świetlnej; Niestosowanie się do sygnalizacji świetlnej'\n",
      " 'Omijanie pojazdu przed przejściem dla pieszych'\n",
      " 'Nieprawidłowe omijanie; Nieprawidłowe omijanie'\n",
      " 'Inne przyczyny; Nieprawidłowe skręcanie'\n",
      " 'Gwałtowne hamowanie; Nieprawidłowe zmienianie pasa ruchu'\n",
      " 'Inne przyczyny; Nieprawidłowe omijanie'\n",
      " 'Gwałtowne hamowanie; Niezachowanie bezp. odleg. między pojazdami'\n",
      " 'Nieustąpienie pierwszeństwa przejazdu; Nieustąpienie pierwszeństwa przejazdu'\n",
      " 'Inne przyczyny; Inne przyczyny'\n",
      " 'Nieustąpienie pierwszeństwa pieszemu przy skręcaniu w drogę poprzeczną'\n",
      " 'Nieprawidłowe zmienianie pasa ruchu; Nieprawidłowe zmienianie pasa ruchu'\n",
      " 'Niezachowanie bezp. odleg. między pojazdami; Niezachowanie bezp. odleg. między pojazdami'\n",
      " 'Gwałtowne hamowanie; Nieustąpienie pierwszeństwa przejazdu'\n",
      " 'Inne przyczyny; Nieprawidłowe cofanie'\n",
      " 'Nieprawidłowe omijanie; Nieprawidłowe zatrzymywanie, postój'\n",
      " 'Nieprawidłowe omijanie; Nieprawidłowe skręcanie'\n",
      " 'Nieprawidłowe cofanie; Nieprawidłowe skręcanie'\n",
      " 'Nieprawidłowe wyprzedzanie; Nieprawidłowe zmienianie pasa ruchu'\n",
      " 'Nieprawidłowe omijanie; Nieprawidłowe zmienianie pasa ruchu'\n",
      " 'Nieprawidłowe wyprzedzanie; Nieprawidłowe wyprzedzanie'\n",
      " 'Nieprawidłowe wyprzedzanie; Nieustąpienie pierwszeństwa przejazdu'\n",
      " 'Nieprawidłowe skręcanie; Nieprawidłowe skręcanie'\n",
      " 'Nieprawidłowe omijanie; Nieustąpienie pierwszeństwa przejazdu'\n",
      " 'Jazda bez wymaganych świateł'\n",
      " 'Nieprawidłowe zmienianie pasa ruchu; Nieprzestrzeganie znaków i innych sygnałów'\n",
      " 'Nieustąpienie pierwszeństwa pieszemu na przejściu dla pieszych; Niezachowanie bezp. odleg. między pojazdami'\n",
      " 'Niedostosowanie prędkości do warunków ruchu; Nieprawidłowe Zawracanie'\n",
      " 'Nieprzestrzeganie znaków i innych sygnałów; Nieustąpienie pierwszeństwa przejazdu'\n",
      " 'Nieprawidłowe cofanie; Niezachowanie bezp. odleg. między pojazdami'\n",
      " 'Nieprawidłowe Zawracanie; Niezachowanie bezp. odleg. między pojazdami'\n",
      " 'Nieprawidłowe Zawracanie; Nieprawidłowe wyprzedzanie'\n",
      " 'Nieprawidłowe skręcanie; Niezachowanie bezp. odleg. między pojazdami'\n",
      " 'Inne przyczyny; Nieprzestrzeganie znaków i innych sygnałów'\n",
      " 'Nieprawidłowe cofanie; Nieustąpienie pierwszeństwa przejazdu'\n",
      " 'Nieprawidłowe zmienianie pasa ruchu; Niezachowanie bezp. odleg. między pojazdami'\n",
      " 'Niedostosowanie prędkości do warunków ruchu; Nieustąpienie pierwszeństwa przejazdu'\n",
      " 'Inne przyczyny; Niezachowanie bezp. odleg. między pojazdami'\n",
      " 'Inne przyczyny; Niedostosowanie prędkości do warunków ruchu'\n",
      " 'Inne przyczyny; Nieprawidłowe wymijanie'\n",
      " 'Niedostosowanie prędkości do warunków ruchu; Nieprawidłowe cofanie'\n",
      " 'Niestosowanie się do sygnalizacji świetlnej; Nieustąpienie pierwszeństwa przejazdu'\n",
      " 'Nieprawidłowe Zawracanie; Nieprawidłowe cofanie'\n",
      " 'Nieustąpienie pierwszeństwa pieszemu na przejściu dla pieszych; Nieustąpienie pierwszeństwa pieszemu na przejściu dla pieszych'\n",
      " 'Nieprawidłowe zatrzymywanie, postój; Niezachowanie bezp. odleg. między pojazdami'\n",
      " 'Nieprawidłowe wyprzedzanie; Niezachowanie bezp. odleg. między pojazdami'\n",
      " 'Inne przyczyny; Nieprawidłowe wyprzedzanie'\n",
      " 'Gwałtowne hamowanie; Nieprawidłowe wyprzedzanie'\n",
      " 'Niedostosowanie prędkości do warunków ruchu; Nieprzestrzeganie znaków i innych sygnałów'\n",
      " 'Niedostosowanie prędkości do warunków ruchu; Niezachowanie bezp. odleg. między pojazdami'\n",
      " 'Inne przyczyny; Nieprawidłowe zmienianie pasa ruchu'\n",
      " 'Nieprzestrzeganie znaków i innych sygnałów; Nieprzestrzeganie znaków i innych sygnałów'\n",
      " 'Jazda bez wymaganych świateł; Nieustąpienie pierwszeństwa przejazdu'\n",
      " 'Nieprawidłowe omijanie; Nieprawidłowe wyprzedzanie'\n",
      " 'Niedostosowanie prędkości do warunków ruchu; Nieprawidłowe zmienianie pasa ruchu'\n",
      " 'Nieustąpienie pierwszeństwa pieszemu na przejściu dla pieszych; Wyprzedzanie pojazdu przed przejściem dla pieszych'\n",
      " 'Nieprawidłowe cofanie; Nieprawidłowe zatrzymywanie, postój'\n",
      " 'Niedostosowanie prędkości do warunków ruchu; Nieprawidłowe wyprzedzanie'\n",
      " 'Niedostosowanie prędkości do warunków ruchu; Nieprawidłowe wymijanie'\n",
      " 'Nieprawidłowe cofanie; Nieprzestrzeganie znaków i innych sygnałów'\n",
      " 'Inne przyczyny; Omijanie pojazdu przed przejściem dla pieszych'\n",
      " 'Nieprawidłowe omijanie; Nieprawidłowe wymijanie'\n",
      " 'Inne przyczyny; Nieprawidłowe Zawracanie'\n",
      " 'Nieprawidłowe skręcanie; Nieprzestrzeganie znaków i innych sygnałów'\n",
      " 'Nieustąpienie pierwszeństwa przejazdu; Niezachowanie bezp. odleg. między pojazdami'\n",
      " 'Nieprawidłowe Zawracanie; Nieprawidłowe Zawracanie'\n",
      " 'Niedostosowanie prędkości do warunków ruchu; Nieprawidłowe skręcanie'\n",
      " 'Nieustąpienie pierwszeństwa przejazdu; Omijanie pojazdu przed przejściem dla pieszych'\n",
      " 'Nieprawidłowe skręcanie; Nieprawidłowe zatrzymywanie, postój'\n",
      " 'Nieprawidłowe omijanie; Nieprzestrzeganie znaków i innych sygnałów'\n",
      " 'Nieprawidłowe omijanie; Nieprawidłowe omijanie; Nieprawidłowe omijanie'\n",
      " 'Niedostosowanie prędkości do warunków ruchu; Niedostosowanie prędkości do warunków ruchu; Niedostosowanie prędkości do warunków ruchu; Niedostosowanie prędkości do warunków ruchu; Niedostosowanie prędkości do warunków ruchu'\n",
      " 'Nieprawidłowe wymijanie; Nieustąpienie pierwszeństwa przejazdu'\n",
      " 'Jazda bez wymaganych świateł; Nieprawidłowe wyprzedzanie'\n",
      " 'Nieprawidłowe cofanie; Niezachowanie bezp. odleg. między pojazdami; Niezachowanie bezp. odleg. między pojazdami'\n",
      " 'Nieprawidłowe cofanie; Nieprawidłowe wymijanie'\n",
      " 'Nieprawidłowe wyprzedzanie; Nieprzestrzeganie znaków i innych sygnałów'\n",
      " 'Inne przyczyny; Niestosowanie się do sygnalizacji świetlnej'\n",
      " 'Jazda bez wymaganych świateł; Niedostosowanie prędkości do warunków ruchu'\n",
      " 'Niezachowanie bezp. odleg. między pojazdami; Niezachowanie bezp. odleg. między pojazdami; Niezachowanie bezp. odleg. między pojazdami']\n"
     ]
    }
   ],
   "source": [
    "print('kolumna Zachowanie kierującego: ', df['Zachowanie kierującego'].dtypes)\n",
    "print('\\n wartości: ', df['Zachowanie kierującego'].unique())"
   ]
  },
  {
   "cell_type": "code",
   "execution_count": 300,
   "metadata": {},
   "outputs": [],
   "source": [
    "#Czyścimy\n",
    "df['zachowanie_kierujacego'] = df['Zachowanie kierującego'].apply(lambda x: simplify_cell(x))"
   ]
  },
  {
   "cell_type": "code",
   "execution_count": 301,
   "metadata": {},
   "outputs": [
    {
     "name": "stdout",
     "output_type": "stream",
     "text": [
      "['nan' 'nieprawidłowe: cofanie' 'nieprawidłowe: omijanie'\n",
      " 'niedostosowanie prędkości do warunków ruchu'\n",
      " 'nieudzielenie pierwszeństwa przejazdu' 'inne przyczyny'\n",
      " 'niezachowanie bezp odl między pojazdami' 'nieprawidłowe: skręcanie'\n",
      " 'nieprawidłowe: zmienianie pasa ruchu' 'zmęczenie zaśnięcie'\n",
      " 'nieprawidłowe: wymijanie' 'nieprzestrzeganie innych sygnałów'\n",
      " 'niestosowanie się do sygnalizacji świetlnej'\n",
      " 'nieustąpienie pierwszeństwa pieszemu na przejściu dla pieszych'\n",
      " 'gwałtowne hamowanie' 'nieprawidłowe: wyprzedzanie'\n",
      " 'nieprawidłowe: zatrzymywanie postój' 'nieprawidłowe: zawracanie'\n",
      " 'nieustąpienie pierwszeństwa pieszemu w innych okolicznościach'\n",
      " 'nieustąpienie pierwszeństwa pieszemu przy skręcaniu w drogę poprzeczną'\n",
      " 'gwałtowne hamowanie niezachowanie bezp odl między pojazdami'\n",
      " 'omijanie pojazdu przed przejściem dla pieszych'\n",
      " 'nieprawidłowe: cofanie zatrzymywanie postój'\n",
      " 'nieprawidłowe: skręcanie wyprzedzanie'\n",
      " 'nieudzielenie pierwszeństwa przejazdu niezachowanie bezp odl między pojazdami'\n",
      " 'nieprawidłowe: zmienianie pasa ruchu nieudzielenie pierwszeństwa przejazdu'\n",
      " 'wyprzedzanie pojazdu przed przejściem dla pieszych'\n",
      " 'nieprawidłowe: zawracanie zmienianie pasa ruchu'\n",
      " 'jazda bez wymaganego oświetlenia'\n",
      " 'inne przyczyny nieudzielenie pierwszeństwa przejazdu'\n",
      " 'nieprawidłowe przejeżdżanie przejazdu dla rowerzystów'\n",
      " 'nieprawidłowe: wyprzedzanie zmienianie pasa ruchu'\n",
      " 'nieprawidłowe: wyprzedzanie nieudzielenie pierwszeństwa przejazdu'\n",
      " 'nieprawidłowe: skręcanie nieudzielenie pierwszeństwa przejazdu'\n",
      " 'nieprawidłowe: wymijanie niezachowanie bezp odl między pojazdami'\n",
      " 'inne przyczyny niezachowanie bezp odl między pojazdami'\n",
      " 'nieprawidłowe: omijanie zatrzymywanie postój'\n",
      " 'inne przyczyny niedostosowanie prędkości do warunków ruchu'\n",
      " 'nieudzielenie pierwszeństwa przejazdu wyprzedzanie pojazdu przed przejściem dla pieszych'\n",
      " 'nieprawidłowe: skręcanie zatrzymywanie postój'\n",
      " 'nieprawidłowe: cofanie wyprzedzanie'\n",
      " 'nieprawidłowe: cofanie nieudzielenie pierwszeństwa przejazdu'\n",
      " 'inne przyczyny nieprawidłowe: skręcanie'\n",
      " 'nieprawidłowe: wyprzedzanie niezachowanie bezp odl między pojazdami'\n",
      " 'jazda bez wymaganego oświetlenia nieprawidłowe: wyprzedzanie'\n",
      " 'nieprawidłowe: zawracanie niezachowanie bezp odl między pojazdami'\n",
      " 'nieprzestrzeganie innych sygnałów nieudzielenie pierwszeństwa przejazdu'\n",
      " 'inne przyczyny omijanie pojazdu przed przejściem dla pieszych'\n",
      " 'nieprawidłowe wymijanie' 'niezachowanie bezp odleg między pojazdami'\n",
      " 'nieprawidłowe skręcanie' 'nieustąpienie pierwszeństwa przejazdu'\n",
      " 'nieprawidłowe cofanie' 'nieprawidłowe zmienianie pasa ruchu'\n",
      " 'nieprzestrzeganie znaków i innych sygnałów' 'nieprawidłowe wyprzedzanie'\n",
      " 'nieprawidłowe omijanie' 'nieprawidłowe zawracanie'\n",
      " 'nieprawidłowe skręcanie wyprzedzanie'\n",
      " 'nieprawidłowe zatrzymywanie postój'\n",
      " 'nieprawidłowe zmienianie pasa ruchu nieustąpienie pierwszeństwa przejazdu'\n",
      " 'inne przyczyny nieustąpienie pierwszeństwa przejazdu'\n",
      " 'nieprawidłowe skręcanie nieustąpienie pierwszeństwa przejazdu'\n",
      " 'nieprawidłowe cofanie omijanie' 'inne przyczyny nieprawidłowe skręcanie'\n",
      " 'gwałtowne hamowanie nieprawidłowe zmienianie pasa ruchu'\n",
      " 'inne przyczyny nieprawidłowe omijanie'\n",
      " 'gwałtowne hamowanie niezachowanie bezp odleg między pojazdami'\n",
      " 'gwałtowne hamowanie nieustąpienie pierwszeństwa przejazdu'\n",
      " 'inne przyczyny nieprawidłowe cofanie'\n",
      " 'nieprawidłowe omijanie zatrzymywanie postój'\n",
      " 'nieprawidłowe omijanie skręcanie' 'nieprawidłowe cofanie skręcanie'\n",
      " 'nieprawidłowe wyprzedzanie zmienianie pasa ruchu'\n",
      " 'nieprawidłowe omijanie zmienianie pasa ruchu'\n",
      " 'nieprawidłowe wyprzedzanie nieustąpienie pierwszeństwa przejazdu'\n",
      " 'nieprawidłowe omijanie nieustąpienie pierwszeństwa przejazdu'\n",
      " 'jazda bez wymaganych świateł'\n",
      " 'nieprawidłowe zmienianie pasa ruchu nieprzestrzeganie znaków i innych sygnałów'\n",
      " 'nieustąpienie pierwszeństwa pieszemu na przejściu dla pieszych niezachowanie bezp odleg między pojazdami'\n",
      " 'niedostosowanie prędkości do warunków ruchu nieprawidłowe zawracanie'\n",
      " 'nieprzestrzeganie znaków i innych sygnałów nieustąpienie pierwszeństwa przejazdu'\n",
      " 'nieprawidłowe cofanie niezachowanie bezp odleg między pojazdami'\n",
      " 'nieprawidłowe zawracanie niezachowanie bezp odleg między pojazdami'\n",
      " 'nieprawidłowe zawracanie wyprzedzanie'\n",
      " 'nieprawidłowe skręcanie niezachowanie bezp odleg między pojazdami'\n",
      " 'inne przyczyny nieprzestrzeganie znaków i innych sygnałów'\n",
      " 'nieprawidłowe cofanie nieustąpienie pierwszeństwa przejazdu'\n",
      " 'nieprawidłowe zmienianie pasa ruchu niezachowanie bezp odleg między pojazdami'\n",
      " 'niedostosowanie prędkości do warunków ruchu nieustąpienie pierwszeństwa przejazdu'\n",
      " 'inne przyczyny niezachowanie bezp odleg między pojazdami'\n",
      " 'inne przyczyny nieprawidłowe wymijanie'\n",
      " 'niedostosowanie prędkości do warunków ruchu nieprawidłowe cofanie'\n",
      " 'niestosowanie się do sygnalizacji świetlnej nieustąpienie pierwszeństwa przejazdu'\n",
      " 'nieprawidłowe zawracanie cofanie'\n",
      " 'nieprawidłowe zatrzymywanie postój niezachowanie bezp odleg między pojazdami'\n",
      " 'nieprawidłowe wyprzedzanie niezachowanie bezp odleg między pojazdami'\n",
      " 'inne przyczyny nieprawidłowe wyprzedzanie'\n",
      " 'gwałtowne hamowanie nieprawidłowe wyprzedzanie'\n",
      " 'niedostosowanie prędkości do warunków ruchu nieprzestrzeganie znaków i innych sygnałów'\n",
      " 'niedostosowanie prędkości do warunków ruchu niezachowanie bezp odleg między pojazdami'\n",
      " 'inne przyczyny nieprawidłowe zmienianie pasa ruchu'\n",
      " 'jazda bez wymaganych świateł nieustąpienie pierwszeństwa przejazdu'\n",
      " 'nieprawidłowe omijanie wyprzedzanie'\n",
      " 'niedostosowanie prędkości do warunków ruchu nieprawidłowe zmienianie pasa'\n",
      " 'nieustąpienie pierwszeństwa pieszemu na przejściu dla pieszych wyprzedzanie pojazdu przed przejściem'\n",
      " 'nieprawidłowe cofanie zatrzymywanie postój'\n",
      " 'niedostosowanie prędkości do warunków ruchu nieprawidłowe wyprzedzanie'\n",
      " 'niedostosowanie prędkości do warunków ruchu nieprawidłowe wymijanie'\n",
      " 'nieprawidłowe cofanie nieprzestrzeganie znaków i innych sygnałów'\n",
      " 'nieprawidłowe omijanie wymijanie'\n",
      " 'inne przyczyny nieprawidłowe zawracanie'\n",
      " 'nieprawidłowe skręcanie nieprzestrzeganie znaków i innych sygnałów'\n",
      " 'nieustąpienie pierwszeństwa przejazdu niezachowanie bezp odleg między pojazdami'\n",
      " 'niedostosowanie prędkości do warunków ruchu nieprawidłowe skręcanie'\n",
      " 'nieustąpienie pierwszeństwa przejazdu omijanie pojazdu przed przejściem dla pieszych'\n",
      " 'nieprawidłowe skręcanie zatrzymywanie postój'\n",
      " 'nieprawidłowe omijanie nieprzestrzeganie znaków i innych sygnałów'\n",
      " 'nieprawidłowe wymijanie nieustąpienie pierwszeństwa przejazdu'\n",
      " 'jazda bez wymaganych świateł nieprawidłowe wyprzedzanie'\n",
      " 'nieprawidłowe cofanie wymijanie'\n",
      " 'nieprawidłowe wyprzedzanie nieprzestrzeganie znaków i innych sygnałów'\n",
      " 'inne przyczyny niestosowanie się do sygnalizacji świetlnej'\n",
      " 'jazda bez wymaganych świateł niedostosowanie prędkości do warunków ruchu']\n"
     ]
    }
   ],
   "source": [
    "print(df['zachowanie_kierujacego'].unique())"
   ]
  },
  {
   "cell_type": "code",
   "execution_count": 302,
   "metadata": {},
   "outputs": [
    {
     "data": {
      "text/plain": [
       "'[nan nieprawidłowe: cofanie omijanie niedostosowanie prędkości do warunków ruchu nieudzielenie pierwszeństwa przejazdu inne przyczyny niezachowanie bezp odl między pojazdami skręcanie zmienianie pasa zmęczenie zaśnięcie wymijanie nieprzestrzeganie innych sygnałów niestosowanie się sygnalizacji świetlnej nieustąpienie pieszemu na przejściu dla pieszych gwałtowne hamowanie wyprzedzanie zatrzymywanie postój zawracanie w okolicznościach przy skręcaniu drogę poprzeczną pojazdu przed przejściem jazda bez wymaganego oświetlenia nieprawidłowe przejeżdżanie rowerzystów odleg znaków i wymaganych świateł pojazdami]'"
      ]
     },
     "execution_count": 302,
     "metadata": {},
     "output_type": "execute_result"
    }
   ],
   "source": [
    "simplify_column(df['Zachowanie kierującego'])"
   ]
  },
  {
   "cell_type": "code",
   "execution_count": 303,
   "metadata": {},
   "outputs": [],
   "source": [
    "#teraz spróbujmy stworzyć dodatkowe kolumny dla zachowania kierującego\n",
    "\n",
    "df['zachowanie_kierujacego_niepr_cofanie']             = df['zachowanie_kierujacego'].apply(lambda x: 1 if 'cofanie' in str(x).lower() else 0)\n",
    "df['zachowanie_kierujacego_niepr_omijanie']            = df['zachowanie_kierujacego'].apply(lambda x: 1 if 'omijanie' in str(x).lower() else 0)\n",
    "df['zachowanie_kierujacego_niedost_predkosci']         = df['zachowanie_kierujacego'].apply(lambda x: 1 if 'prędkości' in str(x).lower() else 0)\n",
    "df['zachowanie_kierujacego_nieudzielenie_pierw']       = df['zachowanie_kierujacego'].apply(lambda x: 1 if 'pierwszeństwa' in str(x).lower() else 0)\n",
    "df['zachowanie_kierujacego_niepr_skrecanie']           = df['zachowanie_kierujacego'].apply(lambda x: 1 if 'skręcanie' in str(x).lower() else 0)\n",
    "df['zachowanie_kierujacego_niezachowanie_odl']         = df['zachowanie_kierujacego'].apply(lambda x: 1 if 'bezp. odl.' in str(x).lower() else 0)\n",
    "df['zachowanie_kierujacego_niepr_zmiana_pasa']         = df['zachowanie_kierujacego'].apply(lambda x: 1 if 'zmienianie ' in str(x).lower() else 0)\n",
    "df['zachowanie_kierujacego_zmeczenie']                 = df['zachowanie_kierujacego'].apply(lambda x: 1 if 'zmęczenie' in str(x).lower() else 0)\n",
    "df['zachowanie_kierujacego_niepr_wymijanie']           = df['zachowanie_kierujacego'].apply(lambda x: 1 if 'wymijanie' in str(x).lower() else 0)\n",
    "df['zachowanie_kierujacego_nieprzestrz_znakow']        = df['zachowanie_kierujacego'].apply(lambda x: 1 if 'nieprzestrzeganie' in str(x).lower() else 0)\n",
    "df['zachowanie_kierujacego_niestos_do_sygn']           = df['zachowanie_kierujacego'].apply(lambda x: 1 if 'sygnalizacji' in str(x).lower() else 0)\n",
    "df['zachowanie_kierujacego_nieust_przejazdu']          = df['zachowanie_kierujacego'].apply(lambda x: 1 if 'przejazdu' in str(x).lower() else 0)\n",
    "df['zachowanie_kierujacego_nieust_pieszemu']           = df['zachowanie_kierujacego'].apply(lambda x: 1 if 'pieszemu' in str(x).lower() else 0)\n",
    "df['zachowanie_kierujacego_gwalt_hamowanie']           = df['zachowanie_kierujacego'].apply(lambda x: 1 if 'gwałtowne' in str(x).lower() else 0)\n",
    "df['zachowanie_kierujacego_niepr_wyprzedzanie']        = df['zachowanie_kierujacego'].apply(lambda x: 1 if 'wyprzedzanie' in str(x).lower() else 0)\n",
    "df['zachowanie_kierujacego_niepr_zatrzymanie']         = df['zachowanie_kierujacego'].apply(lambda x: 1 if 'zatrzymanie' in str(x).lower() else 0)\n",
    "df['zachowanie_kierujacego_niepr_zawracanie']          = df['zachowanie_kierujacego'].apply(lambda x: 1 if 'zawracanie' in str(x).lower() else 0)\n",
    "df['zachowanie_kierujacego_niepr_przejazd_rowerowy']   = df['zachowanie_kierujacego'].apply(lambda x: 1 if 'rowerzystów' in str(x).lower() else 0)\n",
    "df['zachowanie_kierujacego_jazda_bez_swiatel']         = df['zachowanie_kierujacego'].apply(lambda x: 1 if 'świateł' in str(x).lower() else 0)\n",
    "df['zachowanie_kierujacego_inne_przyczyny']            = df['zachowanie_kierujacego'].apply(lambda x: 1 if 'inne' in str(x).lower() else 0)"
   ]
  },
  {
   "cell_type": "code",
   "execution_count": 304,
   "metadata": {},
   "outputs": [
    {
     "name": "stdout",
     "output_type": "stream",
     "text": [
      "kolumna Zachowanie pieszego:  object\n",
      "\n",
      "Przykładowe wartości:  [nan 'Wejście na jezdnię przy czerwonym świetle'\n",
      " 'Przekraczanie jezdni w miejscu niedozwolonym'\n",
      " 'Nieostrożne wejście na jezdnię: przed jadącym pojazdem'\n",
      " 'Inne przyczyny (od 11.2015)'\n",
      " 'Nieostrożne wejście na jezdnię: zza pojazdu, przeszkody'\n",
      " 'Chodzenie nieprawidłową stroną drogi' 'Stanie na jezdni, leżenie'\n",
      " 'Nieostrożne wejście na jezdnię: przed jadącym pojazdem; Nieostrożne wejście na jezdnię: przed jadącym pojazdem'\n",
      " 'Zatrzymanie, cofnięcie się'\n",
      " 'Przekraczanie jezdni w miejscu niedozwolonym; Przekraczanie jezdni w miejscu niedozwolonym'\n",
      " 'Inne przyczyny' 'Leżenie, siedzenie, klęczenie, stanie na jezdni'\n",
      " 'Nieostrożne wejście na jezdnię: zza pojazdu, przeszkody; Nieostrożne wejście na jezdnię: zza pojazdu, przeszkody'\n",
      " 'Wejście na jezdnię przy czerwonym świetle; Wejście na jezdnię przy czerwonym świetle'\n",
      " 'Inne przyczyny; Inne przyczyny'\n",
      " 'Chodzenie nieprawidłową stroną drogi; Chodzenie nieprawidłową stroną drogi'\n",
      " 'Leżenie, siedzenie, klęczenie, stanie na jezdni; Leżenie, siedzenie, klęczenie, stanie na jezdni']\n"
     ]
    }
   ],
   "source": [
    "print('kolumna Zachowanie pieszego: ', df['Zachowanie pieszego'].dtypes)\n",
    "print('\\nPrzykładowe wartości: ', df['Zachowanie pieszego'].unique())"
   ]
  },
  {
   "cell_type": "code",
   "execution_count": 305,
   "metadata": {},
   "outputs": [],
   "source": [
    "#uprośćmy wpisy\n",
    "df['zachowanie_pieszego'] = df['Zachowanie pieszego'].apply(lambda x: simplify_cell(x))"
   ]
  },
  {
   "cell_type": "code",
   "execution_count": 306,
   "metadata": {},
   "outputs": [
    {
     "data": {
      "text/plain": [
       "array(['nan', 'wejście na jezdnię przy czerwonym świetle',\n",
       "       'przekraczanie jezdni w miejscu niedozwolonym',\n",
       "       'nieostrożne wejście na jezdnię: przed jadącym pojazdem',\n",
       "       'inne przyczyny',\n",
       "       'nieostrożne wejście na jezdnię: zza pojazdu przeszkody',\n",
       "       'chodzenie nieprawidłową stroną drogi', 'stanie na jezdni leżenie',\n",
       "       'zatrzymanie cofnięcie się',\n",
       "       'leżenie siedzenie klęczenie stanie na jezdni'], dtype=object)"
      ]
     },
     "execution_count": 306,
     "metadata": {},
     "output_type": "execute_result"
    }
   ],
   "source": [
    "df['zachowanie_pieszego'].unique()"
   ]
  },
  {
   "cell_type": "code",
   "execution_count": 307,
   "metadata": {},
   "outputs": [
    {
     "name": "stdout",
     "output_type": "stream",
     "text": [
      "kolumna Liczba rannych w zdarzeniu:  int64\n",
      "\n",
      "Przykładowe wartości:  [ 0  4  1  2  3  6  5  9 11  8 26  7 10 12]\n"
     ]
    }
   ],
   "source": [
    "print('kolumna Liczba rannych w zdarzeniu: ', df['Liczba rannych w zdarzeniu'].dtypes)\n",
    "print('\\nPrzykładowe wartości: ', df['Liczba rannych w zdarzeniu'].unique())\n",
    "\n",
    "#Jest ok, zmieńmy tylko nazwę na prostszą w edycji\n",
    "df['ranni'] = df['Liczba rannych w zdarzeniu']"
   ]
  },
  {
   "cell_type": "code",
   "execution_count": 308,
   "metadata": {},
   "outputs": [
    {
     "name": "stdout",
     "output_type": "stream",
     "text": [
      "kolumna Liczba zabitych w zdarzeniu:  int64\n",
      "\n",
      "Przykładowe wartości:  [0 1 2 4 3]\n"
     ]
    }
   ],
   "source": [
    "print('kolumna Liczba zabitych w zdarzeniu: ', df['Liczba zabitych w zdarzeniu'].dtypes)\n",
    "print('\\nPrzykładowe wartości: ', df['Liczba zabitych w zdarzeniu'].unique())\n",
    "\n",
    "#Jest ok, zmieńmy tylko nazwę na prostszą w edycji\n",
    "df['zabici'] = df['Liczba zabitych w zdarzeniu']"
   ]
  },
  {
   "cell_type": "code",
   "execution_count": 309,
   "metadata": {},
   "outputs": [
    {
     "name": "stdout",
     "output_type": "stream",
     "text": [
      "kolumna Liczba kolizji:  int64\n",
      "\n",
      "Przykładowe wartości:  [1 0]\n"
     ]
    }
   ],
   "source": [
    "print('kolumna Liczba kolizji: ', df['Liczba kolizji'].dtypes)\n",
    "print('\\nPrzykładowe wartości: ', df['Liczba kolizji'].unique())\n",
    "\n",
    "#Jest ok, zmieńmy tylko nazwę na prostszą w edycji i więcej mówiącą o danych w kolumnie (czy to była kolizja?)\n",
    "df['kolizja'] = df['Liczba kolizji']"
   ]
  },
  {
   "cell_type": "code",
   "execution_count": 310,
   "metadata": {},
   "outputs": [
    {
     "name": "stdout",
     "output_type": "stream",
     "text": [
      "kolumna Liczba wypadków:  int64\n",
      "\n",
      "Przykładowe wartości:  [0 1]\n"
     ]
    }
   ],
   "source": [
    "print('kolumna Liczba wypadków: ', df['Liczba wypadków'].dtypes)\n",
    "print('\\nPrzykładowe wartości: ', df['Liczba wypadków'].unique())\n",
    "\n",
    "#Jest ok, zmieńmy tylko nazwę na prostszą w edycji i więcej mówiącą o danych w kolumnie (czy to był wypadek?)\n",
    "df['wypadek'] = df['Liczba wypadków']"
   ]
  },
  {
   "cell_type": "markdown",
   "metadata": {},
   "source": [
    "## KONIEC!"
   ]
  },
  {
   "cell_type": "code",
   "execution_count": 311,
   "metadata": {},
   "outputs": [
    {
     "data": {
      "text/plain": [
       "['Data zdarzenia',\n",
       " 'Godzina',\n",
       " 'GPS x',\n",
       " 'GPS y',\n",
       " 'miasto',\n",
       " 'Ulica',\n",
       " 'numer_domu',\n",
       " 'numer_drogi',\n",
       " 'KM HM (Pikietaż)',\n",
       " 'Obszar',\n",
       " 'Skrzyżowanie',\n",
       " 'Geometria drogi',\n",
       " 'Charakterystyka miejsca zdarzenia',\n",
       " 'Oświetlenie',\n",
       " 'warunki_atmosferyczne',\n",
       " 'Rodzaj zdarzenia',\n",
       " 'Wina',\n",
       " 'Rodzaj drogi',\n",
       " 'Nawierzchnia drogi',\n",
       " 'Stan nawierzchni',\n",
       " 'Sygnalizacja świetlna',\n",
       " 'Oznakowanie poziome',\n",
       " 'Liczba pasów w zdarzeniu',\n",
       " 'Zachowanie kierującego',\n",
       " 'Zachowanie pieszego',\n",
       " 'Inne przyczyny',\n",
       " 'Liczba rannych w zdarzeniu',\n",
       " 'Liczba zabitych w zdarzeniu',\n",
       " 'Liczba kolizji',\n",
       " 'Liczba wypadków',\n",
       " 'data_full',\n",
       " 'rok',\n",
       " 'miesiac',\n",
       " 'godzina',\n",
       " 'minuta',\n",
       " 'pelna_data',\n",
       " 'dzien_tygodnia',\n",
       " 'czy_weekend',\n",
       " 'GPS_x',\n",
       " 'GPS_y',\n",
       " 'ulica',\n",
       " 'pikietaz',\n",
       " 'obszar_zabudowany',\n",
       " 'skrzyzowanie',\n",
       " 'geometria_drogi',\n",
       " 'charakterystyka_miejsca_zdarzenia',\n",
       " 'oswietlenie',\n",
       " 'pogoda_dobre_warunki',\n",
       " 'pogoda_pochmurno',\n",
       " 'pogoda_mgla',\n",
       " 'pogoda_dym',\n",
       " 'pogoda_oslep_slonce',\n",
       " 'pogoda_opady',\n",
       " 'pogoda_snieg',\n",
       " 'pogoda_grad',\n",
       " 'pogoda_deszcz',\n",
       " 'pogoda_wiatr',\n",
       " 'rodzaj_zdarzenia',\n",
       " 'wina',\n",
       " 'rodzaj_drogi',\n",
       " 'nawierzchnia_twarda',\n",
       " 'stan_nawierzchni',\n",
       " 'nawierzchnia_sucha',\n",
       " 'nawierzchnia_mokra',\n",
       " 'nawierzchnia_oblodzona',\n",
       " 'nawierzchnia_zasniezona',\n",
       " 'nawierzchnia_koleiny',\n",
       " 'nawierzchnia_garby',\n",
       " 'nawierzchnia_zanieczyszczona',\n",
       " 'nawierzchnia_dziury',\n",
       " 'nawierzchnia_wyboje',\n",
       " 'nawierzchnia_kaluze',\n",
       " 'nawierzchnia_rozlewiska',\n",
       " 'sygnalizacja_swietlna',\n",
       " 'oznakowanie_poziome',\n",
       " 'zachowanie_kierujacego',\n",
       " 'zachowanie_kierujacego_niepr_cofanie',\n",
       " 'zachowanie_kierujacego_niepr_omijanie',\n",
       " 'zachowanie_kierujacego_niedost_predkosci',\n",
       " 'zachowanie_kierujacego_nieudzielenie_pierw',\n",
       " 'zachowanie_kierujacego_niepr_skrecanie',\n",
       " 'zachowanie_kierujacego_niezachowanie_odl',\n",
       " 'zachowanie_kierujacego_niepr_zmiana_pasa',\n",
       " 'zachowanie_kierujacego_zmeczenie',\n",
       " 'zachowanie_kierujacego_niepr_wymijanie',\n",
       " 'zachowanie_kierujacego_nieprzestrz_znakow',\n",
       " 'zachowanie_kierujacego_niestos_do_sygn',\n",
       " 'zachowanie_kierujacego_nieust_przejazdu',\n",
       " 'zachowanie_kierujacego_nieust_pieszemu',\n",
       " 'zachowanie_kierujacego_gwalt_hamowanie',\n",
       " 'zachowanie_kierujacego_niepr_wyprzedzanie',\n",
       " 'zachowanie_kierujacego_niepr_zatrzymanie',\n",
       " 'zachowanie_kierujacego_niepr_zawracanie',\n",
       " 'zachowanie_kierujacego_niepr_przejazd_rowerowy',\n",
       " 'zachowanie_kierujacego_jazda_bez_swiatel',\n",
       " 'zachowanie_kierujacego_inne_przyczyny',\n",
       " 'zachowanie_pieszego',\n",
       " 'ranni',\n",
       " 'zabici',\n",
       " 'kolizja',\n",
       " 'wypadek']"
      ]
     },
     "execution_count": 311,
     "metadata": {},
     "output_type": "execute_result"
    }
   ],
   "source": [
    "# No dobra, wcale nie ;) Stwórzmy nowy dataset, który zawiera wszystkie nasze istotne kolumny\n",
    "# Istotne, czyli które?\n",
    "cols = df.columns.tolist()\n",
    "cols"
   ]
  },
  {
   "cell_type": "code",
   "execution_count": 321,
   "metadata": {},
   "outputs": [],
   "source": [
    "potrzebne = [\n",
    " 'data_full',\n",
    " 'rok',\n",
    " 'miesiac',\n",
    " 'godzina',\n",
    " 'minuta',\n",
    " 'pelna_data',   \n",
    " 'dzien_tygodnia',\n",
    " 'czy_weekend',\n",
    " 'GPS_x',\n",
    " 'GPS_y',\n",
    " 'miasto',\n",
    " 'ulica'\n",
    " 'numer_domu',\n",
    " 'numer_drogi',\n",
    " 'warunki_atmosferyczne',\n",
    " 'pikietaz',\n",
    " 'obszar',\n",
    " 'skrzyzowanie',\n",
    " 'geometria_drogi',\n",
    " 'charakterystyka_miejsca_zdarzenia',\n",
    " 'oswietlenie',\n",
    " 'pogoda_dobre_warunki',\n",
    " 'pogoda_pochmurno',\n",
    " 'pogoda_mgla',\n",
    " 'pogoda_dym',\n",
    " 'pogoda_oslep_slonce',\n",
    " 'pogoda_opady',\n",
    " 'pogoda_snieg',\n",
    " 'pogoda_grad',\n",
    " 'pogoda_deszcz',\n",
    " 'pogoda_wiatr',\n",
    " 'rodzaj_zdarzenia_kat',\n",
    " 'rodzaj_zdarzenia',\n",
    " 'wina',\n",
    " 'rodzaj_drogi_kat',\n",
    " 'rodzaj_drogi',\n",
    " 'nawierzchnia_twarda',\n",
    " 'stan_nawierzchni',\n",
    " 'nawierzchnia_sucha',\n",
    " 'nawierzchnia_mokra',\n",
    " 'nawierzchnia_oblodzona',\n",
    " 'nawierzchnia_zasniezona',\n",
    " 'nawierzchnia_koleiny',\n",
    " 'nawierzchnia_garby',\n",
    " 'nawierzchnia_zanieczyszczona',\n",
    " 'nawierzchnia_dziury',\n",
    " 'nawierzchnia_wyboje',\n",
    " 'nawierzchnia_kaluze',\n",
    " 'nawierzchnia_rozlewiska',\n",
    " 'sygnalizacja_swietlna',\n",
    " 'oznakowanie_poziome',\n",
    " 'zachowanie_kierujacego',\n",
    " 'zachowanie_kierujacego_niepr_cofanie',\n",
    " 'zachowanie_kierujacego_niepr_omijanie',\n",
    " 'zachowanie_kierujacego_niedost_predkosci',\n",
    " 'zachowanie_kierujacego_nieudzielenie_pierw',\n",
    " 'zachowanie_kierujacego_niepr_skrecanie',\n",
    " 'zachowanie_kierujacego_niezachowanie_odl',\n",
    " 'zachowanie_kierujacego_niepr_zmiana_pasa',\n",
    " 'zachowanie_kierujacego_zmeczenie',\n",
    " 'zachowanie_kierujacego_niepr_wymijanie',\n",
    " 'zachowanie_kierujacego_nieprzestrz_znakow',\n",
    " 'zachowanie_kierujacego_niestos_do_sygn',\n",
    " 'zachowanie_kierujacego_nieust_przejazdu',\n",
    " 'zachowanie_kierujacego_nieust_pieszemu',\n",
    " 'zachowanie_kierujacego_gwalt_hamowanie',\n",
    " 'zachowanie_kierujacego_niepr_wyprzedzanie',\n",
    " 'zachowanie_kierujacego_niepr_zatrzymanie',\n",
    " 'zachowanie_kierujacego_niepr_zawracanie',\n",
    " 'zachowanie_kierujacego_niepr_przejazd_rowerowy',\n",
    " 'zachowanie_kierujacego_jazda_bez_swiatel',\n",
    " 'zachowanie_kierujacego_inne_przyczyny',\n",
    " 'zachowanie_pieszego',\n",
    " 'ranni',\n",
    " 'zabici',\n",
    " 'kolizja',\n",
    " 'wypadek']"
   ]
  },
  {
   "cell_type": "code",
   "execution_count": 322,
   "metadata": {},
   "outputs": [],
   "source": [
    "df_new = df.filter(potrzebne, axis=1).copy()"
   ]
  },
  {
   "cell_type": "code",
   "execution_count": 323,
   "metadata": {},
   "outputs": [
    {
     "data": {
      "text/plain": [
       "(229929, 72)"
      ]
     },
     "execution_count": 323,
     "metadata": {},
     "output_type": "execute_result"
    }
   ],
   "source": [
    "df_new.shape"
   ]
  },
  {
   "cell_type": "code",
   "execution_count": 324,
   "metadata": {},
   "outputs": [],
   "source": [
    "#Zapiszmy nasz nowy dataset ;)\n",
    "df_new.to_csv('../data/df_modified.csv')"
   ]
  }
 ],
 "metadata": {
  "kernelspec": {
   "display_name": "Python 3",
   "language": "python",
   "name": "python3"
  },
  "language_info": {
   "codemirror_mode": {
    "name": "ipython",
    "version": 3
   },
   "file_extension": ".py",
   "mimetype": "text/x-python",
   "name": "python",
   "nbconvert_exporter": "python",
   "pygments_lexer": "ipython3",
   "version": "3.7.4"
  }
 },
 "nbformat": 4,
 "nbformat_minor": 2
}
