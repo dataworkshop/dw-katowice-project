{
 "cells": [
  {
   "cell_type": "code",
   "execution_count": 176,
   "metadata": {},
   "outputs": [],
   "source": [
    "import pandas as pd\n",
    "import numpy as np"
   ]
  },
  {
   "cell_type": "markdown",
   "metadata": {},
   "source": [
    "### Zaimportuj i przejrzyj dane"
   ]
  },
  {
   "cell_type": "code",
   "execution_count": 177,
   "metadata": {},
   "outputs": [],
   "source": [
    "#Zaimportuj dane\n",
    "dane = pd.read_csv('../data/DataWorkshop.csv')"
   ]
  },
  {
   "cell_type": "code",
   "execution_count": 178,
   "metadata": {},
   "outputs": [
    {
     "name": "stdout",
     "output_type": "stream",
     "text": [
      "Rozmiar zbioru:  (229929, 30)\n",
      "\n",
      "Kolumny w zbiorze:  Index(['Data zdarzenia', 'Godzina', 'GPS x', 'GPS y', 'Miejscowość', 'Ulica',\n",
      "       'Numer domu', 'Numer drogi', 'KM HM (Pikietaż)', 'Obszar',\n",
      "       'Skrzyżowanie', 'Geometria drogi', 'Charakterystyka miejsca zdarzenia',\n",
      "       'Oświetlenie', 'Warunki atmosferyczne', 'Rodzaj zdarzenia', 'Wina',\n",
      "       'Rodzaj drogi', 'Nawierzchnia drogi', 'Stan nawierzchni',\n",
      "       'Sygnalizacja świetlna', 'Oznakowanie poziome',\n",
      "       'Liczba pasów w zdarzeniu', 'Zachowanie kierującego',\n",
      "       'Zachowanie pieszego', 'Inne przyczyny', 'Liczba rannych w zdarzeniu',\n",
      "       'Liczba zabitych w zdarzeniu', 'Liczba kolizji', 'Liczba wypadków'],\n",
      "      dtype='object')\n"
     ]
    }
   ],
   "source": [
    "print('Rozmiar zbioru: ', dane.shape)\n",
    "print('\\nKolumny w zbiorze: ', dane.columns)"
   ]
  },
  {
   "cell_type": "code",
   "execution_count": 179,
   "metadata": {},
   "outputs": [
    {
     "name": "stdout",
     "output_type": "stream",
     "text": [
      "Typy danych: \n"
     ]
    },
    {
     "data": {
      "text/plain": [
       "Data zdarzenia                        object\n",
       "Godzina                               object\n",
       "GPS x                                 object\n",
       "GPS y                                 object\n",
       "Miejscowość                           object\n",
       "Ulica                                 object\n",
       "Numer domu                            object\n",
       "Numer drogi                           object\n",
       "KM HM (Pikietaż)                      object\n",
       "Obszar                                object\n",
       "Skrzyżowanie                          object\n",
       "Geometria drogi                       object\n",
       "Charakterystyka miejsca zdarzenia     object\n",
       "Oświetlenie                           object\n",
       "Warunki atmosferyczne                 object\n",
       "Rodzaj zdarzenia                      object\n",
       "Wina                                  object\n",
       "Rodzaj drogi                          object\n",
       "Nawierzchnia drogi                    object\n",
       "Stan nawierzchni                      object\n",
       "Sygnalizacja świetlna                 object\n",
       "Oznakowanie poziome                   object\n",
       "Liczba pasów w zdarzeniu             float64\n",
       "Zachowanie kierującego                object\n",
       "Zachowanie pieszego                   object\n",
       "Inne przyczyny                        object\n",
       "Liczba rannych w zdarzeniu             int64\n",
       "Liczba zabitych w zdarzeniu            int64\n",
       "Liczba kolizji                         int64\n",
       "Liczba wypadków                        int64\n",
       "dtype: object"
      ]
     },
     "execution_count": 179,
     "metadata": {},
     "output_type": "execute_result"
    }
   ],
   "source": [
    "print('Typy danych: ')\n",
    "dane.dtypes"
   ]
  },
  {
   "cell_type": "code",
   "execution_count": 180,
   "metadata": {},
   "outputs": [
    {
     "name": "stdout",
     "output_type": "stream",
     "text": [
      "próbka danych\n"
     ]
    },
    {
     "data": {
      "text/html": [
       "<div>\n",
       "<style scoped>\n",
       "    .dataframe tbody tr th:only-of-type {\n",
       "        vertical-align: middle;\n",
       "    }\n",
       "\n",
       "    .dataframe tbody tr th {\n",
       "        vertical-align: top;\n",
       "    }\n",
       "\n",
       "    .dataframe thead th {\n",
       "        text-align: right;\n",
       "    }\n",
       "</style>\n",
       "<table border=\"1\" class=\"dataframe\">\n",
       "  <thead>\n",
       "    <tr style=\"text-align: right;\">\n",
       "      <th></th>\n",
       "      <th>Data zdarzenia</th>\n",
       "      <th>Godzina</th>\n",
       "      <th>GPS x</th>\n",
       "      <th>GPS y</th>\n",
       "      <th>Miejscowość</th>\n",
       "      <th>Ulica</th>\n",
       "      <th>Numer domu</th>\n",
       "      <th>Numer drogi</th>\n",
       "      <th>KM HM (Pikietaż)</th>\n",
       "      <th>Obszar</th>\n",
       "      <th>...</th>\n",
       "      <th>Sygnalizacja świetlna</th>\n",
       "      <th>Oznakowanie poziome</th>\n",
       "      <th>Liczba pasów w zdarzeniu</th>\n",
       "      <th>Zachowanie kierującego</th>\n",
       "      <th>Zachowanie pieszego</th>\n",
       "      <th>Inne przyczyny</th>\n",
       "      <th>Liczba rannych w zdarzeniu</th>\n",
       "      <th>Liczba zabitych w zdarzeniu</th>\n",
       "      <th>Liczba kolizji</th>\n",
       "      <th>Liczba wypadków</th>\n",
       "    </tr>\n",
       "  </thead>\n",
       "  <tbody>\n",
       "    <tr>\n",
       "      <td>66113</td>\n",
       "      <td>2016-07-12</td>\n",
       "      <td>17:45:00</td>\n",
       "      <td>19*09'245</td>\n",
       "      <td>50*46'364</td>\n",
       "      <td>CZĘSTOCHOWA</td>\n",
       "      <td>GACZKOWSKIEGO</td>\n",
       "      <td>34/38</td>\n",
       "      <td>G110186S</td>\n",
       "      <td>NaN</td>\n",
       "      <td>Obszar zabudowany</td>\n",
       "      <td>...</td>\n",
       "      <td>Brak</td>\n",
       "      <td>Jest</td>\n",
       "      <td>NaN</td>\n",
       "      <td>Nieprawidłowe cofanie</td>\n",
       "      <td>NaN</td>\n",
       "      <td>NaN</td>\n",
       "      <td>0</td>\n",
       "      <td>0</td>\n",
       "      <td>1</td>\n",
       "      <td>0</td>\n",
       "    </tr>\n",
       "    <tr>\n",
       "      <td>35206</td>\n",
       "      <td>2016-05-12</td>\n",
       "      <td>09:46:00</td>\n",
       "      <td>18*57'370</td>\n",
       "      <td>50*11'211</td>\n",
       "      <td>KATOWICE</td>\n",
       "      <td>SŁONECZNIKOWA</td>\n",
       "      <td>NaN</td>\n",
       "      <td>P6517S</td>\n",
       "      <td>NaN</td>\n",
       "      <td>Obszar zabudowany</td>\n",
       "      <td>...</td>\n",
       "      <td>Jest, działa</td>\n",
       "      <td>Jest</td>\n",
       "      <td>NaN</td>\n",
       "      <td>Niestosowanie się do sygnalizacji świetlnej</td>\n",
       "      <td>NaN</td>\n",
       "      <td>NaN</td>\n",
       "      <td>0</td>\n",
       "      <td>0</td>\n",
       "      <td>1</td>\n",
       "      <td>0</td>\n",
       "    </tr>\n",
       "    <tr>\n",
       "      <td>16004</td>\n",
       "      <td>2016-04-28</td>\n",
       "      <td>14:00:00</td>\n",
       "      <td>18*58'498</td>\n",
       "      <td>50*20'445</td>\n",
       "      <td>PIEKARY ŚLĄSKIE</td>\n",
       "      <td>WALENTEGO ROŹDZIEŃSKIEGO</td>\n",
       "      <td>79</td>\n",
       "      <td>P9212S</td>\n",
       "      <td>NaN</td>\n",
       "      <td>Obszar zabudowany</td>\n",
       "      <td>...</td>\n",
       "      <td>Brak</td>\n",
       "      <td>Jest</td>\n",
       "      <td>NaN</td>\n",
       "      <td>Nieudzielenie pierwszeństwa przejazdu</td>\n",
       "      <td>NaN</td>\n",
       "      <td>NaN</td>\n",
       "      <td>0</td>\n",
       "      <td>0</td>\n",
       "      <td>1</td>\n",
       "      <td>0</td>\n",
       "    </tr>\n",
       "  </tbody>\n",
       "</table>\n",
       "<p>3 rows × 30 columns</p>\n",
       "</div>"
      ],
      "text/plain": [
       "      Data zdarzenia   Godzina      GPS x      GPS y      Miejscowość  \\\n",
       "66113     2016-07-12  17:45:00  19*09'245  50*46'364      CZĘSTOCHOWA   \n",
       "35206     2016-05-12  09:46:00  18*57'370  50*11'211         KATOWICE   \n",
       "16004     2016-04-28  14:00:00  18*58'498  50*20'445  PIEKARY ŚLĄSKIE   \n",
       "\n",
       "                          Ulica Numer domu Numer drogi KM HM (Pikietaż)  \\\n",
       "66113             GACZKOWSKIEGO      34/38    G110186S              NaN   \n",
       "35206             SŁONECZNIKOWA        NaN      P6517S              NaN   \n",
       "16004  WALENTEGO ROŹDZIEŃSKIEGO         79      P9212S              NaN   \n",
       "\n",
       "                  Obszar  ... Sygnalizacja świetlna Oznakowanie poziome  \\\n",
       "66113  Obszar zabudowany  ...                  Brak                Jest   \n",
       "35206  Obszar zabudowany  ...          Jest, działa                Jest   \n",
       "16004  Obszar zabudowany  ...                  Brak                Jest   \n",
       "\n",
       "      Liczba pasów w zdarzeniu                       Zachowanie kierującego  \\\n",
       "66113                      NaN                        Nieprawidłowe cofanie   \n",
       "35206                      NaN  Niestosowanie się do sygnalizacji świetlnej   \n",
       "16004                      NaN        Nieudzielenie pierwszeństwa przejazdu   \n",
       "\n",
       "      Zachowanie pieszego Inne przyczyny Liczba rannych w zdarzeniu  \\\n",
       "66113                 NaN            NaN                          0   \n",
       "35206                 NaN            NaN                          0   \n",
       "16004                 NaN            NaN                          0   \n",
       "\n",
       "      Liczba zabitych w zdarzeniu Liczba kolizji Liczba wypadków  \n",
       "66113                           0              1               0  \n",
       "35206                           0              1               0  \n",
       "16004                           0              1               0  \n",
       "\n",
       "[3 rows x 30 columns]"
      ]
     },
     "execution_count": 180,
     "metadata": {},
     "output_type": "execute_result"
    }
   ],
   "source": [
    "print('próbka danych')\n",
    "dane.sample(3)"
   ]
  },
  {
   "cell_type": "markdown",
   "metadata": {},
   "source": [
    "### Wyczyść dane"
   ]
  },
  {
   "cell_type": "markdown",
   "metadata": {},
   "source": [
    "#### Konwersja typu danych."
   ]
  },
  {
   "cell_type": "code",
   "execution_count": 181,
   "metadata": {},
   "outputs": [],
   "source": [
    "#Skopiuj dane, aby uniknąć nadpisania\n",
    "df = dane.copy()"
   ]
  },
  {
   "cell_type": "markdown",
   "metadata": {},
   "source": [
    "#### Kolumny zawierające datę i czas"
   ]
  },
  {
   "cell_type": "code",
   "execution_count": 182,
   "metadata": {},
   "outputs": [
    {
     "name": "stdout",
     "output_type": "stream",
     "text": [
      "kolumna DATA ZDARZENIA:  object\n",
      "kolumna GODZINA:  object\n",
      "Potrzebna konwersja do typu DATETIME\n"
     ]
    }
   ],
   "source": [
    "print('kolumna DATA ZDARZENIA: ', df['Data zdarzenia'].dtypes)\n",
    "print('kolumna GODZINA: ', df['Data zdarzenia'].dtypes)\n",
    "print('Potrzebna konwersja do typu DATETIME')"
   ]
  },
  {
   "cell_type": "code",
   "execution_count": 183,
   "metadata": {},
   "outputs": [
    {
     "data": {
      "text/plain": [
       "32910    2016-08-29 16:25:00\n",
       "Name: data_full, dtype: object"
      ]
     },
     "execution_count": 183,
     "metadata": {},
     "output_type": "execute_result"
    }
   ],
   "source": [
    "# Sklejmy kolumny DATA ZDARZENIA i GODZINA, by uzyskać pełną datę zdarzenia\n",
    "df['data_full'] = df['Data zdarzenia'] + ' ' + df['Godzina']\n",
    "df['data_full'].sample(1)"
   ]
  },
  {
   "cell_type": "code",
   "execution_count": 184,
   "metadata": {},
   "outputs": [
    {
     "name": "stdout",
     "output_type": "stream",
     "text": [
      "Przykładowa komórka:  80899   2017-07-07 16:15:00\n",
      "Name: data_full, dtype: datetime64[ns]\n"
     ]
    }
   ],
   "source": [
    "# Przekonwertujmy do formatu datetime\n",
    "df['data_full'] =  pd.to_datetime( df['data_full'], format='%Y-%m-%d %H:%M:%S.%f')\n",
    "print('Przykładowa komórka: ', df['data_full'].sample(1))"
   ]
  },
  {
   "cell_type": "code",
   "execution_count": 185,
   "metadata": {},
   "outputs": [],
   "source": [
    "# Stwórzmy dodatkowe kolumny zawierające małe porcje danych takich jak informacja o miesiącu, dniu tygodnia, godzinie etc\n",
    "# by przeszukiwanie danych było prostsze\n",
    "df['miesiac'] = pd.DatetimeIndex(df['data_full']).month\n",
    "df['godzina'] = pd.DatetimeIndex(df['data_full']).hour\n",
    "df['minuta'] = pd.DatetimeIndex(df['data_full']).minute\n",
    "df['pelna_data'] = pd.DatetimeIndex(df['data_full']).date # żeby rozróżnić dzień miesiąca, ex. 2019-05-18\n",
    "\n",
    "#Który to był dzień tygodnia? poniedziałek = 0, niedziela = 6\n",
    "df['dzien_tygodnia'] = pd.DatetimeIndex(df['data_full']).dayofweek\n",
    "\n",
    "#Czy to był weekend?\n",
    "df['czy_weekend'] = df['dzien_tygodnia'].apply(lambda x: 1 if (x == 6 or x == 5 ) else 0 )\n",
    "\n",
    "#czy to była niedziela handlowa?"
   ]
  },
  {
   "cell_type": "code",
   "execution_count": 186,
   "metadata": {},
   "outputs": [
    {
     "data": {
      "text/html": [
       "<div>\n",
       "<style scoped>\n",
       "    .dataframe tbody tr th:only-of-type {\n",
       "        vertical-align: middle;\n",
       "    }\n",
       "\n",
       "    .dataframe tbody tr th {\n",
       "        vertical-align: top;\n",
       "    }\n",
       "\n",
       "    .dataframe thead th {\n",
       "        text-align: right;\n",
       "    }\n",
       "</style>\n",
       "<table border=\"1\" class=\"dataframe\">\n",
       "  <thead>\n",
       "    <tr style=\"text-align: right;\">\n",
       "      <th></th>\n",
       "      <th>Data zdarzenia</th>\n",
       "      <th>Godzina</th>\n",
       "      <th>GPS x</th>\n",
       "      <th>GPS y</th>\n",
       "      <th>Miejscowość</th>\n",
       "      <th>Ulica</th>\n",
       "      <th>Numer domu</th>\n",
       "      <th>Numer drogi</th>\n",
       "      <th>KM HM (Pikietaż)</th>\n",
       "      <th>Obszar</th>\n",
       "      <th>...</th>\n",
       "      <th>Liczba zabitych w zdarzeniu</th>\n",
       "      <th>Liczba kolizji</th>\n",
       "      <th>Liczba wypadków</th>\n",
       "      <th>data_full</th>\n",
       "      <th>miesiac</th>\n",
       "      <th>godzina</th>\n",
       "      <th>minuta</th>\n",
       "      <th>pelna_data</th>\n",
       "      <th>dzien_tygodnia</th>\n",
       "      <th>czy_weekend</th>\n",
       "    </tr>\n",
       "  </thead>\n",
       "  <tbody>\n",
       "    <tr>\n",
       "      <td>147941</td>\n",
       "      <td>2018-09-04</td>\n",
       "      <td>07:00:00</td>\n",
       "      <td>19*08'021</td>\n",
       "      <td>50*17'430</td>\n",
       "      <td>SOSNOWIEC</td>\n",
       "      <td>BĘDZIŃSKA</td>\n",
       "      <td>NaN</td>\n",
       "      <td>P7620S</td>\n",
       "      <td>NaN</td>\n",
       "      <td>Obszar zabudowany</td>\n",
       "      <td>...</td>\n",
       "      <td>0</td>\n",
       "      <td>1</td>\n",
       "      <td>0</td>\n",
       "      <td>2018-09-04 07:00:00</td>\n",
       "      <td>9</td>\n",
       "      <td>7</td>\n",
       "      <td>0</td>\n",
       "      <td>2018-09-04</td>\n",
       "      <td>1</td>\n",
       "      <td>0</td>\n",
       "    </tr>\n",
       "    <tr>\n",
       "      <td>45741</td>\n",
       "      <td>2016-11-18</td>\n",
       "      <td>15:00:00</td>\n",
       "      <td>19*02'424</td>\n",
       "      <td>49*49'202</td>\n",
       "      <td>BIELSKO-BIAŁA</td>\n",
       "      <td>WZGÓRZE</td>\n",
       "      <td>NaN</td>\n",
       "      <td>P7474S</td>\n",
       "      <td>NaN</td>\n",
       "      <td>Obszar zabudowany</td>\n",
       "      <td>...</td>\n",
       "      <td>0</td>\n",
       "      <td>1</td>\n",
       "      <td>0</td>\n",
       "      <td>2016-11-18 15:00:00</td>\n",
       "      <td>11</td>\n",
       "      <td>15</td>\n",
       "      <td>0</td>\n",
       "      <td>2016-11-18</td>\n",
       "      <td>4</td>\n",
       "      <td>0</td>\n",
       "    </tr>\n",
       "    <tr>\n",
       "      <td>140211</td>\n",
       "      <td>2018-07-13</td>\n",
       "      <td>20:57:00</td>\n",
       "      <td>19*15'269</td>\n",
       "      <td>50*12'446</td>\n",
       "      <td>JAWORZNO</td>\n",
       "      <td>GRUNWALDZKA</td>\n",
       "      <td>130</td>\n",
       "      <td>79</td>\n",
       "      <td>NaN</td>\n",
       "      <td>Obszar zabudowany</td>\n",
       "      <td>...</td>\n",
       "      <td>0</td>\n",
       "      <td>1</td>\n",
       "      <td>0</td>\n",
       "      <td>2018-07-13 20:57:00</td>\n",
       "      <td>7</td>\n",
       "      <td>20</td>\n",
       "      <td>57</td>\n",
       "      <td>2018-07-13</td>\n",
       "      <td>4</td>\n",
       "      <td>0</td>\n",
       "    </tr>\n",
       "  </tbody>\n",
       "</table>\n",
       "<p>3 rows × 37 columns</p>\n",
       "</div>"
      ],
      "text/plain": [
       "       Data zdarzenia   Godzina      GPS x      GPS y    Miejscowość  \\\n",
       "147941     2018-09-04  07:00:00  19*08'021  50*17'430      SOSNOWIEC   \n",
       "45741      2016-11-18  15:00:00  19*02'424  49*49'202  BIELSKO-BIAŁA   \n",
       "140211     2018-07-13  20:57:00  19*15'269  50*12'446       JAWORZNO   \n",
       "\n",
       "              Ulica Numer domu Numer drogi KM HM (Pikietaż)  \\\n",
       "147941    BĘDZIŃSKA        NaN      P7620S              NaN   \n",
       "45741       WZGÓRZE        NaN      P7474S              NaN   \n",
       "140211  GRUNWALDZKA        130          79              NaN   \n",
       "\n",
       "                   Obszar  ... Liczba zabitych w zdarzeniu Liczba kolizji  \\\n",
       "147941  Obszar zabudowany  ...                           0              1   \n",
       "45741   Obszar zabudowany  ...                           0              1   \n",
       "140211  Obszar zabudowany  ...                           0              1   \n",
       "\n",
       "       Liczba wypadków           data_full miesiac godzina minuta  pelna_data  \\\n",
       "147941               0 2018-09-04 07:00:00       9       7      0  2018-09-04   \n",
       "45741                0 2016-11-18 15:00:00      11      15      0  2016-11-18   \n",
       "140211               0 2018-07-13 20:57:00       7      20     57  2018-07-13   \n",
       "\n",
       "       dzien_tygodnia czy_weekend  \n",
       "147941              1           0  \n",
       "45741               4           0  \n",
       "140211              4           0  \n",
       "\n",
       "[3 rows x 37 columns]"
      ]
     },
     "execution_count": 186,
     "metadata": {},
     "output_type": "execute_result"
    }
   ],
   "source": [
    "df.sample(3)"
   ]
  },
  {
   "cell_type": "markdown",
   "metadata": {},
   "source": [
    "#### Współrzęne geograficzne"
   ]
  },
  {
   "cell_type": "code",
   "execution_count": 187,
   "metadata": {},
   "outputs": [
    {
     "name": "stdout",
     "output_type": "stream",
     "text": [
      "kolumna GPS X:  object\n",
      "kolumna GPS Y:  object\n",
      "1. To powinien być format FLOAT\n",
      "2. Współrzędne nie są poprawne, trzeba ściągnąć nowe i porównać.\n"
     ]
    }
   ],
   "source": [
    "print('kolumna GPS X: ', df['GPS x'].dtypes)\n",
    "print('kolumna GPS Y: ', df['GPS y'].dtypes)\n",
    "print('1. To powinien być format FLOAT')\n",
    "print('2. Współrzędne nie są poprawne, trzeba ściągnąć nowe i porównać.')"
   ]
  },
  {
   "cell_type": "code",
   "execution_count": 188,
   "metadata": {},
   "outputs": [],
   "source": [
    "# kod Krzysztofa\n",
    "import re\n",
    "# https://stackoverflow.com/questions/33997361\n",
    "def dms2dd(coord):\n",
    "    \"\"\" GPS HH.MM.SS.S to DD (Decimal Degrees) conversion \"\"\"\n",
    "    c = re.findall(r\"\\w+\", coord)\n",
    "    degrees = float(c[0])\n",
    "    minutes = float(c[1])\n",
    "    if len(c) > 2:\n",
    "        seconds = float(c[2])/10   \n",
    "    else:\n",
    "        seconds = 0\n",
    "    dd = (float(degrees) + (minutes)/60 + float(seconds)/(60*60))\n",
    "    return dd\n"
   ]
  },
  {
   "cell_type": "code",
   "execution_count": 189,
   "metadata": {},
   "outputs": [],
   "source": [
    "df['GPS_x'] = df['GPS x'].apply(lambda x : dms2dd(x))\n",
    "df['GPS_y'] = df['GPS y'].apply(lambda x : dms2dd(x)) "
   ]
  },
  {
   "cell_type": "code",
   "execution_count": 190,
   "metadata": {},
   "outputs": [
    {
     "data": {
      "text/html": [
       "<div>\n",
       "<style scoped>\n",
       "    .dataframe tbody tr th:only-of-type {\n",
       "        vertical-align: middle;\n",
       "    }\n",
       "\n",
       "    .dataframe tbody tr th {\n",
       "        vertical-align: top;\n",
       "    }\n",
       "\n",
       "    .dataframe thead th {\n",
       "        text-align: right;\n",
       "    }\n",
       "</style>\n",
       "<table border=\"1\" class=\"dataframe\">\n",
       "  <thead>\n",
       "    <tr style=\"text-align: right;\">\n",
       "      <th></th>\n",
       "      <th>Data zdarzenia</th>\n",
       "      <th>Godzina</th>\n",
       "      <th>GPS x</th>\n",
       "      <th>GPS y</th>\n",
       "      <th>Miejscowość</th>\n",
       "      <th>Ulica</th>\n",
       "      <th>Numer domu</th>\n",
       "      <th>Numer drogi</th>\n",
       "      <th>KM HM (Pikietaż)</th>\n",
       "      <th>Obszar</th>\n",
       "      <th>...</th>\n",
       "      <th>Liczba wypadków</th>\n",
       "      <th>data_full</th>\n",
       "      <th>miesiac</th>\n",
       "      <th>godzina</th>\n",
       "      <th>minuta</th>\n",
       "      <th>pelna_data</th>\n",
       "      <th>dzien_tygodnia</th>\n",
       "      <th>czy_weekend</th>\n",
       "      <th>GPS_x</th>\n",
       "      <th>GPS_y</th>\n",
       "    </tr>\n",
       "  </thead>\n",
       "  <tbody>\n",
       "    <tr>\n",
       "      <td>79970</td>\n",
       "      <td>2017-06-30</td>\n",
       "      <td>15:35:00</td>\n",
       "      <td>18*57'187</td>\n",
       "      <td>50*23'155</td>\n",
       "      <td>PIEKARY ŚLĄSKIE</td>\n",
       "      <td>GEN.JERZEGO ZIĘTKA</td>\n",
       "      <td>NaN</td>\n",
       "      <td>G280082S</td>\n",
       "      <td>NaN</td>\n",
       "      <td>Obszar zabudowany</td>\n",
       "      <td>...</td>\n",
       "      <td>0</td>\n",
       "      <td>2017-06-30 15:35:00</td>\n",
       "      <td>6</td>\n",
       "      <td>15</td>\n",
       "      <td>35</td>\n",
       "      <td>2017-06-30</td>\n",
       "      <td>4</td>\n",
       "      <td>0</td>\n",
       "      <td>18.955194</td>\n",
       "      <td>50.387639</td>\n",
       "    </tr>\n",
       "    <tr>\n",
       "      <td>117094</td>\n",
       "      <td>2018-02-12</td>\n",
       "      <td>11:52:00</td>\n",
       "      <td>19*01'338</td>\n",
       "      <td>50*15'270</td>\n",
       "      <td>KATOWICE</td>\n",
       "      <td>MARIACKA</td>\n",
       "      <td>NaN</td>\n",
       "      <td>P6471S</td>\n",
       "      <td>NaN</td>\n",
       "      <td>Obszar zabudowany</td>\n",
       "      <td>...</td>\n",
       "      <td>1</td>\n",
       "      <td>2018-02-12 11:52:00</td>\n",
       "      <td>2</td>\n",
       "      <td>11</td>\n",
       "      <td>52</td>\n",
       "      <td>2018-02-12</td>\n",
       "      <td>0</td>\n",
       "      <td>0</td>\n",
       "      <td>19.026056</td>\n",
       "      <td>50.257500</td>\n",
       "    </tr>\n",
       "    <tr>\n",
       "      <td>107810</td>\n",
       "      <td>2017-11-23</td>\n",
       "      <td>21:00:00</td>\n",
       "      <td>19*02'266</td>\n",
       "      <td>49*50'006</td>\n",
       "      <td>BIELSKO-BIAŁA</td>\n",
       "      <td>BOHATERÓW MONTE CASSINO</td>\n",
       "      <td>421</td>\n",
       "      <td>I2</td>\n",
       "      <td>NaN</td>\n",
       "      <td>Obszar niezabudowany</td>\n",
       "      <td>...</td>\n",
       "      <td>0</td>\n",
       "      <td>2017-11-23 21:00:00</td>\n",
       "      <td>11</td>\n",
       "      <td>21</td>\n",
       "      <td>0</td>\n",
       "      <td>2017-11-23</td>\n",
       "      <td>3</td>\n",
       "      <td>0</td>\n",
       "      <td>19.040722</td>\n",
       "      <td>49.833500</td>\n",
       "    </tr>\n",
       "  </tbody>\n",
       "</table>\n",
       "<p>3 rows × 39 columns</p>\n",
       "</div>"
      ],
      "text/plain": [
       "       Data zdarzenia   Godzina      GPS x      GPS y      Miejscowość  \\\n",
       "79970      2017-06-30  15:35:00  18*57'187  50*23'155  PIEKARY ŚLĄSKIE   \n",
       "117094     2018-02-12  11:52:00  19*01'338  50*15'270         KATOWICE   \n",
       "107810     2017-11-23  21:00:00  19*02'266  49*50'006    BIELSKO-BIAŁA   \n",
       "\n",
       "                          Ulica Numer domu Numer drogi KM HM (Pikietaż)  \\\n",
       "79970        GEN.JERZEGO ZIĘTKA        NaN    G280082S              NaN   \n",
       "117094                 MARIACKA        NaN      P6471S              NaN   \n",
       "107810  BOHATERÓW MONTE CASSINO        421          I2              NaN   \n",
       "\n",
       "                      Obszar  ... Liczba wypadków           data_full miesiac  \\\n",
       "79970      Obszar zabudowany  ...               0 2017-06-30 15:35:00       6   \n",
       "117094     Obszar zabudowany  ...               1 2018-02-12 11:52:00       2   \n",
       "107810  Obszar niezabudowany  ...               0 2017-11-23 21:00:00      11   \n",
       "\n",
       "       godzina minuta  pelna_data dzien_tygodnia czy_weekend      GPS_x  \\\n",
       "79970       15     35  2017-06-30              4           0  18.955194   \n",
       "117094      11     52  2018-02-12              0           0  19.026056   \n",
       "107810      21      0  2017-11-23              3           0  19.040722   \n",
       "\n",
       "            GPS_y  \n",
       "79970   50.387639  \n",
       "117094  50.257500  \n",
       "107810  49.833500  \n",
       "\n",
       "[3 rows x 39 columns]"
      ]
     },
     "execution_count": 190,
     "metadata": {},
     "output_type": "execute_result"
    }
   ],
   "source": [
    "df.sample(3)"
   ]
  },
  {
   "cell_type": "markdown",
   "metadata": {},
   "source": [
    "#### Kolumny zawierające informacje o miejscu zdarzenia"
   ]
  },
  {
   "cell_type": "code",
   "execution_count": 191,
   "metadata": {},
   "outputs": [],
   "source": [
    "# zbudujmy funkcje, które pozwolą nam modyfikować stringi w kolumnach i komórkach\n",
    "# niektóre stringi i znaki interpunkcyjne będą przeszkadzać w analizie i edycji, dlatego pozbądźmy się ich\n",
    "\n",
    "def simplify(a):        \n",
    "    a = a.replace('\\'','')                   # usuń znaki '\n",
    "    a = a.replace('\\n','')                   # usuń znaki nowej linii\n",
    "    a = a.replace(';','')                    # usuń średniki\n",
    "    a = a.replace(',','')                    # usuń przecinki\n",
    "    a = a.replace('.',' ')                   # zamień kropki na spacje (ze względu na dziwny zapis w adresach)\n",
    "    a = a.replace('  ',' ')                  # usuń podwójne spacje\n",
    "    a = a.replace('(od 11 2015)','')         # usuń ciąg \"(od 11.2015)\"\n",
    "    a = a.lower()                            # zamień wielkie litery na małe\n",
    "    a=' '.join(unique_list(a.split()))       # usuń zduplikowane słowa\n",
    "    return(a)\n",
    "\n",
    "def unique_list(l):\n",
    "    ulist = []\n",
    "    [ulist.append(x) for x in l if x not in ulist]\n",
    "    return ulist    \n",
    "    \n",
    "def simplify_column(serie):\n",
    "    a = serie.unique()                       # wrzuć wartości do tablicy numpy\n",
    "    a = np.array2string(a)                   # przekształć tablicę na string\n",
    "    return(simplify(a))\n",
    "\n",
    "def simplify_cell(string):\n",
    "    return(simplify(str(string)))\n"
   ]
  },
  {
   "cell_type": "code",
   "execution_count": 192,
   "metadata": {},
   "outputs": [
    {
     "name": "stdout",
     "output_type": "stream",
     "text": [
      "kolumna Miejscowość :  object\n",
      "kolumna Ulica :  object\n",
      "kolumna Numer domu :  object\n",
      "kolumna Numer drogi:  object\n",
      "Wszystko jest poprawnie.\n"
     ]
    }
   ],
   "source": [
    "print('kolumna Miejscowość : ', df['Miejscowość'].dtypes)\n",
    "print('kolumna Ulica : ', df['Ulica'].dtypes)\n",
    "print('kolumna Numer domu : ', df['Numer domu'].dtypes)\n",
    "print('kolumna Numer drogi: ', df['Numer drogi'].dtypes)\n",
    "print('Wszystko jest poprawnie.')"
   ]
  },
  {
   "cell_type": "code",
   "execution_count": 193,
   "metadata": {},
   "outputs": [],
   "source": [
    "#zmieńmy nazwę kolumny na lepszą do edycji (bez spacji i wielkich liter)\n",
    "df.rename(columns={'Miejscowość' : 'miasto'}, inplace=True)\n",
    "df.rename(columns={'Numer domu' : 'numer_domu'}, inplace=True)\n",
    "df.rename(columns={'Numer drogi' : 'numer_drogi'}, inplace=True)"
   ]
  },
  {
   "cell_type": "code",
   "execution_count": 194,
   "metadata": {},
   "outputs": [
    {
     "data": {
      "text/plain": [
       "0               toszecka\n",
       "1           sienkiewicza\n",
       "2      ks ignacego siwca\n",
       "3    józefa piłsudskiego\n",
       "4               dworcowa\n",
       "Name: ulica, dtype: object"
      ]
     },
     "execution_count": 194,
     "metadata": {},
     "output_type": "execute_result"
    }
   ],
   "source": [
    "#usuńmy z nazw ulic znaki interpunkcyjne\n",
    "df['ulica'] = df['Ulica'].apply(lambda x: simplify_cell(x))\n",
    "df['ulica'].head(5)"
   ]
  },
  {
   "cell_type": "code",
   "execution_count": 195,
   "metadata": {},
   "outputs": [
    {
     "name": "stdout",
     "output_type": "stream",
     "text": [
      "kolumna KM HM (Pikietaż):  object\n",
      "Przykładowe wartości z tej kolumny:  134392    494,7\n",
      "30128     574,9\n",
      "53132     522,5\n",
      "Name: KM HM (Pikietaż), dtype: object\n",
      "To powinien być format FLOAT.\n"
     ]
    }
   ],
   "source": [
    "print('kolumna KM HM (Pikietaż): ', df['KM HM (Pikietaż)'].dtypes)\n",
    "#Pikietaż (kilometraż, kilometracja) – określenie miejsca na drodze lub linii kolejowej poprzez\n",
    "#podanie odległości od jej początku. Odległość tę na ogół podaje się z dokładnością do 1 metra w formacie\n",
    "#xx+yyy lub xx,yyy (km), gdzie:\n",
    "#xx – całkowita liczba kilometrów od początku drogi lub linii kolejowej;\n",
    "#yyy – całkowita liczba metrów liczona od ostatniego pełnego kilometra.\n",
    "print('Przykładowe wartości z tej kolumny: ', df['KM HM (Pikietaż)'][df['KM HM (Pikietaż)'].notnull()].sample(3))\n",
    "print('To powinien być format FLOAT.')"
   ]
  },
  {
   "cell_type": "code",
   "execution_count": 196,
   "metadata": {},
   "outputs": [
    {
     "name": "stdout",
     "output_type": "stream",
     "text": [
      "Nowe wartości:  192850    511.8\n",
      "82330      28.3\n",
      "146223    337.5\n",
      "Name: pikietaz, dtype: float64\n"
     ]
    }
   ],
   "source": [
    "# 1. przekształćmy ',' na '.'\n",
    "df['pikietaz'] = df['KM HM (Pikietaż)'].str.replace(',','.', regex=True)\n",
    "\n",
    "# 2. przekształćmy string na float\n",
    "df['pikietaz'] =  df['pikietaz'].astype(float)\n",
    "\n",
    "print( 'Nowe wartości: ', df['pikietaz'][df['pikietaz'].notnull()].sample(3) )"
   ]
  },
  {
   "cell_type": "code",
   "execution_count": 197,
   "metadata": {},
   "outputs": [
    {
     "name": "stdout",
     "output_type": "stream",
     "text": [
      "kolumna OBSZAR:  object\n",
      "\n",
      "Przykładowe wartości:  ['Obszar niezabudowany' 'Obszar zabudowany' nan]\n",
      "\n",
      "Zamieńmy wartości na 1 oznaczające obszar zabudowany, 0 obszar niezabudowany\n",
      "\n",
      "Nowe wartości w kolumnie:  [ 0.  1. nan]\n"
     ]
    }
   ],
   "source": [
    "print('kolumna OBSZAR: ', df['Obszar'].dtypes)\n",
    "print('\\nPrzykładowe wartości: ', df['Obszar'].unique())\n",
    "print('\\nZamieńmy wartości na 1 oznaczające obszar zabudowany, 0 obszar niezabudowany')\n",
    "\n",
    "df['obszar_zabudowany'] = df['Obszar'].apply(lambda x: 1 if x == 'Obszar zabudowany' else (0 if x == 'Obszar niezabudowany' else None) )\n",
    "\n",
    "print('\\nNowe wartości w kolumnie: ', df['obszar_zabudowany'].unique())"
   ]
  },
  {
   "cell_type": "code",
   "execution_count": 198,
   "metadata": {},
   "outputs": [
    {
     "name": "stdout",
     "output_type": "stream",
     "text": [
      "kolumna SKRZYŻOWANIE:  object\n",
      "\n",
      "Przykładowe wartości:  [nan 'Z drogą z pierwsz.' 'O ruchu okrężnym' 'Równorzędne']\n",
      "\n",
      "Nowe wartości w kolumnie:  ['nan' 'z drogą pierwsz' 'o ruchu okrężnym' 'równorzędne']\n"
     ]
    }
   ],
   "source": [
    "print('kolumna SKRZYŻOWANIE: ', df['Skrzyżowanie'].dtypes)\n",
    "print('\\nPrzykładowe wartości: ', df['Skrzyżowanie'].unique())\n",
    "\n",
    "#wyczyśćmy tekst\n",
    "df['skrzyzowanie'] = df['Skrzyżowanie'].apply(lambda x: simplify_cell(x))\n",
    "\n",
    "print('\\nNowe wartości w kolumnie: ', df['skrzyzowanie'].unique())"
   ]
  },
  {
   "cell_type": "code",
   "execution_count": 199,
   "metadata": {},
   "outputs": [
    {
     "name": "stdout",
     "output_type": "stream",
     "text": [
      "kolumna Geometria drogi:  object\n",
      "\n",
      "Przykładowe wartości:  ['Odcinek prosty' nan 'Zakręt, łuk' 'Spadek' 'Wzniesienie'\n",
      " 'Wierzchołek wzn.' 'Zakręt, łuk; Spadek' 'Odcinek prosty; Spadek'\n",
      " 'Zakręt, łuk; Wzniesienie' 'Odcinek prosty; Wzniesienie'\n",
      " 'Zakręt, łuk; Wierzchołek wzn.' 'Odcinek prosty; Wierzchołek wzn.'\n",
      " 'Odcinek prosty; Zakręt, łuk']\n",
      "\n",
      " Nowe wartości w kolumnie:  ['odcinek prosty' 'nan' 'zakręt łuk' 'spadek' 'wzniesienie'\n",
      " 'wierzchołek wzn' 'zakręt łuk spadek' 'odcinek prosty spadek'\n",
      " 'zakręt łuk wzniesienie' 'odcinek prosty wzniesienie'\n",
      " 'zakręt łuk wierzchołek wzn' 'odcinek prosty wierzchołek wzn'\n",
      " 'odcinek prosty zakręt łuk']\n"
     ]
    }
   ],
   "source": [
    "print('kolumna Geometria drogi: ', df['Geometria drogi'].dtypes)\n",
    "print('\\nPrzykładowe wartości: ', df['Geometria drogi'].unique())\n",
    "\n",
    "df['geometria_drogi'] = df['Geometria drogi'].apply(lambda x: simplify_cell(x))\n",
    "\n",
    "print('\\n Nowe wartości w kolumnie: ', df['geometria_drogi'].unique())"
   ]
  },
  {
   "cell_type": "code",
   "execution_count": 239,
   "metadata": {},
   "outputs": [
    {
     "name": "stdout",
     "output_type": "stream",
     "text": [
      "kolumna Charakterystyka miejsca zdarzenia:  object\n",
      "\n",
      " wartości:  ['Jezdnia' 'Chodnik, droga dla pieszych' 'Parking, plac'\n",
      " 'Wjazd, wyjazd z posesji, pola' 'Parking, plac, MOP (od 11.2015)'\n",
      " 'Skarpa, rów' 'Pobocze' 'Przejście dla pieszych'\n",
      " 'Most, wiadukt, łącznica, tunel' 'Pas dzielący jezdnie'\n",
      " 'Przejazd kolejowy strzeżony' 'Przejazd tramwajowy, torowisko'\n",
      " 'Przystanek komunikacji publicznej' 'Droga dla rowerzystów'\n",
      " 'Przejazd kolejowy niestrzeżony' 'Roboty drogowe, oznakowanie tymczasowe'\n",
      " 'Droga, pas ruchu, śluza dla rowerów (od 11.2015)'\n",
      " 'Przejazd dla rowerzystów (od 11.2015)'\n",
      " 'Przewiązka na drodze dwujezdniowej' 'Parking, plac, MOP'\n",
      " 'Przejazd tramwajowy, torowisko tramwajowe'\n",
      " 'Droga, pas ruchu, śluza dla rowerów' 'Przejazd dla rowerzystów' nan]\n",
      "\n",
      " Liczba wartości w kolumnie:  23\n",
      "\n",
      " Nowe wartości w kolumnie:  ['jezdnia' 'chodnik droga dla pieszych' 'parking plac'\n",
      " 'wjazd wyjazd z posesji pola' 'parking plac mop' 'skarpa rów' 'pobocze'\n",
      " 'przejście dla pieszych' 'most wiadukt łącznica tunel'\n",
      " 'pas dzielący jezdnie' 'przejazd kolejowy strzeżony'\n",
      " 'przejazd tramwajowy torowisko' 'przystanek komunikacji publicznej'\n",
      " 'droga dla rowerzystów' 'przejazd kolejowy niestrzeżony'\n",
      " 'roboty drogowe oznakowanie tymczasowe'\n",
      " 'droga pas ruchu śluza dla rowerów' 'przejazd dla rowerzystów'\n",
      " 'przewiązka na drodze dwujezdniowej'\n",
      " 'przejazd tramwajowy torowisko tramwajowe' 'nan']\n",
      "\n",
      " Liczba wartości w kolumnie:  21\n"
     ]
    }
   ],
   "source": [
    "print('kolumna Charakterystyka miejsca zdarzenia: ', df['Charakterystyka miejsca zdarzenia'].dtypes)\n",
    "print('\\n wartości: ', df['Charakterystyka miejsca zdarzenia'].unique())\n",
    "print('\\n Liczba wartości w kolumnie: ', df['Charakterystyka miejsca zdarzenia'].nunique())\n",
    "\n",
    "#Wyczyścmy wpisy w kolumnie\n",
    "\n",
    "df['charakterystyka_miejsca_zdarzenia'] = df['Charakterystyka miejsca zdarzenia'].apply(lambda x: simplify_cell(x))\n",
    "print('\\n Nowe wartości w kolumnie: ', df['charakterystyka_miejsca_zdarzenia'].unique())\n",
    "print('\\n Liczba wartości w kolumnie: ', df['charakterystyka_miejsca_zdarzenia'].nunique())"
   ]
  },
  {
   "cell_type": "code",
   "execution_count": 201,
   "metadata": {},
   "outputs": [
    {
     "name": "stdout",
     "output_type": "stream",
     "text": [
      "\n",
      " Nowe wartości w kolumnie:  ['jezdnia' 'chodnik droga dla pieszych' 'parking plac'\n",
      " 'wjazd wyjazd z posesji pola' 'skarpa rów' 'pobocze'\n",
      " 'przejście dla pieszych' 'most wiadukt łącznica tunel'\n",
      " 'pas dzielący jezdnie' 'przejazd kolejowy strzeżony'\n",
      " 'przejazd tramwajowy torowisko' 'przystanek komunikacji publicznej'\n",
      " 'droga dla rowerzystów' 'przejazd kolejowy niestrzeżony'\n",
      " 'roboty drogowe oznakowanie tymczasowe'\n",
      " 'droga pas ruchu śluza dla rowerów' 'przejazd dla rowerzystów'\n",
      " 'przewiązka na drodze dwujezdniowej' 'nan']\n",
      "\n",
      " Liczba wartości w kolumnie:  19\n"
     ]
    }
   ],
   "source": [
    "# w powyższych powtarzają się 'parking plac mop' i 'parking plac'\n",
    "# oraz 'przejazd tramwajowy torowisko tramwajowe'  i 'przejazd tramwajowy torowisko'\n",
    "# usuńmy więc słowa 'mop' oraz 'tramwajowe', aby ujednolicić pola\n",
    "\n",
    "df['charakterystyka_miejsca_zdarzenia'] = df['charakterystyka_miejsca_zdarzenia'].apply(lambda x: str(x).replace('mop','').rstrip() )\n",
    "df['charakterystyka_miejsca_zdarzenia'] = df['charakterystyka_miejsca_zdarzenia'].apply(lambda x: str(x).replace('tramwajowe','').rstrip() )\n",
    "\n",
    "print('\\n Nowe wartości w kolumnie: ', df['charakterystyka_miejsca_zdarzenia'].unique())\n",
    "print('\\n Liczba wartości w kolumnie: ', df['charakterystyka_miejsca_zdarzenia'].nunique())"
   ]
  },
  {
   "cell_type": "code",
   "execution_count": 202,
   "metadata": {},
   "outputs": [
    {
     "name": "stdout",
     "output_type": "stream",
     "text": [
      "kolumna Oświetlenie:  object\n",
      "\n",
      "Przykładowe wartości:  ['Noc - droga nieoświetlona' 'Noc - droga oświetlona' 'Światło dzienne'\n",
      " 'Zmrok, świt' 'Świt, zmrok']\n"
     ]
    }
   ],
   "source": [
    "print('kolumna Oświetlenie: ', df['Oświetlenie'].dtypes)\n",
    "print('\\nPrzykładowe wartości: ', df['Oświetlenie'].unique())"
   ]
  },
  {
   "cell_type": "code",
   "execution_count": 203,
   "metadata": {},
   "outputs": [],
   "source": [
    "# Wartości 'Zmrok, świt' 'Świt, zmrok' to to samo, zredukujmy to do jednego pola\n",
    "df['oswietlenie'] = df['Oświetlenie'].apply(lambda x: 'Świt, zmrok' if x == 'Zmrok, świt' else x)\n",
    "\n",
    "# Zamieńmy 'światło dzienne' na 'dzień'\n",
    "df['oswietlenie'] = df['Oświetlenie'].apply(lambda x: 'dzień' if x == 'Światło dzienne' else x)"
   ]
  },
  {
   "cell_type": "code",
   "execution_count": 204,
   "metadata": {},
   "outputs": [
    {
     "name": "stdout",
     "output_type": "stream",
     "text": [
      "kolumna Warunki atmosferyczne:  object\n",
      "\n",
      "Przykładowe wartości:  ['Dobre warunki atmosferyczne' 'Pochmurno' 'Mgła, dym'\n",
      " 'Oślepiające słońce' 'Opady śniegu, gradu'\n",
      " 'Pochmurno; Opady śniegu, gradu' 'Opady deszczu'\n",
      " 'Opady deszczu; Opady śniegu, gradu' 'Pochmurno; Opady deszczu'\n",
      " 'Pochmurno; Mgła, dym' 'Pochmurno; Opady deszczu; Mgła, dym'\n",
      " 'Opady deszczu; Mgła, dym'\n",
      " 'Pochmurno; Opady deszczu; Opady śniegu, gradu'\n",
      " 'Silny wiatr; Pochmurno; Opady śniegu, gradu'\n",
      " 'Pochmurno; Opady śniegu, gradu; Mgła, dym'\n",
      " 'Opady śniegu, gradu; Mgła, dym' 'Silny wiatr'\n",
      " 'Silny wiatr; Opady deszczu' 'Silny wiatr; Pochmurno'\n",
      " 'Silny wiatr; Opady śniegu, gradu' 'Oślepiające słońce; Silny wiatr'\n",
      " 'Silny wiatr; Pochmurno; Opady deszczu'\n",
      " 'Oślepiające słońce; Opady deszczu' nan\n",
      " 'Silny wiatr; Opady deszczu; Opady śniegu, gradu'\n",
      " 'Silny wiatr; Pochmurno; Opady deszczu; Opady śniegu, gradu'\n",
      " 'Opady deszczu; Opady śniegu, gradu; Mgła, dym']\n"
     ]
    }
   ],
   "source": [
    "print('kolumna Warunki atmosferyczne: ', df['Warunki atmosferyczne'].dtypes)\n",
    "print('\\nPrzykładowe wartości: ', df['Warunki atmosferyczne'].unique())\n",
    "\n",
    "#zmieńmy nazwę kolumny na lepszą do edycji\n",
    "df.rename(columns={'Warunki atmosferyczne':'warunki_atmosferyczne'}, inplace=True)"
   ]
  },
  {
   "cell_type": "code",
   "execution_count": 205,
   "metadata": {},
   "outputs": [
    {
     "data": {
      "text/plain": [
       "'[dobre warunki atmosferyczne pochmurno mgła dym oślepiające słońce opady śniegu gradu deszczu silny wiatr nan dym]'"
      ]
     },
     "execution_count": 205,
     "metadata": {},
     "output_type": "execute_result"
    }
   ],
   "source": [
    "# Spory tu bałagan, spróbujmy sprowadzić wszystkie te wpisy do wspólnego mianownika\n",
    "simplify_column(df['warunki_atmosferyczne'])"
   ]
  },
  {
   "cell_type": "code",
   "execution_count": 206,
   "metadata": {},
   "outputs": [],
   "source": [
    "#wyczyśćmy tekst w komórkach\n",
    "df['warunki_atmosferyczne'] = df['warunki_atmosferyczne'].apply(lambda x: simplify_cell(x))"
   ]
  },
  {
   "cell_type": "code",
   "execution_count": 207,
   "metadata": {},
   "outputs": [],
   "source": [
    "#teraz spróbujmy stworzyć dodatkowe kolumny dla pogody\n",
    "\n",
    "df['pogoda_dobre_warunki']        = df['warunki_atmosferyczne'].apply(lambda x: 1 if 'warunki' in str(x).lower() else 0)\n",
    "df['pogoda_pochmurno']            = df['warunki_atmosferyczne'].apply(lambda x: 1 if 'pochmurno' in str(x).lower() else 0)\n",
    "df['pogoda_mgla']                 = df['warunki_atmosferyczne'].apply(lambda x: 1 if 'mgła' in str(x).lower() else 0)\n",
    "df['pogoda_dym']                  = df['warunki_atmosferyczne'].apply(lambda x: 1 if 'dym' in str(x).lower() else 0)\n",
    "df['pogoda_oslep_slonce']         = df['warunki_atmosferyczne'].apply(lambda x: 1 if 'słońce' in str(x).lower() else 0)\n",
    "df['pogoda_opady']                = df['warunki_atmosferyczne'].apply(lambda x: 1 if 'opady' in str(x).lower() else 0)\n",
    "df['pogoda_snieg']                = df['warunki_atmosferyczne'].apply(lambda x: 1 if 'śniegu' in str(x).lower() else 0)\n",
    "df['pogoda_grad']                 = df['warunki_atmosferyczne'].apply(lambda x: 1 if 'gradu' in str(x).lower() else 0)\n",
    "df['pogoda_deszcz']               = df['warunki_atmosferyczne'].apply(lambda x: 1 if 'deszczu' in str(x).lower() else 0)\n",
    "df['pogoda_wiatr']                = df['warunki_atmosferyczne'].apply(lambda x: 1 if 'wiatr' in str(x).lower() else 0)\n"
   ]
  },
  {
   "cell_type": "markdown",
   "metadata": {},
   "source": [
    "#### Kolumny zawierające informacje o zdarzeniu"
   ]
  },
  {
   "cell_type": "code",
   "execution_count": 240,
   "metadata": {},
   "outputs": [
    {
     "name": "stdout",
     "output_type": "stream",
     "text": [
      "kolumna Rodzaj zdarzenia:  object\n",
      "\n",
      " wartości:  ['Najechanie na zwierzę' 'Najechanie na pojazd unieruchomiony'\n",
      " 'Zderzenie pojazdów tylne' 'Najechanie na słup, znak'\n",
      " 'Zderzenie pojazdów boczne' 'Najechanie na barierę ochronną' 'Inne'\n",
      " 'Najechanie na dziurę, wybój, garb' 'Najechanie na pieszego'\n",
      " 'Wywrócenie się pojazdu' 'Zderzenie pojazdów czołowe'\n",
      " 'Najechanie na drzewo' 'Najechanie na zapore kolejową'\n",
      " 'Zdarzenie z pasażerem']\n"
     ]
    }
   ],
   "source": [
    "print('kolumna Rodzaj zdarzenia: ', df['Rodzaj zdarzenia'].dtypes)\n",
    "print('\\n wartości: ', df['Rodzaj zdarzenia'].unique())\n",
    "\n",
    "df['rodzaj_zdarzenia'] = df['Rodzaj zdarzenia']\n"
   ]
  },
  {
   "cell_type": "code",
   "execution_count": 241,
   "metadata": {},
   "outputs": [
    {
     "name": "stdout",
     "output_type": "stream",
     "text": [
      "kolumna Wina:  object\n",
      "\n",
      "wartości:  ['z innych przyczyn' 'z winy kierującego' 'współwina uczestników ruchu'\n",
      " 'z winy pieszego']\n"
     ]
    }
   ],
   "source": [
    "print('kolumna Wina: ', df['Wina'].dtypes)\n",
    "print('\\nwartości: ', df['Wina'].unique())"
   ]
  },
  {
   "cell_type": "code",
   "execution_count": 210,
   "metadata": {},
   "outputs": [],
   "source": [
    "# Widzimy, że istnieje tutaj kategoria 'Inne'. Możemy tu wpisać dane z kolumny 'Inne przyczyny'\n",
    "df['wina'] = df.apply(lambda x: x['Inne przyczyny'] if (x['Wina'] == 'z innych przyczyn') else x['Wina'], axis=1)"
   ]
  },
  {
   "cell_type": "code",
   "execution_count": 211,
   "metadata": {},
   "outputs": [
    {
     "data": {
      "text/plain": [
       "array(['Obiekty, zwierzęta na drodze', 'z winy kierującego',\n",
       "       'współwina uczestników ruchu', 'Niewłaściwy stan jezdni',\n",
       "       'z winy pieszego', 'Nieustalone', 'Inne',\n",
       "       'Utrata przytomności, śmierć kierującego (od 11.2015)',\n",
       "       'Pożar pojazdu', 'Nieprawidłowo zabezp. roboty drogowe',\n",
       "       'Niesprawność techniczna pojazdu (od 11.2015)', 'Z winy pasażera',\n",
       "       'Oślepienie przez inny pojazd lub słońce',\n",
       "       'Nieprawidłowo działająca zapora, rogatka', 'Stan jezdni',\n",
       "       'Niesprawność techniczna pojazdu',\n",
       "       'Zabezpieczenie robót na drodze',\n",
       "       'Utrata przytomności, śmierć kierującego', 'Organizacja ruchu',\n",
       "       'Nieprawidłowo działająca zapora kolej.',\n",
       "       'Działanie sygnalizacji świetlnej'], dtype=object)"
      ]
     },
     "execution_count": 211,
     "metadata": {},
     "output_type": "execute_result"
    }
   ],
   "source": [
    "df['wina'].unique()"
   ]
  },
  {
   "cell_type": "code",
   "execution_count": 212,
   "metadata": {},
   "outputs": [],
   "source": [
    "# i jeszcze wyczyśćmy komórki\n",
    "df['wina'] = df['wina'].apply(lambda x: simplify_cell(x))"
   ]
  },
  {
   "cell_type": "code",
   "execution_count": 213,
   "metadata": {},
   "outputs": [
    {
     "name": "stdout",
     "output_type": "stream",
     "text": [
      "kolumna Rodzaj drogi:  object\n",
      "\n",
      " wartości w kolumnie:  ['Jednojezdniowa dwukierunkowa' 'Jednokierunkowa' 'Autostrada'\n",
      " 'Dwie jezdnie jednokierunkowe' 'Ekspresowa' nan]\n"
     ]
    }
   ],
   "source": [
    "print('kolumna Rodzaj drogi: ', df['Rodzaj drogi'].dtypes)\n",
    "print('\\n wartości w kolumnie: ', df['Rodzaj drogi'].unique())\n",
    "\n",
    "df['rodzaj_drogi'] = df['Rodzaj drogi']"
   ]
  },
  {
   "cell_type": "code",
   "execution_count": 214,
   "metadata": {},
   "outputs": [
    {
     "name": "stdout",
     "output_type": "stream",
     "text": [
      "kolumna nawierzchnia:  object\n",
      "\n",
      " wartości:  ['Twarda' 'Gruntowa' nan]\n",
      "\n",
      "Zamieńmy wartości na typ INT.\n",
      "\n",
      "Nowe wartości w kolumnie:  [ 1.  0. nan]\n"
     ]
    }
   ],
   "source": [
    "print('kolumna nawierzchnia: ', df['Nawierzchnia drogi'].dtypes)\n",
    "print('\\n wartości: ', df['Nawierzchnia drogi'].unique())\n",
    "print('\\nZamieńmy wartości na typ INT.')\n",
    "\n",
    "#zamieńmy wartości na zera i jedynki, zmieńmy też nazwę kolumny\n",
    "\n",
    "df['nawierzchnia_twarda'] = df['Nawierzchnia drogi'].apply(lambda x: 1 if x == 'Twarda' else (0 if x == 'Gruntowa' else None) )\n",
    "print('\\nNowe wartości w kolumnie: ', df['nawierzchnia_twarda'].unique())"
   ]
  },
  {
   "cell_type": "code",
   "execution_count": 215,
   "metadata": {},
   "outputs": [
    {
     "name": "stdout",
     "output_type": "stream",
     "text": [
      "kolumna stan_nawierzchni:  object\n",
      "\n",
      " wartości:  ['Sucha' 'Mokra' 'Oblodzona, zaśnieżona' 'Mokra; Oblodzona, zaśnieżona'\n",
      " 'Koleiny, garby' 'Zanieczyszczona' 'Mokra; Koleiny, garby'\n",
      " 'Oblodzona, zaśnieżona; Dziury, wyboje' 'Mokra; Dziury, wyboje'\n",
      " 'Kałuże, rozlewiska' 'Kałuże, rozlewiska; Oblodzona, zaśnieżona'\n",
      " 'Mokra; Kałuże, rozlewiska' 'Zanieczyszczona; Dziury, wyboje'\n",
      " 'Dziury, wyboje' 'Mokra; Kałuże, rozlewiska; Dziury, wyboje'\n",
      " 'Sucha; Dziury, wyboje' 'Sucha; Zanieczyszczona'\n",
      " 'Mokra; Kałuże, rozlewiska; Koleiny, garby' 'Mokra; Zanieczyszczona'\n",
      " 'Mokra; Zanieczyszczona; Koleiny, garby; Dziury, wyboje'\n",
      " 'Mokra; Kałuże, rozlewiska; Oblodzona, zaśnieżona'\n",
      " 'Mokra; Koleiny, garby; Dziury, wyboje'\n",
      " 'Kałuże, rozlewiska; Dziury, wyboje'\n",
      " 'Oblodzona, zaśnieżona; Zanieczyszczona; Koleiny, garby; Dziury, wyboje'\n",
      " 'Zanieczyszczona; Koleiny, garby; Dziury, wyboje'\n",
      " 'Mokra; Kałuże, rozlewiska; Zanieczyszczona; Koleiny, garby; Dziury, wyboje'\n",
      " 'Kałuże, rozlewiska; Zanieczyszczona; Dziury, wyboje'\n",
      " 'Sucha; Koleiny, garby' 'Sucha; Koleiny, garby; Dziury, wyboje' nan\n",
      " 'Oblodzenie, zaśnieżenie' 'Sucha; Zanieczyszczona; Dziury, wyboje'\n",
      " 'Kałuże, rozlewiska; Koleiny, garby; Dziury, wyboje'\n",
      " 'Mokra; Kałuże, rozlewiska; Koleiny, garby; Dziury, wyboje'\n",
      " 'Mokra; Oblodzenie, zaśnieżenie'\n",
      " 'Mokra; Kałuże, rozlewiska; Oblodzenie, zaśnieżenie'\n",
      " 'Kałuże, rozlewiska; Oblodzenie, zaśnieżenie'\n",
      " 'Oblodzenie, zaśnieżenie; Zanieczyszczona'\n",
      " 'Koleiny, garby; Dziury, wyboje'\n",
      " 'Oblodzenie, zaśnieżenie; Koleiny, garby'\n",
      " 'Oblodzenie, zaśnieżenie; Dziury, wyboje'\n",
      " 'Kałuże, rozlewiska; Koleiny, garby' 'Zanieczyszczona; Koleiny, garby'\n",
      " 'Sucha; Zanieczyszczona; Koleiny, garby; Dziury, wyboje'\n",
      " 'Mokra; Kałuże, rozlewiska; Zanieczyszczona'\n",
      " 'Mokra; Kałuże, rozlewiska; Zanieczyszczona; Dziury, wyboje'\n",
      " 'Mokra; Oblodzenie, zaśnieżenie; Dziury, wyboje'\n",
      " 'Mokra; Zanieczyszczona; Koleiny, garby'\n",
      " 'Mokra; Zanieczyszczona; Dziury, wyboje'\n",
      " 'Kałuże, rozlewiska; Oblodzenie, zaśnieżenie; Dziury, wyboje'\n",
      " 'Mokra; Oblodzenie, zaśnieżenie; Zanieczyszczona; Koleiny, garby; Dziury, wyboje'\n",
      " 'Kałuże, rozlewiska; Zanieczyszczona; Koleiny, garby; Dziury, wyboje']\n"
     ]
    }
   ],
   "source": [
    "print('kolumna stan_nawierzchni: ', df['Stan nawierzchni'].dtypes)\n",
    "print('\\n wartości: ', df['Stan nawierzchni'].unique())"
   ]
  },
  {
   "cell_type": "code",
   "execution_count": 216,
   "metadata": {},
   "outputs": [
    {
     "data": {
      "text/plain": [
       "'[sucha mokra oblodzona zaśnieżona koleiny garby zanieczyszczona dziury wyboje kałuże rozlewiska sucha nan oblodzenie zaśnieżenie wyboje]'"
      ]
     },
     "execution_count": 216,
     "metadata": {},
     "output_type": "execute_result"
    }
   ],
   "source": [
    "#uprośćmy ten bałagan i zobaczmy, co nam zostanie\n",
    "simplify_column(df['Stan nawierzchni'])"
   ]
  },
  {
   "cell_type": "code",
   "execution_count": 217,
   "metadata": {},
   "outputs": [],
   "source": [
    "#Powtórzmy proces przeprowadzony dla pogody\n",
    "\n",
    "# spróbujmy wyczyścić wpisy w każdej komórce\n",
    "df['stan_nawierzchni'] = df['Stan nawierzchni'].apply(lambda x: simplify_cell(x))\n"
   ]
  },
  {
   "cell_type": "code",
   "execution_count": 218,
   "metadata": {},
   "outputs": [],
   "source": [
    "#teraz spróbujmy stworzyć dodatkowe kolumny dla nawierzchni\n",
    "\n",
    "df['nawierzchnia_sucha']           = df['stan_nawierzchni'].apply(lambda x: 1 if 'sucha' in str(x).lower() else 0)\n",
    "df['nawierzchnia_mokra']           = df['stan_nawierzchni'].apply(lambda x: 1 if 'mokra' in str(x).lower() else 0)\n",
    "df['nawierzchnia_oblodzona']       = df['stan_nawierzchni'].apply(lambda x: 1 if ('oblodzona' in str(x).lower() or 'oblodzenie' in str(x).lower()) else 0)\n",
    "df['nawierzchnia_zasniezona']      = df['stan_nawierzchni'].apply(lambda x: 1 if ('zaśnieżona' in str(x).lower() or 'zaśnieżenie' in str(x).lower()) else 0)\n",
    "df['nawierzchnia_koleiny']         = df['stan_nawierzchni'].apply(lambda x: 1 if 'koleiny' in str(x).lower() else 0)\n",
    "df['nawierzchnia_garby']           = df['stan_nawierzchni'].apply(lambda x: 1 if 'garby' in str(x).lower() else 0)\n",
    "df['nawierzchnia_zanieczyszczona'] = df['stan_nawierzchni'].apply(lambda x: 1 if 'zanieczyszczona' in str(x).lower() else 0)\n",
    "df['nawierzchnia_dziury']          = df['stan_nawierzchni'].apply(lambda x: 1 if 'dziury' in str(x).lower() else 0)\n",
    "df['nawierzchnia_wyboje']          = df['stan_nawierzchni'].apply(lambda x: 1 if 'wyboje' in str(x).lower() else 0)\n",
    "df['nawierzchnia_kaluze']          = df['stan_nawierzchni'].apply(lambda x: 1 if 'kałuże' in str(x).lower() else 0)\n",
    "df['nawierzchnia_rozlewiska']      = df['stan_nawierzchni'].apply(lambda x: 1 if 'rozlewiska' in str(x).lower() else 0)"
   ]
  },
  {
   "cell_type": "code",
   "execution_count": 219,
   "metadata": {},
   "outputs": [
    {
     "name": "stdout",
     "output_type": "stream",
     "text": [
      "kolumna sygnalizacja:  object\n",
      "\n",
      " wartości:  ['Brak' 'Jest, nie działa' 'Jest, działa']\n"
     ]
    }
   ],
   "source": [
    "print('kolumna sygnalizacja: ', df['Sygnalizacja świetlna'].dtypes)\n",
    "print('\\n wartości: ', df['Sygnalizacja świetlna'].unique())\n",
    "\n",
    "df['sygnalizacja_swietlna'] =  df['Sygnalizacja świetlna']"
   ]
  },
  {
   "cell_type": "code",
   "execution_count": 220,
   "metadata": {},
   "outputs": [
    {
     "name": "stdout",
     "output_type": "stream",
     "text": [
      "kolumna Oznakowanie poziome:  object\n",
      "\n",
      " wartości:  ['Jest' 'Nie ma' nan]\n",
      "\n",
      "Nowe wartości w kolumnie oznakowanie_poziome:  [ 1.  0. nan]\n"
     ]
    }
   ],
   "source": [
    "print('kolumna Oznakowanie poziome: ', df['Oznakowanie poziome'].dtypes)\n",
    "print('\\n wartości: ', df['Oznakowanie poziome'].unique())\n",
    "\n",
    "#zamieńmy na 0 i 1\n",
    "df['oznakowanie_poziome'] = df['Oznakowanie poziome'].apply(lambda x: 1 if x == 'Jest' else (0 if x == 'Nie ma' else None))\n",
    "\n",
    "print('\\nNowe wartości w kolumnie oznakowanie_poziome: ', df['oznakowanie_poziome'].unique())"
   ]
  },
  {
   "cell_type": "code",
   "execution_count": 221,
   "metadata": {},
   "outputs": [
    {
     "name": "stdout",
     "output_type": "stream",
     "text": [
      "kolumna Liczba pasów w zdarzeniu:  float64\n",
      "\n",
      " wartości:  [  2.  nan   1.   3.   4.   5.   6.   8.   7.   0.   9. 250.  50.  24.\n",
      "  90.  12.  60.  20.  70.  40.  18.  13.  10.  14.  17.  66.  11.  16.\n",
      "  25.  22.  32.  30.  67.  15.]\n"
     ]
    },
    {
     "data": {
      "text/plain": [
       "2.0    101699\n",
       "4.0     14937\n",
       "3.0      9186\n",
       "1.0      8090\n",
       "6.0      3577\n",
       "5.0      2537\n",
       "Name: Liczba pasów w zdarzeniu, dtype: int64"
      ]
     },
     "execution_count": 221,
     "metadata": {},
     "output_type": "execute_result"
    }
   ],
   "source": [
    "print('kolumna Liczba pasów w zdarzeniu: ', df['Liczba pasów w zdarzeniu'].dtypes)\n",
    "print('\\n wartości: ', df['Liczba pasów w zdarzeniu'].unique())\n",
    "\n",
    "#Czy to jest na pewno liczba pasów w zdarzeniu? Liczby są co najmniej dziwne, sprawdźmy ile jakich pasów było\n",
    "df['Liczba pasów w zdarzeniu'].value_counts().head(6)\n",
    "#Trzeba to przemyśleć"
   ]
  },
  {
   "cell_type": "code",
   "execution_count": 222,
   "metadata": {},
   "outputs": [
    {
     "name": "stdout",
     "output_type": "stream",
     "text": [
      "kolumna Zachowanie kierującego:  object\n",
      "\n",
      " wartości:  [nan 'Nieprawidłowe: cofanie' 'Nieprawidłowe: omijanie'\n",
      " 'Niedostosowanie prędkości do warunków ruchu'\n",
      " 'Nieudzielenie pierwszeństwa przejazdu' 'Inne przyczyny (od 11.2015)'\n",
      " 'Niezachowanie bezp. odl. między pojazdami' 'Nieprawidłowe: skręcanie'\n",
      " 'Nieprawidłowe: zmienianie pasa ruchu' 'Zmęczenie, zaśnięcie'\n",
      " 'Nieprawidłowe: wymijanie' 'Nieprzestrzeganie innych sygnałów'\n",
      " 'Niestosowanie się do sygnalizacji świetlnej (od 11.2015)'\n",
      " 'Nieustąpienie pierwszeństwa pieszemu na przejściu dla pieszych (od 11.2015)'\n",
      " 'Gwałtowne hamowanie' 'Nieprawidłowe: wyprzedzanie'\n",
      " 'Nieprawidłowe: zatrzymywanie, postój'\n",
      " 'Nieprawidłowe: wymijanie; Nieprawidłowe: wymijanie'\n",
      " 'Nieprawidłowe: cofanie; Nieprawidłowe: cofanie'\n",
      " 'Nieprawidłowe: Zawracanie'\n",
      " 'Nieprawidłowe: skręcanie; Nieprawidłowe: skręcanie'\n",
      " 'Nieustąpienie pierwszeństwa pieszemu w innych okolicznościach (od 11.2015)'\n",
      " 'Nieustąpienie pierwszeństwa pieszemu przy skręcaniu w drogę poprzeczną  (od 11.2015)'\n",
      " 'Niedostosowanie prędkości do warunków ruchu; Niedostosowanie prędkości do warunków ruchu'\n",
      " 'Gwałtowne hamowanie; Niezachowanie bezp. odl. między pojazdami'\n",
      " 'Omijanie pojazdu przed przejściem dla pieszych (od 11.2015)'\n",
      " 'Niezachowanie bezp. odl. między pojazdami; Niezachowanie bezp. odl. między pojazdami'\n",
      " 'Nieprawidłowe: cofanie; Nieprawidłowe: zatrzymywanie, postój'\n",
      " 'Nieprawidłowe: skręcanie; Nieprawidłowe: wyprzedzanie'\n",
      " 'Nieudzielenie pierwszeństwa przejazdu; Niezachowanie bezp. odl. między pojazdami'\n",
      " 'Nieprawidłowe: zmienianie pasa ruchu; Nieudzielenie pierwszeństwa przejazdu'\n",
      " 'Wyprzedzanie pojazdu przed przejściem dla pieszych  (od 11.2015)'\n",
      " 'Niedostosowanie prędkości do warunków ruchu; Niedostosowanie prędkości do warunków ruchu; Niedostosowanie prędkości do warunków ruchu'\n",
      " 'Nieprawidłowe: zmienianie pasa ruchu; Nieprawidłowe: zmienianie pasa ruchu'\n",
      " 'Nieudzielenie pierwszeństwa przejazdu; Nieudzielenie pierwszeństwa przejazdu'\n",
      " 'Nieprawidłowe: Zawracanie; Nieprawidłowe: zmienianie pasa ruchu'\n",
      " 'Jazda bez wymaganego oświetlenia'\n",
      " 'Inne przyczyny (od 11.2015); Nieudzielenie pierwszeństwa przejazdu'\n",
      " 'Nieprawidłowe przejeżdżanie przejazdu dla rowerzystów (od 11.2015)'\n",
      " 'Nieprawidłowe: wyprzedzanie; Nieprawidłowe: zmienianie pasa ruchu'\n",
      " 'Nieprawidłowe: wyprzedzanie; Nieudzielenie pierwszeństwa przejazdu'\n",
      " 'Niestosowanie się do sygnalizacji świetlnej (od 11.2015); Niestosowanie się do sygnalizacji świetlnej (od 11.2015)'\n",
      " 'Nieprawidłowe: skręcanie; Nieudzielenie pierwszeństwa przejazdu'\n",
      " 'Nieprawidłowe: wymijanie; Niezachowanie bezp. odl. między pojazdami'\n",
      " 'Inne przyczyny (od 11.2015); Niezachowanie bezp. odl. między pojazdami'\n",
      " 'Nieprawidłowe: omijanie; Nieprawidłowe: zatrzymywanie, postój'\n",
      " 'Inne przyczyny (od 11.2015); Niedostosowanie prędkości do warunków ruchu'\n",
      " 'Nieudzielenie pierwszeństwa przejazdu; Wyprzedzanie pojazdu przed przejściem dla pieszych  (od 11.2015)'\n",
      " 'Nieprawidłowe: skręcanie; Nieprawidłowe: zatrzymywanie, postój'\n",
      " 'Nieprawidłowe: cofanie; Nieprawidłowe: wyprzedzanie'\n",
      " 'Nieprawidłowe: cofanie; Nieudzielenie pierwszeństwa przejazdu'\n",
      " 'Inne przyczyny (od 11.2015); Nieprawidłowe: skręcanie'\n",
      " 'Nieprawidłowe: wyprzedzanie; Niezachowanie bezp. odl. między pojazdami'\n",
      " 'Jazda bez wymaganego oświetlenia; Nieprawidłowe: wyprzedzanie'\n",
      " 'Nieprawidłowe: omijanie; Nieprawidłowe: omijanie'\n",
      " 'Inne przyczyny (od 11.2015); Inne przyczyny (od 11.2015)'\n",
      " 'Nieprawidłowe: Zawracanie; Niezachowanie bezp. odl. między pojazdami'\n",
      " 'Nieprzestrzeganie innych sygnałów; Nieudzielenie pierwszeństwa przejazdu'\n",
      " 'Inne przyczyny (od 11.2015); Omijanie pojazdu przed przejściem dla pieszych (od 11.2015)'\n",
      " 'Nieprawidłowe wymijanie' 'Niezachowanie bezp. odleg. między pojazdami'\n",
      " 'Nieprawidłowe skręcanie' 'Nieustąpienie pierwszeństwa przejazdu'\n",
      " 'Nieprawidłowe cofanie'\n",
      " 'Nieprawidłowe wymijanie; Nieprawidłowe wymijanie'\n",
      " 'Nieprawidłowe zmienianie pasa ruchu' 'Inne przyczyny'\n",
      " 'Nieprzestrzeganie znaków i innych sygnałów'\n",
      " 'Niestosowanie się do sygnalizacji świetlnej'\n",
      " 'Nieprawidłowe wyprzedzanie' 'Nieprawidłowe omijanie'\n",
      " 'Nieprawidłowe Zawracanie' 'Nieprawidłowe cofanie; Nieprawidłowe cofanie'\n",
      " 'Nieustąpienie pierwszeństwa pieszemu w innych okolicznościach'\n",
      " 'Nieustąpienie pierwszeństwa pieszemu na przejściu dla pieszych'\n",
      " 'Nieprawidłowe skręcanie; Nieprawidłowe wyprzedzanie'\n",
      " 'Nieprawidłowe zatrzymywanie, postój'\n",
      " 'Nieprawidłowe zmienianie pasa ruchu; Nieustąpienie pierwszeństwa przejazdu'\n",
      " 'Wyprzedzanie pojazdu przed przejściem dla pieszych'\n",
      " 'Inne przyczyny; Nieustąpienie pierwszeństwa przejazdu'\n",
      " 'Nieprawidłowe skręcanie; Nieustąpienie pierwszeństwa przejazdu'\n",
      " 'Nieprawidłowe przejeżdżanie przejazdu dla rowerzystów'\n",
      " 'Nieprawidłowe cofanie; Nieprawidłowe omijanie'\n",
      " 'Niestosowanie się do sygnalizacji świetlnej; Niestosowanie się do sygnalizacji świetlnej'\n",
      " 'Omijanie pojazdu przed przejściem dla pieszych'\n",
      " 'Nieprawidłowe omijanie; Nieprawidłowe omijanie'\n",
      " 'Inne przyczyny; Nieprawidłowe skręcanie'\n",
      " 'Gwałtowne hamowanie; Nieprawidłowe zmienianie pasa ruchu'\n",
      " 'Inne przyczyny; Nieprawidłowe omijanie'\n",
      " 'Gwałtowne hamowanie; Niezachowanie bezp. odleg. między pojazdami'\n",
      " 'Nieustąpienie pierwszeństwa przejazdu; Nieustąpienie pierwszeństwa przejazdu'\n",
      " 'Inne przyczyny; Inne przyczyny'\n",
      " 'Nieustąpienie pierwszeństwa pieszemu przy skręcaniu w drogę poprzeczną'\n",
      " 'Nieprawidłowe zmienianie pasa ruchu; Nieprawidłowe zmienianie pasa ruchu'\n",
      " 'Niezachowanie bezp. odleg. między pojazdami; Niezachowanie bezp. odleg. między pojazdami'\n",
      " 'Gwałtowne hamowanie; Nieustąpienie pierwszeństwa przejazdu'\n",
      " 'Inne przyczyny; Nieprawidłowe cofanie'\n",
      " 'Nieprawidłowe omijanie; Nieprawidłowe zatrzymywanie, postój'\n",
      " 'Nieprawidłowe omijanie; Nieprawidłowe skręcanie'\n",
      " 'Nieprawidłowe cofanie; Nieprawidłowe skręcanie'\n",
      " 'Nieprawidłowe wyprzedzanie; Nieprawidłowe zmienianie pasa ruchu'\n",
      " 'Nieprawidłowe omijanie; Nieprawidłowe zmienianie pasa ruchu'\n",
      " 'Nieprawidłowe wyprzedzanie; Nieprawidłowe wyprzedzanie'\n",
      " 'Nieprawidłowe wyprzedzanie; Nieustąpienie pierwszeństwa przejazdu'\n",
      " 'Nieprawidłowe skręcanie; Nieprawidłowe skręcanie'\n",
      " 'Nieprawidłowe omijanie; Nieustąpienie pierwszeństwa przejazdu'\n",
      " 'Jazda bez wymaganych świateł'\n",
      " 'Nieprawidłowe zmienianie pasa ruchu; Nieprzestrzeganie znaków i innych sygnałów'\n",
      " 'Nieustąpienie pierwszeństwa pieszemu na przejściu dla pieszych; Niezachowanie bezp. odleg. między pojazdami'\n",
      " 'Niedostosowanie prędkości do warunków ruchu; Nieprawidłowe Zawracanie'\n",
      " 'Nieprzestrzeganie znaków i innych sygnałów; Nieustąpienie pierwszeństwa przejazdu'\n",
      " 'Nieprawidłowe cofanie; Niezachowanie bezp. odleg. między pojazdami'\n",
      " 'Nieprawidłowe Zawracanie; Niezachowanie bezp. odleg. między pojazdami'\n",
      " 'Nieprawidłowe Zawracanie; Nieprawidłowe wyprzedzanie'\n",
      " 'Nieprawidłowe skręcanie; Niezachowanie bezp. odleg. między pojazdami'\n",
      " 'Inne przyczyny; Nieprzestrzeganie znaków i innych sygnałów'\n",
      " 'Nieprawidłowe cofanie; Nieustąpienie pierwszeństwa przejazdu'\n",
      " 'Nieprawidłowe zmienianie pasa ruchu; Niezachowanie bezp. odleg. między pojazdami'\n",
      " 'Niedostosowanie prędkości do warunków ruchu; Nieustąpienie pierwszeństwa przejazdu'\n",
      " 'Inne przyczyny; Niezachowanie bezp. odleg. między pojazdami'\n",
      " 'Inne przyczyny; Niedostosowanie prędkości do warunków ruchu'\n",
      " 'Inne przyczyny; Nieprawidłowe wymijanie'\n",
      " 'Niedostosowanie prędkości do warunków ruchu; Nieprawidłowe cofanie'\n",
      " 'Niestosowanie się do sygnalizacji świetlnej; Nieustąpienie pierwszeństwa przejazdu'\n",
      " 'Nieprawidłowe Zawracanie; Nieprawidłowe cofanie'\n",
      " 'Nieustąpienie pierwszeństwa pieszemu na przejściu dla pieszych; Nieustąpienie pierwszeństwa pieszemu na przejściu dla pieszych'\n",
      " 'Nieprawidłowe zatrzymywanie, postój; Niezachowanie bezp. odleg. między pojazdami'\n",
      " 'Nieprawidłowe wyprzedzanie; Niezachowanie bezp. odleg. między pojazdami'\n",
      " 'Inne przyczyny; Nieprawidłowe wyprzedzanie'\n",
      " 'Gwałtowne hamowanie; Nieprawidłowe wyprzedzanie'\n",
      " 'Niedostosowanie prędkości do warunków ruchu; Nieprzestrzeganie znaków i innych sygnałów'\n",
      " 'Niedostosowanie prędkości do warunków ruchu; Niezachowanie bezp. odleg. między pojazdami'\n",
      " 'Inne przyczyny; Nieprawidłowe zmienianie pasa ruchu'\n",
      " 'Nieprzestrzeganie znaków i innych sygnałów; Nieprzestrzeganie znaków i innych sygnałów'\n",
      " 'Jazda bez wymaganych świateł; Nieustąpienie pierwszeństwa przejazdu'\n",
      " 'Nieprawidłowe omijanie; Nieprawidłowe wyprzedzanie'\n",
      " 'Niedostosowanie prędkości do warunków ruchu; Nieprawidłowe zmienianie pasa ruchu'\n",
      " 'Nieustąpienie pierwszeństwa pieszemu na przejściu dla pieszych; Wyprzedzanie pojazdu przed przejściem dla pieszych'\n",
      " 'Nieprawidłowe cofanie; Nieprawidłowe zatrzymywanie, postój'\n",
      " 'Niedostosowanie prędkości do warunków ruchu; Nieprawidłowe wyprzedzanie'\n",
      " 'Niedostosowanie prędkości do warunków ruchu; Nieprawidłowe wymijanie'\n",
      " 'Nieprawidłowe cofanie; Nieprzestrzeganie znaków i innych sygnałów'\n",
      " 'Inne przyczyny; Omijanie pojazdu przed przejściem dla pieszych'\n",
      " 'Nieprawidłowe omijanie; Nieprawidłowe wymijanie'\n",
      " 'Inne przyczyny; Nieprawidłowe Zawracanie'\n",
      " 'Nieprawidłowe skręcanie; Nieprzestrzeganie znaków i innych sygnałów'\n",
      " 'Nieustąpienie pierwszeństwa przejazdu; Niezachowanie bezp. odleg. między pojazdami'\n",
      " 'Nieprawidłowe Zawracanie; Nieprawidłowe Zawracanie'\n",
      " 'Niedostosowanie prędkości do warunków ruchu; Nieprawidłowe skręcanie'\n",
      " 'Nieustąpienie pierwszeństwa przejazdu; Omijanie pojazdu przed przejściem dla pieszych'\n",
      " 'Nieprawidłowe skręcanie; Nieprawidłowe zatrzymywanie, postój'\n",
      " 'Nieprawidłowe omijanie; Nieprzestrzeganie znaków i innych sygnałów'\n",
      " 'Nieprawidłowe omijanie; Nieprawidłowe omijanie; Nieprawidłowe omijanie'\n",
      " 'Niedostosowanie prędkości do warunków ruchu; Niedostosowanie prędkości do warunków ruchu; Niedostosowanie prędkości do warunków ruchu; Niedostosowanie prędkości do warunków ruchu; Niedostosowanie prędkości do warunków ruchu'\n",
      " 'Nieprawidłowe wymijanie; Nieustąpienie pierwszeństwa przejazdu'\n",
      " 'Jazda bez wymaganych świateł; Nieprawidłowe wyprzedzanie'\n",
      " 'Nieprawidłowe cofanie; Niezachowanie bezp. odleg. między pojazdami; Niezachowanie bezp. odleg. między pojazdami'\n",
      " 'Nieprawidłowe cofanie; Nieprawidłowe wymijanie'\n",
      " 'Nieprawidłowe wyprzedzanie; Nieprzestrzeganie znaków i innych sygnałów'\n",
      " 'Inne przyczyny; Niestosowanie się do sygnalizacji świetlnej'\n",
      " 'Jazda bez wymaganych świateł; Niedostosowanie prędkości do warunków ruchu'\n",
      " 'Niezachowanie bezp. odleg. między pojazdami; Niezachowanie bezp. odleg. między pojazdami; Niezachowanie bezp. odleg. między pojazdami']\n"
     ]
    }
   ],
   "source": [
    "print('kolumna Zachowanie kierującego: ', df['Zachowanie kierującego'].dtypes)\n",
    "print('\\n wartości: ', df['Zachowanie kierującego'].unique())"
   ]
  },
  {
   "cell_type": "code",
   "execution_count": 223,
   "metadata": {},
   "outputs": [],
   "source": [
    "#Czyścimy\n",
    "df['zachowanie_kierujacego'] = df['Zachowanie kierującego'].apply(lambda x: simplify_cell(x))"
   ]
  },
  {
   "cell_type": "code",
   "execution_count": 224,
   "metadata": {},
   "outputs": [
    {
     "name": "stdout",
     "output_type": "stream",
     "text": [
      "['nan' 'nieprawidłowe: cofanie' 'nieprawidłowe: omijanie'\n",
      " 'niedostosowanie prędkości do warunków ruchu'\n",
      " 'nieudzielenie pierwszeństwa przejazdu' 'inne przyczyny'\n",
      " 'niezachowanie bezp odl między pojazdami' 'nieprawidłowe: skręcanie'\n",
      " 'nieprawidłowe: zmienianie pasa ruchu' 'zmęczenie zaśnięcie'\n",
      " 'nieprawidłowe: wymijanie' 'nieprzestrzeganie innych sygnałów'\n",
      " 'niestosowanie się do sygnalizacji świetlnej'\n",
      " 'nieustąpienie pierwszeństwa pieszemu na przejściu dla pieszych'\n",
      " 'gwałtowne hamowanie' 'nieprawidłowe: wyprzedzanie'\n",
      " 'nieprawidłowe: zatrzymywanie postój' 'nieprawidłowe: zawracanie'\n",
      " 'nieustąpienie pierwszeństwa pieszemu w innych okolicznościach'\n",
      " 'nieustąpienie pierwszeństwa pieszemu przy skręcaniu w drogę poprzeczną'\n",
      " 'gwałtowne hamowanie niezachowanie bezp odl między pojazdami'\n",
      " 'omijanie pojazdu przed przejściem dla pieszych'\n",
      " 'nieprawidłowe: cofanie zatrzymywanie postój'\n",
      " 'nieprawidłowe: skręcanie wyprzedzanie'\n",
      " 'nieudzielenie pierwszeństwa przejazdu niezachowanie bezp odl między pojazdami'\n",
      " 'nieprawidłowe: zmienianie pasa ruchu nieudzielenie pierwszeństwa przejazdu'\n",
      " 'wyprzedzanie pojazdu przed przejściem dla pieszych'\n",
      " 'nieprawidłowe: zawracanie zmienianie pasa ruchu'\n",
      " 'jazda bez wymaganego oświetlenia'\n",
      " 'inne przyczyny nieudzielenie pierwszeństwa przejazdu'\n",
      " 'nieprawidłowe przejeżdżanie przejazdu dla rowerzystów'\n",
      " 'nieprawidłowe: wyprzedzanie zmienianie pasa ruchu'\n",
      " 'nieprawidłowe: wyprzedzanie nieudzielenie pierwszeństwa przejazdu'\n",
      " 'nieprawidłowe: skręcanie nieudzielenie pierwszeństwa przejazdu'\n",
      " 'nieprawidłowe: wymijanie niezachowanie bezp odl między pojazdami'\n",
      " 'inne przyczyny niezachowanie bezp odl między pojazdami'\n",
      " 'nieprawidłowe: omijanie zatrzymywanie postój'\n",
      " 'inne przyczyny niedostosowanie prędkości do warunków ruchu'\n",
      " 'nieudzielenie pierwszeństwa przejazdu wyprzedzanie pojazdu przed przejściem dla pieszych'\n",
      " 'nieprawidłowe: skręcanie zatrzymywanie postój'\n",
      " 'nieprawidłowe: cofanie wyprzedzanie'\n",
      " 'nieprawidłowe: cofanie nieudzielenie pierwszeństwa przejazdu'\n",
      " 'inne przyczyny nieprawidłowe: skręcanie'\n",
      " 'nieprawidłowe: wyprzedzanie niezachowanie bezp odl między pojazdami'\n",
      " 'jazda bez wymaganego oświetlenia nieprawidłowe: wyprzedzanie'\n",
      " 'nieprawidłowe: zawracanie niezachowanie bezp odl między pojazdami'\n",
      " 'nieprzestrzeganie innych sygnałów nieudzielenie pierwszeństwa przejazdu'\n",
      " 'inne przyczyny omijanie pojazdu przed przejściem dla pieszych'\n",
      " 'nieprawidłowe wymijanie' 'niezachowanie bezp odleg między pojazdami'\n",
      " 'nieprawidłowe skręcanie' 'nieustąpienie pierwszeństwa przejazdu'\n",
      " 'nieprawidłowe cofanie' 'nieprawidłowe zmienianie pasa ruchu'\n",
      " 'nieprzestrzeganie znaków i innych sygnałów' 'nieprawidłowe wyprzedzanie'\n",
      " 'nieprawidłowe omijanie' 'nieprawidłowe zawracanie'\n",
      " 'nieprawidłowe skręcanie wyprzedzanie'\n",
      " 'nieprawidłowe zatrzymywanie postój'\n",
      " 'nieprawidłowe zmienianie pasa ruchu nieustąpienie pierwszeństwa przejazdu'\n",
      " 'inne przyczyny nieustąpienie pierwszeństwa przejazdu'\n",
      " 'nieprawidłowe skręcanie nieustąpienie pierwszeństwa przejazdu'\n",
      " 'nieprawidłowe cofanie omijanie' 'inne przyczyny nieprawidłowe skręcanie'\n",
      " 'gwałtowne hamowanie nieprawidłowe zmienianie pasa ruchu'\n",
      " 'inne przyczyny nieprawidłowe omijanie'\n",
      " 'gwałtowne hamowanie niezachowanie bezp odleg między pojazdami'\n",
      " 'gwałtowne hamowanie nieustąpienie pierwszeństwa przejazdu'\n",
      " 'inne przyczyny nieprawidłowe cofanie'\n",
      " 'nieprawidłowe omijanie zatrzymywanie postój'\n",
      " 'nieprawidłowe omijanie skręcanie' 'nieprawidłowe cofanie skręcanie'\n",
      " 'nieprawidłowe wyprzedzanie zmienianie pasa ruchu'\n",
      " 'nieprawidłowe omijanie zmienianie pasa ruchu'\n",
      " 'nieprawidłowe wyprzedzanie nieustąpienie pierwszeństwa przejazdu'\n",
      " 'nieprawidłowe omijanie nieustąpienie pierwszeństwa przejazdu'\n",
      " 'jazda bez wymaganych świateł'\n",
      " 'nieprawidłowe zmienianie pasa ruchu nieprzestrzeganie znaków i innych sygnałów'\n",
      " 'nieustąpienie pierwszeństwa pieszemu na przejściu dla pieszych niezachowanie bezp odleg między pojazdami'\n",
      " 'niedostosowanie prędkości do warunków ruchu nieprawidłowe zawracanie'\n",
      " 'nieprzestrzeganie znaków i innych sygnałów nieustąpienie pierwszeństwa przejazdu'\n",
      " 'nieprawidłowe cofanie niezachowanie bezp odleg między pojazdami'\n",
      " 'nieprawidłowe zawracanie niezachowanie bezp odleg między pojazdami'\n",
      " 'nieprawidłowe zawracanie wyprzedzanie'\n",
      " 'nieprawidłowe skręcanie niezachowanie bezp odleg między pojazdami'\n",
      " 'inne przyczyny nieprzestrzeganie znaków i innych sygnałów'\n",
      " 'nieprawidłowe cofanie nieustąpienie pierwszeństwa przejazdu'\n",
      " 'nieprawidłowe zmienianie pasa ruchu niezachowanie bezp odleg między pojazdami'\n",
      " 'niedostosowanie prędkości do warunków ruchu nieustąpienie pierwszeństwa przejazdu'\n",
      " 'inne przyczyny niezachowanie bezp odleg między pojazdami'\n",
      " 'inne przyczyny nieprawidłowe wymijanie'\n",
      " 'niedostosowanie prędkości do warunków ruchu nieprawidłowe cofanie'\n",
      " 'niestosowanie się do sygnalizacji świetlnej nieustąpienie pierwszeństwa przejazdu'\n",
      " 'nieprawidłowe zawracanie cofanie'\n",
      " 'nieprawidłowe zatrzymywanie postój niezachowanie bezp odleg między pojazdami'\n",
      " 'nieprawidłowe wyprzedzanie niezachowanie bezp odleg między pojazdami'\n",
      " 'inne przyczyny nieprawidłowe wyprzedzanie'\n",
      " 'gwałtowne hamowanie nieprawidłowe wyprzedzanie'\n",
      " 'niedostosowanie prędkości do warunków ruchu nieprzestrzeganie znaków i innych sygnałów'\n",
      " 'niedostosowanie prędkości do warunków ruchu niezachowanie bezp odleg między pojazdami'\n",
      " 'inne przyczyny nieprawidłowe zmienianie pasa ruchu'\n",
      " 'jazda bez wymaganych świateł nieustąpienie pierwszeństwa przejazdu'\n",
      " 'nieprawidłowe omijanie wyprzedzanie'\n",
      " 'niedostosowanie prędkości do warunków ruchu nieprawidłowe zmienianie pasa'\n",
      " 'nieustąpienie pierwszeństwa pieszemu na przejściu dla pieszych wyprzedzanie pojazdu przed przejściem'\n",
      " 'nieprawidłowe cofanie zatrzymywanie postój'\n",
      " 'niedostosowanie prędkości do warunków ruchu nieprawidłowe wyprzedzanie'\n",
      " 'niedostosowanie prędkości do warunków ruchu nieprawidłowe wymijanie'\n",
      " 'nieprawidłowe cofanie nieprzestrzeganie znaków i innych sygnałów'\n",
      " 'nieprawidłowe omijanie wymijanie'\n",
      " 'inne przyczyny nieprawidłowe zawracanie'\n",
      " 'nieprawidłowe skręcanie nieprzestrzeganie znaków i innych sygnałów'\n",
      " 'nieustąpienie pierwszeństwa przejazdu niezachowanie bezp odleg między pojazdami'\n",
      " 'niedostosowanie prędkości do warunków ruchu nieprawidłowe skręcanie'\n",
      " 'nieustąpienie pierwszeństwa przejazdu omijanie pojazdu przed przejściem dla pieszych'\n",
      " 'nieprawidłowe skręcanie zatrzymywanie postój'\n",
      " 'nieprawidłowe omijanie nieprzestrzeganie znaków i innych sygnałów'\n",
      " 'nieprawidłowe wymijanie nieustąpienie pierwszeństwa przejazdu'\n",
      " 'jazda bez wymaganych świateł nieprawidłowe wyprzedzanie'\n",
      " 'nieprawidłowe cofanie wymijanie'\n",
      " 'nieprawidłowe wyprzedzanie nieprzestrzeganie znaków i innych sygnałów'\n",
      " 'inne przyczyny niestosowanie się do sygnalizacji świetlnej'\n",
      " 'jazda bez wymaganych świateł niedostosowanie prędkości do warunków ruchu']\n"
     ]
    }
   ],
   "source": [
    "print(df['zachowanie_kierujacego'].unique())"
   ]
  },
  {
   "cell_type": "code",
   "execution_count": 225,
   "metadata": {},
   "outputs": [
    {
     "data": {
      "text/plain": [
       "'[nan nieprawidłowe: cofanie omijanie niedostosowanie prędkości do warunków ruchu nieudzielenie pierwszeństwa przejazdu inne przyczyny niezachowanie bezp odl między pojazdami skręcanie zmienianie pasa zmęczenie zaśnięcie wymijanie nieprzestrzeganie innych sygnałów niestosowanie się sygnalizacji świetlnej nieustąpienie pieszemu na przejściu dla pieszych gwałtowne hamowanie wyprzedzanie zatrzymywanie postój zawracanie w okolicznościach przy skręcaniu drogę poprzeczną pojazdu przed przejściem jazda bez wymaganego oświetlenia nieprawidłowe przejeżdżanie rowerzystów odleg znaków i wymaganych świateł pojazdami]'"
      ]
     },
     "execution_count": 225,
     "metadata": {},
     "output_type": "execute_result"
    }
   ],
   "source": [
    "simplify_column(df['Zachowanie kierującego'])"
   ]
  },
  {
   "cell_type": "code",
   "execution_count": 226,
   "metadata": {},
   "outputs": [],
   "source": [
    "#teraz spróbujmy stworzyć dodatkowe kolumny dla zachowania kierującego\n",
    "\n",
    "df['zachowanie_kierujacego_niepr_cofanie']             = df['zachowanie_kierujacego'].apply(lambda x: 1 if 'cofanie' in str(x).lower() else 0)\n",
    "df['zachowanie_kierujacego_niepr_omijanie']            = df['zachowanie_kierujacego'].apply(lambda x: 1 if 'omijanie' in str(x).lower() else 0)\n",
    "df['zachowanie_kierujacego_niedost_predkosci']         = df['zachowanie_kierujacego'].apply(lambda x: 1 if 'prędkości' in str(x).lower() else 0)\n",
    "df['zachowanie_kierujacego_nieudzielenie_pierw']       = df['zachowanie_kierujacego'].apply(lambda x: 1 if 'pierwszeństwa' in str(x).lower() else 0)\n",
    "df['zachowanie_kierujacego_niepr_skrecanie']           = df['zachowanie_kierujacego'].apply(lambda x: 1 if 'skręcanie' in str(x).lower() else 0)\n",
    "df['zachowanie_kierujacego_niezachowanie_odl']         = df['zachowanie_kierujacego'].apply(lambda x: 1 if 'bezp. odl.' in str(x).lower() else 0)\n",
    "df['zachowanie_kierujacego_niepr_zmiana_pasa']         = df['zachowanie_kierujacego'].apply(lambda x: 1 if 'zmienianie ' in str(x).lower() else 0)\n",
    "df['zachowanie_kierujacego_zmeczenie']                 = df['zachowanie_kierujacego'].apply(lambda x: 1 if 'zmęczenie' in str(x).lower() else 0)\n",
    "df['zachowanie_kierujacego_niepr_wymijanie']           = df['zachowanie_kierujacego'].apply(lambda x: 1 if 'wymijanie' in str(x).lower() else 0)\n",
    "df['zachowanie_kierujacego_nieprzestrz_znakow']        = df['zachowanie_kierujacego'].apply(lambda x: 1 if 'nieprzestrzeganie' in str(x).lower() else 0)\n",
    "df['zachowanie_kierujacego_niestos_do_sygn']           = df['zachowanie_kierujacego'].apply(lambda x: 1 if 'sygnalizacji' in str(x).lower() else 0)\n",
    "df['zachowanie_kierujacego_nieust_przejazdu']          = df['zachowanie_kierujacego'].apply(lambda x: 1 if 'przejazdu' in str(x).lower() else 0)\n",
    "df['zachowanie_kierujacego_nieust_pieszemu']           = df['zachowanie_kierujacego'].apply(lambda x: 1 if 'pieszemu' in str(x).lower() else 0)\n",
    "df['zachowanie_kierujacego_gwalt_hamowanie']           = df['zachowanie_kierujacego'].apply(lambda x: 1 if 'gwałtowne' in str(x).lower() else 0)\n",
    "df['zachowanie_kierujacego_niepr_wyprzedzanie']        = df['zachowanie_kierujacego'].apply(lambda x: 1 if 'wyprzedzanie' in str(x).lower() else 0)\n",
    "df['zachowanie_kierujacego_niepr_zatrzymanie']         = df['zachowanie_kierujacego'].apply(lambda x: 1 if 'zatrzymanie' in str(x).lower() else 0)\n",
    "df['zachowanie_kierujacego_niepr_zawracanie']          = df['zachowanie_kierujacego'].apply(lambda x: 1 if 'zawracanie' in str(x).lower() else 0)\n",
    "df['zachowanie_kierujacego_niepr_przejazd_rowerowy']   = df['zachowanie_kierujacego'].apply(lambda x: 1 if 'rowerzystów' in str(x).lower() else 0)\n",
    "df['zachowanie_kierujacego_jazda_bez_swiatel']         = df['zachowanie_kierujacego'].apply(lambda x: 1 if 'świateł' in str(x).lower() else 0)\n",
    "df['zachowanie_kierujacego_inne_przyczyny']            = df['zachowanie_kierujacego'].apply(lambda x: 1 if 'inne' in str(x).lower() else 0)"
   ]
  },
  {
   "cell_type": "code",
   "execution_count": 227,
   "metadata": {},
   "outputs": [
    {
     "name": "stdout",
     "output_type": "stream",
     "text": [
      "kolumna Zachowanie pieszego:  object\n",
      "\n",
      "Przykładowe wartości:  [nan 'Wejście na jezdnię przy czerwonym świetle'\n",
      " 'Przekraczanie jezdni w miejscu niedozwolonym'\n",
      " 'Nieostrożne wejście na jezdnię: przed jadącym pojazdem'\n",
      " 'Inne przyczyny (od 11.2015)'\n",
      " 'Nieostrożne wejście na jezdnię: zza pojazdu, przeszkody'\n",
      " 'Chodzenie nieprawidłową stroną drogi' 'Stanie na jezdni, leżenie'\n",
      " 'Nieostrożne wejście na jezdnię: przed jadącym pojazdem; Nieostrożne wejście na jezdnię: przed jadącym pojazdem'\n",
      " 'Zatrzymanie, cofnięcie się'\n",
      " 'Przekraczanie jezdni w miejscu niedozwolonym; Przekraczanie jezdni w miejscu niedozwolonym'\n",
      " 'Inne przyczyny' 'Leżenie, siedzenie, klęczenie, stanie na jezdni'\n",
      " 'Nieostrożne wejście na jezdnię: zza pojazdu, przeszkody; Nieostrożne wejście na jezdnię: zza pojazdu, przeszkody'\n",
      " 'Wejście na jezdnię przy czerwonym świetle; Wejście na jezdnię przy czerwonym świetle'\n",
      " 'Inne przyczyny; Inne przyczyny'\n",
      " 'Chodzenie nieprawidłową stroną drogi; Chodzenie nieprawidłową stroną drogi'\n",
      " 'Leżenie, siedzenie, klęczenie, stanie na jezdni; Leżenie, siedzenie, klęczenie, stanie na jezdni']\n"
     ]
    }
   ],
   "source": [
    "print('kolumna Zachowanie pieszego: ', df['Zachowanie pieszego'].dtypes)\n",
    "print('\\nPrzykładowe wartości: ', df['Zachowanie pieszego'].unique())"
   ]
  },
  {
   "cell_type": "code",
   "execution_count": 228,
   "metadata": {},
   "outputs": [],
   "source": [
    "#uprośćmy wpisy\n",
    "df['zachowanie_pieszego'] = df['Zachowanie pieszego'].apply(lambda x: simplify_cell(x))"
   ]
  },
  {
   "cell_type": "code",
   "execution_count": 229,
   "metadata": {},
   "outputs": [
    {
     "data": {
      "text/plain": [
       "array(['nan', 'wejście na jezdnię przy czerwonym świetle',\n",
       "       'przekraczanie jezdni w miejscu niedozwolonym',\n",
       "       'nieostrożne wejście na jezdnię: przed jadącym pojazdem',\n",
       "       'inne przyczyny',\n",
       "       'nieostrożne wejście na jezdnię: zza pojazdu przeszkody',\n",
       "       'chodzenie nieprawidłową stroną drogi', 'stanie na jezdni leżenie',\n",
       "       'zatrzymanie cofnięcie się',\n",
       "       'leżenie siedzenie klęczenie stanie na jezdni'], dtype=object)"
      ]
     },
     "execution_count": 229,
     "metadata": {},
     "output_type": "execute_result"
    }
   ],
   "source": [
    "df['zachowanie_pieszego'].unique()"
   ]
  },
  {
   "cell_type": "code",
   "execution_count": 230,
   "metadata": {},
   "outputs": [
    {
     "name": "stdout",
     "output_type": "stream",
     "text": [
      "kolumna Liczba rannych w zdarzeniu:  int64\n",
      "\n",
      "Przykładowe wartości:  [ 0  4  1  2  3  6  5  9 11  8 26  7 10 12]\n"
     ]
    }
   ],
   "source": [
    "print('kolumna Liczba rannych w zdarzeniu: ', df['Liczba rannych w zdarzeniu'].dtypes)\n",
    "print('\\nPrzykładowe wartości: ', df['Liczba rannych w zdarzeniu'].unique())\n",
    "\n",
    "#Jest ok, zmieńmy tylko nazwę na prostszą w edycji\n",
    "df['ranni'] = df['Liczba rannych w zdarzeniu']"
   ]
  },
  {
   "cell_type": "code",
   "execution_count": 231,
   "metadata": {},
   "outputs": [
    {
     "name": "stdout",
     "output_type": "stream",
     "text": [
      "kolumna Liczba zabitych w zdarzeniu:  int64\n",
      "\n",
      "Przykładowe wartości:  [0 1 2 4 3]\n"
     ]
    }
   ],
   "source": [
    "print('kolumna Liczba zabitych w zdarzeniu: ', df['Liczba zabitych w zdarzeniu'].dtypes)\n",
    "print('\\nPrzykładowe wartości: ', df['Liczba zabitych w zdarzeniu'].unique())\n",
    "\n",
    "#Jest ok, zmieńmy tylko nazwę na prostszą w edycji\n",
    "df['zabici'] = df['Liczba zabitych w zdarzeniu']"
   ]
  },
  {
   "cell_type": "code",
   "execution_count": 232,
   "metadata": {},
   "outputs": [
    {
     "name": "stdout",
     "output_type": "stream",
     "text": [
      "kolumna Liczba kolizji:  int64\n",
      "\n",
      "Przykładowe wartości:  [1 0]\n"
     ]
    }
   ],
   "source": [
    "print('kolumna Liczba kolizji: ', df['Liczba kolizji'].dtypes)\n",
    "print('\\nPrzykładowe wartości: ', df['Liczba kolizji'].unique())\n",
    "\n",
    "#Jest ok, zmieńmy tylko nazwę na prostszą w edycji i więcej mówiącą o danych w kolumnie (czy to była kolizja?)\n",
    "df['kolizja'] = df['Liczba kolizji']"
   ]
  },
  {
   "cell_type": "code",
   "execution_count": 233,
   "metadata": {},
   "outputs": [
    {
     "name": "stdout",
     "output_type": "stream",
     "text": [
      "kolumna Liczba wypadków:  int64\n",
      "\n",
      "Przykładowe wartości:  [0 1]\n"
     ]
    }
   ],
   "source": [
    "print('kolumna Liczba wypadków: ', df['Liczba wypadków'].dtypes)\n",
    "print('\\nPrzykładowe wartości: ', df['Liczba wypadków'].unique())\n",
    "\n",
    "#Jest ok, zmieńmy tylko nazwę na prostszą w edycji i więcej mówiącą o danych w kolumnie (czy to był wypadek?)\n",
    "df['wypadek'] = df['Liczba wypadków']"
   ]
  },
  {
   "cell_type": "markdown",
   "metadata": {},
   "source": [
    "## KONIEC!"
   ]
  },
  {
   "cell_type": "code",
   "execution_count": 234,
   "metadata": {},
   "outputs": [
    {
     "data": {
      "text/plain": [
       "['Data zdarzenia',\n",
       " 'Godzina',\n",
       " 'GPS x',\n",
       " 'GPS y',\n",
       " 'miasto',\n",
       " 'Ulica',\n",
       " 'numer_domu',\n",
       " 'numer_drogi',\n",
       " 'KM HM (Pikietaż)',\n",
       " 'Obszar',\n",
       " 'Skrzyżowanie',\n",
       " 'Geometria drogi',\n",
       " 'Charakterystyka miejsca zdarzenia',\n",
       " 'Oświetlenie',\n",
       " 'warunki_atmosferyczne',\n",
       " 'Rodzaj zdarzenia',\n",
       " 'Wina',\n",
       " 'Rodzaj drogi',\n",
       " 'Nawierzchnia drogi',\n",
       " 'Stan nawierzchni',\n",
       " 'Sygnalizacja świetlna',\n",
       " 'Oznakowanie poziome',\n",
       " 'Liczba pasów w zdarzeniu',\n",
       " 'Zachowanie kierującego',\n",
       " 'Zachowanie pieszego',\n",
       " 'Inne przyczyny',\n",
       " 'Liczba rannych w zdarzeniu',\n",
       " 'Liczba zabitych w zdarzeniu',\n",
       " 'Liczba kolizji',\n",
       " 'Liczba wypadków',\n",
       " 'data_full',\n",
       " 'miesiac',\n",
       " 'godzina',\n",
       " 'minuta',\n",
       " 'pelna_data',\n",
       " 'dzien_tygodnia',\n",
       " 'czy_weekend',\n",
       " 'GPS_x',\n",
       " 'GPS_y',\n",
       " 'ulica',\n",
       " 'pikietaz',\n",
       " 'obszar_zabudowany',\n",
       " 'skrzyzowanie',\n",
       " 'geometria_drogi',\n",
       " 'charakterystyka_miejsca_zdarzenia',\n",
       " 'oswietlenie',\n",
       " 'pogoda_dobre_warunki',\n",
       " 'pogoda_pochmurno',\n",
       " 'pogoda_mgla',\n",
       " 'pogoda_dym',\n",
       " 'pogoda_oslep_slonce',\n",
       " 'pogoda_opady',\n",
       " 'pogoda_snieg',\n",
       " 'pogoda_grad',\n",
       " 'pogoda_deszcz',\n",
       " 'pogoda_wiatr',\n",
       " 'rodzaj_zdarzenia',\n",
       " 'wina',\n",
       " 'rodzaj_drogi',\n",
       " 'nawierzchnia_twarda',\n",
       " 'stan_nawierzchni',\n",
       " 'nawierzchnia_sucha',\n",
       " 'nawierzchnia_mokra',\n",
       " 'nawierzchnia_oblodzona',\n",
       " 'nawierzchnia_zasniezona',\n",
       " 'nawierzchnia_koleiny',\n",
       " 'nawierzchnia_garby',\n",
       " 'nawierzchnia_zanieczyszczona',\n",
       " 'nawierzchnia_dziury',\n",
       " 'nawierzchnia_wyboje',\n",
       " 'nawierzchnia_kaluze',\n",
       " 'nawierzchnia_rozlewiska',\n",
       " 'sygnalizacja_swietlna',\n",
       " 'oznakowanie_poziome',\n",
       " 'zachowanie_kierujacego',\n",
       " 'zachowanie_kierujacego_niepr_cofanie',\n",
       " 'zachowanie_kierujacego_niepr_omijanie',\n",
       " 'zachowanie_kierujacego_niedost_predkosci',\n",
       " 'zachowanie_kierujacego_nieudzielenie_pierw',\n",
       " 'zachowanie_kierujacego_niepr_skrecanie',\n",
       " 'zachowanie_kierujacego_niezachowanie_odl',\n",
       " 'zachowanie_kierujacego_niepr_zmiana_pasa',\n",
       " 'zachowanie_kierujacego_zmeczenie',\n",
       " 'zachowanie_kierujacego_niepr_wymijanie',\n",
       " 'zachowanie_kierujacego_nieprzestrz_znakow',\n",
       " 'zachowanie_kierujacego_niestos_do_sygn',\n",
       " 'zachowanie_kierujacego_nieust_przejazdu',\n",
       " 'zachowanie_kierujacego_nieust_pieszemu',\n",
       " 'zachowanie_kierujacego_gwalt_hamowanie',\n",
       " 'zachowanie_kierujacego_niepr_wyprzedzanie',\n",
       " 'zachowanie_kierujacego_niepr_zatrzymanie',\n",
       " 'zachowanie_kierujacego_niepr_zawracanie',\n",
       " 'zachowanie_kierujacego_niepr_przejazd_rowerowy',\n",
       " 'zachowanie_kierujacego_jazda_bez_swiatel',\n",
       " 'zachowanie_kierujacego_inne_przyczyny',\n",
       " 'zachowanie_pieszego',\n",
       " 'ranni',\n",
       " 'zabici',\n",
       " 'kolizja',\n",
       " 'wypadek']"
      ]
     },
     "execution_count": 234,
     "metadata": {},
     "output_type": "execute_result"
    }
   ],
   "source": [
    "# No dobra, wcale nie ;) Stwórzmy nowy dataset, który zawiera wszystkie nasze istotne kolumny\n",
    "# Istotne, czyli które?\n",
    "cols = df.columns.tolist()\n",
    "cols"
   ]
  },
  {
   "cell_type": "code",
   "execution_count": 235,
   "metadata": {},
   "outputs": [],
   "source": [
    "potrzebne = [\n",
    " 'data_full',\n",
    " 'miesiac',\n",
    " 'godzina',\n",
    " 'minuta',\n",
    " 'pelna_data',   \n",
    " 'dzien_tygodnia',\n",
    " 'czy_weekend',\n",
    " 'GPS_x',\n",
    " 'GPS_y',\n",
    " 'miasto',\n",
    " 'ulica'\n",
    " 'numer_domu',\n",
    " 'numer_drogi',\n",
    " 'warunki_atmosferyczne',\n",
    " 'pikietaz',\n",
    " 'obszar',\n",
    " 'skrzyzowanie',\n",
    " 'geometria_drogi',\n",
    " 'charakterystyka_miejsca_zdarzenia',\n",
    " 'oswietlenie',\n",
    " 'pogoda_dobre_warunki',\n",
    " 'pogoda_pochmurno',\n",
    " 'pogoda_mgla',\n",
    " 'pogoda_dym',\n",
    " 'pogoda_oslep_slonce',\n",
    " 'pogoda_opady',\n",
    " 'pogoda_snieg',\n",
    " 'pogoda_grad',\n",
    " 'pogoda_deszcz',\n",
    " 'pogoda_wiatr',\n",
    " 'rodzaj_zdarzenia_kat',\n",
    " 'rodzaj_zdarzenia',\n",
    " 'wina',\n",
    " 'rodzaj_drogi_kat',\n",
    " 'rodzaj_drogi',\n",
    " 'nawierzchnia_twarda',\n",
    " 'stan_nawierzchni',\n",
    " 'nawierzchnia_sucha',\n",
    " 'nawierzchnia_mokra',\n",
    " 'nawierzchnia_oblodzona',\n",
    " 'nawierzchnia_zasniezona',\n",
    " 'nawierzchnia_koleiny',\n",
    " 'nawierzchnia_garby',\n",
    " 'nawierzchnia_zanieczyszczona',\n",
    " 'nawierzchnia_dziury',\n",
    " 'nawierzchnia_wyboje',\n",
    " 'nawierzchnia_kaluze',\n",
    " 'nawierzchnia_rozlewiska',\n",
    " 'sygnalizacja_swietlna',\n",
    " 'oznakowanie_poziome',\n",
    " 'zachowanie_kierujacego',\n",
    " 'zachowanie_kierujacego_niepr_cofanie',\n",
    " 'zachowanie_kierujacego_niepr_omijanie',\n",
    " 'zachowanie_kierujacego_niedost_predkosci',\n",
    " 'zachowanie_kierujacego_nieudzielenie_pierw',\n",
    " 'zachowanie_kierujacego_niepr_skrecanie',\n",
    " 'zachowanie_kierujacego_niezachowanie_odl',\n",
    " 'zachowanie_kierujacego_niepr_zmiana_pasa',\n",
    " 'zachowanie_kierujacego_zmeczenie',\n",
    " 'zachowanie_kierujacego_niepr_wymijanie',\n",
    " 'zachowanie_kierujacego_nieprzestrz_znakow',\n",
    " 'zachowanie_kierujacego_niestos_do_sygn',\n",
    " 'zachowanie_kierujacego_nieust_przejazdu',\n",
    " 'zachowanie_kierujacego_nieust_pieszemu',\n",
    " 'zachowanie_kierujacego_gwalt_hamowanie',\n",
    " 'zachowanie_kierujacego_niepr_wyprzedzanie',\n",
    " 'zachowanie_kierujacego_niepr_zatrzymanie',\n",
    " 'zachowanie_kierujacego_niepr_zawracanie',\n",
    " 'zachowanie_kierujacego_niepr_przejazd_rowerowy',\n",
    " 'zachowanie_kierujacego_jazda_bez_swiatel',\n",
    " 'zachowanie_kierujacego_inne_przyczyny',\n",
    " 'zachowanie_pieszego',\n",
    " 'ranni',\n",
    " 'zabici',\n",
    " 'kolizja',\n",
    " 'wypadek']"
   ]
  },
  {
   "cell_type": "code",
   "execution_count": 236,
   "metadata": {},
   "outputs": [],
   "source": [
    "df_new = df.filter(potrzebne, axis=1).copy()"
   ]
  },
  {
   "cell_type": "code",
   "execution_count": 237,
   "metadata": {},
   "outputs": [
    {
     "data": {
      "text/plain": [
       "(229929, 71)"
      ]
     },
     "execution_count": 237,
     "metadata": {},
     "output_type": "execute_result"
    }
   ],
   "source": [
    "df_new.shape"
   ]
  },
  {
   "cell_type": "code",
   "execution_count": 238,
   "metadata": {},
   "outputs": [],
   "source": [
    "#Zapiszmy nasz nowy dataset ;)\n",
    "df_new.to_csv('../data/df_modified.csv')"
   ]
  },
  {
   "cell_type": "code",
   "execution_count": null,
   "metadata": {},
   "outputs": [],
   "source": []
  }
 ],
 "metadata": {
  "kernelspec": {
   "display_name": "Python 3",
   "language": "python",
   "name": "python3"
  },
  "language_info": {
   "codemirror_mode": {
    "name": "ipython",
    "version": 3
   },
   "file_extension": ".py",
   "mimetype": "text/x-python",
   "name": "python",
   "nbconvert_exporter": "python",
   "pygments_lexer": "ipython3",
   "version": "3.7.4"
  }
 },
 "nbformat": 4,
 "nbformat_minor": 2
}
