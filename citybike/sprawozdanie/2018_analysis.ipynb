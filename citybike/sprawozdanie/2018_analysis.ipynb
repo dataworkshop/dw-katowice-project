{
 "cells": [
  {
   "cell_type": "markdown",
   "metadata": {},
   "source": [
    "<h1>CITYBIKE KATOWICE 2018"
   ]
  },
  {
   "cell_type": "markdown",
   "metadata": {},
   "source": [
    "<h3> You will find below the complete step by step data analysis of the data set from bike provider in Katowice in 2018"
   ]
  },
  {
   "cell_type": "code",
   "execution_count": 76,
   "metadata": {},
   "outputs": [
    {
     "data": {
      "text/html": [
       "<img src=\"https://media.giphy.com/media/FUtOLh4CmsXZe/giphy.gif\">"
      ],
      "text/plain": [
       "<IPython.core.display.HTML object>"
      ]
     },
     "execution_count": 76,
     "metadata": {},
     "output_type": "execute_result"
    }
   ],
   "source": [
    "from IPython.display import HTML\n",
    "HTML('<img src=\"https://media.giphy.com/media/FUtOLh4CmsXZe/giphy.gif\">')"
   ]
  },
  {
   "cell_type": "markdown",
   "metadata": {},
   "source": [
    "<h2> First things first"
   ]
  },
  {
   "cell_type": "markdown",
   "metadata": {},
   "source": [
    "<h3>Import the dataset, review it, add new columns so your work would be easier."
   ]
  },
  {
   "cell_type": "code",
   "execution_count": 5,
   "metadata": {},
   "outputs": [],
   "source": [
    "#this will be needed\n",
    "import pandas as pd\n",
    "import numpy as np\n",
    "import datetime"
   ]
  },
  {
   "cell_type": "code",
   "execution_count": 6,
   "metadata": {},
   "outputs": [],
   "source": [
    "#import dataset\n",
    "wyp2018 = pd.read_csv('./dane/wyp_2018.csv')"
   ]
  },
  {
   "cell_type": "code",
   "execution_count": 7,
   "metadata": {},
   "outputs": [
    {
     "data": {
      "text/html": [
       "<div>\n",
       "<style scoped>\n",
       "    .dataframe tbody tr th:only-of-type {\n",
       "        vertical-align: middle;\n",
       "    }\n",
       "\n",
       "    .dataframe tbody tr th {\n",
       "        vertical-align: top;\n",
       "    }\n",
       "\n",
       "    .dataframe thead th {\n",
       "        text-align: right;\n",
       "    }\n",
       "</style>\n",
       "<table border=\"1\" class=\"dataframe\">\n",
       "  <thead>\n",
       "    <tr style=\"text-align: right;\">\n",
       "      <th></th>\n",
       "      <th>bike_num</th>\n",
       "      <th>start_time</th>\n",
       "      <th>end_time</th>\n",
       "      <th>departure</th>\n",
       "      <th>return</th>\n",
       "      <th>duration_sec</th>\n",
       "    </tr>\n",
       "  </thead>\n",
       "  <tbody>\n",
       "    <tr>\n",
       "      <th>0</th>\n",
       "      <td>58388</td>\n",
       "      <td>2018-04-01 00:16:10</td>\n",
       "      <td>2018-04-01 00:20:17</td>\n",
       "      <td>Murapol Mariacka</td>\n",
       "      <td>KTBS – Krasińskiego 14</td>\n",
       "      <td>247</td>\n",
       "    </tr>\n",
       "    <tr>\n",
       "      <th>1</th>\n",
       "      <td>58745</td>\n",
       "      <td>2018-04-01 00:10:28</td>\n",
       "      <td>2018-04-01 00:20:28</td>\n",
       "      <td>Murapol Mariacka</td>\n",
       "      <td>KTBS – Krasińskiego 14</td>\n",
       "      <td>600</td>\n",
       "    </tr>\n",
       "    <tr>\n",
       "      <th>2</th>\n",
       "      <td>58547</td>\n",
       "      <td>2018-04-01 10:34:09</td>\n",
       "      <td>2018-04-01 10:41:38</td>\n",
       "      <td>KTBS – Krasińskiego 14</td>\n",
       "      <td>Katowice Rynek</td>\n",
       "      <td>449</td>\n",
       "    </tr>\n",
       "    <tr>\n",
       "      <th>3</th>\n",
       "      <td>58786</td>\n",
       "      <td>2018-04-01 11:31:14</td>\n",
       "      <td>2018-04-01 11:45:20</td>\n",
       "      <td>Bogucice Szpital</td>\n",
       "      <td>KTBS – Saint Etienne 1</td>\n",
       "      <td>846</td>\n",
       "    </tr>\n",
       "    <tr>\n",
       "      <th>4</th>\n",
       "      <td>58884</td>\n",
       "      <td>2018-04-01 11:29:51</td>\n",
       "      <td>2018-04-01 11:45:39</td>\n",
       "      <td>Bogucice Szpital</td>\n",
       "      <td>KTBS – Saint Etienne 1</td>\n",
       "      <td>948</td>\n",
       "    </tr>\n",
       "  </tbody>\n",
       "</table>\n",
       "</div>"
      ],
      "text/plain": [
       "   bike_num           start_time             end_time               departure  \\\n",
       "0     58388  2018-04-01 00:16:10  2018-04-01 00:20:17        Murapol Mariacka   \n",
       "1     58745  2018-04-01 00:10:28  2018-04-01 00:20:28        Murapol Mariacka   \n",
       "2     58547  2018-04-01 10:34:09  2018-04-01 10:41:38  KTBS – Krasińskiego 14   \n",
       "3     58786  2018-04-01 11:31:14  2018-04-01 11:45:20        Bogucice Szpital   \n",
       "4     58884  2018-04-01 11:29:51  2018-04-01 11:45:39        Bogucice Szpital   \n",
       "\n",
       "                   return  duration_sec  \n",
       "0  KTBS – Krasińskiego 14           247  \n",
       "1  KTBS – Krasińskiego 14           600  \n",
       "2          Katowice Rynek           449  \n",
       "3  KTBS – Saint Etienne 1           846  \n",
       "4  KTBS – Saint Etienne 1           948  "
      ]
     },
     "execution_count": 7,
     "metadata": {},
     "output_type": "execute_result"
    }
   ],
   "source": [
    "#give it a glimpse\n",
    "wyp2018.head(5)"
   ]
  },
  {
   "cell_type": "code",
   "execution_count": 8,
   "metadata": {},
   "outputs": [
    {
     "data": {
      "text/plain": [
       "(193328, 6)"
      ]
     },
     "execution_count": 8,
     "metadata": {},
     "output_type": "execute_result"
    }
   ],
   "source": [
    "# check its size\n",
    "wyp2018.shape"
   ]
  },
  {
   "cell_type": "code",
   "execution_count": 9,
   "metadata": {},
   "outputs": [
    {
     "data": {
      "text/plain": [
       "bike_num         int64\n",
       "start_time      object\n",
       "end_time        object\n",
       "departure       object\n",
       "return          object\n",
       "duration_sec     int64\n",
       "dtype: object"
      ]
     },
     "execution_count": 9,
     "metadata": {},
     "output_type": "execute_result"
    }
   ],
   "source": [
    "#and data types\n",
    "wyp2018.dtypes"
   ]
  },
  {
   "cell_type": "code",
   "execution_count": 10,
   "metadata": {},
   "outputs": [],
   "source": [
    "#create additional columns dividing departure time into smaller chunks\n",
    "wyp2018['start_day'] = pd.DatetimeIndex(wyp2018['start_time']).day\n",
    "wyp2018['start_month'] = pd.DatetimeIndex(wyp2018['start_time']).month\n",
    "wyp2018['start_hour'] = pd.DatetimeIndex(wyp2018['start_time']).hour\n",
    "wyp2018['start_minute'] = pd.DatetimeIndex(wyp2018['start_time']).minute\n",
    "wyp2018['month_day'] = pd.DatetimeIndex(wyp2018['start_time']).date\n",
    "wyp2018['duration_min'] = wyp2018['duration_sec']/60\n",
    "wyp2018['duration_hour'] = (wyp2018['duration_min']/60).apply(int)\n",
    "\n",
    "#create additional columns to gather more information. Which day of week was it? monday = 0, sunday = 6\n",
    "wyp2018['which_day'] = pd.DatetimeIndex(wyp2018['start_time']).dayofweek\n",
    "\n",
    "# Which day of year was it?\n",
    "wyp2018['daynumber'] = pd.DatetimeIndex(wyp2018['start_time']).dayofyear\n",
    "\n",
    "#was it weekend?\n",
    "wyp2018['is_weekend'] = wyp2018['which_day'].apply(lambda x: 1 if (x == 6 or x == 5 ) else 0 )\n",
    "\n",
    "#was it a holiday?\n",
    "free = [ datetime.date(2018,1,1),\n",
    "        datetime.date(2018,1,6),\n",
    "        datetime.date(2018,4,1),\n",
    "        datetime.date(2018,4,2),\n",
    "        datetime.date(2018,5,1),\n",
    "        datetime.date(2018,5,3),\n",
    "        datetime.date(2018,5,20),\n",
    "        datetime.date(2018,5,31),\n",
    "        datetime.date(2018,8,15),\n",
    "        datetime.date(2018,11,1),\n",
    "        datetime.date(2018,11,11),\n",
    "        datetime.date(2018,11,12),\n",
    "        datetime.date(2018,12,25),\n",
    "        datetime.date(2018,12,26)\n",
    "        ]\n",
    "\n",
    "wyp2018['is_free'] = wyp2018['month_day'].apply(lambda x: 1 if (x in free) else 0 )\n",
    "\n",
    "\n",
    "#was it a shopping sunday?\n",
    "handl = [datetime.date(2018,3,25),\n",
    "        datetime.date(2018,4,29),\n",
    "        datetime.date(2018,5,27),\n",
    "        datetime.date(2018,6,24),\n",
    "        datetime.date(2018,7,29),\n",
    "        datetime.date(2018,8,26),\n",
    "        datetime.date(2018,9,30),\n",
    "        datetime.date(2018,10,28),\n",
    "        datetime.date(2018,11,25),\n",
    "        datetime.date(2018,12,16),\n",
    "        datetime.date(2018,12,23)\n",
    "        ]\n",
    "\n",
    "def conditions(s):\n",
    "    if (s['month_day'] in handl):\n",
    "        return 1\n",
    "    elif (s['month_day'] not in handl) and (s['which_day'] == 6):\n",
    "        return 0\n",
    "    else:\n",
    "        return 2\n",
    "    \n",
    "wyp2018['shop'] = wyp2018.apply(conditions, axis=1)\n",
    "\n",
    "#create additional column to keep the route information in one place (departure - return)\n",
    "wyp2018[\"route\"] = wyp2018[\"departure\"] + ' - ' + wyp2018[\"return\"]"
   ]
  },
  {
   "cell_type": "markdown",
   "metadata": {},
   "source": [
    "<h2>Remove the data that is not necessary."
   ]
  },
  {
   "cell_type": "code",
   "execution_count": 11,
   "metadata": {},
   "outputs": [
    {
     "name": "stdout",
     "output_type": "stream",
     "text": [
      "Bikes were available for rent for 260 days.\n",
      "Bikes were available for rent for 9 months.\n"
     ]
    }
   ],
   "source": [
    "#What do we know for sure?\n",
    "print('Bikes were available for rent for {0} days.'.format(wyp2018['month_day'].nunique()))\n",
    "print('Bikes were available for rent for {0} months.'.format(wyp2018['start_month'].nunique()))"
   ]
  },
  {
   "cell_type": "code",
   "execution_count": 12,
   "metadata": {},
   "outputs": [],
   "source": [
    "#That is all we can be sure of. Before we start to look for number of rents, average rent time etc,\n",
    "#we need to check the data looking for outliers, odd values, anything that looks suspicious."
   ]
  },
  {
   "cell_type": "code",
   "execution_count": 13,
   "metadata": {},
   "outputs": [
    {
     "data": {
      "text/html": [
       "<img src=\"https://media.giphy.com/media/NS7gPxeumewkWDOIxi/giphy.gif\">"
      ],
      "text/plain": [
       "<IPython.core.display.HTML object>"
      ]
     },
     "execution_count": 13,
     "metadata": {},
     "output_type": "execute_result"
    }
   ],
   "source": [
    "from IPython.display import HTML\n",
    "HTML('<img src=\"https://media.giphy.com/media/NS7gPxeumewkWDOIxi/giphy.gif\">')"
   ]
  },
  {
   "cell_type": "code",
   "execution_count": 14,
   "metadata": {},
   "outputs": [
    {
     "data": {
      "text/plain": [
       "minutes\n",
       "0    11204\n",
       "1     6488\n",
       "2     4448\n",
       "3     5864\n",
       "4     7756\n",
       "Name: bike_num, dtype: int64"
      ]
     },
     "execution_count": 14,
     "metadata": {},
     "output_type": "execute_result"
    }
   ],
   "source": [
    "#Let's start with the time of rentals and see how long are they. Are any of them too short to be true? \n",
    "(wyp2018.assign(minutes = lambda _wyp2018: _wyp2018['duration_min'].astype(int))\n",
    "        .groupby('minutes')\n",
    "        .count()\n",
    "        .head(5)\n",
    ")['bike_num']"
   ]
  },
  {
   "cell_type": "code",
   "execution_count": 15,
   "metadata": {},
   "outputs": [],
   "source": [
    "#Google Maps states you can ride 400m in 1 minute. I think we can safely assume that if a bike was returned to the\n",
    "#same station it was rented in less than 3 minutes, user has change his mind or the bike was broken. Let's remove\n",
    "#from the dataset all the rides that lasted lesss than 3 minutes and have the depart = return.\n",
    "#It will be 20363 records\n",
    "remove = wyp2018[(wyp2018['duration_min'] < 3) & (wyp2018['departure'] == wyp2018['return'])].index\n",
    "wyp2018 = wyp2018.drop(index=remove)"
   ]
  },
  {
   "cell_type": "code",
   "execution_count": 16,
   "metadata": {},
   "outputs": [
    {
     "data": {
      "text/html": [
       "<div>\n",
       "<style scoped>\n",
       "    .dataframe tbody tr th:only-of-type {\n",
       "        vertical-align: middle;\n",
       "    }\n",
       "\n",
       "    .dataframe tbody tr th {\n",
       "        vertical-align: top;\n",
       "    }\n",
       "\n",
       "    .dataframe thead th {\n",
       "        text-align: right;\n",
       "    }\n",
       "</style>\n",
       "<table border=\"1\" class=\"dataframe\">\n",
       "  <thead>\n",
       "    <tr style=\"text-align: right;\">\n",
       "      <th></th>\n",
       "      <th>bike_num</th>\n",
       "      <th>start_time</th>\n",
       "      <th>end_time</th>\n",
       "      <th>departure</th>\n",
       "      <th>return</th>\n",
       "      <th>duration_sec</th>\n",
       "      <th>start_day</th>\n",
       "      <th>start_month</th>\n",
       "      <th>start_hour</th>\n",
       "      <th>start_minute</th>\n",
       "      <th>month_day</th>\n",
       "      <th>duration_min</th>\n",
       "      <th>duration_hour</th>\n",
       "      <th>which_day</th>\n",
       "      <th>daynumber</th>\n",
       "      <th>is_weekend</th>\n",
       "      <th>is_free</th>\n",
       "      <th>shop</th>\n",
       "      <th>route</th>\n",
       "    </tr>\n",
       "  </thead>\n",
       "  <tbody>\n",
       "    <tr>\n",
       "      <th>33</th>\n",
       "      <td>58517</td>\n",
       "      <td>2018-04-01 18:28:43</td>\n",
       "      <td>2018-04-01 18:31:42</td>\n",
       "      <td>Silesia City Center</td>\n",
       "      <td>Murapol Chorzowska</td>\n",
       "      <td>179</td>\n",
       "      <td>1</td>\n",
       "      <td>4</td>\n",
       "      <td>18</td>\n",
       "      <td>28</td>\n",
       "      <td>2018-04-01</td>\n",
       "      <td>2.983333</td>\n",
       "      <td>0</td>\n",
       "      <td>6</td>\n",
       "      <td>91</td>\n",
       "      <td>1</td>\n",
       "      <td>1</td>\n",
       "      <td>0</td>\n",
       "      <td>Silesia City Center - Murapol Chorzowska</td>\n",
       "    </tr>\n",
       "    <tr>\n",
       "      <th>282</th>\n",
       "      <td>58882</td>\n",
       "      <td>2018-04-02 19:09:05</td>\n",
       "      <td>2018-04-02 19:11:40</td>\n",
       "      <td>Politechnika Śląska</td>\n",
       "      <td>KTBS – Krasińskiego 14</td>\n",
       "      <td>155</td>\n",
       "      <td>2</td>\n",
       "      <td>4</td>\n",
       "      <td>19</td>\n",
       "      <td>9</td>\n",
       "      <td>2018-04-02</td>\n",
       "      <td>2.583333</td>\n",
       "      <td>0</td>\n",
       "      <td>0</td>\n",
       "      <td>92</td>\n",
       "      <td>0</td>\n",
       "      <td>1</td>\n",
       "      <td>2</td>\n",
       "      <td>Politechnika Śląska - KTBS – Krasińskiego 14</td>\n",
       "    </tr>\n",
       "    <tr>\n",
       "      <th>315</th>\n",
       "      <td>58822</td>\n",
       "      <td>2018-04-02 22:06:10</td>\n",
       "      <td>2018-04-02 22:07:01</td>\n",
       "      <td>Silesia Business Park</td>\n",
       "      <td>Murapol Mariacka</td>\n",
       "      <td>51</td>\n",
       "      <td>2</td>\n",
       "      <td>4</td>\n",
       "      <td>22</td>\n",
       "      <td>6</td>\n",
       "      <td>2018-04-02</td>\n",
       "      <td>0.850000</td>\n",
       "      <td>0</td>\n",
       "      <td>0</td>\n",
       "      <td>92</td>\n",
       "      <td>0</td>\n",
       "      <td>1</td>\n",
       "      <td>2</td>\n",
       "      <td>Silesia Business Park - Murapol Mariacka</td>\n",
       "    </tr>\n",
       "  </tbody>\n",
       "</table>\n",
       "</div>"
      ],
      "text/plain": [
       "     bike_num           start_time             end_time  \\\n",
       "33      58517  2018-04-01 18:28:43  2018-04-01 18:31:42   \n",
       "282     58882  2018-04-02 19:09:05  2018-04-02 19:11:40   \n",
       "315     58822  2018-04-02 22:06:10  2018-04-02 22:07:01   \n",
       "\n",
       "                 departure                  return  duration_sec  start_day  \\\n",
       "33     Silesia City Center      Murapol Chorzowska           179          1   \n",
       "282    Politechnika Śląska  KTBS – Krasińskiego 14           155          2   \n",
       "315  Silesia Business Park        Murapol Mariacka            51          2   \n",
       "\n",
       "     start_month  start_hour  start_minute   month_day  duration_min  \\\n",
       "33             4          18            28  2018-04-01      2.983333   \n",
       "282            4          19             9  2018-04-02      2.583333   \n",
       "315            4          22             6  2018-04-02      0.850000   \n",
       "\n",
       "     duration_hour  which_day  daynumber  is_weekend  is_free  shop  \\\n",
       "33               0          6         91           1        1     0   \n",
       "282              0          0         92           0        1     2   \n",
       "315              0          0         92           0        1     2   \n",
       "\n",
       "                                            route  \n",
       "33       Silesia City Center - Murapol Chorzowska  \n",
       "282  Politechnika Śląska - KTBS – Krasińskiego 14  \n",
       "315      Silesia Business Park - Murapol Mariacka  "
      ]
     },
     "execution_count": 16,
     "metadata": {},
     "output_type": "execute_result"
    }
   ],
   "source": [
    "#Now let's check all the rides that lasted less than 3 minutes, but depart is different than return. We got 1777 of them\n",
    "wyp2018[(wyp2018['duration_min'] < 3) &  (wyp2018['departure'] != wyp2018['return'])].head(3)"
   ]
  },
  {
   "cell_type": "code",
   "execution_count": 17,
   "metadata": {},
   "outputs": [],
   "source": [
    "#Some of them are reasonable, for example Politechnika Śląska\tKTBS – Krasińskiego 14. The distance between those \n",
    "#2 stations is 230m. I propose to count distance for every route in the dataset, and than remove all the records\n",
    "#that are shorter than 3 minutes AND the distance between them is greater that 1200m (1 min = 400m according to Google Maps)"
   ]
  },
  {
   "cell_type": "code",
   "execution_count": 18,
   "metadata": {},
   "outputs": [],
   "source": [
    "#To calculate distance between the stations we need the geocoordinates,thus we will upload stations dataset\n",
    "#and merge with wyp2018\n",
    "stations = pd.read_csv('dane/stacje_2018.csv')\n",
    "#merge datasets adding geo coordinates to departure station\n",
    "df_temp = pd.merge(wyp2018, stations, left_on='departure', right_on='name')\n",
    "#merge datasets adding geo coordinates to return station\n",
    "wyp2018 = pd.merge(df_temp, stations, left_on='return', right_on='name')\n",
    "#remove unnecessary columns, rename ambigous\n",
    "wyp2018 = wyp2018.drop(columns = ['name_x', 'name_y', 'capacity_x', 'capacity_y'])\n",
    "wyp2018 = wyp2018.rename(columns={'id_x': 'dep_id', 'lat_x': 'dep_lat', 'lon_x' : 'dep_lon', 'id_y' : 'ret_id',\n",
    "                                  'lat_y' : 'ret_lat', 'lon_y' : 'ret_lon'})\n",
    "#sort df by 'start_time' column\n",
    "wyp2018 = wyp2018.sort_values(by=['start_time'])"
   ]
  },
  {
   "cell_type": "code",
   "execution_count": 19,
   "metadata": {},
   "outputs": [],
   "source": [
    "#for each route, calculate the distance. We only can calculate the distance of a straight line between the departure and\n",
    "#return points.\n",
    "from geopy.distance import geodesic\n",
    "wyp2018['distance'] = (wyp2018[['dep_lat','dep_lon','ret_lat','ret_lon']]\n",
    "        .apply(lambda x: geodesic( [ x[0],x[1] ], [ x[2],x[3] ] ).km, axis=1))"
   ]
  },
  {
   "cell_type": "code",
   "execution_count": 20,
   "metadata": {},
   "outputs": [],
   "source": [
    "#find all the records that are shorter than 3 minutes AND the distance between them is greater that 1200m\n",
    "#there are 186 of them - let's remove them\n",
    "remove = wyp2018[(wyp2018['duration_min'] < 3) & (wyp2018['distance'] > 1.2)].index\n",
    "wyp2018 = wyp2018.drop(index=remove)"
   ]
  },
  {
   "cell_type": "code",
   "execution_count": 21,
   "metadata": {},
   "outputs": [],
   "source": [
    "#we have removed 20549 records, what makes 10,6% of the whole dataset"
   ]
  },
  {
   "cell_type": "code",
   "execution_count": 22,
   "metadata": {},
   "outputs": [
    {
     "data": {
      "text/plain": [
       "duration_hour\n",
       "0     145343\n",
       "1      17859\n",
       "2       6002\n",
       "3       2196\n",
       "4        741\n",
       "5        254\n",
       "6        117\n",
       "7         59\n",
       "8         32\n",
       "9         29\n",
       "10        22\n",
       "11        22\n",
       "12        25\n",
       "13         9\n",
       "14        13\n",
       "15         4\n",
       "16         5\n",
       "17         2\n",
       "18         1\n",
       "19         4\n",
       "20         4\n",
       "21         2\n",
       "22         4\n",
       "23         4\n",
       "24         2\n",
       "25         2\n",
       "26         5\n",
       "28         1\n",
       "31         3\n",
       "35         1\n",
       "37         1\n",
       "40         1\n",
       "41         2\n",
       "45         1\n",
       "46         2\n",
       "47         1\n",
       "48         1\n",
       "49         1\n",
       "55         1\n",
       "69         1\n",
       "Name: bike_num, dtype: int64"
      ]
     },
     "execution_count": 22,
     "metadata": {},
     "output_type": "execute_result"
    }
   ],
   "source": [
    "#Let's then check oddly long rentals by grouping rentals by hours\n",
    "(wyp2018\n",
    "         .groupby('duration_hour')['bike_num']\n",
    "         .count()\n",
    ")"
   ]
  },
  {
   "cell_type": "code",
   "execution_count": 23,
   "metadata": {},
   "outputs": [
    {
     "data": {
      "text/plain": [
       "bike_num    1379\n",
       "dtype: int64"
      ]
     },
     "execution_count": 23,
     "metadata": {},
     "output_type": "execute_result"
    }
   ],
   "source": [
    "#the MAJORITY of rentals last less than 1 hour. But there are some REALLY STRANGE ones lasting even more than 24 hours\n",
    "#How many rentals are more than 3 hours?\n",
    "wyp2018[wyp2018['duration_hour'] > 3].count().head(1)"
   ]
  },
  {
   "cell_type": "code",
   "execution_count": 24,
   "metadata": {},
   "outputs": [
    {
     "data": {
      "text/plain": [
       "bike_num    0.007981\n",
       "dtype: float64"
      ]
     },
     "execution_count": 24,
     "metadata": {},
     "output_type": "execute_result"
    }
   ],
   "source": [
    "#That is merely a 0.1% of whole dataset\n",
    "(wyp2018[wyp2018['duration_hour'] > 3].count()/wyp2018['duration_hour'].count()).head(1)"
   ]
  },
  {
   "cell_type": "code",
   "execution_count": 25,
   "metadata": {},
   "outputs": [],
   "source": [
    "#I assumed we can remove all the rentals that lasted more than 3 hours without causing a damage to the results\n",
    "remove = wyp2018[wyp2018['duration_hour'] > 3].index\n",
    "wyp2018 = wyp2018.drop(index=remove)"
   ]
  },
  {
   "cell_type": "code",
   "execution_count": 26,
   "metadata": {},
   "outputs": [
    {
     "data": {
      "text/plain": [
       "(171400, 26)"
      ]
     },
     "execution_count": 26,
     "metadata": {},
     "output_type": "execute_result"
    }
   ],
   "source": [
    "#The dataframe is now of shape:\n",
    "wyp2018.shape"
   ]
  },
  {
   "cell_type": "markdown",
   "metadata": {},
   "source": [
    "<h2>Once you have nearly all the data, let's start with basic analysis."
   ]
  },
  {
   "cell_type": "code",
   "execution_count": 27,
   "metadata": {},
   "outputs": [
    {
     "name": "stdout",
     "output_type": "stream",
     "text": [
      "There were 420 bikes around the town.\n",
      "They were rented 171400 times in total.\n"
     ]
    }
   ],
   "source": [
    "#Now that the outliers are gone we can start analyzing data, starting with the number of bikes and rentals in total\n",
    "print('There were {0} bikes around the town.'.format(wyp2018['bike_num'].nunique()))\n",
    "print('They were rented {0} times in total.'.format(wyp2018['bike_num'].count()))"
   ]
  },
  {
   "cell_type": "code",
   "execution_count": 28,
   "metadata": {},
   "outputs": [
    {
     "data": {
      "text/plain": [
       "30.96407477635108"
      ]
     },
     "execution_count": 28,
     "metadata": {},
     "output_type": "execute_result"
    }
   ],
   "source": [
    "#Also, the average time of rentals:\n",
    "wyp2018['duration_min'].mean()"
   ]
  },
  {
   "cell_type": "code",
   "execution_count": 29,
   "metadata": {},
   "outputs": [
    {
     "data": {
      "text/plain": [
       "13.283333333333333"
      ]
     },
     "execution_count": 29,
     "metadata": {},
     "output_type": "execute_result"
    }
   ],
   "source": [
    "#the median of rentals' time\n",
    "wyp2018['duration_min'].median()"
   ]
  },
  {
   "cell_type": "code",
   "execution_count": 30,
   "metadata": {},
   "outputs": [
    {
     "name": "stdout",
     "output_type": "stream",
     "text": [
      "Number of rentals that were free (less than 15 minutes): \n"
     ]
    },
    {
     "data": {
      "text/plain": [
       "93823"
      ]
     },
     "execution_count": 30,
     "metadata": {},
     "output_type": "execute_result"
    }
   ],
   "source": [
    "#If the rental was less than 15 minutes, it was free of charge\n",
    "print('Number of rentals that were free (less than 15 minutes): ')\n",
    "wyp2018[wyp2018['duration_min'] < 15]['bike_num'].count()"
   ]
  },
  {
   "cell_type": "code",
   "execution_count": 31,
   "metadata": {},
   "outputs": [
    {
     "name": "stdout",
     "output_type": "stream",
     "text": [
      "It was 0.55 of total\n"
     ]
    }
   ],
   "source": [
    "print('It was {0:.2f} of total'.format(wyp2018[wyp2018['duration_min'] < 15]['bike_num'].count()/(wyp2018['bike_num'].count())))"
   ]
  },
  {
   "cell_type": "markdown",
   "metadata": {},
   "source": [
    "<h3>Now it is time for more specific information - number of rentals per month/day/etc"
   ]
  },
  {
   "cell_type": "code",
   "execution_count": 32,
   "metadata": {},
   "outputs": [
    {
     "name": "stdout",
     "output_type": "stream",
     "text": [
      "Number of rentals per month:\n",
      "start_month\n",
      "4     24479\n",
      "5     26022\n",
      "6     28337\n",
      "7     26644\n",
      "8     29213\n",
      "9     17235\n",
      "10    12098\n",
      "11     6215\n",
      "12     1157\n",
      "Name: bike_num, dtype: int64\n",
      "Most renatls in:  start_month\n",
      "8    29213\n",
      "Name: bike_num, dtype: int64\n"
     ]
    }
   ],
   "source": [
    "#Like the number of rental in each month:\n",
    "print('Number of rentals per month:')\n",
    "print(wyp2018.groupby('start_month')['bike_num'].count())\n",
    "print('Most renatls in: ', (wyp2018\n",
    "                            .groupby('start_month')['bike_num']\n",
    "                            .count()\n",
    "                            .nlargest(1)))"
   ]
  },
  {
   "cell_type": "code",
   "execution_count": 33,
   "metadata": {},
   "outputs": [
    {
     "name": "stdout",
     "output_type": "stream",
     "text": [
      "rental number per day of a week: \n",
      "which_day\n",
      "0    24716\n",
      "1    24388\n",
      "2    25565\n",
      "3    24403\n",
      "4    23941\n",
      "5    23464\n",
      "6    24923\n",
      "Name: bike_num, dtype: int64\n",
      "Most renatls in:  which_day\n",
      "2    25565\n",
      "Name: bike_num, dtype: int64\n"
     ]
    }
   ],
   "source": [
    "#Like the number of rentals per day of a week:\n",
    "print('rental number per day of a week: ')\n",
    "print(wyp2018.groupby('which_day')['bike_num'].count())\n",
    "print('Most renatls in: ', (wyp2018\n",
    "                            .groupby('which_day')['bike_num']\n",
    "                            .count()\n",
    "                            .nlargest(1)))"
   ]
  },
  {
   "cell_type": "code",
   "execution_count": 34,
   "metadata": {},
   "outputs": [
    {
     "name": "stdout",
     "output_type": "stream",
     "text": [
      "average rentals time per week day:\n",
      "which_day\n",
      "0    26.052410\n",
      "1    25.479521\n",
      "2    26.388095\n",
      "3    27.696184\n",
      "4    25.510821\n",
      "5    38.703966\n",
      "6    47.046923\n",
      "Name: duration_min, dtype: float64\n"
     ]
    }
   ],
   "source": [
    "#the average rentals' time per week day\n",
    "print('average rentals time per week day:')\n",
    "print((wyp2018\n",
    "       .groupby('which_day')['duration_min']\n",
    "       .mean()))"
   ]
  },
  {
   "cell_type": "code",
   "execution_count": 35,
   "metadata": {},
   "outputs": [
    {
     "name": "stdout",
     "output_type": "stream",
     "text": [
      "median of rentals time per week day:\n",
      "which_day\n",
      "0    11.966667\n",
      "1    11.766667\n",
      "2    11.866667\n",
      "3    12.250000\n",
      "4    11.933333\n",
      "5    18.050000\n",
      "6    25.950000\n",
      "Name: duration_min, dtype: float64\n"
     ]
    }
   ],
   "source": [
    "#the median of rentals time per week day\n",
    "print('median of rentals time per week day:')\n",
    "print((wyp2018\n",
    "       .groupby('which_day')['duration_min']\n",
    "       .median()))"
   ]
  },
  {
   "cell_type": "code",
   "execution_count": 36,
   "metadata": {},
   "outputs": [
    {
     "name": "stdout",
     "output_type": "stream",
     "text": [
      "Days with most rentals:  \n"
     ]
    },
    {
     "data": {
      "text/plain": [
       "month_day\n",
       "2018-06-20    1317\n",
       "2018-08-15    1308\n",
       "2018-06-06    1304\n",
       "2018-06-07    1253\n",
       "2018-05-31    1246\n",
       "Name: bike_num, dtype: int64"
      ]
     },
     "execution_count": 36,
     "metadata": {},
     "output_type": "execute_result"
    }
   ],
   "source": [
    "#on what day was there the most rentals?\n",
    "print('Days with most rentals:  ')\n",
    "(wyp2018\n",
    "     .groupby('month_day')['bike_num']\n",
    "     .count()\n",
    "     .nlargest(5))"
   ]
  },
  {
   "cell_type": "code",
   "execution_count": 37,
   "metadata": {},
   "outputs": [
    {
     "name": "stdout",
     "output_type": "stream",
     "text": [
      "Most popular routes on 15 August: \n"
     ]
    },
    {
     "data": {
      "text/plain": [
       "route\n",
       "Dolina 3-ch Stawów - Dolina 3-ch Stawów                          56\n",
       "Katowice Rynek - Katowice Rynek                                  51\n",
       "Al. Bolesława Krzywoustego - Al. Bolesława Krzywoustego          27\n",
       "Al. Księżnej Jadwigi Śląskiej - Al. Księżnej Jadwigi Śląskiej    21\n",
       "KTBS – Saint Etienne 1 - KTBS – Saint Etienne 1                  18\n",
       "Name: bike_num, dtype: int64"
      ]
     },
     "execution_count": 37,
     "metadata": {},
     "output_type": "execute_result"
    }
   ],
   "source": [
    "print('Most popular routes on 15 August: ')\n",
    "(wyp2018[wyp2018['month_day'] == datetime.date(2018, 8, 15)]\n",
    "        .groupby('route')['bike_num']\n",
    "        .count()\n",
    "        .nlargest(5))\n"
   ]
  },
  {
   "cell_type": "code",
   "execution_count": 38,
   "metadata": {},
   "outputs": [
    {
     "data": {
      "text/plain": [
       "month_day\n",
       "2018-05-17    105\n",
       "2018-07-18    245\n",
       "2018-07-17    300\n",
       "2018-06-28    380\n",
       "2018-05-18    387\n",
       "Name: bike_num, dtype: int64"
      ]
     },
     "execution_count": 38,
     "metadata": {},
     "output_type": "execute_result"
    }
   ],
   "source": [
    "#On which days during popular months were there the least rentals?\n",
    "(wyp2018[wyp2018['start_month']\n",
    "         .isin([5,6,7,8])]\n",
    "         .groupby('month_day')['bike_num']\n",
    "         .count().nsmallest(5))"
   ]
  },
  {
   "cell_type": "code",
   "execution_count": 39,
   "metadata": {},
   "outputs": [
    {
     "data": {
      "text/plain": [
       "10"
      ]
     },
     "execution_count": 39,
     "metadata": {},
     "output_type": "execute_result"
    }
   ],
   "source": [
    "#how many holidays were there?\n",
    "(wyp2018[wyp2018['is_free'] == 1]\n",
    "     .groupby('month_day')\n",
    "     .count()\n",
    "     .index\n",
    "     .nunique())"
   ]
  },
  {
   "cell_type": "code",
   "execution_count": 40,
   "metadata": {},
   "outputs": [
    {
     "data": {
      "text/plain": [
       "6596"
      ]
     },
     "execution_count": 40,
     "metadata": {},
     "output_type": "execute_result"
    }
   ],
   "source": [
    "#how many rentals were there?\n",
    "wyp2018[wyp2018['is_free'] == 1]['bike_num'].count()"
   ]
  },
  {
   "cell_type": "code",
   "execution_count": 41,
   "metadata": {},
   "outputs": [
    {
     "name": "stdout",
     "output_type": "stream",
     "text": [
      "It is 0.04 of total\n"
     ]
    }
   ],
   "source": [
    "#what percent of total is this?\n",
    "print('It is {0:.2f} of total'.format(wyp2018[wyp2018['is_free'] == 1]['bike_num'].count()/(wyp2018['bike_num'].count())))"
   ]
  },
  {
   "cell_type": "code",
   "execution_count": 42,
   "metadata": {},
   "outputs": [
    {
     "name": "stdout",
     "output_type": "stream",
     "text": [
      "Rentals on holidays: \n"
     ]
    },
    {
     "data": {
      "text/plain": [
       "month_day\n",
       "2018-08-15    1308\n",
       "2018-05-31    1246\n",
       "2018-05-01    1172\n",
       "2018-05-20     927\n",
       "2018-05-03     840\n",
       "Name: bike_num, dtype: int64"
      ]
     },
     "execution_count": 42,
     "metadata": {},
     "output_type": "execute_result"
    }
   ],
   "source": [
    "#how many rentals were there?\n",
    "print('Rentals on holidays: ')\n",
    "(wyp2018[wyp2018['is_free'] == 1]\n",
    "     .groupby('month_day')['bike_num']\n",
    "     .count()\n",
    "     .nlargest(5))"
   ]
  },
  {
   "cell_type": "code",
   "execution_count": 43,
   "metadata": {},
   "outputs": [
    {
     "name": "stdout",
     "output_type": "stream",
     "text": [
      "average number of rentals during working days:  664.9351351351352\n",
      "average number of rentals during weekendss:  645.16\n",
      "average number of rentals during holidays:  659.6\n"
     ]
    }
   ],
   "source": [
    "#Let's now compare the averages together\n",
    "#comparing the number of rentals during working days, weekends and holidays\n",
    "print('average number of rentals during working days: ',\n",
    "      wyp2018[wyp2018['is_weekend'] == 0]['bike_num'].count() / wyp2018[wyp2018['which_day'].isin(range(0,5))]['month_day'].nunique())\n",
    "print('average number of rentals during weekendss: ',\n",
    "      wyp2018[wyp2018['is_weekend'] == 1]['bike_num'].count() / wyp2018[wyp2018['which_day'].isin([5,6])]['month_day'].nunique())\n",
    "print('average number of rentals during holidays: ',\n",
    "      wyp2018[wyp2018['is_free'] == 1]['bike_num'].count() / wyp2018[wyp2018['is_free'] == 1].groupby('month_day').count().index.nunique())"
   ]
  },
  {
   "cell_type": "code",
   "execution_count": 44,
   "metadata": {},
   "outputs": [
    {
     "name": "stdout",
     "output_type": "stream",
     "text": [
      "average time of rentals during working days:  26.229277528933192\n",
      "average time of rentals during weekends:  43.00122553578421\n",
      "average time of rentals during holidays:  50.65119264200518\n"
     ]
    }
   ],
   "source": [
    "#Let's now compare the average time of rentals together\n",
    "#comparing the average time of rentals during working days, weekends and holidays\n",
    "print('average time of rentals during working days: ',\n",
    "      wyp2018[wyp2018['is_weekend'] == 0]['duration_min'].mean())\n",
    "print('average time of rentals during weekends: ',\n",
    "      wyp2018[wyp2018['is_weekend'] == 1]['duration_min'].mean())\n",
    "print('average time of rentals during holidays: ',\n",
    "      wyp2018[wyp2018['is_free'] == 1]['duration_min'].mean())"
   ]
  },
  {
   "cell_type": "code",
   "execution_count": 45,
   "metadata": {},
   "outputs": [
    {
     "name": "stdout",
     "output_type": "stream",
     "text": [
      "number of sundays you can shop:  9\n",
      "number of sundays you cannot shop:  29\n",
      "number of rentals from sundays you can shop:  3811\n",
      "number of rentals from sundays you cannot shop:  21112\n",
      "average number of rentals from sundays you can shop:  423.44444444444446\n",
      "average number of rentals from sundays you cannot shop:  728.0\n",
      "average time of rentals from sundays you can shop:  38.641800052479574\n",
      "average time of rentals from sundays you cannot shop:  48.564160193255255\n"
     ]
    }
   ],
   "source": [
    "#We can also check what is happening durind the Sundays with shops closed vs Sundays when shopping is possible\n",
    "\n",
    "#number of sundays you can shop\n",
    "lh = (wyp2018[wyp2018['shop'] == 1]\n",
    "      .groupby('month_day')['bike_num']\n",
    "      .nunique()\n",
    "      .count())\n",
    "\n",
    "#number of sundays you canot shop\n",
    "lnh = (wyp2018[wyp2018['shop'] == 0]\n",
    "       .groupby('month_day')['bike_num']\n",
    "       .nunique()\n",
    "       .count())\n",
    "\n",
    "print('number of sundays you can shop: ', lh)\n",
    "print('number of sundays you cannot shop: ',  lnh)\n",
    "\n",
    "print('number of rentals from sundays you can shop: ', wyp2018[wyp2018['shop'] == 1]['bike_num'].count())\n",
    "print('number of rentals from sundays you cannot shop: ', wyp2018[wyp2018['shop'] == 0]['bike_num'].count())\n",
    "\n",
    "print('average number of rentals from sundays you can shop: ', wyp2018[wyp2018['shop'] == 1]['bike_num'].count() / lh)\n",
    "print('average number of rentals from sundays you cannot shop: ', wyp2018[wyp2018['shop'] == 0]['bike_num'].count() / lnh)\n",
    "\n",
    "print('average time of rentals from sundays you can shop: ', wyp2018[wyp2018['shop'] == 1]['duration_min'].mean())\n",
    "print('average time of rentals from sundays you cannot shop: ', wyp2018[wyp2018['shop'] == 0]['duration_min'].mean())"
   ]
  },
  {
   "cell_type": "markdown",
   "metadata": {},
   "source": [
    "<h3>ALso, let's see how bikes are rented during the day."
   ]
  },
  {
   "cell_type": "code",
   "execution_count": 46,
   "metadata": {},
   "outputs": [
    {
     "data": {
      "text/html": [
       "<div>\n",
       "<style scoped>\n",
       "    .dataframe tbody tr th:only-of-type {\n",
       "        vertical-align: middle;\n",
       "    }\n",
       "\n",
       "    .dataframe tbody tr th {\n",
       "        vertical-align: top;\n",
       "    }\n",
       "\n",
       "    .dataframe thead th {\n",
       "        text-align: right;\n",
       "    }\n",
       "</style>\n",
       "<table border=\"1\" class=\"dataframe\">\n",
       "  <thead>\n",
       "    <tr style=\"text-align: right;\">\n",
       "      <th></th>\n",
       "      <th>sum working days</th>\n",
       "      <th>sum weekend</th>\n",
       "      <th>sum holidays</th>\n",
       "      <th>mean working</th>\n",
       "      <th>mean weekend</th>\n",
       "      <th>mean holidays</th>\n",
       "      <th>mean time working</th>\n",
       "      <th>mean time weekend</th>\n",
       "      <th>mean time holidays</th>\n",
       "    </tr>\n",
       "  </thead>\n",
       "  <tbody>\n",
       "    <tr>\n",
       "      <th>0</th>\n",
       "      <td>1037</td>\n",
       "      <td>972</td>\n",
       "      <td>112</td>\n",
       "      <td>5.605405</td>\n",
       "      <td>12.96</td>\n",
       "      <td>11.2</td>\n",
       "      <td>19.402636</td>\n",
       "      <td>22.766032</td>\n",
       "      <td>17.857143</td>\n",
       "    </tr>\n",
       "    <tr>\n",
       "      <th>1</th>\n",
       "      <td>620</td>\n",
       "      <td>711</td>\n",
       "      <td>72</td>\n",
       "      <td>3.351351</td>\n",
       "      <td>9.48</td>\n",
       "      <td>7.2</td>\n",
       "      <td>24.354516</td>\n",
       "      <td>18.026512</td>\n",
       "      <td>19.511806</td>\n",
       "    </tr>\n",
       "    <tr>\n",
       "      <th>2</th>\n",
       "      <td>355</td>\n",
       "      <td>498</td>\n",
       "      <td>36</td>\n",
       "      <td>1.918919</td>\n",
       "      <td>6.64</td>\n",
       "      <td>3.6</td>\n",
       "      <td>18.623333</td>\n",
       "      <td>19.315529</td>\n",
       "      <td>18.177778</td>\n",
       "    </tr>\n",
       "    <tr>\n",
       "      <th>3</th>\n",
       "      <td>314</td>\n",
       "      <td>354</td>\n",
       "      <td>34</td>\n",
       "      <td>1.697297</td>\n",
       "      <td>4.72</td>\n",
       "      <td>3.4</td>\n",
       "      <td>15.067091</td>\n",
       "      <td>18.786158</td>\n",
       "      <td>15.368137</td>\n",
       "    </tr>\n",
       "    <tr>\n",
       "      <th>4</th>\n",
       "      <td>237</td>\n",
       "      <td>183</td>\n",
       "      <td>10</td>\n",
       "      <td>1.281081</td>\n",
       "      <td>2.44</td>\n",
       "      <td>1.0</td>\n",
       "      <td>16.058087</td>\n",
       "      <td>16.296266</td>\n",
       "      <td>11.611667</td>\n",
       "    </tr>\n",
       "  </tbody>\n",
       "</table>\n",
       "</div>"
      ],
      "text/plain": [
       "   sum working days  sum weekend  sum holidays  mean working  mean weekend  \\\n",
       "0              1037          972           112      5.605405         12.96   \n",
       "1               620          711            72      3.351351          9.48   \n",
       "2               355          498            36      1.918919          6.64   \n",
       "3               314          354            34      1.697297          4.72   \n",
       "4               237          183            10      1.281081          2.44   \n",
       "\n",
       "   mean holidays  mean time working  mean time weekend  mean time holidays  \n",
       "0           11.2          19.402636          22.766032           17.857143  \n",
       "1            7.2          24.354516          18.026512           19.511806  \n",
       "2            3.6          18.623333          19.315529           18.177778  \n",
       "3            3.4          15.067091          18.786158           15.368137  \n",
       "4            1.0          16.058087          16.296266           11.611667  "
      ]
     },
     "execution_count": 46,
     "metadata": {},
     "output_type": "execute_result"
    }
   ],
   "source": [
    "#number of working days the bikes were rented\n",
    "lr = (wyp2018[wyp2018['which_day']\n",
    "              .isin(range(0,5))]['month_day']\n",
    "              .nunique())\n",
    "#number of weekend days the bikes were rented\n",
    "lw = (wyp2018[wyp2018['which_day']\n",
    "              .isin([5,6])]['month_day']\n",
    "              .nunique())\n",
    "#number of holidays the bikes were rented\n",
    "sw = (wyp2018[wyp2018['is_free'] == 1]\n",
    "              .groupby('month_day')\n",
    "              .count()\n",
    "              .index\n",
    "              .nunique())\n",
    "\n",
    "#sum of rentals by hour for working days\n",
    "a = (wyp2018[wyp2018['is_weekend'] == False]\n",
    "     .groupby('start_hour')['bike_num']\n",
    "     .count())\n",
    "#sum of rentals by hour for weekend days\n",
    "b = (wyp2018[wyp2018['is_weekend'] == True]\n",
    "     .groupby('start_hour')['bike_num']\n",
    "     .count())\n",
    "#sum of rentals by hour for holidays\n",
    "s = (wyp2018[wyp2018['is_free'] == True]\n",
    "     .groupby('start_hour')['bike_num']\n",
    "     .count())\n",
    "\n",
    "#average number of rentals by hour for working days\n",
    "c = a / lr\n",
    "#average number of rentals by hour for weekend days\n",
    "d = b / lw\n",
    "#srednia liczba wypozyczen dla przedzialow godzinowych w  dni świąteczne wolne od pracy\n",
    "t = s / sw\n",
    "\n",
    "#average time of rentals by hour for working days\n",
    "e = wyp2018[wyp2018['is_weekend'] == False].groupby('start_hour')['duration_min'].sum() / a\n",
    "#average time of rentals by hour for weekend days\n",
    "f = wyp2018[wyp2018['is_weekend'] == True].groupby('start_hour')['duration_min'].sum() / b\n",
    "#average time of rentals by hour for holidays\n",
    "u = wyp2018[wyp2018['is_free'] == True].groupby('start_hour')['duration_min'].sum() / s\n",
    "\n",
    "hour_data = {'sum working days' : a.values, 'sum weekend' : b.values, 'sum holidays' : s.values,\n",
    "             'mean working' : c.values, 'mean weekend' : d.values, 'mean holidays' : t.values,\n",
    "             'mean time working' : e.values, 'mean time weekend' : f.values, 'mean time holidays' : u.values}\n",
    "\n",
    "hourdf = pd.DataFrame(data=hour_data)\n",
    "hourdf.head(5)"
   ]
  },
  {
   "cell_type": "code",
   "execution_count": 47,
   "metadata": {},
   "outputs": [
    {
     "data": {
      "text/html": [
       "<div>\n",
       "<style scoped>\n",
       "    .dataframe tbody tr th:only-of-type {\n",
       "        vertical-align: middle;\n",
       "    }\n",
       "\n",
       "    .dataframe tbody tr th {\n",
       "        vertical-align: top;\n",
       "    }\n",
       "\n",
       "    .dataframe thead th {\n",
       "        text-align: right;\n",
       "    }\n",
       "</style>\n",
       "<table border=\"1\" class=\"dataframe\">\n",
       "  <thead>\n",
       "    <tr style=\"text-align: right;\">\n",
       "      <th></th>\n",
       "      <th>working_days</th>\n",
       "      <th>weekends</th>\n",
       "      <th>holidays</th>\n",
       "    </tr>\n",
       "  </thead>\n",
       "  <tbody>\n",
       "    <tr>\n",
       "      <th>0</th>\n",
       "      <td>Murapol Mariacka - KTBS – Krasińskiego 14</td>\n",
       "      <td>Katowice Rynek - Katowice Rynek</td>\n",
       "      <td>Katowice Rynek - Murapol Mariacka</td>\n",
       "    </tr>\n",
       "    <tr>\n",
       "      <th>1</th>\n",
       "      <td>Murapol Mariacka - KTBS – Krasińskiego 14</td>\n",
       "      <td>Murapol Mariacka - KTBS – Krasińskiego 14</td>\n",
       "      <td>Murapol Mariacka - KTBS – Saint Etienne 1</td>\n",
       "    </tr>\n",
       "    <tr>\n",
       "      <th>2</th>\n",
       "      <td>KTBS – Krasińskiego 14 - Katowice Rynek</td>\n",
       "      <td>Katowice Rynek - Katowice Rynek</td>\n",
       "      <td>Katowice Rynek - Katowice Rynek</td>\n",
       "    </tr>\n",
       "    <tr>\n",
       "      <th>3</th>\n",
       "      <td>Kostuchna – Szarych Szeregów - Kostuchna – Ron...</td>\n",
       "      <td>Katowice Rynek - Katowice Rynek</td>\n",
       "      <td>Katowice Rynek - Katowice Rynek</td>\n",
       "    </tr>\n",
       "    <tr>\n",
       "      <th>4</th>\n",
       "      <td>KTBS – Krasińskiego 14 - Katowice Rynek</td>\n",
       "      <td>Katowice Rynek - Murapol Chorzowska</td>\n",
       "      <td>Łętowskiego S.P. nr 27 - Piotrowice V L.O.</td>\n",
       "    </tr>\n",
       "    <tr>\n",
       "      <th>5</th>\n",
       "      <td>Łętowskiego S.P. nr 27 - Zadole Kościół</td>\n",
       "      <td>Łętowskiego S.P. nr 27 - Zadole Kościół</td>\n",
       "      <td>Murapol Mariacka - Bogucice Szpital</td>\n",
       "    </tr>\n",
       "    <tr>\n",
       "      <th>6</th>\n",
       "      <td>KTBS – Krasińskiego 14 - Katowice Rynek</td>\n",
       "      <td>KTBS – Krasińskiego 14 - Katowice Rynek</td>\n",
       "      <td>Dolina 3-ch Stawów - Dolina 3-ch Stawów</td>\n",
       "    </tr>\n",
       "    <tr>\n",
       "      <th>7</th>\n",
       "      <td>Al. Bolesława Krzywoustego - Silesia Business ...</td>\n",
       "      <td>KTBS – Krasińskiego 14 - Katowice Rynek</td>\n",
       "      <td>KTBS – Krasińskiego 14 - Katowice Rynek</td>\n",
       "    </tr>\n",
       "    <tr>\n",
       "      <th>8</th>\n",
       "      <td>KTBS – Krasińskiego 14 - Katowice Rynek</td>\n",
       "      <td>KTBS – Krasińskiego 14 - Katowice Rynek</td>\n",
       "      <td>KTBS – Krasińskiego 14 - Katowice Rynek</td>\n",
       "    </tr>\n",
       "    <tr>\n",
       "      <th>9</th>\n",
       "      <td>Katowice Rynek - Politechnika Śląska</td>\n",
       "      <td>Katowice Rynek - Silesia City Center</td>\n",
       "      <td>Al. Księcia Henryka Pobożnego - Al. Księcia He...</td>\n",
       "    </tr>\n",
       "    <tr>\n",
       "      <th>10</th>\n",
       "      <td>Politechnika Śląska - Katowice Rynek</td>\n",
       "      <td>Al. Księcia Henryka Pobożnego - Al. Księcia He...</td>\n",
       "      <td>Al. Księcia Henryka Pobożnego - Al. Księcia He...</td>\n",
       "    </tr>\n",
       "    <tr>\n",
       "      <th>11</th>\n",
       "      <td>Politechnika Śląska - Katowice Rynek</td>\n",
       "      <td>Al. Księcia Henryka Pobożnego - Al. Księcia He...</td>\n",
       "      <td>Al. Księcia Henryka Pobożnego - Al. Księcia He...</td>\n",
       "    </tr>\n",
       "    <tr>\n",
       "      <th>12</th>\n",
       "      <td>Politechnika Śląska - Katowice Rynek</td>\n",
       "      <td>Dolina 3-ch Stawów - Dolina 3-ch Stawów</td>\n",
       "      <td>Dolina 3-ch Stawów - Dolina 3-ch Stawów</td>\n",
       "    </tr>\n",
       "    <tr>\n",
       "      <th>13</th>\n",
       "      <td>Politechnika Śląska - Katowice Rynek</td>\n",
       "      <td>Katowice Rynek - Katowice Rynek</td>\n",
       "      <td>Dolina 3-ch Stawów - Dolina 3-ch Stawów</td>\n",
       "    </tr>\n",
       "    <tr>\n",
       "      <th>14</th>\n",
       "      <td>Murapol Mariacka - Katowice Rynek</td>\n",
       "      <td>Dolina 3-ch Stawów - Dolina 3-ch Stawów</td>\n",
       "      <td>Katowice Rynek - Katowice Rynek</td>\n",
       "    </tr>\n",
       "    <tr>\n",
       "      <th>15</th>\n",
       "      <td>Katowice Rynek - KTBS – Krasińskiego 14</td>\n",
       "      <td>Dolina 3-ch Stawów - Dolina 3-ch Stawów</td>\n",
       "      <td>Dolina 3-ch Stawów - Dolina 3-ch Stawów</td>\n",
       "    </tr>\n",
       "    <tr>\n",
       "      <th>16</th>\n",
       "      <td>Katowice Rynek - KTBS – Krasińskiego 14</td>\n",
       "      <td>Dolina 3-ch Stawów - Dolina 3-ch Stawów</td>\n",
       "      <td>Dolina 3-ch Stawów - Dolina 3-ch Stawów</td>\n",
       "    </tr>\n",
       "    <tr>\n",
       "      <th>17</th>\n",
       "      <td>Katowice Rynek - KTBS – Krasińskiego 14</td>\n",
       "      <td>Dolina 3-ch Stawów - Dolina 3-ch Stawów</td>\n",
       "      <td>Dolina 3-ch Stawów - Dolina 3-ch Stawów</td>\n",
       "    </tr>\n",
       "    <tr>\n",
       "      <th>18</th>\n",
       "      <td>Dolina 3-ch Stawów - Dolina 3-ch Stawów</td>\n",
       "      <td>Dolina 3-ch Stawów - Dolina 3-ch Stawów</td>\n",
       "      <td>Dolina 3-ch Stawów - Dolina 3-ch Stawów</td>\n",
       "    </tr>\n",
       "    <tr>\n",
       "      <th>19</th>\n",
       "      <td>Al. Bolesława Krzywoustego - Al. Bolesława Krz...</td>\n",
       "      <td>Katowice Rynek - Katowice Rynek</td>\n",
       "      <td>Katowice Rynek - Katowice Rynek</td>\n",
       "    </tr>\n",
       "    <tr>\n",
       "      <th>20</th>\n",
       "      <td>Katowice Rynek - Katowice Rynek</td>\n",
       "      <td>Katowice Rynek - Katowice Rynek</td>\n",
       "      <td>Katowice Rynek - Katowice Rynek</td>\n",
       "    </tr>\n",
       "    <tr>\n",
       "      <th>21</th>\n",
       "      <td>Katowice Rynek - Katowice Rynek</td>\n",
       "      <td>Katowice Rynek - Katowice Rynek</td>\n",
       "      <td>Katowice Rynek - KTBS – Krasińskiego 14</td>\n",
       "    </tr>\n",
       "    <tr>\n",
       "      <th>22</th>\n",
       "      <td>Katowice Rynek - Katowice Rynek</td>\n",
       "      <td>Katowice Rynek - Katowice Rynek</td>\n",
       "      <td>Katowice Rynek - KTBS – Krasińskiego 14</td>\n",
       "    </tr>\n",
       "    <tr>\n",
       "      <th>23</th>\n",
       "      <td>Katowice Rynek - KTBS – Krasińskiego 14</td>\n",
       "      <td>Katowice Rynek - Katowice Rynek</td>\n",
       "      <td>COP24 - Katowice Rynek</td>\n",
       "    </tr>\n",
       "  </tbody>\n",
       "</table>\n",
       "</div>"
      ],
      "text/plain": [
       "                                         working_days  \\\n",
       "0           Murapol Mariacka - KTBS – Krasińskiego 14   \n",
       "1           Murapol Mariacka - KTBS – Krasińskiego 14   \n",
       "2             KTBS – Krasińskiego 14 - Katowice Rynek   \n",
       "3   Kostuchna – Szarych Szeregów - Kostuchna – Ron...   \n",
       "4             KTBS – Krasińskiego 14 - Katowice Rynek   \n",
       "5             Łętowskiego S.P. nr 27 - Zadole Kościół   \n",
       "6             KTBS – Krasińskiego 14 - Katowice Rynek   \n",
       "7   Al. Bolesława Krzywoustego - Silesia Business ...   \n",
       "8             KTBS – Krasińskiego 14 - Katowice Rynek   \n",
       "9                Katowice Rynek - Politechnika Śląska   \n",
       "10               Politechnika Śląska - Katowice Rynek   \n",
       "11               Politechnika Śląska - Katowice Rynek   \n",
       "12               Politechnika Śląska - Katowice Rynek   \n",
       "13               Politechnika Śląska - Katowice Rynek   \n",
       "14                  Murapol Mariacka - Katowice Rynek   \n",
       "15            Katowice Rynek - KTBS – Krasińskiego 14   \n",
       "16            Katowice Rynek - KTBS – Krasińskiego 14   \n",
       "17            Katowice Rynek - KTBS – Krasińskiego 14   \n",
       "18            Dolina 3-ch Stawów - Dolina 3-ch Stawów   \n",
       "19  Al. Bolesława Krzywoustego - Al. Bolesława Krz...   \n",
       "20                    Katowice Rynek - Katowice Rynek   \n",
       "21                    Katowice Rynek - Katowice Rynek   \n",
       "22                    Katowice Rynek - Katowice Rynek   \n",
       "23            Katowice Rynek - KTBS – Krasińskiego 14   \n",
       "\n",
       "                                             weekends  \\\n",
       "0                     Katowice Rynek - Katowice Rynek   \n",
       "1           Murapol Mariacka - KTBS – Krasińskiego 14   \n",
       "2                     Katowice Rynek - Katowice Rynek   \n",
       "3                     Katowice Rynek - Katowice Rynek   \n",
       "4                 Katowice Rynek - Murapol Chorzowska   \n",
       "5             Łętowskiego S.P. nr 27 - Zadole Kościół   \n",
       "6             KTBS – Krasińskiego 14 - Katowice Rynek   \n",
       "7             KTBS – Krasińskiego 14 - Katowice Rynek   \n",
       "8             KTBS – Krasińskiego 14 - Katowice Rynek   \n",
       "9                Katowice Rynek - Silesia City Center   \n",
       "10  Al. Księcia Henryka Pobożnego - Al. Księcia He...   \n",
       "11  Al. Księcia Henryka Pobożnego - Al. Księcia He...   \n",
       "12            Dolina 3-ch Stawów - Dolina 3-ch Stawów   \n",
       "13                    Katowice Rynek - Katowice Rynek   \n",
       "14            Dolina 3-ch Stawów - Dolina 3-ch Stawów   \n",
       "15            Dolina 3-ch Stawów - Dolina 3-ch Stawów   \n",
       "16            Dolina 3-ch Stawów - Dolina 3-ch Stawów   \n",
       "17            Dolina 3-ch Stawów - Dolina 3-ch Stawów   \n",
       "18            Dolina 3-ch Stawów - Dolina 3-ch Stawów   \n",
       "19                    Katowice Rynek - Katowice Rynek   \n",
       "20                    Katowice Rynek - Katowice Rynek   \n",
       "21                    Katowice Rynek - Katowice Rynek   \n",
       "22                    Katowice Rynek - Katowice Rynek   \n",
       "23                    Katowice Rynek - Katowice Rynek   \n",
       "\n",
       "                                             holidays  \n",
       "0                   Katowice Rynek - Murapol Mariacka  \n",
       "1           Murapol Mariacka - KTBS – Saint Etienne 1  \n",
       "2                     Katowice Rynek - Katowice Rynek  \n",
       "3                     Katowice Rynek - Katowice Rynek  \n",
       "4          Łętowskiego S.P. nr 27 - Piotrowice V L.O.  \n",
       "5                 Murapol Mariacka - Bogucice Szpital  \n",
       "6             Dolina 3-ch Stawów - Dolina 3-ch Stawów  \n",
       "7             KTBS – Krasińskiego 14 - Katowice Rynek  \n",
       "8             KTBS – Krasińskiego 14 - Katowice Rynek  \n",
       "9   Al. Księcia Henryka Pobożnego - Al. Księcia He...  \n",
       "10  Al. Księcia Henryka Pobożnego - Al. Księcia He...  \n",
       "11  Al. Księcia Henryka Pobożnego - Al. Księcia He...  \n",
       "12            Dolina 3-ch Stawów - Dolina 3-ch Stawów  \n",
       "13            Dolina 3-ch Stawów - Dolina 3-ch Stawów  \n",
       "14                    Katowice Rynek - Katowice Rynek  \n",
       "15            Dolina 3-ch Stawów - Dolina 3-ch Stawów  \n",
       "16            Dolina 3-ch Stawów - Dolina 3-ch Stawów  \n",
       "17            Dolina 3-ch Stawów - Dolina 3-ch Stawów  \n",
       "18            Dolina 3-ch Stawów - Dolina 3-ch Stawów  \n",
       "19                    Katowice Rynek - Katowice Rynek  \n",
       "20                    Katowice Rynek - Katowice Rynek  \n",
       "21            Katowice Rynek - KTBS – Krasińskiego 14  \n",
       "22            Katowice Rynek - KTBS – Krasińskiego 14  \n",
       "23                             COP24 - Katowice Rynek  "
      ]
     },
     "execution_count": 47,
     "metadata": {},
     "output_type": "execute_result"
    }
   ],
   "source": [
    "#which station are popular during which hours?\n",
    "\n",
    "#popular routes during working days\n",
    "t = wyp2018[wyp2018['is_weekend'] == False].groupby(['start_hour','route'])['bike_num'].count()\n",
    "trasy = []\n",
    "for i in range(0,24):\n",
    "    trasy.append(t.loc[i].sort_values(ascending=False).index[0])\n",
    "\n",
    "#popular routes during weekend days\n",
    "t = wyp2018[wyp2018['is_weekend'] == True].groupby(['start_hour','route'])['bike_num'].count()\n",
    "trasyw = []\n",
    "for i in range(0,24):\n",
    "    trasyw.append(t.loc[i].sort_values(ascending=False).index[0])\n",
    "    \n",
    "#popular routes during holidays\n",
    "t = wyp2018[wyp2018['is_free'] == True].groupby(['start_hour','route'])['bike_num'].count()\n",
    "trasyh = []\n",
    "for i in range(0,24):\n",
    "    trasyh.append(t.loc[i].sort_values(ascending=False).index[0])\n",
    "\n",
    "trasy_data = {'working_days' : trasy, 'weekends' : trasyw, 'holidays': trasyh}\n",
    "\n",
    "trasy_data = pd.DataFrame(data=trasy_data)\n",
    "\n",
    "trasy_data"
   ]
  },
  {
   "cell_type": "code",
   "execution_count": 48,
   "metadata": {},
   "outputs": [
    {
     "data": {
      "text/html": [
       "<div>\n",
       "<style scoped>\n",
       "    .dataframe tbody tr th:only-of-type {\n",
       "        vertical-align: middle;\n",
       "    }\n",
       "\n",
       "    .dataframe tbody tr th {\n",
       "        vertical-align: top;\n",
       "    }\n",
       "\n",
       "    .dataframe thead th {\n",
       "        text-align: right;\n",
       "    }\n",
       "</style>\n",
       "<table border=\"1\" class=\"dataframe\">\n",
       "  <thead>\n",
       "    <tr style=\"text-align: right;\">\n",
       "      <th></th>\n",
       "      <th>working_days</th>\n",
       "      <th>weekends</th>\n",
       "      <th>holidays</th>\n",
       "    </tr>\n",
       "  </thead>\n",
       "  <tbody>\n",
       "    <tr>\n",
       "      <th>0</th>\n",
       "      <td>Murapol Mariacka - KTBS – Krasińskiego 14</td>\n",
       "      <td>Murapol Mariacka - KTBS – Krasińskiego 14</td>\n",
       "      <td>Katowice Rynek - Murapol Mariacka</td>\n",
       "    </tr>\n",
       "    <tr>\n",
       "      <th>1</th>\n",
       "      <td>Murapol Mariacka - KTBS – Krasińskiego 14</td>\n",
       "      <td>Murapol Mariacka - KTBS – Krasińskiego 14</td>\n",
       "      <td>Murapol Mariacka - KTBS – Saint Etienne 1</td>\n",
       "    </tr>\n",
       "    <tr>\n",
       "      <th>2</th>\n",
       "      <td>KTBS – Krasińskiego 14 - Katowice Rynek</td>\n",
       "      <td>Murapol Mariacka - KTBS – Krasińskiego 14</td>\n",
       "      <td>COP24 - Murapol Mariacka</td>\n",
       "    </tr>\n",
       "    <tr>\n",
       "      <th>3</th>\n",
       "      <td>Kostuchna – Szarych Szeregów - Kostuchna – Ron...</td>\n",
       "      <td>Katowice Rynek - Plac Wolności</td>\n",
       "      <td>KTBS – Krasińskiego 14 - Murapol Mariacka</td>\n",
       "    </tr>\n",
       "    <tr>\n",
       "      <th>4</th>\n",
       "      <td>KTBS – Krasińskiego 14 - Katowice Rynek</td>\n",
       "      <td>Katowice Rynek - Murapol Chorzowska</td>\n",
       "      <td>Łętowskiego S.P. nr 27 - Piotrowice V L.O.</td>\n",
       "    </tr>\n",
       "    <tr>\n",
       "      <th>5</th>\n",
       "      <td>Łętowskiego S.P. nr 27 - Zadole Kościół</td>\n",
       "      <td>Łętowskiego S.P. nr 27 - Zadole Kościół</td>\n",
       "      <td>Murapol Mariacka - Bogucice Szpital</td>\n",
       "    </tr>\n",
       "    <tr>\n",
       "      <th>6</th>\n",
       "      <td>KTBS – Krasińskiego 14 - Katowice Rynek</td>\n",
       "      <td>KTBS – Krasińskiego 14 - Katowice Rynek</td>\n",
       "      <td>Zadole Kościół - Ligota Dworzec PKP</td>\n",
       "    </tr>\n",
       "    <tr>\n",
       "      <th>7</th>\n",
       "      <td>Al. Bolesława Krzywoustego - Silesia Business ...</td>\n",
       "      <td>KTBS – Krasińskiego 14 - Katowice Rynek</td>\n",
       "      <td>KTBS – Krasińskiego 14 - Katowice Rynek</td>\n",
       "    </tr>\n",
       "    <tr>\n",
       "      <th>8</th>\n",
       "      <td>KTBS – Krasińskiego 14 - Katowice Rynek</td>\n",
       "      <td>KTBS – Krasińskiego 14 - Katowice Rynek</td>\n",
       "      <td>KTBS – Krasińskiego 14 - Katowice Rynek</td>\n",
       "    </tr>\n",
       "    <tr>\n",
       "      <th>9</th>\n",
       "      <td>Katowice Rynek - Politechnika Śląska</td>\n",
       "      <td>Katowice Rynek - Silesia City Center</td>\n",
       "      <td>Załęże Skwer S. Barei - Plac Wolności</td>\n",
       "    </tr>\n",
       "    <tr>\n",
       "      <th>10</th>\n",
       "      <td>Politechnika Śląska - Katowice Rynek</td>\n",
       "      <td>KTBS – Krasińskiego 14 - Katowice Rynek</td>\n",
       "      <td>Katowice Rynek - Park Kościuszki</td>\n",
       "    </tr>\n",
       "    <tr>\n",
       "      <th>11</th>\n",
       "      <td>Politechnika Śląska - Katowice Rynek</td>\n",
       "      <td>KTBS – Krasińskiego 14 - Katowice Rynek</td>\n",
       "      <td>Katowice Rynek - Murapol Mariacka</td>\n",
       "    </tr>\n",
       "    <tr>\n",
       "      <th>12</th>\n",
       "      <td>Politechnika Śląska - Katowice Rynek</td>\n",
       "      <td>KTBS – Krasińskiego 14 - Katowice Rynek</td>\n",
       "      <td>Murapol Mariacka - Katowice Rynek</td>\n",
       "    </tr>\n",
       "    <tr>\n",
       "      <th>13</th>\n",
       "      <td>Politechnika Śląska - Katowice Rynek</td>\n",
       "      <td>KTBS – Krasińskiego 14 - Katowice Rynek</td>\n",
       "      <td>Katowice Rynek - Murapol Mariacka</td>\n",
       "    </tr>\n",
       "    <tr>\n",
       "      <th>14</th>\n",
       "      <td>Murapol Mariacka - Katowice Rynek</td>\n",
       "      <td>Silesia City Center - Katowice Rynek</td>\n",
       "      <td>Al. Bolesława Krzywoustego - Katowice Rynek</td>\n",
       "    </tr>\n",
       "    <tr>\n",
       "      <th>15</th>\n",
       "      <td>Katowice Rynek - KTBS – Krasińskiego 14</td>\n",
       "      <td>Silesia City Center - Katowice Rynek</td>\n",
       "      <td>Katowice Rynek - Dolina 3-ch Stawów</td>\n",
       "    </tr>\n",
       "    <tr>\n",
       "      <th>16</th>\n",
       "      <td>Katowice Rynek - KTBS – Krasińskiego 14</td>\n",
       "      <td>Silesia City Center - Katowice Rynek</td>\n",
       "      <td>Katowice Rynek - Murapol Mariacka</td>\n",
       "    </tr>\n",
       "    <tr>\n",
       "      <th>17</th>\n",
       "      <td>Katowice Rynek - KTBS – Krasińskiego 14</td>\n",
       "      <td>Silesia City Center - Katowice Rynek</td>\n",
       "      <td>Al. Bolesława Krzywoustego - Silesia City Center</td>\n",
       "    </tr>\n",
       "    <tr>\n",
       "      <th>18</th>\n",
       "      <td>Katowice Rynek - KTBS – Krasińskiego 14</td>\n",
       "      <td>Katowice Rynek - KTBS – Krasińskiego 14</td>\n",
       "      <td>Ul. Powstańców - Biblioteka Śląska - Katowice ...</td>\n",
       "    </tr>\n",
       "    <tr>\n",
       "      <th>19</th>\n",
       "      <td>KTBS – Krasińskiego 14 - Katowice Rynek</td>\n",
       "      <td>Katowice Rynek - KTBS – Krasińskiego 14</td>\n",
       "      <td>Katowice Rynek - Murapol Mariacka</td>\n",
       "    </tr>\n",
       "    <tr>\n",
       "      <th>20</th>\n",
       "      <td>Katowice Rynek - KTBS – Krasińskiego 14</td>\n",
       "      <td>Katowice Rynek - Murapol Mariacka</td>\n",
       "      <td>Katowice Rynek - Murapol Chorzowska</td>\n",
       "    </tr>\n",
       "    <tr>\n",
       "      <th>21</th>\n",
       "      <td>Katowice Rynek - KTBS – Krasińskiego 14</td>\n",
       "      <td>Katowice Rynek - KTBS – Krasińskiego 14</td>\n",
       "      <td>Katowice Rynek - KTBS – Krasińskiego 14</td>\n",
       "    </tr>\n",
       "    <tr>\n",
       "      <th>22</th>\n",
       "      <td>Katowice Rynek - KTBS – Krasińskiego 14</td>\n",
       "      <td>Katowice Rynek - KTBS – Krasińskiego 14</td>\n",
       "      <td>Katowice Rynek - KTBS – Krasińskiego 14</td>\n",
       "    </tr>\n",
       "    <tr>\n",
       "      <th>23</th>\n",
       "      <td>Katowice Rynek - KTBS – Krasińskiego 14</td>\n",
       "      <td>Murapol Mariacka - Katowice Rynek</td>\n",
       "      <td>COP24 - Katowice Rynek</td>\n",
       "    </tr>\n",
       "  </tbody>\n",
       "</table>\n",
       "</div>"
      ],
      "text/plain": [
       "                                         working_days  \\\n",
       "0           Murapol Mariacka - KTBS – Krasińskiego 14   \n",
       "1           Murapol Mariacka - KTBS – Krasińskiego 14   \n",
       "2             KTBS – Krasińskiego 14 - Katowice Rynek   \n",
       "3   Kostuchna – Szarych Szeregów - Kostuchna – Ron...   \n",
       "4             KTBS – Krasińskiego 14 - Katowice Rynek   \n",
       "5             Łętowskiego S.P. nr 27 - Zadole Kościół   \n",
       "6             KTBS – Krasińskiego 14 - Katowice Rynek   \n",
       "7   Al. Bolesława Krzywoustego - Silesia Business ...   \n",
       "8             KTBS – Krasińskiego 14 - Katowice Rynek   \n",
       "9                Katowice Rynek - Politechnika Śląska   \n",
       "10               Politechnika Śląska - Katowice Rynek   \n",
       "11               Politechnika Śląska - Katowice Rynek   \n",
       "12               Politechnika Śląska - Katowice Rynek   \n",
       "13               Politechnika Śląska - Katowice Rynek   \n",
       "14                  Murapol Mariacka - Katowice Rynek   \n",
       "15            Katowice Rynek - KTBS – Krasińskiego 14   \n",
       "16            Katowice Rynek - KTBS – Krasińskiego 14   \n",
       "17            Katowice Rynek - KTBS – Krasińskiego 14   \n",
       "18            Katowice Rynek - KTBS – Krasińskiego 14   \n",
       "19            KTBS – Krasińskiego 14 - Katowice Rynek   \n",
       "20            Katowice Rynek - KTBS – Krasińskiego 14   \n",
       "21            Katowice Rynek - KTBS – Krasińskiego 14   \n",
       "22            Katowice Rynek - KTBS – Krasińskiego 14   \n",
       "23            Katowice Rynek - KTBS – Krasińskiego 14   \n",
       "\n",
       "                                     weekends  \\\n",
       "0   Murapol Mariacka - KTBS – Krasińskiego 14   \n",
       "1   Murapol Mariacka - KTBS – Krasińskiego 14   \n",
       "2   Murapol Mariacka - KTBS – Krasińskiego 14   \n",
       "3              Katowice Rynek - Plac Wolności   \n",
       "4         Katowice Rynek - Murapol Chorzowska   \n",
       "5     Łętowskiego S.P. nr 27 - Zadole Kościół   \n",
       "6     KTBS – Krasińskiego 14 - Katowice Rynek   \n",
       "7     KTBS – Krasińskiego 14 - Katowice Rynek   \n",
       "8     KTBS – Krasińskiego 14 - Katowice Rynek   \n",
       "9        Katowice Rynek - Silesia City Center   \n",
       "10    KTBS – Krasińskiego 14 - Katowice Rynek   \n",
       "11    KTBS – Krasińskiego 14 - Katowice Rynek   \n",
       "12    KTBS – Krasińskiego 14 - Katowice Rynek   \n",
       "13    KTBS – Krasińskiego 14 - Katowice Rynek   \n",
       "14       Silesia City Center - Katowice Rynek   \n",
       "15       Silesia City Center - Katowice Rynek   \n",
       "16       Silesia City Center - Katowice Rynek   \n",
       "17       Silesia City Center - Katowice Rynek   \n",
       "18    Katowice Rynek - KTBS – Krasińskiego 14   \n",
       "19    Katowice Rynek - KTBS – Krasińskiego 14   \n",
       "20          Katowice Rynek - Murapol Mariacka   \n",
       "21    Katowice Rynek - KTBS – Krasińskiego 14   \n",
       "22    Katowice Rynek - KTBS – Krasińskiego 14   \n",
       "23          Murapol Mariacka - Katowice Rynek   \n",
       "\n",
       "                                             holidays  \n",
       "0                   Katowice Rynek - Murapol Mariacka  \n",
       "1           Murapol Mariacka - KTBS – Saint Etienne 1  \n",
       "2                            COP24 - Murapol Mariacka  \n",
       "3           KTBS – Krasińskiego 14 - Murapol Mariacka  \n",
       "4          Łętowskiego S.P. nr 27 - Piotrowice V L.O.  \n",
       "5                 Murapol Mariacka - Bogucice Szpital  \n",
       "6                 Zadole Kościół - Ligota Dworzec PKP  \n",
       "7             KTBS – Krasińskiego 14 - Katowice Rynek  \n",
       "8             KTBS – Krasińskiego 14 - Katowice Rynek  \n",
       "9               Załęże Skwer S. Barei - Plac Wolności  \n",
       "10                   Katowice Rynek - Park Kościuszki  \n",
       "11                  Katowice Rynek - Murapol Mariacka  \n",
       "12                  Murapol Mariacka - Katowice Rynek  \n",
       "13                  Katowice Rynek - Murapol Mariacka  \n",
       "14        Al. Bolesława Krzywoustego - Katowice Rynek  \n",
       "15                Katowice Rynek - Dolina 3-ch Stawów  \n",
       "16                  Katowice Rynek - Murapol Mariacka  \n",
       "17   Al. Bolesława Krzywoustego - Silesia City Center  \n",
       "18  Ul. Powstańców - Biblioteka Śląska - Katowice ...  \n",
       "19                  Katowice Rynek - Murapol Mariacka  \n",
       "20                Katowice Rynek - Murapol Chorzowska  \n",
       "21            Katowice Rynek - KTBS – Krasińskiego 14  \n",
       "22            Katowice Rynek - KTBS – Krasińskiego 14  \n",
       "23                             COP24 - Katowice Rynek  "
      ]
     },
     "execution_count": 48,
     "metadata": {},
     "output_type": "execute_result"
    }
   ],
   "source": [
    "#we can check the same thing, but exclude the routes where departure = return\n",
    "\n",
    "#popular routes during working days\n",
    "t = wyp2018[(wyp2018['is_weekend'] == False) & (wyp2018['departure'] != wyp2018['return'])].groupby(['start_hour','route'])['bike_num'].count()\n",
    "trasy = []\n",
    "for i in range(0,24):\n",
    "    trasy.append(t.loc[i].sort_values(ascending=False).index[0])\n",
    "\n",
    "#popular routes during weekend days\n",
    "t = wyp2018[(wyp2018['is_weekend'] == True) & (wyp2018['departure'] != wyp2018['return'])].groupby(['start_hour','route'])['bike_num'].count()\n",
    "trasyw = []\n",
    "for i in range(0,24):\n",
    "    trasyw.append(t.loc[i].sort_values(ascending=False).index[0])\n",
    "    \n",
    "#popular routes during holidays\n",
    "t = wyp2018[(wyp2018['is_free'] == True) & (wyp2018['departure'] != wyp2018['return'])].groupby(['start_hour','route'])['bike_num'].count()\n",
    "trasyh = []\n",
    "for i in range(0,24):\n",
    "    trasyh.append(t.loc[i].sort_values(ascending=False).index[0])\n",
    "\n",
    "trasy_data = {'working_days' : trasy, 'weekends' : trasyw, 'holidays': trasyh}\n",
    "\n",
    "trasy_data = pd.DataFrame(data=trasy_data)\n",
    "\n",
    "trasy_data"
   ]
  },
  {
   "cell_type": "code",
   "execution_count": 49,
   "metadata": {},
   "outputs": [
    {
     "data": {
      "text/html": [
       "<div>\n",
       "<style scoped>\n",
       "    .dataframe tbody tr th:only-of-type {\n",
       "        vertical-align: middle;\n",
       "    }\n",
       "\n",
       "    .dataframe tbody tr th {\n",
       "        vertical-align: top;\n",
       "    }\n",
       "\n",
       "    .dataframe thead th {\n",
       "        text-align: right;\n",
       "    }\n",
       "</style>\n",
       "<table border=\"1\" class=\"dataframe\">\n",
       "  <thead>\n",
       "    <tr style=\"text-align: right;\">\n",
       "      <th></th>\n",
       "      <th>saturdays</th>\n",
       "      <th>sundays</th>\n",
       "      <th>sundays_no_shop</th>\n",
       "      <th>holidays</th>\n",
       "    </tr>\n",
       "  </thead>\n",
       "  <tbody>\n",
       "    <tr>\n",
       "      <th>0</th>\n",
       "      <td>Murapol Mariacka - KTBS – Krasińskiego 14</td>\n",
       "      <td>Katowice Rynek - Katowice Rynek</td>\n",
       "      <td>Murapol Mariacka - KTBS – Krasińskiego 14</td>\n",
       "      <td>Katowice Rynek - Murapol Mariacka</td>\n",
       "    </tr>\n",
       "    <tr>\n",
       "      <th>1</th>\n",
       "      <td>Murapol Mariacka - KTBS – Krasińskiego 14</td>\n",
       "      <td>Al. Księcia Henryka Pobożnego - Katowice Rynek</td>\n",
       "      <td>Murapol Mariacka - KTBS – Krasińskiego 14</td>\n",
       "      <td>Murapol Mariacka - KTBS – Saint Etienne 1</td>\n",
       "    </tr>\n",
       "    <tr>\n",
       "      <th>2</th>\n",
       "      <td>Katowice Rynek - Katowice Rynek</td>\n",
       "      <td>Katowice Rynek - Park Kościuszki</td>\n",
       "      <td>Katowice Rynek - Katowice Rynek</td>\n",
       "      <td>Katowice Rynek - Katowice Rynek</td>\n",
       "    </tr>\n",
       "    <tr>\n",
       "      <th>3</th>\n",
       "      <td>Katowice Rynek - Katowice Rynek</td>\n",
       "      <td>Al. Księcia Henryka Pobożnego - Al. Księcia He...</td>\n",
       "      <td>Kostuchna – Szarych Szeregów - Kostuchna – Ron...</td>\n",
       "      <td>Katowice Rynek - Katowice Rynek</td>\n",
       "    </tr>\n",
       "    <tr>\n",
       "      <th>4</th>\n",
       "      <td>Kostuchna – Szarych Szeregów - Kostuchna – Ron...</td>\n",
       "      <td>Murapol Mariacka - Murapol Mariacka</td>\n",
       "      <td>KTBS – Krasińskiego 14 - Katowice Rynek</td>\n",
       "      <td>Łętowskiego S.P. nr 27 - Piotrowice V L.O.</td>\n",
       "    </tr>\n",
       "    <tr>\n",
       "      <th>5</th>\n",
       "      <td>Łętowskiego S.P. nr 27 - Zadole Kościół</td>\n",
       "      <td>Murapol Mariacka - Ul. Powstańców - Biblioteka...</td>\n",
       "      <td>Łętowskiego S.P. nr 27 - Zadole Kościół</td>\n",
       "      <td>Murapol Mariacka - Bogucice Szpital</td>\n",
       "    </tr>\n",
       "    <tr>\n",
       "      <th>6</th>\n",
       "      <td>KTBS – Krasińskiego 14 - Katowice Rynek</td>\n",
       "      <td>Podlesie – Stary Most - Podlesie – Stary Most</td>\n",
       "      <td>KTBS – Krasińskiego 14 - Katowice Rynek</td>\n",
       "      <td>Dolina 3-ch Stawów - Dolina 3-ch Stawów</td>\n",
       "    </tr>\n",
       "    <tr>\n",
       "      <th>7</th>\n",
       "      <td>KTBS – Krasińskiego 14 - Katowice Rynek</td>\n",
       "      <td>Plac Wolności - Załęże Skwer S. Barei</td>\n",
       "      <td>Al. Bolesława Krzywoustego - Silesia Business ...</td>\n",
       "      <td>KTBS – Krasińskiego 14 - Katowice Rynek</td>\n",
       "    </tr>\n",
       "    <tr>\n",
       "      <th>8</th>\n",
       "      <td>KTBS – Krasińskiego 14 - Katowice Rynek</td>\n",
       "      <td>Park Kościuszki - Katowice Rynek</td>\n",
       "      <td>KTBS – Krasińskiego 14 - Katowice Rynek</td>\n",
       "      <td>KTBS – Krasińskiego 14 - Katowice Rynek</td>\n",
       "    </tr>\n",
       "    <tr>\n",
       "      <th>9</th>\n",
       "      <td>Katowice Rynek - Silesia City Center</td>\n",
       "      <td>Katowice Rynek - Silesia City Center</td>\n",
       "      <td>Katowice Rynek - Silesia City Center</td>\n",
       "      <td>Al. Księcia Henryka Pobożnego - Al. Księcia He...</td>\n",
       "    </tr>\n",
       "    <tr>\n",
       "      <th>10</th>\n",
       "      <td>KTBS – Krasińskiego 14 - Katowice Rynek</td>\n",
       "      <td>Al. Bolesława Krzywoustego - Al. Bolesława Krz...</td>\n",
       "      <td>KTBS – Krasińskiego 14 - Katowice Rynek</td>\n",
       "      <td>Al. Księcia Henryka Pobożnego - Al. Księcia He...</td>\n",
       "    </tr>\n",
       "    <tr>\n",
       "      <th>11</th>\n",
       "      <td>Al. Księcia Henryka Pobożnego - Al. Księcia He...</td>\n",
       "      <td>Al. Księżnej Jadwigi Śląskiej - Al. Księżnej J...</td>\n",
       "      <td>Al. Księcia Henryka Pobożnego - Al. Księcia He...</td>\n",
       "      <td>Al. Księcia Henryka Pobożnego - Al. Księcia He...</td>\n",
       "    </tr>\n",
       "    <tr>\n",
       "      <th>12</th>\n",
       "      <td>Dolina 3-ch Stawów - Dolina 3-ch Stawów</td>\n",
       "      <td>Al. Księcia Henryka Pobożnego - Al. Księcia He...</td>\n",
       "      <td>Katowice Rynek - Katowice Rynek</td>\n",
       "      <td>Dolina 3-ch Stawów - Dolina 3-ch Stawów</td>\n",
       "    </tr>\n",
       "    <tr>\n",
       "      <th>13</th>\n",
       "      <td>Katowice Rynek - Katowice Rynek</td>\n",
       "      <td>Al. Księcia Henryka Pobożnego - Al. Księcia He...</td>\n",
       "      <td>Katowice Rynek - Katowice Rynek</td>\n",
       "      <td>Dolina 3-ch Stawów - Dolina 3-ch Stawów</td>\n",
       "    </tr>\n",
       "    <tr>\n",
       "      <th>14</th>\n",
       "      <td>Dolina 3-ch Stawów - Dolina 3-ch Stawów</td>\n",
       "      <td>Al. Księżnej Jadwigi Śląskiej - Al. Księżnej J...</td>\n",
       "      <td>Katowice Rynek - Katowice Rynek</td>\n",
       "      <td>Katowice Rynek - Katowice Rynek</td>\n",
       "    </tr>\n",
       "    <tr>\n",
       "      <th>15</th>\n",
       "      <td>Dolina 3-ch Stawów - Dolina 3-ch Stawów</td>\n",
       "      <td>Giszowiec - Plac Pod Lipami - Giszowiec - Plac...</td>\n",
       "      <td>Katowice Rynek - KTBS – Krasińskiego 14</td>\n",
       "      <td>Dolina 3-ch Stawów - Dolina 3-ch Stawów</td>\n",
       "    </tr>\n",
       "    <tr>\n",
       "      <th>16</th>\n",
       "      <td>Dolina 3-ch Stawów - Dolina 3-ch Stawów</td>\n",
       "      <td>Dolina 3-ch Stawów - Dolina 3-ch Stawów</td>\n",
       "      <td>Katowice Rynek - KTBS – Krasińskiego 14</td>\n",
       "      <td>Dolina 3-ch Stawów - Dolina 3-ch Stawów</td>\n",
       "    </tr>\n",
       "    <tr>\n",
       "      <th>17</th>\n",
       "      <td>Dolina 3-ch Stawów - Dolina 3-ch Stawów</td>\n",
       "      <td>Dolina 3-ch Stawów - Dolina 3-ch Stawów</td>\n",
       "      <td>Dolina 3-ch Stawów - Dolina 3-ch Stawów</td>\n",
       "      <td>Dolina 3-ch Stawów - Dolina 3-ch Stawów</td>\n",
       "    </tr>\n",
       "    <tr>\n",
       "      <th>18</th>\n",
       "      <td>Dolina 3-ch Stawów - Dolina 3-ch Stawów</td>\n",
       "      <td>Katowice Rynek - Katowice Rynek</td>\n",
       "      <td>Dolina 3-ch Stawów - Dolina 3-ch Stawów</td>\n",
       "      <td>Dolina 3-ch Stawów - Dolina 3-ch Stawów</td>\n",
       "    </tr>\n",
       "    <tr>\n",
       "      <th>19</th>\n",
       "      <td>Katowice Rynek - Katowice Rynek</td>\n",
       "      <td>Al. Księżnej Jadwigi Śląskiej - Al. Księżnej J...</td>\n",
       "      <td>Al. Bolesława Krzywoustego - Al. Bolesława Krz...</td>\n",
       "      <td>Katowice Rynek - Katowice Rynek</td>\n",
       "    </tr>\n",
       "    <tr>\n",
       "      <th>20</th>\n",
       "      <td>Katowice Rynek - Katowice Rynek</td>\n",
       "      <td>Galeria 3 Stawy - KTBS – Krasińskiego 14</td>\n",
       "      <td>Dolina 3-ch Stawów - Dolina 3-ch Stawów</td>\n",
       "      <td>Katowice Rynek - Katowice Rynek</td>\n",
       "    </tr>\n",
       "    <tr>\n",
       "      <th>21</th>\n",
       "      <td>Katowice Rynek - Katowice Rynek</td>\n",
       "      <td>Murapol Mariacka - KTBS – Krasińskiego 14</td>\n",
       "      <td>Katowice Rynek - Katowice Rynek</td>\n",
       "      <td>Katowice Rynek - KTBS – Krasińskiego 14</td>\n",
       "    </tr>\n",
       "    <tr>\n",
       "      <th>22</th>\n",
       "      <td>Katowice Rynek - Katowice Rynek</td>\n",
       "      <td>Katowice Rynek - Katowice Rynek</td>\n",
       "      <td>Katowice Rynek - Katowice Rynek</td>\n",
       "      <td>Katowice Rynek - KTBS – Krasińskiego 14</td>\n",
       "    </tr>\n",
       "    <tr>\n",
       "      <th>23</th>\n",
       "      <td>Katowice Rynek - Katowice Rynek</td>\n",
       "      <td>Osiedle Witosa - Plac Herberta - Osiedle Witos...</td>\n",
       "      <td>Katowice Rynek - Katowice Rynek</td>\n",
       "      <td>COP24 - Katowice Rynek</td>\n",
       "    </tr>\n",
       "  </tbody>\n",
       "</table>\n",
       "</div>"
      ],
      "text/plain": [
       "                                            saturdays  \\\n",
       "0           Murapol Mariacka - KTBS – Krasińskiego 14   \n",
       "1           Murapol Mariacka - KTBS – Krasińskiego 14   \n",
       "2                     Katowice Rynek - Katowice Rynek   \n",
       "3                     Katowice Rynek - Katowice Rynek   \n",
       "4   Kostuchna – Szarych Szeregów - Kostuchna – Ron...   \n",
       "5             Łętowskiego S.P. nr 27 - Zadole Kościół   \n",
       "6             KTBS – Krasińskiego 14 - Katowice Rynek   \n",
       "7             KTBS – Krasińskiego 14 - Katowice Rynek   \n",
       "8             KTBS – Krasińskiego 14 - Katowice Rynek   \n",
       "9                Katowice Rynek - Silesia City Center   \n",
       "10            KTBS – Krasińskiego 14 - Katowice Rynek   \n",
       "11  Al. Księcia Henryka Pobożnego - Al. Księcia He...   \n",
       "12            Dolina 3-ch Stawów - Dolina 3-ch Stawów   \n",
       "13                    Katowice Rynek - Katowice Rynek   \n",
       "14            Dolina 3-ch Stawów - Dolina 3-ch Stawów   \n",
       "15            Dolina 3-ch Stawów - Dolina 3-ch Stawów   \n",
       "16            Dolina 3-ch Stawów - Dolina 3-ch Stawów   \n",
       "17            Dolina 3-ch Stawów - Dolina 3-ch Stawów   \n",
       "18            Dolina 3-ch Stawów - Dolina 3-ch Stawów   \n",
       "19                    Katowice Rynek - Katowice Rynek   \n",
       "20                    Katowice Rynek - Katowice Rynek   \n",
       "21                    Katowice Rynek - Katowice Rynek   \n",
       "22                    Katowice Rynek - Katowice Rynek   \n",
       "23                    Katowice Rynek - Katowice Rynek   \n",
       "\n",
       "                                              sundays  \\\n",
       "0                     Katowice Rynek - Katowice Rynek   \n",
       "1      Al. Księcia Henryka Pobożnego - Katowice Rynek   \n",
       "2                    Katowice Rynek - Park Kościuszki   \n",
       "3   Al. Księcia Henryka Pobożnego - Al. Księcia He...   \n",
       "4                 Murapol Mariacka - Murapol Mariacka   \n",
       "5   Murapol Mariacka - Ul. Powstańców - Biblioteka...   \n",
       "6       Podlesie – Stary Most - Podlesie – Stary Most   \n",
       "7               Plac Wolności - Załęże Skwer S. Barei   \n",
       "8                    Park Kościuszki - Katowice Rynek   \n",
       "9                Katowice Rynek - Silesia City Center   \n",
       "10  Al. Bolesława Krzywoustego - Al. Bolesława Krz...   \n",
       "11  Al. Księżnej Jadwigi Śląskiej - Al. Księżnej J...   \n",
       "12  Al. Księcia Henryka Pobożnego - Al. Księcia He...   \n",
       "13  Al. Księcia Henryka Pobożnego - Al. Księcia He...   \n",
       "14  Al. Księżnej Jadwigi Śląskiej - Al. Księżnej J...   \n",
       "15  Giszowiec - Plac Pod Lipami - Giszowiec - Plac...   \n",
       "16            Dolina 3-ch Stawów - Dolina 3-ch Stawów   \n",
       "17            Dolina 3-ch Stawów - Dolina 3-ch Stawów   \n",
       "18                    Katowice Rynek - Katowice Rynek   \n",
       "19  Al. Księżnej Jadwigi Śląskiej - Al. Księżnej J...   \n",
       "20           Galeria 3 Stawy - KTBS – Krasińskiego 14   \n",
       "21          Murapol Mariacka - KTBS – Krasińskiego 14   \n",
       "22                    Katowice Rynek - Katowice Rynek   \n",
       "23  Osiedle Witosa - Plac Herberta - Osiedle Witos...   \n",
       "\n",
       "                                      sundays_no_shop  \\\n",
       "0           Murapol Mariacka - KTBS – Krasińskiego 14   \n",
       "1           Murapol Mariacka - KTBS – Krasińskiego 14   \n",
       "2                     Katowice Rynek - Katowice Rynek   \n",
       "3   Kostuchna – Szarych Szeregów - Kostuchna – Ron...   \n",
       "4             KTBS – Krasińskiego 14 - Katowice Rynek   \n",
       "5             Łętowskiego S.P. nr 27 - Zadole Kościół   \n",
       "6             KTBS – Krasińskiego 14 - Katowice Rynek   \n",
       "7   Al. Bolesława Krzywoustego - Silesia Business ...   \n",
       "8             KTBS – Krasińskiego 14 - Katowice Rynek   \n",
       "9                Katowice Rynek - Silesia City Center   \n",
       "10            KTBS – Krasińskiego 14 - Katowice Rynek   \n",
       "11  Al. Księcia Henryka Pobożnego - Al. Księcia He...   \n",
       "12                    Katowice Rynek - Katowice Rynek   \n",
       "13                    Katowice Rynek - Katowice Rynek   \n",
       "14                    Katowice Rynek - Katowice Rynek   \n",
       "15            Katowice Rynek - KTBS – Krasińskiego 14   \n",
       "16            Katowice Rynek - KTBS – Krasińskiego 14   \n",
       "17            Dolina 3-ch Stawów - Dolina 3-ch Stawów   \n",
       "18            Dolina 3-ch Stawów - Dolina 3-ch Stawów   \n",
       "19  Al. Bolesława Krzywoustego - Al. Bolesława Krz...   \n",
       "20            Dolina 3-ch Stawów - Dolina 3-ch Stawów   \n",
       "21                    Katowice Rynek - Katowice Rynek   \n",
       "22                    Katowice Rynek - Katowice Rynek   \n",
       "23                    Katowice Rynek - Katowice Rynek   \n",
       "\n",
       "                                             holidays  \n",
       "0                   Katowice Rynek - Murapol Mariacka  \n",
       "1           Murapol Mariacka - KTBS – Saint Etienne 1  \n",
       "2                     Katowice Rynek - Katowice Rynek  \n",
       "3                     Katowice Rynek - Katowice Rynek  \n",
       "4          Łętowskiego S.P. nr 27 - Piotrowice V L.O.  \n",
       "5                 Murapol Mariacka - Bogucice Szpital  \n",
       "6             Dolina 3-ch Stawów - Dolina 3-ch Stawów  \n",
       "7             KTBS – Krasińskiego 14 - Katowice Rynek  \n",
       "8             KTBS – Krasińskiego 14 - Katowice Rynek  \n",
       "9   Al. Księcia Henryka Pobożnego - Al. Księcia He...  \n",
       "10  Al. Księcia Henryka Pobożnego - Al. Księcia He...  \n",
       "11  Al. Księcia Henryka Pobożnego - Al. Księcia He...  \n",
       "12            Dolina 3-ch Stawów - Dolina 3-ch Stawów  \n",
       "13            Dolina 3-ch Stawów - Dolina 3-ch Stawów  \n",
       "14                    Katowice Rynek - Katowice Rynek  \n",
       "15            Dolina 3-ch Stawów - Dolina 3-ch Stawów  \n",
       "16            Dolina 3-ch Stawów - Dolina 3-ch Stawów  \n",
       "17            Dolina 3-ch Stawów - Dolina 3-ch Stawów  \n",
       "18            Dolina 3-ch Stawów - Dolina 3-ch Stawów  \n",
       "19                    Katowice Rynek - Katowice Rynek  \n",
       "20                    Katowice Rynek - Katowice Rynek  \n",
       "21            Katowice Rynek - KTBS – Krasińskiego 14  \n",
       "22            Katowice Rynek - KTBS – Krasińskiego 14  \n",
       "23                             COP24 - Katowice Rynek  "
      ]
     },
     "execution_count": 49,
     "metadata": {},
     "output_type": "execute_result"
    }
   ],
   "source": [
    "#it seemed strange for me that there are not so many rides through parks during the weekends, so let's\n",
    "#compare saturdays, shopping sundays and not-shopping sundays\n",
    "\n",
    "\n",
    "#popular routes during saturdays\n",
    "t = wyp2018[(wyp2018['which_day'] == 5)].groupby(['start_hour','route'])['bike_num'].count()\n",
    "trasy = []\n",
    "for i in range(0,24):\n",
    "    trasy.append(t.loc[i].sort_values(ascending=False).index[0])\n",
    "\n",
    "#popular routes during sundays shopping\n",
    "t = wyp2018[(wyp2018['which_day'] == 6) & wyp2018['shop'] == 1].groupby(['start_hour','route'])['bike_num'].count()\n",
    "trasyw = []\n",
    "for i in range(0,24):\n",
    "    trasyw.append(t.loc[i].sort_values(ascending=False).index[0])\n",
    "    \n",
    "#popular routes during sundays not shopping\n",
    "t = wyp2018[(wyp2018['which_day'] == 6) & wyp2018['shop'] == 0].groupby(['start_hour','route'])['bike_num'].count()\n",
    "trasyn = []\n",
    "for i in range(0,24):\n",
    "    trasyn.append(t.loc[i].sort_values(ascending=False).index[0])\n",
    "    \n",
    "#popular routes during holidays\n",
    "t = wyp2018[(wyp2018['is_free'] == True)].groupby(['start_hour','route'])['bike_num'].count()\n",
    "trasyh = []\n",
    "for i in range(0,24):\n",
    "    trasyh.append(t.loc[i].sort_values(ascending=False).index[0])\n",
    "\n",
    "trasy_data = {'saturdays' : trasy, 'sundays' : trasyw, 'sundays_no_shop' : trasyn, 'holidays': trasyh}\n",
    "\n",
    "trasy_data = pd.DataFrame(data=trasy_data)\n",
    "\n",
    "trasy_data\n"
   ]
  },
  {
   "cell_type": "markdown",
   "metadata": {},
   "source": [
    "<h3>How about summer holidays? Does students use bikes a lot?"
   ]
  },
  {
   "cell_type": "code",
   "execution_count": 50,
   "metadata": {},
   "outputs": [],
   "source": [
    "# #Let's see if popular stations varies during summer holidays\n",
    "# trasy_miesiace = pd.DataFrame()\n",
    "# for i in range(4,13):\n",
    "#     t = wyp2018[(wyp2018['start_month'] == i) & (wyp2018['departure'] != wyp2018['return'])].groupby(['start_hour','route'])['bike_num'].count()\n",
    "#     temp = []\n",
    "#     for j in range(0,24):\n",
    "#         temp.append(t.loc[j].sort_values(ascending=False).index[0])\n",
    "#     trasy_miesiace[i] = temp\n",
    "#trasy_miesiace\n",
    "\n",
    "#The above code will show popular stations per hour per month - but I didn't find anything interesting"
   ]
  },
  {
   "cell_type": "markdown",
   "metadata": {},
   "source": [
    "<h3>Now let's check the stations."
   ]
  },
  {
   "cell_type": "code",
   "execution_count": 51,
   "metadata": {},
   "outputs": [
    {
     "name": "stdout",
     "output_type": "stream",
     "text": [
      "Most bikes are rented from: \n"
     ]
    },
    {
     "data": {
      "text/plain": [
       "departure\n",
       "Katowice Rynek                27459\n",
       "Silesia City Center            8730\n",
       "KTBS – Krasińskiego 14         8378\n",
       "Murapol Mariacka               7773\n",
       "Al. Bolesława Krzywoustego     6518\n",
       "Name: bike_num, dtype: int64"
      ]
     },
     "execution_count": 51,
     "metadata": {},
     "output_type": "execute_result"
    }
   ],
   "source": [
    "#find the most popular departure stations\n",
    "print('Most bikes are rented from: ')\n",
    "wyp2018.groupby('departure')['bike_num'].count().nlargest(5)"
   ]
  },
  {
   "cell_type": "code",
   "execution_count": 52,
   "metadata": {},
   "outputs": [
    {
     "data": {
      "text/html": [
       "<div>\n",
       "<style scoped>\n",
       "    .dataframe tbody tr th:only-of-type {\n",
       "        vertical-align: middle;\n",
       "    }\n",
       "\n",
       "    .dataframe tbody tr th {\n",
       "        vertical-align: top;\n",
       "    }\n",
       "\n",
       "    .dataframe thead th {\n",
       "        text-align: right;\n",
       "    }\n",
       "</style>\n",
       "<table border=\"1\" class=\"dataframe\">\n",
       "  <thead>\n",
       "    <tr style=\"text-align: right;\">\n",
       "      <th></th>\n",
       "      <th>4</th>\n",
       "      <th>5</th>\n",
       "      <th>6</th>\n",
       "      <th>7</th>\n",
       "      <th>8</th>\n",
       "      <th>9</th>\n",
       "      <th>10</th>\n",
       "      <th>11</th>\n",
       "      <th>12</th>\n",
       "    </tr>\n",
       "  </thead>\n",
       "  <tbody>\n",
       "    <tr>\n",
       "      <th>0</th>\n",
       "      <td>Katowice Rynek</td>\n",
       "      <td>Katowice Rynek</td>\n",
       "      <td>Katowice Rynek</td>\n",
       "      <td>Katowice Rynek</td>\n",
       "      <td>Katowice Rynek</td>\n",
       "      <td>Katowice Rynek</td>\n",
       "      <td>Katowice Rynek</td>\n",
       "      <td>Katowice Rynek</td>\n",
       "      <td>Katowice Rynek</td>\n",
       "    </tr>\n",
       "    <tr>\n",
       "      <th>1</th>\n",
       "      <td>Murapol Mariacka</td>\n",
       "      <td>Murapol Mariacka</td>\n",
       "      <td>Silesia City Center</td>\n",
       "      <td>Silesia City Center</td>\n",
       "      <td>Silesia City Center</td>\n",
       "      <td>Silesia City Center</td>\n",
       "      <td>KTBS – Krasińskiego 14</td>\n",
       "      <td>KTBS – Krasińskiego 14</td>\n",
       "      <td>KTBS – Krasińskiego 14</td>\n",
       "    </tr>\n",
       "    <tr>\n",
       "      <th>2</th>\n",
       "      <td>Silesia City Center</td>\n",
       "      <td>Dolina 3-ch Stawów</td>\n",
       "      <td>Murapol Mariacka</td>\n",
       "      <td>KTBS – Krasińskiego 14</td>\n",
       "      <td>KTBS – Krasińskiego 14</td>\n",
       "      <td>KTBS – Krasińskiego 14</td>\n",
       "      <td>Silesia City Center</td>\n",
       "      <td>Silesia City Center</td>\n",
       "      <td>Plac Wolności</td>\n",
       "    </tr>\n",
       "    <tr>\n",
       "      <th>3</th>\n",
       "      <td>KTBS – Krasińskiego 14</td>\n",
       "      <td>Silesia City Center</td>\n",
       "      <td>KTBS – Krasińskiego 14</td>\n",
       "      <td>Murapol Mariacka</td>\n",
       "      <td>Murapol Mariacka</td>\n",
       "      <td>Plac Wolności</td>\n",
       "      <td>Plac Wolności</td>\n",
       "      <td>Koszutka – Plac Gwarków</td>\n",
       "      <td>Plac Sejmu Śląskiego</td>\n",
       "    </tr>\n",
       "    <tr>\n",
       "      <th>4</th>\n",
       "      <td>Al. Księcia Henryka Pobożnego</td>\n",
       "      <td>KTBS – Krasińskiego 14</td>\n",
       "      <td>Plac Wolności</td>\n",
       "      <td>Al. Bolesława Krzywoustego</td>\n",
       "      <td>Al. Bolesława Krzywoustego</td>\n",
       "      <td>Murapol Mariacka</td>\n",
       "      <td>Murapol Mariacka</td>\n",
       "      <td>Plac Sejmu Śląskiego</td>\n",
       "      <td>Murapol Mariacka</td>\n",
       "    </tr>\n",
       "  </tbody>\n",
       "</table>\n",
       "</div>"
      ],
      "text/plain": [
       "                              4                       5   \\\n",
       "0                 Katowice Rynek          Katowice Rynek   \n",
       "1               Murapol Mariacka        Murapol Mariacka   \n",
       "2            Silesia City Center      Dolina 3-ch Stawów   \n",
       "3         KTBS – Krasińskiego 14     Silesia City Center   \n",
       "4  Al. Księcia Henryka Pobożnego  KTBS – Krasińskiego 14   \n",
       "\n",
       "                       6                           7   \\\n",
       "0          Katowice Rynek              Katowice Rynek   \n",
       "1     Silesia City Center         Silesia City Center   \n",
       "2        Murapol Mariacka      KTBS – Krasińskiego 14   \n",
       "3  KTBS – Krasińskiego 14            Murapol Mariacka   \n",
       "4           Plac Wolności  Al. Bolesława Krzywoustego   \n",
       "\n",
       "                           8                       9                       10  \\\n",
       "0              Katowice Rynek          Katowice Rynek          Katowice Rynek   \n",
       "1         Silesia City Center     Silesia City Center  KTBS – Krasińskiego 14   \n",
       "2      KTBS – Krasińskiego 14  KTBS – Krasińskiego 14     Silesia City Center   \n",
       "3            Murapol Mariacka           Plac Wolności           Plac Wolności   \n",
       "4  Al. Bolesława Krzywoustego        Murapol Mariacka        Murapol Mariacka   \n",
       "\n",
       "                        11                      12  \n",
       "0           Katowice Rynek          Katowice Rynek  \n",
       "1   KTBS – Krasińskiego 14  KTBS – Krasińskiego 14  \n",
       "2      Silesia City Center           Plac Wolności  \n",
       "3  Koszutka – Plac Gwarków    Plac Sejmu Śląskiego  \n",
       "4     Plac Sejmu Śląskiego        Murapol Mariacka  "
      ]
     },
     "execution_count": 52,
     "metadata": {},
     "output_type": "execute_result"
    }
   ],
   "source": [
    "#Does it change througout the year?\n",
    "stacje_mies_dep = pd.DataFrame()\n",
    "for i in range(4,13):\n",
    "    t = wyp2018[wyp2018['start_month'] == i].groupby(['departure'])['bike_num'].count().nlargest(5)\n",
    "    stacje_mies_dep[i] = t.index\n",
    "stacje_mies_dep"
   ]
  },
  {
   "cell_type": "code",
   "execution_count": 53,
   "metadata": {},
   "outputs": [
    {
     "name": "stdout",
     "output_type": "stream",
     "text": [
      "Bikes are most returned at: \n"
     ]
    },
    {
     "data": {
      "text/plain": [
       "return\n",
       "Katowice Rynek                29073\n",
       "KTBS – Krasińskiego 14         8230\n",
       "Murapol Mariacka               8076\n",
       "Silesia City Center            8075\n",
       "Al. Bolesława Krzywoustego     7217\n",
       "Name: bike_num, dtype: int64"
      ]
     },
     "execution_count": 53,
     "metadata": {},
     "output_type": "execute_result"
    }
   ],
   "source": [
    "#find the most popular return stations\n",
    "print('Bikes are most returned at: ')\n",
    "wyp2018.groupby('return')['bike_num'].count().nlargest(5)"
   ]
  },
  {
   "cell_type": "code",
   "execution_count": 54,
   "metadata": {},
   "outputs": [
    {
     "data": {
      "text/html": [
       "<div>\n",
       "<style scoped>\n",
       "    .dataframe tbody tr th:only-of-type {\n",
       "        vertical-align: middle;\n",
       "    }\n",
       "\n",
       "    .dataframe tbody tr th {\n",
       "        vertical-align: top;\n",
       "    }\n",
       "\n",
       "    .dataframe thead th {\n",
       "        text-align: right;\n",
       "    }\n",
       "</style>\n",
       "<table border=\"1\" class=\"dataframe\">\n",
       "  <thead>\n",
       "    <tr style=\"text-align: right;\">\n",
       "      <th></th>\n",
       "      <th>4</th>\n",
       "      <th>5</th>\n",
       "      <th>6</th>\n",
       "      <th>7</th>\n",
       "      <th>8</th>\n",
       "      <th>9</th>\n",
       "      <th>10</th>\n",
       "      <th>11</th>\n",
       "      <th>12</th>\n",
       "    </tr>\n",
       "  </thead>\n",
       "  <tbody>\n",
       "    <tr>\n",
       "      <th>0</th>\n",
       "      <td>Katowice Rynek</td>\n",
       "      <td>Katowice Rynek</td>\n",
       "      <td>Katowice Rynek</td>\n",
       "      <td>Katowice Rynek</td>\n",
       "      <td>Katowice Rynek</td>\n",
       "      <td>Katowice Rynek</td>\n",
       "      <td>Katowice Rynek</td>\n",
       "      <td>Katowice Rynek</td>\n",
       "      <td>Katowice Rynek</td>\n",
       "    </tr>\n",
       "    <tr>\n",
       "      <th>1</th>\n",
       "      <td>Murapol Mariacka</td>\n",
       "      <td>Murapol Mariacka</td>\n",
       "      <td>Silesia City Center</td>\n",
       "      <td>Silesia City Center</td>\n",
       "      <td>Silesia City Center</td>\n",
       "      <td>KTBS – Krasińskiego 14</td>\n",
       "      <td>KTBS – Krasińskiego 14</td>\n",
       "      <td>KTBS – Krasińskiego 14</td>\n",
       "      <td>KTBS – Krasińskiego 14</td>\n",
       "    </tr>\n",
       "    <tr>\n",
       "      <th>2</th>\n",
       "      <td>Al. Bolesława Krzywoustego</td>\n",
       "      <td>Dolina 3-ch Stawów</td>\n",
       "      <td>Murapol Mariacka</td>\n",
       "      <td>Al. Bolesława Krzywoustego</td>\n",
       "      <td>KTBS – Krasińskiego 14</td>\n",
       "      <td>Silesia City Center</td>\n",
       "      <td>Murapol Mariacka</td>\n",
       "      <td>Plac Wolności</td>\n",
       "      <td>Plac Wolności</td>\n",
       "    </tr>\n",
       "    <tr>\n",
       "      <th>3</th>\n",
       "      <td>Al. Księcia Henryka Pobożnego</td>\n",
       "      <td>Al. Bolesława Krzywoustego</td>\n",
       "      <td>KTBS – Krasińskiego 14</td>\n",
       "      <td>KTBS – Krasińskiego 14</td>\n",
       "      <td>Al. Bolesława Krzywoustego</td>\n",
       "      <td>Murapol Mariacka</td>\n",
       "      <td>Plac Wolności</td>\n",
       "      <td>Murapol Mariacka</td>\n",
       "      <td>Murapol Mariacka</td>\n",
       "    </tr>\n",
       "    <tr>\n",
       "      <th>4</th>\n",
       "      <td>KTBS – Krasińskiego 14</td>\n",
       "      <td>Al. Księcia Henryka Pobożnego</td>\n",
       "      <td>Al. Bolesława Krzywoustego</td>\n",
       "      <td>Murapol Mariacka</td>\n",
       "      <td>Murapol Mariacka</td>\n",
       "      <td>Plac Wolności</td>\n",
       "      <td>Silesia City Center</td>\n",
       "      <td>Silesia City Center</td>\n",
       "      <td>Ligota Medyków</td>\n",
       "    </tr>\n",
       "  </tbody>\n",
       "</table>\n",
       "</div>"
      ],
      "text/plain": [
       "                              4                              5   \\\n",
       "0                 Katowice Rynek                 Katowice Rynek   \n",
       "1               Murapol Mariacka               Murapol Mariacka   \n",
       "2     Al. Bolesława Krzywoustego             Dolina 3-ch Stawów   \n",
       "3  Al. Księcia Henryka Pobożnego     Al. Bolesława Krzywoustego   \n",
       "4         KTBS – Krasińskiego 14  Al. Księcia Henryka Pobożnego   \n",
       "\n",
       "                           6                           7   \\\n",
       "0              Katowice Rynek              Katowice Rynek   \n",
       "1         Silesia City Center         Silesia City Center   \n",
       "2            Murapol Mariacka  Al. Bolesława Krzywoustego   \n",
       "3      KTBS – Krasińskiego 14      KTBS – Krasińskiego 14   \n",
       "4  Al. Bolesława Krzywoustego            Murapol Mariacka   \n",
       "\n",
       "                           8                       9                       10  \\\n",
       "0              Katowice Rynek          Katowice Rynek          Katowice Rynek   \n",
       "1         Silesia City Center  KTBS – Krasińskiego 14  KTBS – Krasińskiego 14   \n",
       "2      KTBS – Krasińskiego 14     Silesia City Center        Murapol Mariacka   \n",
       "3  Al. Bolesława Krzywoustego        Murapol Mariacka           Plac Wolności   \n",
       "4            Murapol Mariacka           Plac Wolności     Silesia City Center   \n",
       "\n",
       "                       11                      12  \n",
       "0          Katowice Rynek          Katowice Rynek  \n",
       "1  KTBS – Krasińskiego 14  KTBS – Krasińskiego 14  \n",
       "2           Plac Wolności           Plac Wolności  \n",
       "3        Murapol Mariacka        Murapol Mariacka  \n",
       "4     Silesia City Center          Ligota Medyków  "
      ]
     },
     "execution_count": 54,
     "metadata": {},
     "output_type": "execute_result"
    }
   ],
   "source": [
    "#Does it change througout the year?\n",
    "stacje_mies_ret = pd.DataFrame()\n",
    "for i in range(4,13):\n",
    "    t = wyp2018[wyp2018['start_month'] == i].groupby(['return'])['bike_num'].count().nlargest(5)\n",
    "    stacje_mies_ret[i] = t.index\n",
    "stacje_mies_ret"
   ]
  },
  {
   "cell_type": "code",
   "execution_count": 55,
   "metadata": {},
   "outputs": [
    {
     "name": "stdout",
     "output_type": "stream",
     "text": [
      "Bikes are least rented at: \n"
     ]
    },
    {
     "data": {
      "text/plain": [
       "departure\n",
       "PKN Orlen - Al. Roździeńskiego     31\n",
       "ING Roździeńska                    51\n",
       "PKN Orlen - Bocheńskiego           83\n",
       "PKN Orlen - Piotrowicka           201\n",
       "PKN Orlen - Murckowska            232\n",
       "Name: bike_num, dtype: int64"
      ]
     },
     "execution_count": 55,
     "metadata": {},
     "output_type": "execute_result"
    }
   ],
   "source": [
    "#Find least popular departure stations:\n",
    "print('Bikes are least rented at: ')\n",
    "wyp2018.groupby('departure')['bike_num'].count().nsmallest(5)"
   ]
  },
  {
   "cell_type": "code",
   "execution_count": 56,
   "metadata": {},
   "outputs": [
    {
     "name": "stdout",
     "output_type": "stream",
     "text": [
      "Bikes are least returned at: \n"
     ]
    },
    {
     "data": {
      "text/plain": [
       "return\n",
       "ING Roździeńska                    27\n",
       "PKN Orlen - Al. Roździeńskiego     34\n",
       "PKN Orlen - Bocheńskiego           81\n",
       "PKN Orlen - Murckowska            143\n",
       "PKN Orlen - Piotrowicka           185\n",
       "Name: bike_num, dtype: int64"
      ]
     },
     "execution_count": 56,
     "metadata": {},
     "output_type": "execute_result"
    }
   ],
   "source": [
    "#Find the least popular return stations:\n",
    "print('Bikes are least returned at: ')\n",
    "wyp2018.groupby('return')['bike_num'].count().nsmallest(5)"
   ]
  },
  {
   "cell_type": "code",
   "execution_count": 57,
   "metadata": {},
   "outputs": [
    {
     "name": "stdout",
     "output_type": "stream",
     "text": [
      "Most popular routes are: \n"
     ]
    },
    {
     "data": {
      "text/plain": [
       "route\n",
       "Katowice Rynek - Katowice Rynek                                  3807\n",
       "KTBS – Krasińskiego 14 - Katowice Rynek                          3418\n",
       "Dolina 3-ch Stawów - Dolina 3-ch Stawów                          3253\n",
       "Katowice Rynek - KTBS – Krasińskiego 14                          3207\n",
       "Al. Księcia Henryka Pobożnego - Al. Księcia Henryka Pobożnego    2806\n",
       "Name: bike_num, dtype: int64"
      ]
     },
     "execution_count": 57,
     "metadata": {},
     "output_type": "execute_result"
    }
   ],
   "source": [
    "#Find most popular routes\n",
    "print('Most popular routes are: ')\n",
    "wyp2018.groupby('route')['bike_num'].count().nlargest(5)"
   ]
  },
  {
   "cell_type": "code",
   "execution_count": 58,
   "metadata": {},
   "outputs": [
    {
     "data": {
      "text/plain": [
       "route\n",
       "KTBS – Krasińskiego 14 - Katowice Rynek    3418\n",
       "Katowice Rynek - KTBS – Krasińskiego 14    3207\n",
       "Silesia City Center - Katowice Rynek       2288\n",
       "Katowice Rynek - Murapol Mariacka          1995\n",
       "Katowice Rynek - Silesia City Center       1797\n",
       "Name: bike_num, dtype: int64"
      ]
     },
     "execution_count": 58,
     "metadata": {},
     "output_type": "execute_result"
    }
   ],
   "source": [
    "#Find most popular routes where departure != return\n",
    "wyp2018[wyp2018['departure'] != wyp2018['return']].groupby('route')['bike_num'].count().nlargest(5)"
   ]
  },
  {
   "cell_type": "code",
   "execution_count": 59,
   "metadata": {},
   "outputs": [
    {
     "name": "stdout",
     "output_type": "stream",
     "text": [
      "least popular routes are: \n"
     ]
    },
    {
     "data": {
      "text/plain": [
       "route\n",
       "Al. Bolesława Krzywoustego - Os. Ptasie – ul. Drozdów                1\n",
       "Al. Bolesława Krzywoustego - Łętowskiego S.P. nr 27                  1\n",
       "Al. Księcia Henryka Pobożnego - Kostuchna – Rondo Rostworowskiego    1\n",
       "Al. Księcia Henryka Pobożnego - Ligota Wczasowa                      1\n",
       "Al. Księcia Henryka Pobożnego - Murcki - Rynek Murckowski            1\n",
       "Name: bike_num, dtype: int64"
      ]
     },
     "execution_count": 59,
     "metadata": {},
     "output_type": "execute_result"
    }
   ],
   "source": [
    "#Find least popular routes\n",
    "print('least popular routes are: ')\n",
    "wyp2018.groupby('route')['bike_num'].count().nsmallest()"
   ]
  },
  {
   "cell_type": "markdown",
   "metadata": {},
   "source": [
    "<h3>And the most rented bike"
   ]
  },
  {
   "cell_type": "code",
   "execution_count": 60,
   "metadata": {},
   "outputs": [
    {
     "name": "stdout",
     "output_type": "stream",
     "text": [
      "ID of most rented bike and number of its rides in a season: \n"
     ]
    },
    {
     "data": {
      "text/plain": [
       "bike_num\n",
       "58463    772\n",
       "Name: duration_sec, dtype: int64"
      ]
     },
     "execution_count": 60,
     "metadata": {},
     "output_type": "execute_result"
    }
   ],
   "source": [
    "#find most rented bike\n",
    "print('ID of most rented bike and number of its rides in a season: ')\n",
    "wyp2018.groupby('bike_num')['duration_sec'].count().nlargest(1)"
   ]
  },
  {
   "cell_type": "code",
   "execution_count": 61,
   "metadata": {},
   "outputs": [
    {
     "data": {
      "text/html": [
       "<div>\n",
       "<style scoped>\n",
       "    .dataframe tbody tr th:only-of-type {\n",
       "        vertical-align: middle;\n",
       "    }\n",
       "\n",
       "    .dataframe tbody tr th {\n",
       "        vertical-align: top;\n",
       "    }\n",
       "\n",
       "    .dataframe thead th {\n",
       "        text-align: right;\n",
       "    }\n",
       "</style>\n",
       "<table border=\"1\" class=\"dataframe\">\n",
       "  <thead>\n",
       "    <tr style=\"text-align: right;\">\n",
       "      <th></th>\n",
       "      <th>bike_num</th>\n",
       "      <th>start_time</th>\n",
       "      <th>end_time</th>\n",
       "      <th>departure</th>\n",
       "      <th>return</th>\n",
       "      <th>duration_sec</th>\n",
       "      <th>start_day</th>\n",
       "      <th>start_month</th>\n",
       "      <th>start_hour</th>\n",
       "      <th>start_minute</th>\n",
       "      <th>...</th>\n",
       "      <th>is_free</th>\n",
       "      <th>shop</th>\n",
       "      <th>route</th>\n",
       "      <th>dep_id</th>\n",
       "      <th>dep_lat</th>\n",
       "      <th>dep_lon</th>\n",
       "      <th>ret_id</th>\n",
       "      <th>ret_lat</th>\n",
       "      <th>ret_lon</th>\n",
       "      <th>distance</th>\n",
       "    </tr>\n",
       "  </thead>\n",
       "  <tbody>\n",
       "    <tr>\n",
       "      <th>35688</th>\n",
       "      <td>58463</td>\n",
       "      <td>2018-04-30 00:19:28</td>\n",
       "      <td>2018-04-30 00:25:28</td>\n",
       "      <td>COP24</td>\n",
       "      <td>Katowice Rynek</td>\n",
       "      <td>360</td>\n",
       "      <td>30</td>\n",
       "      <td>4</td>\n",
       "      <td>0</td>\n",
       "      <td>19</td>\n",
       "      <td>...</td>\n",
       "      <td>0</td>\n",
       "      <td>2</td>\n",
       "      <td>COP24 - Katowice Rynek</td>\n",
       "      <td>5868</td>\n",
       "      <td>50.265282</td>\n",
       "      <td>19.028635</td>\n",
       "      <td>5867</td>\n",
       "      <td>50.258697</td>\n",
       "      <td>19.021618</td>\n",
       "      <td>0.887056</td>\n",
       "    </tr>\n",
       "    <tr>\n",
       "      <th>52591</th>\n",
       "      <td>58463</td>\n",
       "      <td>2018-04-30 00:52:42</td>\n",
       "      <td>2018-04-30 00:59:45</td>\n",
       "      <td>Katowice Rynek</td>\n",
       "      <td>COP24</td>\n",
       "      <td>423</td>\n",
       "      <td>30</td>\n",
       "      <td>4</td>\n",
       "      <td>0</td>\n",
       "      <td>52</td>\n",
       "      <td>...</td>\n",
       "      <td>0</td>\n",
       "      <td>2</td>\n",
       "      <td>Katowice Rynek - COP24</td>\n",
       "      <td>5867</td>\n",
       "      <td>50.258697</td>\n",
       "      <td>19.021618</td>\n",
       "      <td>5868</td>\n",
       "      <td>50.265282</td>\n",
       "      <td>19.028635</td>\n",
       "      <td>0.887056</td>\n",
       "    </tr>\n",
       "  </tbody>\n",
       "</table>\n",
       "<p>2 rows × 26 columns</p>\n",
       "</div>"
      ],
      "text/plain": [
       "       bike_num           start_time             end_time       departure  \\\n",
       "35688     58463  2018-04-30 00:19:28  2018-04-30 00:25:28           COP24   \n",
       "52591     58463  2018-04-30 00:52:42  2018-04-30 00:59:45  Katowice Rynek   \n",
       "\n",
       "               return  duration_sec  start_day  start_month  start_hour  \\\n",
       "35688  Katowice Rynek           360         30            4           0   \n",
       "52591           COP24           423         30            4           0   \n",
       "\n",
       "       start_minute  ... is_free  shop                   route  dep_id  \\\n",
       "35688            19  ...       0     2  COP24 - Katowice Rynek    5868   \n",
       "52591            52  ...       0     2  Katowice Rynek - COP24    5867   \n",
       "\n",
       "         dep_lat    dep_lon  ret_id    ret_lat    ret_lon  distance  \n",
       "35688  50.265282  19.028635    5867  50.258697  19.021618  0.887056  \n",
       "52591  50.258697  19.021618    5868  50.265282  19.028635  0.887056  \n",
       "\n",
       "[2 rows x 26 columns]"
      ]
     },
     "execution_count": 61,
     "metadata": {},
     "output_type": "execute_result"
    }
   ],
   "source": [
    "#find most rented id\n",
    "mr_bike_id = wyp2018.groupby('bike_num')['start_time'].count().sort_values(ascending=False).head(1).index[0]\n",
    "#find all its rides\n",
    "mr_bike = wyp2018[wyp2018['bike_num'] == mr_bike_id]\n",
    "#find most busy day\n",
    "date = mr_bike.groupby('month_day')['bike_num'].count().sort_values(ascending=False).index[0]\n",
    "#create df for this day\n",
    "mr_bike_day = mr_bike[mr_bike['month_day'] == date]\n",
    "#sort by start_time\n",
    "mr_bike_day = mr_bike_day.sort_values(by=['start_time'])\n",
    "mr_bike_day.head(2)"
   ]
  },
  {
   "cell_type": "code",
   "execution_count": 72,
   "metadata": {},
   "outputs": [
    {
     "data": {
      "text/html": [
       "<iframe src=\"data:text/html;base64,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\" width=\"100%\" height=\"240\"></iframe>"
      ],
      "text/plain": [
       "<IPython.core.display.HTML object>"
      ]
     },
     "execution_count": 72,
     "metadata": {},
     "output_type": "execute_result"
    }
   ],
   "source": [
    "#show most rented bike's busiest day on map\n",
    "\n",
    "fig = plt.figure()\n",
    "\n",
    "#starting point\n",
    "plt.scatter(mr_bike_day.iloc[0]['dep_lon'], mr_bike_day.iloc[0]['dep_lat'], color='purple', s=200)\n",
    "plt.text(mr_bike_day.iloc[0]['dep_lon'], mr_bike_day.iloc[0]['dep_lat'], 'start', fontsize=12)\n",
    "\n",
    "#finishing point\n",
    "plt.scatter(mr_bike_day.iloc[-1]['ret_lon'], mr_bike_day.iloc[-1]['ret_lat'], color='purple', s=200)\n",
    "plt.text(mr_bike_day.iloc[-1]['ret_lon'], mr_bike_day.iloc[-1]['ret_lat'], 'koniec', fontsize=12)\n",
    "\n",
    "#rides\n",
    "plt.plot(mr_bike_day['dep_lon'].values, mr_bike_day['dep_lat'].values)\n",
    "plt.plot(mr_bike_day['ret_lon'].values, mr_bike_day['ret_lat'].values, marker='o')\n",
    "\n",
    "# if you are using notebook \n",
    "mplleaflet.display(fig=fig)\n",
    "#mplleaflet.show(fig=fig)"
   ]
  },
  {
   "cell_type": "code",
   "execution_count": 62,
   "metadata": {},
   "outputs": [
    {
     "data": {
      "text/plain": [
       "['Szopienice - Plac Powstańców Śląskich',\n",
       " 'Giszowiec - Plac Pod Lipami',\n",
       " 'PKN Orlen - Piotrowicka',\n",
       " 'PKN Orlen - Al. Roździeńskiego',\n",
       " 'Osiedle Franciszkańskie',\n",
       " 'Os. Ptasie – ul. Drozdów',\n",
       " 'Kostuchna – Szarych Szeregów',\n",
       " 'ING Roździeńska',\n",
       " 'Kostuchna – Boże Dary',\n",
       " 'PKN Orlen - Bocheńskiego',\n",
       " 'Kokociniec S.P nr 67',\n",
       " 'PKN Orlen - Murckowska']"
      ]
     },
     "execution_count": 62,
     "metadata": {},
     "output_type": "execute_result"
    }
   ],
   "source": [
    "#does the busiest bike visit all the stations during te season?\n",
    "#find all the stations the bike has visited:\n",
    "a_stations = mr_bike.groupby('departure').count().index.to_list()\n",
    "b_stations = mr_bike.groupby('return').count().index.to_list()\n",
    "stats = list(set(a_stations) | set(b_stations))\n",
    "\n",
    "#find all the stations available\n",
    "alls = stations['name'].to_list()\n",
    "\n",
    "#find the difference\n",
    "not_visited = (list(set(alls) - set(stats)))\n",
    "not_visited"
   ]
  },
  {
   "cell_type": "code",
   "execution_count": 63,
   "metadata": {},
   "outputs": [
    {
     "data": {
      "text/html": [
       "<div>\n",
       "<style scoped>\n",
       "    .dataframe tbody tr th:only-of-type {\n",
       "        vertical-align: middle;\n",
       "    }\n",
       "\n",
       "    .dataframe tbody tr th {\n",
       "        vertical-align: top;\n",
       "    }\n",
       "\n",
       "    .dataframe thead th {\n",
       "        text-align: right;\n",
       "    }\n",
       "</style>\n",
       "<table border=\"1\" class=\"dataframe\">\n",
       "  <thead>\n",
       "    <tr style=\"text-align: right;\">\n",
       "      <th></th>\n",
       "      <th>data</th>\n",
       "      <th>bikes_moving</th>\n",
       "      <th>number_of_rentals</th>\n",
       "      <th>per_bike</th>\n",
       "    </tr>\n",
       "  </thead>\n",
       "  <tbody>\n",
       "    <tr>\n",
       "      <th>0</th>\n",
       "      <td>2018-04-01</td>\n",
       "      <td>39</td>\n",
       "      <td>44</td>\n",
       "      <td>1.128205</td>\n",
       "    </tr>\n",
       "    <tr>\n",
       "      <th>1</th>\n",
       "      <td>2018-04-02</td>\n",
       "      <td>150</td>\n",
       "      <td>249</td>\n",
       "      <td>1.660000</td>\n",
       "    </tr>\n",
       "    <tr>\n",
       "      <th>2</th>\n",
       "      <td>2018-04-03</td>\n",
       "      <td>188</td>\n",
       "      <td>476</td>\n",
       "      <td>2.531915</td>\n",
       "    </tr>\n",
       "    <tr>\n",
       "      <th>3</th>\n",
       "      <td>2018-04-04</td>\n",
       "      <td>170</td>\n",
       "      <td>510</td>\n",
       "      <td>3.000000</td>\n",
       "    </tr>\n",
       "    <tr>\n",
       "      <th>4</th>\n",
       "      <td>2018-04-05</td>\n",
       "      <td>191</td>\n",
       "      <td>629</td>\n",
       "      <td>3.293194</td>\n",
       "    </tr>\n",
       "    <tr>\n",
       "      <th>5</th>\n",
       "      <td>2018-04-06</td>\n",
       "      <td>182</td>\n",
       "      <td>541</td>\n",
       "      <td>2.972527</td>\n",
       "    </tr>\n",
       "    <tr>\n",
       "      <th>6</th>\n",
       "      <td>2018-04-07</td>\n",
       "      <td>238</td>\n",
       "      <td>851</td>\n",
       "      <td>3.575630</td>\n",
       "    </tr>\n",
       "    <tr>\n",
       "      <th>7</th>\n",
       "      <td>2018-04-08</td>\n",
       "      <td>237</td>\n",
       "      <td>978</td>\n",
       "      <td>4.126582</td>\n",
       "    </tr>\n",
       "    <tr>\n",
       "      <th>8</th>\n",
       "      <td>2018-04-09</td>\n",
       "      <td>205</td>\n",
       "      <td>936</td>\n",
       "      <td>4.565854</td>\n",
       "    </tr>\n",
       "    <tr>\n",
       "      <th>9</th>\n",
       "      <td>2018-04-10</td>\n",
       "      <td>208</td>\n",
       "      <td>930</td>\n",
       "      <td>4.471154</td>\n",
       "    </tr>\n",
       "  </tbody>\n",
       "</table>\n",
       "</div>"
      ],
      "text/plain": [
       "         data  bikes_moving  number_of_rentals  per_bike\n",
       "0  2018-04-01            39                 44  1.128205\n",
       "1  2018-04-02           150                249  1.660000\n",
       "2  2018-04-03           188                476  2.531915\n",
       "3  2018-04-04           170                510  3.000000\n",
       "4  2018-04-05           191                629  3.293194\n",
       "5  2018-04-06           182                541  2.972527\n",
       "6  2018-04-07           238                851  3.575630\n",
       "7  2018-04-08           237                978  4.126582\n",
       "8  2018-04-09           205                936  4.565854\n",
       "9  2018-04-10           208                930  4.471154"
      ]
     },
     "execution_count": 63,
     "metadata": {},
     "output_type": "execute_result"
    }
   ],
   "source": [
    "#how many bikes were  moving daily\n",
    "lr = wyp2018.groupby(['month_day'])['bike_num'].nunique()\n",
    "lr_data = {'data' : lr.index, 'bikes_moving' : lr.values}\n",
    "lrdf = pd.DataFrame(data=lr_data)\n",
    "\n",
    "#vs how many rentals were there\n",
    "lw = wyp2018.groupby(['month_day'])['bike_num'].count()\n",
    "lrdf['number_of_rentals'] = lw.values\n",
    "lrdf.head(5)\n",
    "\n",
    "#rentals per bike\n",
    "lrdf['per_bike'] = lrdf['number_of_rentals'] / lrdf['bikes_moving']\n",
    "lrdf.head(10)"
   ]
  },
  {
   "cell_type": "code",
   "execution_count": 64,
   "metadata": {},
   "outputs": [
    {
     "name": "stdout",
     "output_type": "stream",
     "text": [
      "One bike has been rented on average 3.1321611712981032 a day\n",
      "The median of rentals for one bike is equal to 3.23579159787195\n"
     ]
    }
   ],
   "source": [
    "#it means that:\n",
    "print('One bike has been rented on average {0} a day'.format(lrdf['per_bike'].mean()))\n",
    "print('The median of rentals for one bike is equal to {0}'.format(lrdf['per_bike'].median()))"
   ]
  },
  {
   "cell_type": "code",
   "execution_count": 65,
   "metadata": {},
   "outputs": [
    {
     "data": {
      "text/html": [
       "<div>\n",
       "<style scoped>\n",
       "    .dataframe tbody tr th:only-of-type {\n",
       "        vertical-align: middle;\n",
       "    }\n",
       "\n",
       "    .dataframe tbody tr th {\n",
       "        vertical-align: top;\n",
       "    }\n",
       "\n",
       "    .dataframe thead th {\n",
       "        text-align: right;\n",
       "    }\n",
       "</style>\n",
       "<table border=\"1\" class=\"dataframe\">\n",
       "  <thead>\n",
       "    <tr style=\"text-align: right;\">\n",
       "      <th></th>\n",
       "      <th>bike_num</th>\n",
       "      <th>start_time</th>\n",
       "      <th>end_time</th>\n",
       "      <th>departure</th>\n",
       "      <th>return</th>\n",
       "      <th>duration_sec</th>\n",
       "      <th>start_day</th>\n",
       "      <th>start_month</th>\n",
       "      <th>start_hour</th>\n",
       "      <th>start_minute</th>\n",
       "      <th>...</th>\n",
       "      <th>is_free</th>\n",
       "      <th>shop</th>\n",
       "      <th>route</th>\n",
       "      <th>dep_id</th>\n",
       "      <th>dep_lat</th>\n",
       "      <th>dep_lon</th>\n",
       "      <th>ret_id</th>\n",
       "      <th>ret_lat</th>\n",
       "      <th>ret_lon</th>\n",
       "      <th>distance</th>\n",
       "    </tr>\n",
       "  </thead>\n",
       "  <tbody>\n",
       "    <tr>\n",
       "      <th>171347</th>\n",
       "      <td>58811</td>\n",
       "      <td>2018-06-05 14:51:29</td>\n",
       "      <td>2018-06-05 15:36:29</td>\n",
       "      <td>Al. Księżnej Jadwigi Śląskiej</td>\n",
       "      <td>Podlesie – Stary Most</td>\n",
       "      <td>2700</td>\n",
       "      <td>5</td>\n",
       "      <td>6</td>\n",
       "      <td>14</td>\n",
       "      <td>51</td>\n",
       "      <td>...</td>\n",
       "      <td>0</td>\n",
       "      <td>2</td>\n",
       "      <td>Al. Księżnej Jadwigi Śląskiej - Podlesie – Sta...</td>\n",
       "      <td>5872</td>\n",
       "      <td>50.284196</td>\n",
       "      <td>18.96789</td>\n",
       "      <td>5857</td>\n",
       "      <td>50.174393</td>\n",
       "      <td>18.970738</td>\n",
       "      <td>12.215416</td>\n",
       "    </tr>\n",
       "  </tbody>\n",
       "</table>\n",
       "<p>1 rows × 26 columns</p>\n",
       "</div>"
      ],
      "text/plain": [
       "        bike_num           start_time             end_time  \\\n",
       "171347     58811  2018-06-05 14:51:29  2018-06-05 15:36:29   \n",
       "\n",
       "                            departure                 return  duration_sec  \\\n",
       "171347  Al. Księżnej Jadwigi Śląskiej  Podlesie – Stary Most          2700   \n",
       "\n",
       "        start_day  start_month  start_hour  start_minute  ... is_free  shop  \\\n",
       "171347          5            6          14            51  ...       0     2   \n",
       "\n",
       "                                                    route  dep_id    dep_lat  \\\n",
       "171347  Al. Księżnej Jadwigi Śląskiej - Podlesie – Sta...    5872  50.284196   \n",
       "\n",
       "         dep_lon  ret_id    ret_lat    ret_lon   distance  \n",
       "171347  18.96789    5857  50.174393  18.970738  12.215416  \n",
       "\n",
       "[1 rows x 26 columns]"
      ]
     },
     "execution_count": 65,
     "metadata": {},
     "output_type": "execute_result"
    }
   ],
   "source": [
    "#what was the longest ride?\n",
    "wyp2018[wyp2018['distance'] == wyp2018['distance'].max()].head(1)"
   ]
  },
  {
   "cell_type": "markdown",
   "metadata": {},
   "source": [
    "<h2>Let's now focus on stations themselves."
   ]
  },
  {
   "cell_type": "code",
   "execution_count": 66,
   "metadata": {},
   "outputs": [
    {
     "data": {
      "text/html": [
       "<div>\n",
       "<style scoped>\n",
       "    .dataframe tbody tr th:only-of-type {\n",
       "        vertical-align: middle;\n",
       "    }\n",
       "\n",
       "    .dataframe tbody tr th {\n",
       "        vertical-align: top;\n",
       "    }\n",
       "\n",
       "    .dataframe thead th {\n",
       "        text-align: right;\n",
       "    }\n",
       "</style>\n",
       "<table border=\"1\" class=\"dataframe\">\n",
       "  <thead>\n",
       "    <tr style=\"text-align: right;\">\n",
       "      <th></th>\n",
       "      <th>name</th>\n",
       "      <th>id</th>\n",
       "      <th>lat</th>\n",
       "      <th>lon</th>\n",
       "      <th>capacity</th>\n",
       "    </tr>\n",
       "  </thead>\n",
       "  <tbody>\n",
       "    <tr>\n",
       "      <th>0</th>\n",
       "      <td>COP24</td>\n",
       "      <td>5868</td>\n",
       "      <td>50.265282</td>\n",
       "      <td>19.028635</td>\n",
       "      <td>12</td>\n",
       "    </tr>\n",
       "    <tr>\n",
       "      <th>1</th>\n",
       "      <td>Dolina 3-ch Stawów</td>\n",
       "      <td>5869</td>\n",
       "      <td>50.233217</td>\n",
       "      <td>19.027812</td>\n",
       "      <td>12</td>\n",
       "    </tr>\n",
       "    <tr>\n",
       "      <th>2</th>\n",
       "      <td>Katowice Rynek</td>\n",
       "      <td>5867</td>\n",
       "      <td>50.258697</td>\n",
       "      <td>19.021618</td>\n",
       "      <td>24</td>\n",
       "    </tr>\n",
       "  </tbody>\n",
       "</table>\n",
       "</div>"
      ],
      "text/plain": [
       "                 name    id        lat        lon  capacity\n",
       "0               COP24  5868  50.265282  19.028635        12\n",
       "1  Dolina 3-ch Stawów  5869  50.233217  19.027812        12\n",
       "2      Katowice Rynek  5867  50.258697  19.021618        24"
      ]
     },
     "execution_count": 66,
     "metadata": {},
     "output_type": "execute_result"
    }
   ],
   "source": [
    "#the stations 2018 dataset were read earlier, we can inspect it now\n",
    "stations.head(3)"
   ]
  },
  {
   "cell_type": "code",
   "execution_count": 67,
   "metadata": {},
   "outputs": [
    {
     "name": "stdout",
     "output_type": "stream",
     "text": [
      "There were 54 stations in Katowice in 2018.\n"
     ]
    }
   ],
   "source": [
    "#We can say that:\n",
    "print('There were {0} stations in Katowice in 2018.'.format(stations['name'].count()))"
   ]
  },
  {
   "cell_type": "code",
   "execution_count": 68,
   "metadata": {},
   "outputs": [],
   "source": [
    "#what is the distance between each departure station and city center?\n",
    "#main square in Katowice: 50°15'34.7\"N 19°01'19.6\"E\n",
    "wyp2018['centre_distance'] = wyp2018[['dep_lat','dep_lon']].apply(lambda x: geodesic( [ x[0], x[1] ] , [ 50.258697,19.021618] ).km, axis=1)"
   ]
  },
  {
   "cell_type": "code",
   "execution_count": 70,
   "metadata": {},
   "outputs": [
    {
     "name": "stderr",
     "output_type": "stream",
     "text": [
      "C:\\Users\\acibis\\AppData\\Local\\Continuum\\anaconda3\\lib\\site-packages\\IPython\\core\\display.py:694: UserWarning: Consider using IPython.display.IFrame instead\n",
      "  warnings.warn(\"Consider using IPython.display.IFrame instead\")\n"
     ]
    },
    {
     "data": {
      "text/html": [
       "<iframe src=\"data:text/html;base64,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\" width=\"100%\" height=\"600\"></iframe>"
      ],
      "text/plain": [
       "<IPython.core.display.HTML object>"
      ]
     },
     "execution_count": 70,
     "metadata": {},
     "output_type": "execute_result"
    }
   ],
   "source": [
    "#plot stations on a map\n",
    "import matplotlib.pyplot as plt\n",
    "import mplleaflet\n",
    "\n",
    "#Create a new figure.\n",
    "stat_map = plt.figure(figsize=(20,10))\n",
    "#plt.figure(figsize=(20,10))\n",
    "\n",
    "#A scatter plot of *y* vs *x* with varying marker size and/or color.\n",
    "plt.scatter(stations['lon'], stations['lat'], color='purple', s=50)\n",
    "\n",
    "#Display a figure.\n",
    "#plt.show()\n",
    "\n",
    "#Convert a Matplotlib Figure to a Leaflet map. Embed in IPython notebook.\n",
    "mplleaflet.display(fig=stat_map)\n",
    "\n",
    "#Convert a Matplotlib Figure to a Leaflet map. Open in a browser\n",
    "#mplleaflet.show(fig=stacje_mapa)"
   ]
  },
  {
   "cell_type": "code",
   "execution_count": null,
   "metadata": {},
   "outputs": [],
   "source": [
    "#how many bikes depart from and return to each station in summary?\n",
    "dep = wyp2018.groupby(['departure'])['bike_num'].count()\n",
    "ret = wyp2018.groupby(['return'])['bike_num'].count()\n",
    "lats = stations.sort_values(by=['name'])['lat']\n",
    "lons = stations.sort_values(by=['name'])['lon']\n",
    "each_stat = pd.DataFrame(index = dep.index, data={ 'how_many_departs' : dep.values, 'how_many_returns' : ret.values,\n",
    "                                           'lat' : lats.values, 'lon' : lons.values})\n",
    "each_stat.head(5)"
   ]
  },
  {
   "cell_type": "code",
   "execution_count": null,
   "metadata": {},
   "outputs": [],
   "source": [
    "#how many bikes depart from each station monthly?\n",
    "departures = wyp2018.groupby(['departure','start_month'])['bike_num'].count()\n",
    "deps_month=pd.DataFrame(departures)\n",
    "deps_month = deps_month.unstack(level=1)\n",
    "deps_month.head(5)"
   ]
  },
  {
   "cell_type": "code",
   "execution_count": null,
   "metadata": {},
   "outputs": [],
   "source": [
    "#how many bikes return to each station monthly?\n",
    "returns = wyp2018.groupby(['return','start_month'])['bike_num'].count()\n",
    "reps_month=pd.DataFrame(returns)\n",
    "reps_month = reps_month.unstack(level=1)\n",
    "reps_month.head(5)"
   ]
  },
  {
   "cell_type": "code",
   "execution_count": null,
   "metadata": {},
   "outputs": [],
   "source": [
    "#any shortages?\n",
    "shortage = (deps_month - reps_month)\n",
    "shortage['avg'] = shortage.mean(axis=1)\n",
    "shortage[shortage['avg'] < 0].sort_values(by=['avg']).head(5)"
   ]
  },
  {
   "cell_type": "code",
   "execution_count": 566,
   "metadata": {},
   "outputs": [],
   "source": [
    "#remeber to save your work!\n",
    "wyp2018.to_csv('./dane/allrentals.csv')\n",
    "stations.to_csv('./dane/allstations.csv')"
   ]
  }
 ],
 "metadata": {
  "kernelspec": {
   "display_name": "Python 3",
   "language": "python",
   "name": "python3"
  },
  "language_info": {
   "codemirror_mode": {
    "name": "ipython",
    "version": 3
   },
   "file_extension": ".py",
   "mimetype": "text/x-python",
   "name": "python",
   "nbconvert_exporter": "python",
   "pygments_lexer": "ipython3",
   "version": "3.7.3"
  }
 },
 "nbformat": 4,
 "nbformat_minor": 2
}
